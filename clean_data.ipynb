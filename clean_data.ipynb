{
 "metadata": {
  "language_info": {
   "codemirror_mode": {
    "name": "ipython",
    "version": 3
   },
   "file_extension": ".py",
   "mimetype": "text/x-python",
   "name": "python",
   "nbconvert_exporter": "python",
   "pygments_lexer": "ipython3",
   "version": "3.8.5"
  },
  "orig_nbformat": 2,
  "kernelspec": {
   "name": "python385jvsc74a57bd0566c7dc836cf49ea79a80bde3a77d731ae67019fab1def2dd83c01090ce827fd",
   "display_name": "Python 3.8.5 64-bit ('DataViz': conda)"
  }
 },
 "nbformat": 4,
 "nbformat_minor": 2,
 "cells": [
  {
   "cell_type": "code",
   "execution_count": 1,
   "metadata": {},
   "outputs": [],
   "source": [
    "import os\n",
    "import pandas as pd\n",
    "import xlrd\n",
    "from pathlib import Path\n",
    "import openpyxl\n",
    "from openpyxl import load_workbook\n",
    "import numpy as np"
   ]
  },
  {
   "cell_type": "code",
   "execution_count": 2,
   "metadata": {},
   "outputs": [],
   "source": [
    "#Identify files with AB 1045 Forms in them, extract worksheets which may contain this form\n",
    "#names like \"Common OP Procedures\" or \"AB 1045 form\"\n",
    "xlsx_file = Path('SimData', '/home/ygael/Projects/healthcare/data/2019_CDM_chargemaster/Adventist Health Clearlake/106171049_CDM_All_2019.xlsx')\n",
    "wb_obj = openpyxl.load_workbook(xlsx_file) \n",
    "\n",
    "# Read the active sheet:\n",
    "sheet = wb_obj.active\n"
   ]
  },
  {
   "cell_type": "code",
   "execution_count": 3,
   "metadata": {},
   "outputs": [
    {
     "output_type": "stream",
     "name": "stdout",
     "text": [
      "400069\n"
     ]
    }
   ],
   "source": [
    "print(sheet[\"A80\"].value)"
   ]
  },
  {
   "cell_type": "code",
   "execution_count": 4,
   "metadata": {},
   "outputs": [],
   "source": [
    "datalist=[]\n",
    "for row in sheet.iter_rows():\n",
    "    for cell in row:\n",
    "        datalist.append(cell.value)"
   ]
  },
  {
   "cell_type": "code",
   "execution_count": 5,
   "metadata": {},
   "outputs": [
    {
     "output_type": "stream",
     "name": "stdout",
     "text": [
      "8713 4\n"
     ]
    }
   ],
   "source": [
    "print(sheet.max_row, sheet.max_column)\n"
   ]
  },
  {
   "cell_type": "code",
   "execution_count": 6,
   "metadata": {},
   "outputs": [
    {
     "output_type": "stream",
     "name": "stdout",
     "text": [
      "['Charge Code', 'Charge Code Description', 'HCPCS Code', 'June 2019 Prices']\n"
     ]
    }
   ],
   "source": [
    "\n",
    "#Get column names\n",
    "col_names = []\n",
    "for column in sheet.iter_cols(1, sheet.max_column):\n",
    "    col_names.append(column[0].value)\n",
    "   \n",
    "    \n",
    "print(col_names)\n"
   ]
  },
  {
   "cell_type": "code",
   "execution_count": 7,
   "metadata": {},
   "outputs": [],
   "source": [
    "#Create a dictionary from the speadsheet\n",
    "\n",
    "data = {}\n",
    "\n",
    "for i, row in enumerate(sheet.iter_rows(values_only=True)):\n",
    "    if i == 0:\n",
    "        for i in range(len(col_names)):\n",
    "            data[row[i]] = [col_names[i]]\n",
    "\n",
    "    else:\n",
    "        for i in range(len(col_names)):\n",
    "            data[col_names[i]].append(row[i])\n"
   ]
  },
  {
   "cell_type": "code",
   "execution_count": 8,
   "metadata": {},
   "outputs": [],
   "source": [
    "#Create a dataframe from the spreadsheet\n",
    "df = pd.DataFrame(data)\n",
    "df = df.iloc[1:]"
   ]
  },
  {
   "cell_type": "code",
   "execution_count": 9,
   "metadata": {},
   "outputs": [
    {
     "output_type": "execute_result",
     "data": {
      "text/plain": [
       "     Charge Code                     Charge Code Description HCPCS Code  \\\n",
       "1           1255                    ROOM/BED: Intensive Care       None   \n",
       "2           7211                  ROOM/BED: Med/Surg Private       None   \n",
       "3          17509                   ROOM/BED: Newborn Routine       None   \n",
       "4          21253             ROOM/BED: Med/Surg Semi-Private       None   \n",
       "5          27003      ROOM/BED: Obstetrics LDRP Semi-Private       None   \n",
       "...          ...                                         ...        ...   \n",
       "8708     9520156           PF PM DEPRESSION SCREENING 95 952       None   \n",
       "8709     9520511  PF PM DIL RETINAL EYE EXAM W/INTERP 95 952       None   \n",
       "8710     9520586           PF PM HGB A1C LEVEL < 7.0% 95 952       None   \n",
       "8711     9520594        PF PM HGB A1C LEVEL 7.0%-9.0% 95 952       None   \n",
       "8712     9520602           PF PM HGB A1C LEVEL > 9.0% 95 952       None   \n",
       "\n",
       "     June 2019 Prices  \n",
       "1             9350.13  \n",
       "2             4935.76  \n",
       "3              3172.4  \n",
       "4             4390.68  \n",
       "5             4561.25  \n",
       "...               ...  \n",
       "8708             0.01  \n",
       "8709             0.01  \n",
       "8710             0.01  \n",
       "8711             0.01  \n",
       "8712             0.01  \n",
       "\n",
       "[8712 rows x 4 columns]"
      ],
      "text/html": "<div>\n<style scoped>\n    .dataframe tbody tr th:only-of-type {\n        vertical-align: middle;\n    }\n\n    .dataframe tbody tr th {\n        vertical-align: top;\n    }\n\n    .dataframe thead th {\n        text-align: right;\n    }\n</style>\n<table border=\"1\" class=\"dataframe\">\n  <thead>\n    <tr style=\"text-align: right;\">\n      <th></th>\n      <th>Charge Code</th>\n      <th>Charge Code Description</th>\n      <th>HCPCS Code</th>\n      <th>June 2019 Prices</th>\n    </tr>\n  </thead>\n  <tbody>\n    <tr>\n      <th>1</th>\n      <td>1255</td>\n      <td>ROOM/BED: Intensive Care</td>\n      <td>None</td>\n      <td>9350.13</td>\n    </tr>\n    <tr>\n      <th>2</th>\n      <td>7211</td>\n      <td>ROOM/BED: Med/Surg Private</td>\n      <td>None</td>\n      <td>4935.76</td>\n    </tr>\n    <tr>\n      <th>3</th>\n      <td>17509</td>\n      <td>ROOM/BED: Newborn Routine</td>\n      <td>None</td>\n      <td>3172.4</td>\n    </tr>\n    <tr>\n      <th>4</th>\n      <td>21253</td>\n      <td>ROOM/BED: Med/Surg Semi-Private</td>\n      <td>None</td>\n      <td>4390.68</td>\n    </tr>\n    <tr>\n      <th>5</th>\n      <td>27003</td>\n      <td>ROOM/BED: Obstetrics LDRP Semi-Private</td>\n      <td>None</td>\n      <td>4561.25</td>\n    </tr>\n    <tr>\n      <th>...</th>\n      <td>...</td>\n      <td>...</td>\n      <td>...</td>\n      <td>...</td>\n    </tr>\n    <tr>\n      <th>8708</th>\n      <td>9520156</td>\n      <td>PF PM DEPRESSION SCREENING 95 952</td>\n      <td>None</td>\n      <td>0.01</td>\n    </tr>\n    <tr>\n      <th>8709</th>\n      <td>9520511</td>\n      <td>PF PM DIL RETINAL EYE EXAM W/INTERP 95 952</td>\n      <td>None</td>\n      <td>0.01</td>\n    </tr>\n    <tr>\n      <th>8710</th>\n      <td>9520586</td>\n      <td>PF PM HGB A1C LEVEL &lt; 7.0% 95 952</td>\n      <td>None</td>\n      <td>0.01</td>\n    </tr>\n    <tr>\n      <th>8711</th>\n      <td>9520594</td>\n      <td>PF PM HGB A1C LEVEL 7.0%-9.0% 95 952</td>\n      <td>None</td>\n      <td>0.01</td>\n    </tr>\n    <tr>\n      <th>8712</th>\n      <td>9520602</td>\n      <td>PF PM HGB A1C LEVEL &gt; 9.0% 95 952</td>\n      <td>None</td>\n      <td>0.01</td>\n    </tr>\n  </tbody>\n</table>\n<p>8712 rows × 4 columns</p>\n</div>"
     },
     "metadata": {},
     "execution_count": 9
    }
   ],
   "source": [
    "df"
   ]
  },
  {
   "cell_type": "code",
   "execution_count": 10,
   "metadata": {},
   "outputs": [
    {
     "output_type": "error",
     "ename": "NameError",
     "evalue": "name 'rootdir' is not defined",
     "traceback": [
      "\u001b[0;31m---------------------------------------------------------------------------\u001b[0m",
      "\u001b[0;31mNameError\u001b[0m                                 Traceback (most recent call last)",
      "\u001b[0;32m<ipython-input-10-2ca4b427dbee>\u001b[0m in \u001b[0;36m<module>\u001b[0;34m\u001b[0m\n\u001b[1;32m      3\u001b[0m \u001b[0mstartFolder\u001b[0m \u001b[0;34m=\u001b[0m\u001b[0;34m\"/home/ygael/Projects/healthcare/data/2020_CDM_chargemaster\"\u001b[0m\u001b[0;34m\u001b[0m\u001b[0;34m\u001b[0m\u001b[0m\n\u001b[1;32m      4\u001b[0m \u001b[0;34m\u001b[0m\u001b[0m\n\u001b[0;32m----> 5\u001b[0;31m \u001b[0;32mfor\u001b[0m \u001b[0msubdir\u001b[0m\u001b[0;34m,\u001b[0m \u001b[0mdirs\u001b[0m\u001b[0;34m,\u001b[0m \u001b[0mfiles\u001b[0m \u001b[0;32min\u001b[0m \u001b[0mos\u001b[0m\u001b[0;34m.\u001b[0m\u001b[0mwalk\u001b[0m\u001b[0;34m(\u001b[0m\u001b[0mrootdir\u001b[0m\u001b[0;34m)\u001b[0m\u001b[0;34m:\u001b[0m\u001b[0;34m\u001b[0m\u001b[0;34m\u001b[0m\u001b[0m\n\u001b[0m\u001b[1;32m      6\u001b[0m     \u001b[0;32mfor\u001b[0m \u001b[0mfile\u001b[0m \u001b[0;32min\u001b[0m \u001b[0mfiles\u001b[0m\u001b[0;34m:\u001b[0m\u001b[0;34m\u001b[0m\u001b[0;34m\u001b[0m\u001b[0m\n\u001b[1;32m      7\u001b[0m         \u001b[0mhospital_df\u001b[0m \u001b[0;34m=\u001b[0m \u001b[0mpd\u001b[0m\u001b[0;34m.\u001b[0m\u001b[0mDataFrame\u001b[0m\u001b[0;34m(\u001b[0m\u001b[0mpd\u001b[0m\u001b[0;34m.\u001b[0m\u001b[0mread_excel\u001b[0m\u001b[0;34m(\u001b[0m\u001b[0mfile\u001b[0m\u001b[0;34m)\u001b[0m\u001b[0;34m)\u001b[0m\u001b[0;34m\u001b[0m\u001b[0;34m\u001b[0m\u001b[0m\n",
      "\u001b[0;31mNameError\u001b[0m: name 'rootdir' is not defined"
     ]
    }
   ],
   "source": [
    "#Pull relavant data from worksheets\n",
    "\n",
    "startFolder =\"/home/ygael/Projects/healthcare/data/2020_CDM_chargemaster\"\n",
    "\n",
    "for subdir, dirs, files in os.walk(rootdir):\n",
    "    for file in files:\n",
    "        hospital_df = pd.DataFrame(pd.read_excel(file))\n",
    "        lines=f.readlines()\n",
    "        f.close()\n",
    "        f=open(file,'w')\n",
    "        for line in lines:\n",
    "            newline = \"No you are not\"\n",
    "            f.write(newline)\n",
    "        f.close()\n",
    "        \n",
    "        "
   ]
  },
  {
   "cell_type": "code",
   "execution_count": null,
   "metadata": {},
   "outputs": [],
   "source": [
    "#get sheet names\n",
    "sheetnames=wb_obj.sheetnames"
   ]
  },
  {
   "cell_type": "code",
   "execution_count": null,
   "metadata": {},
   "outputs": [],
   "source": []
  },
  {
   "cell_type": "code",
   "execution_count": null,
   "metadata": {},
   "outputs": [],
   "source": [
    "#Create a keywords list to identify ABS 1045 forms\n",
    "keywords= [\"common\", \"procedures\", \"1045\", \"form\"]"
   ]
  },
  {
   "cell_type": "code",
   "execution_count": null,
   "metadata": {},
   "outputs": [],
   "source": [
    "#Search for the sheet by keyword\n",
    "for name in sheetnames:\n",
    "    wholename=name.lower()\n",
    "    wordsInName=wholename.split()\n",
    "    match =  any(item in wordsInName for item in keywords)\n",
    "    if match==True:\n",
    "        print(wb_obj[name])\n",
    "    \n",
    "    "
   ]
  },
  {
   "cell_type": "code",
   "execution_count": null,
   "metadata": {},
   "outputs": [],
   "source": [
    "##Getting the 1045 data\n",
    "xlsx_file = Path('SimData', '/home/ygael/Projects/healthcare/data/2020_CDM_chargemaster/Alvarado Hospital/106370652_CDM_All_2020.xlsx')\n",
    "wb_obj = openpyxl.load_workbook(xlsx_file) \n",
    "\n",
    "# Read the active sheet:\n",
    "sheet = wb_obj.active"
   ]
  },
  {
   "cell_type": "code",
   "execution_count": 44,
   "metadata": {},
   "outputs": [],
   "source": [
    "found=False\n",
    "keywords = [\"evaluation\", \"management\"]\n",
    "for row in wb_obj[\"ABS 1045\"].iter_rows():\n",
    "    if found==False:\n",
    "        for cell in row:\n",
    "            heading = str(cell.value).lower()\n",
    "            wordsInHeading=heading.split()\n",
    "            match =  any(item in wordsInHeading for item in keywords)\n",
    "            if match==True:\n",
    "                found = True\n",
    "                coord1=cell.coordinate\n",
    "                df=pd.DataFrame(wb_obj[\"ABS 1045\"][f\"{coord1}:C9\"])\n",
    "                \n"
   ]
  },
  {
   "cell_type": "code",
   "execution_count": 48,
   "metadata": {},
   "outputs": [
    {
     "output_type": "execute_result",
     "data": {
      "text/plain": [
       "'C6'"
      ]
     },
     "metadata": {},
     "execution_count": 48
    }
   ],
   "source": [
    "coord2"
   ]
  },
  {
   "cell_type": "code",
   "execution_count": 57,
   "metadata": {},
   "outputs": [
    {
     "output_type": "stream",
     "name": "stdout",
     "text": [
      "A6\nC9\n"
     ]
    }
   ],
   "source": [
    "found=False\n",
    "keywords = [\"evaluation\", \"management\"]\n",
    "for row in wb_obj[\"ABS 1045\"].iter_rows():\n",
    "    if found == False:\n",
    "        for cell in row:\n",
    "            heading = str(cell.value).lower()\n",
    "            wordsInHeading=heading.split()\n",
    "            match =  any(item in wordsInHeading for item in keywords)\n",
    "            if match==True:\n",
    "                found = True\n",
    "                coord1=cell.coordinate\n",
    "                splitcoord=split(coord1)\n",
    "                alphaindex=(alphabet.index(f'{splitcoord[0]}'))+2\n",
    "                alphachar=alphabet[alphaindex]\n",
    "                numindex=splitcoord[1]\n",
    "                numindex=int(numindex)+3\n",
    "                numindex=str(numindex)\n",
    "                coord2=f\"{alphachar}{numindex}\"\n",
    "                df=pd.DataFrame(wb_obj[\"ABS 1045\"][f\"{coord1}:{coord2}\"])\n",
    "                print(coord1)\n",
    "                print(coord2)\n",
    "                break;"
   ]
  },
  {
   "cell_type": "code",
   "execution_count": 58,
   "metadata": {},
   "outputs": [
    {
     "output_type": "execute_result",
     "data": {
      "text/plain": [
       "                      0                     1                     2\n",
       "0  <Cell 'ABS 1045'.A6>  <Cell 'ABS 1045'.B6>  <Cell 'ABS 1045'.C6>\n",
       "1  <Cell 'ABS 1045'.A7>  <Cell 'ABS 1045'.B7>  <Cell 'ABS 1045'.C7>\n",
       "2  <Cell 'ABS 1045'.A8>  <Cell 'ABS 1045'.B8>  <Cell 'ABS 1045'.C8>\n",
       "3  <Cell 'ABS 1045'.A9>  <Cell 'ABS 1045'.B9>  <Cell 'ABS 1045'.C9>"
      ],
      "text/html": "<div>\n<style scoped>\n    .dataframe tbody tr th:only-of-type {\n        vertical-align: middle;\n    }\n\n    .dataframe tbody tr th {\n        vertical-align: top;\n    }\n\n    .dataframe thead th {\n        text-align: right;\n    }\n</style>\n<table border=\"1\" class=\"dataframe\">\n  <thead>\n    <tr style=\"text-align: right;\">\n      <th></th>\n      <th>0</th>\n      <th>1</th>\n      <th>2</th>\n    </tr>\n  </thead>\n  <tbody>\n    <tr>\n      <th>0</th>\n      <td>&lt;Cell 'ABS 1045'.A6&gt;</td>\n      <td>&lt;Cell 'ABS 1045'.B6&gt;</td>\n      <td>&lt;Cell 'ABS 1045'.C6&gt;</td>\n    </tr>\n    <tr>\n      <th>1</th>\n      <td>&lt;Cell 'ABS 1045'.A7&gt;</td>\n      <td>&lt;Cell 'ABS 1045'.B7&gt;</td>\n      <td>&lt;Cell 'ABS 1045'.C7&gt;</td>\n    </tr>\n    <tr>\n      <th>2</th>\n      <td>&lt;Cell 'ABS 1045'.A8&gt;</td>\n      <td>&lt;Cell 'ABS 1045'.B8&gt;</td>\n      <td>&lt;Cell 'ABS 1045'.C8&gt;</td>\n    </tr>\n    <tr>\n      <th>3</th>\n      <td>&lt;Cell 'ABS 1045'.A9&gt;</td>\n      <td>&lt;Cell 'ABS 1045'.B9&gt;</td>\n      <td>&lt;Cell 'ABS 1045'.C9&gt;</td>\n    </tr>\n  </tbody>\n</table>\n</div>"
     },
     "metadata": {},
     "execution_count": 58
    }
   ],
   "source": [
    "df"
   ]
  },
  {
   "cell_type": "code",
   "execution_count": null,
   "metadata": {},
   "outputs": [],
   "source": [
    "sheet = wb_obj[\"ABS 1045\"]\n",
    "#Get column names\n",
    "col_names = []\n",
    "for column in sheet.iter_cols(1, sheet.max_column):\n",
    "    col_names.append(column[0].value)\n",
    "\n"
   ]
  },
  {
   "cell_type": "code",
   "execution_count": null,
   "metadata": {},
   "outputs": [],
   "source": [
    "col_names"
   ]
  },
  {
   "cell_type": "code",
   "execution_count": null,
   "metadata": {},
   "outputs": [],
   "source": [
    "values=[]\n",
    "for row in wb_obj[\"ABS 1045\"][\"A6:C9\"]:\n",
    "    for i in range(len(row)):\n",
    "        values.append(row[i].value)"
   ]
  },
  {
   "cell_type": "code",
   "execution_count": null,
   "metadata": {},
   "outputs": [],
   "source": [
    "Avalues=[]\n",
    "Bvalues=[]\n",
    "Cvalues=[]\n",
    "for row in wb_obj[\"ABS 1045\"][\"A6:A9\"]:\n",
    "    for i in range(len(row)):\n",
    "        Avalues.append(row[i].value)\n",
    "for row in wb_obj[\"ABS 1045\"][\"B6:B9\"]:\n",
    "    for i in range(len(row))\n",
    "        Bvalues.append(row[i].value)\n",
    "for row in wb_obj[\"ABS 1045\"][\"A6:A9\"]:\n",
    "    for i in range(len(row)):\n",
    "        Cvalues.append(row[i].value)"
   ]
  },
  {
   "cell_type": "code",
   "execution_count": null,
   "metadata": {},
   "outputs": [],
   "source": [
    "data = np.array(values).reshape((4, 3))"
   ]
  },
  {
   "cell_type": "code",
   "execution_count": null,
   "metadata": {},
   "outputs": [],
   "source": [
    "data"
   ]
  },
  {
   "cell_type": "code",
   "execution_count": 22,
   "metadata": {},
   "outputs": [],
   "source": [
    "df=pd.DataFrame(data=data)\n"
   ]
  },
  {
   "cell_type": "code",
   "execution_count": 23,
   "metadata": {},
   "outputs": [
    {
     "output_type": "execute_result",
     "data": {
      "text/plain": [
       "0 Evaluation & Management Services (CPT Codes 99201-99499) 2019 CPT Code  \\\n",
       "1  Emergency Room Visit, Level 2 (low to moderate...               99282   \n",
       "2  Emergency Room Visit, Level 3 (moderate severity)               99283   \n",
       "3      Emergency Room Visit, Level 4 (high severity)               99284   \n",
       "\n",
       "0 Average Charge  \n",
       "1         746.55  \n",
       "2        1051.05  \n",
       "3         1581.3  "
      ],
      "text/html": "<div>\n<style scoped>\n    .dataframe tbody tr th:only-of-type {\n        vertical-align: middle;\n    }\n\n    .dataframe tbody tr th {\n        vertical-align: top;\n    }\n\n    .dataframe thead th {\n        text-align: right;\n    }\n</style>\n<table border=\"1\" class=\"dataframe\">\n  <thead>\n    <tr style=\"text-align: right;\">\n      <th></th>\n      <th>Evaluation &amp; Management Services (CPT Codes 99201-99499)</th>\n      <th>2019 CPT Code</th>\n      <th>Average Charge</th>\n    </tr>\n  </thead>\n  <tbody>\n    <tr>\n      <th>1</th>\n      <td>Emergency Room Visit, Level 2 (low to moderate...</td>\n      <td>99282</td>\n      <td>746.55</td>\n    </tr>\n    <tr>\n      <th>2</th>\n      <td>Emergency Room Visit, Level 3 (moderate severity)</td>\n      <td>99283</td>\n      <td>1051.05</td>\n    </tr>\n    <tr>\n      <th>3</th>\n      <td>Emergency Room Visit, Level 4 (high severity)</td>\n      <td>99284</td>\n      <td>1581.3</td>\n    </tr>\n  </tbody>\n</table>\n</div>"
     },
     "metadata": {},
     "execution_count": 23
    }
   ],
   "source": [
    "df\n",
    "df.columns = df.iloc[0]\n",
    "df.drop(df.index[0])"
   ]
  },
  {
   "cell_type": "code",
   "execution_count": 24,
   "metadata": {},
   "outputs": [
    {
     "output_type": "execute_result",
     "data": {
      "text/plain": [
       "0 Evaluation & Management Services (CPT Codes 99201-99499)  2019 CPT Code  \\\n",
       "0  Evaluation & Management Services (CPT Codes 99...        2019 CPT Code   \n",
       "1  Emergency Room Visit, Level 2 (low to moderate...                99282   \n",
       "2  Emergency Room Visit, Level 3 (moderate severity)                99283   \n",
       "3      Emergency Room Visit, Level 4 (high severity)                99284   \n",
       "\n",
       "0  Average Charge  \n",
       "0  Average Charge  \n",
       "1          746.55  \n",
       "2         1051.05  \n",
       "3          1581.3  "
      ],
      "text/html": "<div>\n<style scoped>\n    .dataframe tbody tr th:only-of-type {\n        vertical-align: middle;\n    }\n\n    .dataframe tbody tr th {\n        vertical-align: top;\n    }\n\n    .dataframe thead th {\n        text-align: right;\n    }\n</style>\n<table border=\"1\" class=\"dataframe\">\n  <thead>\n    <tr style=\"text-align: right;\">\n      <th></th>\n      <th>Evaluation &amp; Management Services (CPT Codes 99201-99499)</th>\n      <th>2019 CPT Code</th>\n      <th>Average Charge</th>\n    </tr>\n  </thead>\n  <tbody>\n    <tr>\n      <th>0</th>\n      <td>Evaluation &amp; Management Services (CPT Codes 99...</td>\n      <td>2019 CPT Code</td>\n      <td>Average Charge</td>\n    </tr>\n    <tr>\n      <th>1</th>\n      <td>Emergency Room Visit, Level 2 (low to moderate...</td>\n      <td>99282</td>\n      <td>746.55</td>\n    </tr>\n    <tr>\n      <th>2</th>\n      <td>Emergency Room Visit, Level 3 (moderate severity)</td>\n      <td>99283</td>\n      <td>1051.05</td>\n    </tr>\n    <tr>\n      <th>3</th>\n      <td>Emergency Room Visit, Level 4 (high severity)</td>\n      <td>99284</td>\n      <td>1581.3</td>\n    </tr>\n  </tbody>\n</table>\n</div>"
     },
     "metadata": {},
     "execution_count": 24
    }
   ],
   "source": [
    "df"
   ]
  },
  {
   "cell_type": "code",
   "execution_count": 25,
   "metadata": {},
   "outputs": [],
   "source": [
    "df[\"Service Type\"]=values[0]"
   ]
  },
  {
   "cell_type": "code",
   "execution_count": 26,
   "metadata": {},
   "outputs": [
    {
     "output_type": "execute_result",
     "data": {
      "text/plain": [
       "0 Evaluation & Management Services (CPT Codes 99201-99499)  2019 CPT Code  \\\n",
       "0  Evaluation & Management Services (CPT Codes 99...        2019 CPT Code   \n",
       "1  Emergency Room Visit, Level 2 (low to moderate...                99282   \n",
       "2  Emergency Room Visit, Level 3 (moderate severity)                99283   \n",
       "3      Emergency Room Visit, Level 4 (high severity)                99284   \n",
       "\n",
       "0  Average Charge                                       Service Type  \n",
       "0  Average Charge  Evaluation & Management Services (CPT Codes 99...  \n",
       "1          746.55  Evaluation & Management Services (CPT Codes 99...  \n",
       "2         1051.05  Evaluation & Management Services (CPT Codes 99...  \n",
       "3          1581.3  Evaluation & Management Services (CPT Codes 99...  "
      ],
      "text/html": "<div>\n<style scoped>\n    .dataframe tbody tr th:only-of-type {\n        vertical-align: middle;\n    }\n\n    .dataframe tbody tr th {\n        vertical-align: top;\n    }\n\n    .dataframe thead th {\n        text-align: right;\n    }\n</style>\n<table border=\"1\" class=\"dataframe\">\n  <thead>\n    <tr style=\"text-align: right;\">\n      <th></th>\n      <th>Evaluation &amp; Management Services (CPT Codes 99201-99499)</th>\n      <th>2019 CPT Code</th>\n      <th>Average Charge</th>\n      <th>Service Type</th>\n    </tr>\n  </thead>\n  <tbody>\n    <tr>\n      <th>0</th>\n      <td>Evaluation &amp; Management Services (CPT Codes 99...</td>\n      <td>2019 CPT Code</td>\n      <td>Average Charge</td>\n      <td>Evaluation &amp; Management Services (CPT Codes 99...</td>\n    </tr>\n    <tr>\n      <th>1</th>\n      <td>Emergency Room Visit, Level 2 (low to moderate...</td>\n      <td>99282</td>\n      <td>746.55</td>\n      <td>Evaluation &amp; Management Services (CPT Codes 99...</td>\n    </tr>\n    <tr>\n      <th>2</th>\n      <td>Emergency Room Visit, Level 3 (moderate severity)</td>\n      <td>99283</td>\n      <td>1051.05</td>\n      <td>Evaluation &amp; Management Services (CPT Codes 99...</td>\n    </tr>\n    <tr>\n      <th>3</th>\n      <td>Emergency Room Visit, Level 4 (high severity)</td>\n      <td>99284</td>\n      <td>1581.3</td>\n      <td>Evaluation &amp; Management Services (CPT Codes 99...</td>\n    </tr>\n  </tbody>\n</table>\n</div>"
     },
     "metadata": {},
     "execution_count": 26
    }
   ],
   "source": [
    "df"
   ]
  },
  {
   "cell_type": "code",
   "execution_count": 27,
   "metadata": {},
   "outputs": [
    {
     "output_type": "execute_result",
     "data": {
      "text/plain": [
       "0                                           Services  2019 CPT Code  \\\n",
       "0  Evaluation & Management Services (CPT Codes 99...  2019 CPT Code   \n",
       "1  Emergency Room Visit, Level 2 (low to moderate...          99282   \n",
       "2  Emergency Room Visit, Level 3 (moderate severity)          99283   \n",
       "3      Emergency Room Visit, Level 4 (high severity)          99284   \n",
       "\n",
       "0  Average Charge                                       Service Type  \n",
       "0  Average Charge  Evaluation & Management Services (CPT Codes 99...  \n",
       "1          746.55  Evaluation & Management Services (CPT Codes 99...  \n",
       "2         1051.05  Evaluation & Management Services (CPT Codes 99...  \n",
       "3          1581.3  Evaluation & Management Services (CPT Codes 99...  "
      ],
      "text/html": "<div>\n<style scoped>\n    .dataframe tbody tr th:only-of-type {\n        vertical-align: middle;\n    }\n\n    .dataframe tbody tr th {\n        vertical-align: top;\n    }\n\n    .dataframe thead th {\n        text-align: right;\n    }\n</style>\n<table border=\"1\" class=\"dataframe\">\n  <thead>\n    <tr style=\"text-align: right;\">\n      <th></th>\n      <th>Services</th>\n      <th>2019 CPT Code</th>\n      <th>Average Charge</th>\n      <th>Service Type</th>\n    </tr>\n  </thead>\n  <tbody>\n    <tr>\n      <th>0</th>\n      <td>Evaluation &amp; Management Services (CPT Codes 99...</td>\n      <td>2019 CPT Code</td>\n      <td>Average Charge</td>\n      <td>Evaluation &amp; Management Services (CPT Codes 99...</td>\n    </tr>\n    <tr>\n      <th>1</th>\n      <td>Emergency Room Visit, Level 2 (low to moderate...</td>\n      <td>99282</td>\n      <td>746.55</td>\n      <td>Evaluation &amp; Management Services (CPT Codes 99...</td>\n    </tr>\n    <tr>\n      <th>2</th>\n      <td>Emergency Room Visit, Level 3 (moderate severity)</td>\n      <td>99283</td>\n      <td>1051.05</td>\n      <td>Evaluation &amp; Management Services (CPT Codes 99...</td>\n    </tr>\n    <tr>\n      <th>3</th>\n      <td>Emergency Room Visit, Level 4 (high severity)</td>\n      <td>99284</td>\n      <td>1581.3</td>\n      <td>Evaluation &amp; Management Services (CPT Codes 99...</td>\n    </tr>\n  </tbody>\n</table>\n</div>"
     },
     "metadata": {},
     "execution_count": 27
    }
   ],
   "source": [
    "df.rename(columns={values[0]:\"Services\"})"
   ]
  },
  {
   "cell_type": "code",
   "execution_count": 29,
   "metadata": {},
   "outputs": [],
   "source": [
    "df[\"Service Type\"] = \"Evaluation and Management\""
   ]
  },
  {
   "cell_type": "code",
   "execution_count": 30,
   "metadata": {},
   "outputs": [
    {
     "output_type": "execute_result",
     "data": {
      "text/plain": [
       "0 Evaluation & Management Services (CPT Codes 99201-99499)  2019 CPT Code  \\\n",
       "0  Evaluation & Management Services (CPT Codes 99...        2019 CPT Code   \n",
       "1  Emergency Room Visit, Level 2 (low to moderate...                99282   \n",
       "2  Emergency Room Visit, Level 3 (moderate severity)                99283   \n",
       "3      Emergency Room Visit, Level 4 (high severity)                99284   \n",
       "\n",
       "0  Average Charge               Service Type  \n",
       "0  Average Charge  Evaluation and Management  \n",
       "1          746.55  Evaluation and Management  \n",
       "2         1051.05  Evaluation and Management  \n",
       "3          1581.3  Evaluation and Management  "
      ],
      "text/html": "<div>\n<style scoped>\n    .dataframe tbody tr th:only-of-type {\n        vertical-align: middle;\n    }\n\n    .dataframe tbody tr th {\n        vertical-align: top;\n    }\n\n    .dataframe thead th {\n        text-align: right;\n    }\n</style>\n<table border=\"1\" class=\"dataframe\">\n  <thead>\n    <tr style=\"text-align: right;\">\n      <th></th>\n      <th>Evaluation &amp; Management Services (CPT Codes 99201-99499)</th>\n      <th>2019 CPT Code</th>\n      <th>Average Charge</th>\n      <th>Service Type</th>\n    </tr>\n  </thead>\n  <tbody>\n    <tr>\n      <th>0</th>\n      <td>Evaluation &amp; Management Services (CPT Codes 99...</td>\n      <td>2019 CPT Code</td>\n      <td>Average Charge</td>\n      <td>Evaluation and Management</td>\n    </tr>\n    <tr>\n      <th>1</th>\n      <td>Emergency Room Visit, Level 2 (low to moderate...</td>\n      <td>99282</td>\n      <td>746.55</td>\n      <td>Evaluation and Management</td>\n    </tr>\n    <tr>\n      <th>2</th>\n      <td>Emergency Room Visit, Level 3 (moderate severity)</td>\n      <td>99283</td>\n      <td>1051.05</td>\n      <td>Evaluation and Management</td>\n    </tr>\n    <tr>\n      <th>3</th>\n      <td>Emergency Room Visit, Level 4 (high severity)</td>\n      <td>99284</td>\n      <td>1581.3</td>\n      <td>Evaluation and Management</td>\n    </tr>\n  </tbody>\n</table>\n</div>"
     },
     "metadata": {},
     "execution_count": 30
    }
   ],
   "source": [
    "df"
   ]
  },
  {
   "cell_type": "code",
   "execution_count": null,
   "metadata": {},
   "outputs": [],
   "source": [
    "Laboratory & Pathology Services (CPT Codes 80047-89398)"
   ]
  },
  {
   "cell_type": "code",
   "execution_count": null,
   "metadata": {},
   "outputs": [],
   "source": [
    "def split(word):\n",
    "    return [char for char in word]\n"
   ]
  },
  {
   "cell_type": "code",
   "execution_count": 46,
   "metadata": {},
   "outputs": [],
   "source": [
    "found=False\n",
    "keywords = [\"evaluation\", \"management\"]\n",
    "for row in wb_obj[\"ABS 1045\"].iter_rows():\n",
    "    if found == False:\n",
    "        for cell in row:\n",
    "            heading = str(cell.value).lower()\n",
    "            wordsInHeading=heading.split()\n",
    "            match =  any(item in wordsInHeading for item in keywords)\n",
    "            if match==True:\n",
    "                found = True\n",
    "                coord1=cell.coordinate\n",
    "                splitcoord=split(coord1)\n",
    "                alphaindex=(alphabet.index(f'{splitcoord[0]}'))+2\n",
    "                alphachar=alphabet[alphaindex]\n",
    "                numindex=splitcoord[1]\n",
    "                coord2=f\"{alphachar}{numindex}\"\n",
    "                df=pd.DataFrame(wb_obj[\"ABS 1045\"][f\"{coord1}:{coord2}\"])\n",
    "                break;"
   ]
  },
  {
   "cell_type": "code",
   "execution_count": 47,
   "metadata": {},
   "outputs": [
    {
     "output_type": "execute_result",
     "data": {
      "text/plain": [
       "                      0                     1                     2\n",
       "0  <Cell 'ABS 1045'.A6>  <Cell 'ABS 1045'.B6>  <Cell 'ABS 1045'.C6>"
      ],
      "text/html": "<div>\n<style scoped>\n    .dataframe tbody tr th:only-of-type {\n        vertical-align: middle;\n    }\n\n    .dataframe tbody tr th {\n        vertical-align: top;\n    }\n\n    .dataframe thead th {\n        text-align: right;\n    }\n</style>\n<table border=\"1\" class=\"dataframe\">\n  <thead>\n    <tr style=\"text-align: right;\">\n      <th></th>\n      <th>0</th>\n      <th>1</th>\n      <th>2</th>\n    </tr>\n  </thead>\n  <tbody>\n    <tr>\n      <th>0</th>\n      <td>&lt;Cell 'ABS 1045'.A6&gt;</td>\n      <td>&lt;Cell 'ABS 1045'.B6&gt;</td>\n      <td>&lt;Cell 'ABS 1045'.C6&gt;</td>\n    </tr>\n  </tbody>\n</table>\n</div>"
     },
     "metadata": {},
     "execution_count": 47
    }
   ],
   "source": [
    "df"
   ]
  },
  {
   "cell_type": "code",
   "execution_count": 34,
   "metadata": {},
   "outputs": [],
   "source": [
    "alphabet=[\"A\",\"B\",\"C\",\"D\",\"E\",\"F\",\"G\",\"H\",\"I\",\"J\",\"K\",\"L\",\"M\",\"N\",\"O\",\"P\",\"Q\",\"R\",\"S\",\"T\",\"U\",\"V\",\"W\",\"X\",\"Y\",\"Z\"]\n",
    "coord1=\"A9\""
   ]
  },
  {
   "cell_type": "code",
   "execution_count": 46,
   "metadata": {},
   "outputs": [],
   "source": [
    "def split(word):\n",
    "    return [char for char in word]\n",
    "splitcoord=split(coord1)"
   ]
  },
  {
   "cell_type": "code",
   "execution_count": 39,
   "metadata": {},
   "outputs": [
    {
     "output_type": "stream",
     "name": "stdout",
     "text": [
      "C\n6\nC:6\n"
     ]
    }
   ],
   "source": [
    "alphaindex=(alphabet.index(f'{splitcoord[0]}'))+2\n",
    "alphachar=alphabet[alphaindex]\n",
    "print(alphachar)\n",
    "\n",
    "numindex=splitcoord[1]\n",
    "print(numindex)\n",
    "coord2=f\"{alphachar}:{numindex}\"\n",
    "print(coord2)\n"
   ]
  },
  {
   "cell_type": "code",
   "execution_count": 42,
   "metadata": {},
   "outputs": [
    {
     "output_type": "execute_result",
     "data": {
      "text/plain": [
       "                      0                     1                     2\n",
       "0  <Cell 'ABS 1045'.A6>  <Cell 'ABS 1045'.B6>  <Cell 'ABS 1045'.C6>"
      ],
      "text/html": "<div>\n<style scoped>\n    .dataframe tbody tr th:only-of-type {\n        vertical-align: middle;\n    }\n\n    .dataframe tbody tr th {\n        vertical-align: top;\n    }\n\n    .dataframe thead th {\n        text-align: right;\n    }\n</style>\n<table border=\"1\" class=\"dataframe\">\n  <thead>\n    <tr style=\"text-align: right;\">\n      <th></th>\n      <th>0</th>\n      <th>1</th>\n      <th>2</th>\n    </tr>\n  </thead>\n  <tbody>\n    <tr>\n      <th>0</th>\n      <td>&lt;Cell 'ABS 1045'.A6&gt;</td>\n      <td>&lt;Cell 'ABS 1045'.B6&gt;</td>\n      <td>&lt;Cell 'ABS 1045'.C6&gt;</td>\n    </tr>\n  </tbody>\n</table>\n</div>"
     },
     "metadata": {},
     "execution_count": 42
    }
   ],
   "source": [
    "df"
   ]
  },
  {
   "cell_type": "code",
   "execution_count": null,
   "metadata": {},
   "outputs": [],
   "source": []
  }
 ]
}