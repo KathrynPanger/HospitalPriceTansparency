{
 "metadata": {
  "language_info": {
   "codemirror_mode": {
    "name": "ipython",
    "version": 3
   },
   "file_extension": ".py",
   "mimetype": "text/x-python",
   "name": "python",
   "nbconvert_exporter": "python",
   "pygments_lexer": "ipython3",
   "version": "3.8.5"
  },
  "orig_nbformat": 2,
  "kernelspec": {
   "name": "python385jvsc74a57bd0566c7dc836cf49ea79a80bde3a77d731ae67019fab1def2dd83c01090ce827fd",
   "display_name": "Python 3.8.5 64-bit ('DataViz': conda)"
  }
 },
 "nbformat": 4,
 "nbformat_minor": 2,
 "cells": [
  {
   "cell_type": "code",
   "execution_count": 1,
   "metadata": {},
   "outputs": [],
   "source": [
    "import os\n",
    "import pandas as pd\n",
    "import xlrd\n",
    "from pathlib import Path\n",
    "import openpyxl\n",
    "from openpyxl import load_workbook\n",
    "import numpy as np\n",
    "import re"
   ]
  },
  {
   "cell_type": "code",
   "execution_count": 2,
   "metadata": {},
   "outputs": [],
   "source": [
    "\n",
    "    ##Getting the 1045 data\n",
    "xlsx_file = Path('SimData', '/home/ygael/Projects/healthcare/data/2020_CDM_chargemaster/Alvarado Hospital/106370652_CDM_All_2020.xlsx')\n",
    "wb_obj = openpyxl.load_workbook(xlsx_file) "
   ]
  },
  {
   "cell_type": "code",
   "execution_count": 3,
   "metadata": {},
   "outputs": [],
   "source": [
    "#Function to extract 1045 sheet name\n",
    "\n",
    "def find1045_xlsx(filepath):\n",
    "    #read file\n",
    "    xlsx_file = Path('SimData', filepath)\n",
    "    wb_obj = openpyxl.load_workbook(xlsx_file)\n",
    "\n",
    "    #get sheet names\n",
    "    sheetnames=wb_obj.sheetnames\n",
    "\n",
    "    #Create a keywords list to identify ABS 1045 forms\n",
    "    keywords= [\"common\", \"procedures\", \"1045\", \"form\"]\n",
    "\n",
    "    #Search for the sheet by keyword\n",
    "    for name in sheetnames:\n",
    "        wholename=name.lower()\n",
    "        wordsInName=wholename.split()\n",
    "        match =  any(item in wordsInName for item in keywords)\n",
    "        if match==True:\n",
    "            sheetname=(wb_obj[name])\n",
    "            return(sheetname)\n",
    "            break\n"
   ]
  },
  {
   "cell_type": "code",
   "execution_count": 4,
   "metadata": {},
   "outputs": [],
   "source": [
    "#Function to extract all dataframes from a single xlsx file\n",
    "def getdata_xlsx(file):\n",
    "    dflist=[]\n",
    "    coordlist=[]\n",
    "    sheet=find1045_xlsx(file)\n",
    "    alphabet=[\"A\",\"B\",\"C\",\"D\",\"E\",\"F\",\"G\",\"H\",\"I\",\"J\",\"K\",\"L\",\"M\",\"N\",\"O\",\"P\",\"Q\",\"R\",\"S\",\"T\",\"U\",\"V\",\"W\",\"X\",\"Y\",\"Z\"]\n",
    "    found=False\n",
    "    keywords1 = [\"evaluation\", \"management\", \"services\"]\n",
    "    keywords2 = [\"laboratory\", \"pathology\", \"services\"]\n",
    "    keywords3= [\"radiology\", \"services\"]\n",
    "    keywords4 = [\"medicine\", \"services\"]\n",
    "    keywords5 = [\"surgery\", \"services\"]\n",
    "    keywords6 = [\"other\", \"common\", \"outpatient\", \"procedures\"]\n",
    "    keywords7 = [\"count\", \"of\", \"reported\", \"procedures\",]\n",
    "    keywordslists=[keywords1,keywords2,keywords3,keywords4,keywords5,keywords6,keywords7]\n",
    "    for wordlist in keywordslists:\n",
    "        for row in sheet.iter_rows():\n",
    "                for cell in row:\n",
    "                    heading = str(cell.value).lower()\n",
    "                    wordsInHeading=heading.split()\n",
    "                    match =  all(item in wordsInHeading for item in wordlist)\n",
    "                    if match==True:\n",
    "                        coord1=cell.coordinate\n",
    "                        coordlist.append(coord1)\n",
    "                        break\n",
    "    for coordinate in coordlist[0:-1]:\n",
    "        splitcoord=re.split('(\\d+)', coordinate)\n",
    "        nextbreak=coordlist[int(coordlist.index(coordinate)+1)]\n",
    "        splitbreak=re.split('(\\d+)', nextbreak)\n",
    "        lastcell=f\"{int(splitbreak[1])-1}\"\n",
    "        coord2=f\"C{lastcell}\"\n",
    "\n",
    "        cellgroup=[coordinate,coord2]\n",
    "        df=pd.DataFrame(sheet[f\"{cellgroup[0]}:{cellgroup[1]}\"])\n",
    "\n",
    "\n",
    "\n",
    "        dflist.append(df)\n",
    "\n",
    "    return(dflist)\n",
    "\n",
    "  \n",
    "    "
   ]
  },
  {
   "cell_type": "code",
   "execution_count": 5,
   "metadata": {},
   "outputs": [],
   "source": [
    "#Function to convert cell object values to plaintext values\n",
    "def convertvalue(x):\n",
    "    return x.value"
   ]
  },
  {
   "cell_type": "code",
   "execution_count": 6,
   "metadata": {},
   "outputs": [],
   "source": [
    "#Convert all dataframes from a single sheet into plaintext\n",
    "sheet=find1045_xlsx(xlsx_file)\n",
    "masterlist=[]\n",
    "rawlist=getdata_xlsx(xlsx_file)\n",
    "for i in range(len(rawlist)):\n",
    "    df=rawlist[i].applymap(convertvalue)\n",
    "            #add the hospital name as a variable\n",
    "    masterlist.append(df)"
   ]
  },
  {
   "cell_type": "code",
   "execution_count": 7,
   "metadata": {},
   "outputs": [],
   "source": [
    "#Get the column names from the dataframe\n",
    "for df in masterlist:\n",
    "    if len(df)>0:\n",
    "        df.columns = df.iloc[0]\n",
    "        df[\"Service Type\"]=df.iloc[0,0]\n",
    "        df.rename(columns={ df.columns[0]: \"Service\" }, inplace = True)\n",
    "        df=df.drop(df.index[0], inplace=True)\n",
    "\n",
    "\n"
   ]
  },
  {
   "cell_type": "code",
   "execution_count": 8,
   "metadata": {},
   "outputs": [],
   "source": [
    "#add the hospital name as a variable in every df in the converted list\n",
    "for i in range(len(masterlist)):\n",
    "        raw_name=sheet[\"A1\"].value\n",
    "        hos_name=raw_name.replace('Hospital Name: ', '')\n",
    "        masterlist[i][\"Hospital\"]=hos_name\n"
   ]
  },
  {
   "cell_type": "code",
   "execution_count": 9,
   "metadata": {},
   "outputs": [
    {
     "output_type": "execute_result",
     "data": {
      "text/plain": [
       "0                                            Service 2019 CPT Code  \\\n",
       "1  Emergency Room Visit, Level 2 (low to moderate...         99282   \n",
       "2  Emergency Room Visit, Level 3 (moderate severity)         99283   \n",
       "3      Emergency Room Visit, Level 4 (high severity)         99284   \n",
       "4  Outpatient Visit, established patient, 15 minutes         99213   \n",
       "\n",
       "0 Average Charge                                       Service Type  \\\n",
       "1         746.55  Evaluation & Management Services (CPT Codes 99...   \n",
       "2        1051.05  Evaluation & Management Services (CPT Codes 99...   \n",
       "3         1581.3  Evaluation & Management Services (CPT Codes 99...   \n",
       "4           None  Evaluation & Management Services (CPT Codes 99...   \n",
       "\n",
       "0            Hospital  \n",
       "1   Alvarado Hospital  \n",
       "2   Alvarado Hospital  \n",
       "3   Alvarado Hospital  \n",
       "4   Alvarado Hospital  "
      ],
      "text/html": "<div>\n<style scoped>\n    .dataframe tbody tr th:only-of-type {\n        vertical-align: middle;\n    }\n\n    .dataframe tbody tr th {\n        vertical-align: top;\n    }\n\n    .dataframe thead th {\n        text-align: right;\n    }\n</style>\n<table border=\"1\" class=\"dataframe\">\n  <thead>\n    <tr style=\"text-align: right;\">\n      <th></th>\n      <th>Service</th>\n      <th>2019 CPT Code</th>\n      <th>Average Charge</th>\n      <th>Service Type</th>\n      <th>Hospital</th>\n    </tr>\n  </thead>\n  <tbody>\n    <tr>\n      <th>1</th>\n      <td>Emergency Room Visit, Level 2 (low to moderate...</td>\n      <td>99282</td>\n      <td>746.55</td>\n      <td>Evaluation &amp; Management Services (CPT Codes 99...</td>\n      <td>Alvarado Hospital</td>\n    </tr>\n    <tr>\n      <th>2</th>\n      <td>Emergency Room Visit, Level 3 (moderate severity)</td>\n      <td>99283</td>\n      <td>1051.05</td>\n      <td>Evaluation &amp; Management Services (CPT Codes 99...</td>\n      <td>Alvarado Hospital</td>\n    </tr>\n    <tr>\n      <th>3</th>\n      <td>Emergency Room Visit, Level 4 (high severity)</td>\n      <td>99284</td>\n      <td>1581.3</td>\n      <td>Evaluation &amp; Management Services (CPT Codes 99...</td>\n      <td>Alvarado Hospital</td>\n    </tr>\n    <tr>\n      <th>4</th>\n      <td>Outpatient Visit, established patient, 15 minutes</td>\n      <td>99213</td>\n      <td>None</td>\n      <td>Evaluation &amp; Management Services (CPT Codes 99...</td>\n      <td>Alvarado Hospital</td>\n    </tr>\n  </tbody>\n</table>\n</div>"
     },
     "metadata": {},
     "execution_count": 9
    }
   ],
   "source": [
    "masterlist[0]"
   ]
  },
  {
   "cell_type": "code",
   "execution_count": 29,
   "metadata": {},
   "outputs": [
    {
     "output_type": "error",
     "ename": "NameError",
     "evalue": "name 'chargemaster' is not defined",
     "traceback": [
      "\u001b[0;31m---------------------------------------------------------------------------\u001b[0m",
      "\u001b[0;31mNameError\u001b[0m                                 Traceback (most recent call last)",
      "\u001b[0;32m<ipython-input-29-1f084f19c42c>\u001b[0m in \u001b[0;36m<module>\u001b[0;34m\u001b[0m\n\u001b[1;32m      3\u001b[0m \u001b[0mos\u001b[0m\u001b[0;34m.\u001b[0m\u001b[0mchdir\u001b[0m\u001b[0;34m(\u001b[0m\u001b[0;34m\"data\"\u001b[0m\u001b[0;34m)\u001b[0m\u001b[0;34m\u001b[0m\u001b[0;34m\u001b[0m\u001b[0m\n\u001b[1;32m      4\u001b[0m \u001b[0mos\u001b[0m\u001b[0;34m.\u001b[0m\u001b[0mchdir\u001b[0m\u001b[0;34m(\u001b[0m\u001b[0;34m\"2020_CDM_chargemaster\"\u001b[0m\u001b[0;34m)\u001b[0m\u001b[0;34m\u001b[0m\u001b[0;34m\u001b[0m\u001b[0m\n\u001b[0;32m----> 5\u001b[0;31m \u001b[0;32mfor\u001b[0m \u001b[0mfolder\u001b[0m \u001b[0;32min\u001b[0m \u001b[0mchargemaster\u001b[0m\u001b[0;34m:\u001b[0m\u001b[0;34m\u001b[0m\u001b[0;34m\u001b[0m\u001b[0m\n\u001b[0m\u001b[1;32m      6\u001b[0m     \u001b[0mprint\u001b[0m\u001b[0;34m(\u001b[0m\u001b[0;34m\"I found something\"\u001b[0m\u001b[0;34m)\u001b[0m\u001b[0;34m\u001b[0m\u001b[0;34m\u001b[0m\u001b[0m\n",
      "\u001b[0;31mNameError\u001b[0m: name 'chargemaster' is not defined"
     ]
    }
   ],
   "source": [
    "#get the names of all folders in the data directory\n",
    "os.chdir(\"..\")\n",
    "os.chdir(\"data\")\n",
    "os.chdir(\"2020_CDM_chargemaster\")\n",
    "\n"
   ]
  },
  {
   "cell_type": "code",
   "execution_count": 93,
   "metadata": {},
   "outputs": [],
   "source": [
    "#Function to extract 1045 sheet name\n",
    "\n",
    "def find1045(filepath):\n",
    "    #read file\n",
    "    if filepath[-5:] == \".xlsx\":\n",
    "        excel_file = Path(filepath)\n",
    "        wb_obj = openpyxl.load_workbook(excel_file)\n",
    "\n",
    "    #get sheet names\n",
    "    sheetnames=wb_obj.sheetnames\n",
    "\n",
    "    #Create a keywords list to identify ABS 1045 forms\n",
    "    keywords= [\"common\", \"procedures\", \"1045\", \"form\"]\n",
    "\n",
    "    #Search for the sheet by keyword\n",
    "    for name in sheetnames:\n",
    "        wholename=name.lower()\n",
    "        wordsInName=wholename.split()\n",
    "        match =  any(item in wordsInName for item in keywords)\n",
    "        if match==True:\n",
    "            sheetname=(wb_obj[name])\n",
    "            return(sheetname)\n",
    "            break\n"
   ]
  },
  {
   "cell_type": "code",
   "execution_count": 103,
   "metadata": {},
   "outputs": [
    {
     "output_type": "stream",
     "name": "stdout",
     "text": [
      "106390923_CDM_All_2020.xlsx\n",
      "<Worksheet \"Common OP Procedures\">\n",
      "106104023_CDM_All_2020.xls\n"
     ]
    },
    {
     "output_type": "error",
     "ename": "InvalidFileException",
     "evalue": "openpyxl does not support the old .xls file format, please use xlrd to read this file, or convert it to the more recent .xlsx file format.",
     "traceback": [
      "\u001b[0;31m---------------------------------------------------------------------------\u001b[0m",
      "\u001b[0;31mInvalidFileException\u001b[0m                      Traceback (most recent call last)",
      "\u001b[0;32m<ipython-input-103-2694acb82aee>\u001b[0m in \u001b[0;36m<module>\u001b[0;34m\u001b[0m\n\u001b[1;32m      6\u001b[0m         \u001b[0;32mfor\u001b[0m \u001b[0mfilename\u001b[0m \u001b[0;32min\u001b[0m \u001b[0mfiles\u001b[0m\u001b[0;34m:\u001b[0m\u001b[0;34m\u001b[0m\u001b[0;34m\u001b[0m\u001b[0m\n\u001b[1;32m      7\u001b[0m             \u001b[0mprint\u001b[0m\u001b[0;34m(\u001b[0m\u001b[0mfilename\u001b[0m\u001b[0;34m)\u001b[0m\u001b[0;34m\u001b[0m\u001b[0;34m\u001b[0m\u001b[0m\n\u001b[0;32m----> 8\u001b[0;31m             \u001b[0mprint\u001b[0m \u001b[0;34m(\u001b[0m\u001b[0mfind1045\u001b[0m\u001b[0;34m(\u001b[0m\u001b[0mfilename\u001b[0m\u001b[0;34m)\u001b[0m\u001b[0;34m)\u001b[0m\u001b[0;34m\u001b[0m\u001b[0;34m\u001b[0m\u001b[0m\n\u001b[0m\u001b[1;32m      9\u001b[0m     \u001b[0mos\u001b[0m\u001b[0;34m.\u001b[0m\u001b[0mchdir\u001b[0m\u001b[0;34m(\u001b[0m\u001b[0;34m\"..\"\u001b[0m\u001b[0;34m)\u001b[0m\u001b[0;34m\u001b[0m\u001b[0;34m\u001b[0m\u001b[0m\n",
      "\u001b[0;32m<ipython-input-93-cfea998a6faf>\u001b[0m in \u001b[0;36mfind1045\u001b[0;34m(filepath)\u001b[0m\n\u001b[1;32m      4\u001b[0m     \u001b[0;31m#read file\u001b[0m\u001b[0;34m\u001b[0m\u001b[0;34m\u001b[0m\u001b[0;34m\u001b[0m\u001b[0m\n\u001b[1;32m      5\u001b[0m     \u001b[0mxlsx_file\u001b[0m \u001b[0;34m=\u001b[0m \u001b[0mPath\u001b[0m\u001b[0;34m(\u001b[0m\u001b[0mfilepath\u001b[0m\u001b[0;34m)\u001b[0m\u001b[0;34m\u001b[0m\u001b[0;34m\u001b[0m\u001b[0m\n\u001b[0;32m----> 6\u001b[0;31m     \u001b[0mwb_obj\u001b[0m \u001b[0;34m=\u001b[0m \u001b[0mopenpyxl\u001b[0m\u001b[0;34m.\u001b[0m\u001b[0mload_workbook\u001b[0m\u001b[0;34m(\u001b[0m\u001b[0mxlsx_file\u001b[0m\u001b[0;34m)\u001b[0m\u001b[0;34m\u001b[0m\u001b[0;34m\u001b[0m\u001b[0m\n\u001b[0m\u001b[1;32m      7\u001b[0m \u001b[0;34m\u001b[0m\u001b[0m\n\u001b[1;32m      8\u001b[0m     \u001b[0;31m#get sheet names\u001b[0m\u001b[0;34m\u001b[0m\u001b[0;34m\u001b[0m\u001b[0;34m\u001b[0m\u001b[0m\n",
      "\u001b[0;32m~/anaconda3/envs/DataViz/lib/python3.8/site-packages/openpyxl/reader/excel.py\u001b[0m in \u001b[0;36mload_workbook\u001b[0;34m(filename, read_only, keep_vba, data_only, keep_links)\u001b[0m\n\u001b[1;32m    313\u001b[0m \u001b[0;34m\u001b[0m\u001b[0m\n\u001b[1;32m    314\u001b[0m     \"\"\"\n\u001b[0;32m--> 315\u001b[0;31m     reader = ExcelReader(filename, read_only, keep_vba,\n\u001b[0m\u001b[1;32m    316\u001b[0m                         data_only, keep_links)\n\u001b[1;32m    317\u001b[0m     \u001b[0mreader\u001b[0m\u001b[0;34m.\u001b[0m\u001b[0mread\u001b[0m\u001b[0;34m(\u001b[0m\u001b[0;34m)\u001b[0m\u001b[0;34m\u001b[0m\u001b[0;34m\u001b[0m\u001b[0m\n",
      "\u001b[0;32m~/anaconda3/envs/DataViz/lib/python3.8/site-packages/openpyxl/reader/excel.py\u001b[0m in \u001b[0;36m__init__\u001b[0;34m(self, fn, read_only, keep_vba, data_only, keep_links)\u001b[0m\n\u001b[1;32m    122\u001b[0m     def __init__(self,  fn, read_only=False, keep_vba=KEEP_VBA,\n\u001b[1;32m    123\u001b[0m                   data_only=False, keep_links=True):\n\u001b[0;32m--> 124\u001b[0;31m         \u001b[0mself\u001b[0m\u001b[0;34m.\u001b[0m\u001b[0marchive\u001b[0m \u001b[0;34m=\u001b[0m \u001b[0m_validate_archive\u001b[0m\u001b[0;34m(\u001b[0m\u001b[0mfn\u001b[0m\u001b[0;34m)\u001b[0m\u001b[0;34m\u001b[0m\u001b[0;34m\u001b[0m\u001b[0m\n\u001b[0m\u001b[1;32m    125\u001b[0m         \u001b[0mself\u001b[0m\u001b[0;34m.\u001b[0m\u001b[0mvalid_files\u001b[0m \u001b[0;34m=\u001b[0m \u001b[0mself\u001b[0m\u001b[0;34m.\u001b[0m\u001b[0marchive\u001b[0m\u001b[0;34m.\u001b[0m\u001b[0mnamelist\u001b[0m\u001b[0;34m(\u001b[0m\u001b[0;34m)\u001b[0m\u001b[0;34m\u001b[0m\u001b[0;34m\u001b[0m\u001b[0m\n\u001b[1;32m    126\u001b[0m         \u001b[0mself\u001b[0m\u001b[0;34m.\u001b[0m\u001b[0mread_only\u001b[0m \u001b[0;34m=\u001b[0m \u001b[0mread_only\u001b[0m\u001b[0;34m\u001b[0m\u001b[0;34m\u001b[0m\u001b[0m\n",
      "\u001b[0;32m~/anaconda3/envs/DataViz/lib/python3.8/site-packages/openpyxl/reader/excel.py\u001b[0m in \u001b[0;36m_validate_archive\u001b[0;34m(filename)\u001b[0m\n\u001b[1;32m     92\u001b[0m                        \u001b[0;34m'Supported formats are: %s'\u001b[0m\u001b[0;34m)\u001b[0m \u001b[0;34m%\u001b[0m \u001b[0;34m(\u001b[0m\u001b[0mfile_format\u001b[0m\u001b[0;34m,\u001b[0m\u001b[0;34m\u001b[0m\u001b[0;34m\u001b[0m\u001b[0m\n\u001b[1;32m     93\u001b[0m                                                        ','.join(SUPPORTED_FORMATS))\n\u001b[0;32m---> 94\u001b[0;31m             \u001b[0;32mraise\u001b[0m \u001b[0mInvalidFileException\u001b[0m\u001b[0;34m(\u001b[0m\u001b[0mmsg\u001b[0m\u001b[0;34m)\u001b[0m\u001b[0;34m\u001b[0m\u001b[0;34m\u001b[0m\u001b[0m\n\u001b[0m\u001b[1;32m     95\u001b[0m \u001b[0;34m\u001b[0m\u001b[0m\n\u001b[1;32m     96\u001b[0m     \u001b[0marchive\u001b[0m \u001b[0;34m=\u001b[0m \u001b[0mZipFile\u001b[0m\u001b[0;34m(\u001b[0m\u001b[0mfilename\u001b[0m\u001b[0;34m,\u001b[0m \u001b[0;34m'r'\u001b[0m\u001b[0;34m)\u001b[0m\u001b[0;34m\u001b[0m\u001b[0;34m\u001b[0m\u001b[0m\n",
      "\u001b[0;31mInvalidFileException\u001b[0m: openpyxl does not support the old .xls file format, please use xlrd to read this file, or convert it to the more recent .xlsx file format."
     ]
    }
   ],
   "source": [
    "#get the names of all files from each directory, then test if each file has a 1045 in it.\n",
    "dirlist = list(os. listdir())\n",
    "for i in range(len(dirlist)):\n",
    "    os.chdir(dirlist[i])\n",
    "    for root, dirs, files in os.walk(\".\"):\n",
    "        for filename in files:\n",
    "            print(filename)\n",
    "            print (find1045(filename))\n",
    "    os.chdir(\"..\")"
   ]
  },
  {
   "cell_type": "code",
   "execution_count": 107,
   "metadata": {},
   "outputs": [],
   "source": [
    "filename=\"test.xlsx\""
   ]
  },
  {
   "cell_type": "code",
   "execution_count": 118,
   "metadata": {},
   "outputs": [
    {
     "output_type": "execute_result",
     "data": {
      "text/plain": [
       "'.xlsx'"
      ]
     },
     "metadata": {},
     "execution_count": 118
    }
   ],
   "source": [
    "filename[-5:]"
   ]
  },
  {
   "cell_type": "code",
   "execution_count": 101,
   "metadata": {},
   "outputs": [
    {
     "output_type": "execute_result",
     "data": {
      "text/plain": [
       "'/home/ygael/Projects/healthcare/data'"
      ]
     },
     "metadata": {},
     "execution_count": 101
    }
   ],
   "source": [
    "os.getcwd()"
   ]
  },
  {
   "cell_type": "code",
   "execution_count": null,
   "metadata": {},
   "outputs": [],
   "source": []
  }
 ]
}