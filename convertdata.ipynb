{
 "metadata": {
  "language_info": {
   "codemirror_mode": {
    "name": "ipython",
    "version": 3
   },
   "file_extension": ".py",
   "mimetype": "text/x-python",
   "name": "python",
   "nbconvert_exporter": "python",
   "pygments_lexer": "ipython3",
   "version": "3.8.5"
  },
  "orig_nbformat": 2,
  "kernelspec": {
   "name": "python385jvsc74a57bd0566c7dc836cf49ea79a80bde3a77d731ae67019fab1def2dd83c01090ce827fd",
   "display_name": "Python 3.8.5 64-bit ('DataViz': conda)"
  }
 },
 "nbformat": 4,
 "nbformat_minor": 2,
 "cells": [
  {
   "cell_type": "code",
   "execution_count": 1,
   "metadata": {},
   "outputs": [],
   "source": [
    "import os\n",
    "import pandas as pd\n",
    "import xlrd\n",
    "from pathlib import Path\n",
    "import openpyxl\n",
    "from openpyxl import load_workbook\n",
    "import numpy as np\n",
    "import re\n",
    "import ast\n",
    "from xls2xlsx import XLS2XLSX"
   ]
  },
  {
   "cell_type": "code",
   "execution_count": 2,
   "metadata": {},
   "outputs": [],
   "source": [
    "\n",
    "    ##Getting the 1045 data\n",
    "xlsx_file = Path('SimData', '/home/ygael/Projects/healthcare/data/2020_CDM_chargemaster/Alvarado Hospital/106370652_CDM_All_2020.xlsx')\n",
    "wb_obj = openpyxl.load_workbook(xlsx_file) "
   ]
  },
  {
   "cell_type": "code",
   "execution_count": 3,
   "metadata": {},
   "outputs": [],
   "source": [
    "#Function to extract 1045 sheet name from xlsx file only\n",
    "\n",
    "def find1045_xlsx(filepath):\n",
    "    #read file\n",
    "    xlsx_file = Path(filepath)\n",
    "    wb_obj = openpyxl.load_workbook(xlsx_file)\n",
    "\n",
    "    #get sheet names\n",
    "    sheetnames=wb_obj.sheetnames\n",
    "\n",
    "    #Create a keywords list to identify ABS 1045 forms\n",
    "    keywords= [\"common\", \"procedures\", \"1045\", \"form\"]\n",
    "\n",
    "    #Search for the sheet by keyword\n",
    "    for name in sheetnames:\n",
    "        wholename=name.lower()\n",
    "        wordsInName=wholename.split()\n",
    "        match =  any(item in wordsInName for item in keywords)\n",
    "        if match==True:\n",
    "            sheetname=(wb_obj[name])\n",
    "            return(sheetname)\n",
    "            break\n"
   ]
  },
  {
   "cell_type": "code",
   "execution_count": 4,
   "metadata": {},
   "outputs": [],
   "source": [
    "#Function to extract all dataframes from a single xlsx file\n",
    "def getdata_xlsx(file):\n",
    "    dflist=[]\n",
    "    coordlist=[]\n",
    "    sheet=find1045_xlsx(file)\n",
    "    alphabet=[\"A\",\"B\",\"C\",\"D\",\"E\",\"F\",\"G\",\"H\",\"I\",\"J\",\"K\",\"L\",\"M\",\"N\",\"O\",\"P\",\"Q\",\"R\",\"S\",\"T\",\"U\",\"V\",\"W\",\"X\",\"Y\",\"Z\"]\n",
    "    found=False\n",
    "    keywords1 = [\"evaluation\", \"management\", \"services\"]\n",
    "    keywords2 = [\"laboratory\", \"pathology\", \"services\"]\n",
    "    keywords3= [\"radiology\", \"services\"]\n",
    "    keywords4 = [\"medicine\", \"services\"]\n",
    "    keywords5 = [\"surgery\", \"services\"]\n",
    "    keywords6 = [\"other\", \"common\", \"outpatient\", \"procedures\"]\n",
    "    keywords7 = [\"count\", \"of\", \"reported\", \"procedures\",]\n",
    "    keywordslists=[keywords1,keywords2,keywords3,keywords4,keywords5,keywords6,keywords7]\n",
    "    for wordlist in keywordslists:\n",
    "        for row in sheet.iter_rows():\n",
    "                for cell in row:\n",
    "                    heading = str(cell.value).lower()\n",
    "                    wordsInHeading=heading.split()\n",
    "                    match =  all(item in wordsInHeading for item in wordlist)\n",
    "                    if match==True:\n",
    "                        coord1=cell.coordinate\n",
    "                        coordlist.append(coord1)\n",
    "                        break\n",
    "    for coordinate in coordlist[0:-1]:\n",
    "        splitcoord=re.split('(\\d+)', coordinate)\n",
    "        nextbreak=coordlist[int(coordlist.index(coordinate)+1)]\n",
    "        splitbreak=re.split('(\\d+)', nextbreak)\n",
    "        lastcell=f\"{int(splitbreak[1])-1}\"\n",
    "        coord2=f\"C{lastcell}\"\n",
    "\n",
    "        cellgroup=[coordinate,coord2]\n",
    "        df=pd.DataFrame(sheet[f\"{cellgroup[0]}:{cellgroup[1]}\"])\n",
    "\n",
    "\n",
    "\n",
    "        dflist.append(df)\n",
    "\n",
    "    return(dflist)\n",
    "\n",
    "  \n",
    "    "
   ]
  },
  {
   "cell_type": "code",
   "execution_count": 5,
   "metadata": {},
   "outputs": [],
   "source": [
    "#Function to convert cell object values to plaintext values\n",
    "def convertvalue(x):\n",
    "    return x.value"
   ]
  },
  {
   "cell_type": "code",
   "execution_count": 6,
   "metadata": {},
   "outputs": [],
   "source": [
    "#Convert all dataframes from a single sheet into plaintext\n",
    "sheet=find1045_xlsx(xlsx_file)\n",
    "masterlist=[]\n",
    "rawlist=getdata_xlsx(xlsx_file)\n",
    "for i in range(len(rawlist)):\n",
    "    df=rawlist[i].applymap(convertvalue)\n",
    "            #add the hospital name as a variable\n",
    "    masterlist.append(df)"
   ]
  },
  {
   "cell_type": "code",
   "execution_count": 20,
   "metadata": {},
   "outputs": [],
   "source": [
    "#Get all the data, put it in a dataframe list, then convert all dataframes from a single sheet into plaintext, returning the final list\n",
    "def get1045dataframes(xlsx_file):\n",
    "    masterlist=[]\n",
    "    masterdf=pd.DataFrame()    \n",
    "    rawlist=getdata_xlsx(xlsx_file)\n",
    "    #Get the column names from the dataframe\n",
    "    for i in range(len(masterlist)):\n",
    "        if len(df[i])>0:\n",
    "            masterlist[i].columns = df.iloc[0]\n",
    "            masterlist[i][\"Service Type\"]=df.iloc[0,0]\n",
    "            masterlist[i].rename(columns={ df.columns[0]: \"Service\" }, inplace = True)\n",
    "            masterlist[i]=masterlist[i].drop(df.index[0], inplace=True)\n",
    "            raw_name=sheet[\"A1\"].value\n",
    "            hos_name=raw_name.replace('Hospital Name: ', '')\n",
    "            masterlist[i][\"Hospital\"]=hos_name\n",
    "            df=rawlist[i].applymap(convertvalue)       \n",
    "            masterlist.append(df)\n",
    "            masterdf.append(masterlist)\n",
    "\n",
    "    return(masterdf)"
   ]
  },
  {
   "cell_type": "code",
   "execution_count": 18,
   "metadata": {},
   "outputs": [
    {
     "output_type": "error",
     "ename": "NameError",
     "evalue": "name 'ultralist' is not defined",
     "traceback": [
      "\u001b[0;31m---------------------------------------------------------------------------\u001b[0m",
      "\u001b[0;31mNameError\u001b[0m                                 Traceback (most recent call last)",
      "\u001b[0;32m<ipython-input-18-d3fe1a159d9a>\u001b[0m in \u001b[0;36m<module>\u001b[0;34m\u001b[0m\n\u001b[0;32m----> 1\u001b[0;31m \u001b[0multralist\u001b[0m\u001b[0;34m\u001b[0m\u001b[0;34m\u001b[0m\u001b[0m\n\u001b[0m",
      "\u001b[0;31mNameError\u001b[0m: name 'ultralist' is not defined"
     ]
    }
   ],
   "source": []
  },
  {
   "cell_type": "code",
   "execution_count": 8,
   "metadata": {},
   "outputs": [],
   "source": [
    "#Get the column names from the dataframe\n",
    "for df in masterlist:\n",
    "    if len(df)>0:\n",
    "        df.columns = df.iloc[0]\n",
    "        df[\"Service Type\"]=df.iloc[0,0]\n",
    "        df.rename(columns={ df.columns[0]: \"Service\" }, inplace = True)\n",
    "        df=df.drop(df.index[0], inplace=True)\n",
    "\n",
    "\n"
   ]
  },
  {
   "cell_type": "code",
   "execution_count": 9,
   "metadata": {},
   "outputs": [],
   "source": [
    "#add the hospital name as a variable in every df in the converted list\n",
    "for i in range(len(masterlist)):\n",
    "        raw_name=sheet[\"A1\"].value\n",
    "        hos_name=raw_name.replace('Hospital Name: ', '')\n",
    "        masterlist[i][\"Hospital\"]=hos_name\n"
   ]
  },
  {
   "cell_type": "code",
   "execution_count": 10,
   "metadata": {},
   "outputs": [
    {
     "output_type": "execute_result",
     "data": {
      "text/plain": [
       "0                                            Service 2019 CPT Code  \\\n",
       "1  Emergency Room Visit, Level 2 (low to moderate...         99282   \n",
       "2  Emergency Room Visit, Level 3 (moderate severity)         99283   \n",
       "3      Emergency Room Visit, Level 4 (high severity)         99284   \n",
       "4  Outpatient Visit, established patient, 15 minutes         99213   \n",
       "\n",
       "0 Average Charge                                       Service Type  \\\n",
       "1         746.55  Evaluation & Management Services (CPT Codes 99...   \n",
       "2        1051.05  Evaluation & Management Services (CPT Codes 99...   \n",
       "3         1581.3  Evaluation & Management Services (CPT Codes 99...   \n",
       "4           None  Evaluation & Management Services (CPT Codes 99...   \n",
       "\n",
       "0            Hospital  \n",
       "1   Alvarado Hospital  \n",
       "2   Alvarado Hospital  \n",
       "3   Alvarado Hospital  \n",
       "4   Alvarado Hospital  "
      ],
      "text/html": "<div>\n<style scoped>\n    .dataframe tbody tr th:only-of-type {\n        vertical-align: middle;\n    }\n\n    .dataframe tbody tr th {\n        vertical-align: top;\n    }\n\n    .dataframe thead th {\n        text-align: right;\n    }\n</style>\n<table border=\"1\" class=\"dataframe\">\n  <thead>\n    <tr style=\"text-align: right;\">\n      <th></th>\n      <th>Service</th>\n      <th>2019 CPT Code</th>\n      <th>Average Charge</th>\n      <th>Service Type</th>\n      <th>Hospital</th>\n    </tr>\n  </thead>\n  <tbody>\n    <tr>\n      <th>1</th>\n      <td>Emergency Room Visit, Level 2 (low to moderate...</td>\n      <td>99282</td>\n      <td>746.55</td>\n      <td>Evaluation &amp; Management Services (CPT Codes 99...</td>\n      <td>Alvarado Hospital</td>\n    </tr>\n    <tr>\n      <th>2</th>\n      <td>Emergency Room Visit, Level 3 (moderate severity)</td>\n      <td>99283</td>\n      <td>1051.05</td>\n      <td>Evaluation &amp; Management Services (CPT Codes 99...</td>\n      <td>Alvarado Hospital</td>\n    </tr>\n    <tr>\n      <th>3</th>\n      <td>Emergency Room Visit, Level 4 (high severity)</td>\n      <td>99284</td>\n      <td>1581.3</td>\n      <td>Evaluation &amp; Management Services (CPT Codes 99...</td>\n      <td>Alvarado Hospital</td>\n    </tr>\n    <tr>\n      <th>4</th>\n      <td>Outpatient Visit, established patient, 15 minutes</td>\n      <td>99213</td>\n      <td>None</td>\n      <td>Evaluation &amp; Management Services (CPT Codes 99...</td>\n      <td>Alvarado Hospital</td>\n    </tr>\n  </tbody>\n</table>\n</div>"
     },
     "metadata": {},
     "execution_count": 10
    }
   ],
   "source": [
    "masterlist[0]"
   ]
  },
  {
   "cell_type": "code",
   "execution_count": 11,
   "metadata": {},
   "outputs": [],
   "source": [
    "#Function to extract 1045 sheet name\n",
    "\n",
    "def find1045(filepath):\n",
    "    #read file\n",
    "    if filepath[-5:] == \".xlsx\":\n",
    "        excel_file = Path(filepath)\n",
    "        wb_obj = openpyxl.load_workbook(excel_file)\n",
    "\n",
    "    #get sheet names\n",
    "    sheetnames=wb_obj.sheetnames\n",
    "\n",
    "    #Create a keywords list to identify ABS 1045 forms\n",
    "    keywords= [\"common\", \"procedures\", \"1045\", \"form\"]\n",
    "\n",
    "    #Search for the sheet by keyword\n",
    "    for name in sheetnames:\n",
    "        wholename=name.lower()\n",
    "        wordsInName=wholename.split()\n",
    "        match =  any(item in wordsInName for item in keywords)\n",
    "        if match==True:\n",
    "            sheetname=(wb_obj[name])\n",
    "            return(sheetname)\n",
    "            break\n"
   ]
  },
  {
   "cell_type": "code",
   "execution_count": 14,
   "metadata": {},
   "outputs": [],
   "source": [
    "os.chdir(\"data\")"
   ]
  },
  {
   "cell_type": "code",
   "execution_count": 23,
   "metadata": {},
   "outputs": [
    {
     "output_type": "error",
     "ename": "FileNotFoundError",
     "evalue": "[Errno 2] No such file or directory: '2020_CDM_chargemaster'",
     "traceback": [
      "\u001b[0;31m---------------------------------------------------------------------------\u001b[0m",
      "\u001b[0;31mFileNotFoundError\u001b[0m                         Traceback (most recent call last)",
      "\u001b[0;32m<ipython-input-23-2880f1bbfe9b>\u001b[0m in \u001b[0;36m<module>\u001b[0;34m\u001b[0m\n\u001b[0;32m----> 1\u001b[0;31m \u001b[0mos\u001b[0m\u001b[0;34m.\u001b[0m\u001b[0mchdir\u001b[0m\u001b[0;34m(\u001b[0m\u001b[0;34m\"2020_CDM_chargemaster\"\u001b[0m\u001b[0;34m)\u001b[0m\u001b[0;34m\u001b[0m\u001b[0;34m\u001b[0m\u001b[0m\n\u001b[0m",
      "\u001b[0;31mFileNotFoundError\u001b[0m: [Errno 2] No such file or directory: '2020_CDM_chargemaster'"
     ]
    }
   ],
   "source": [
    "os.chdir(\"2020_CDM_chargemaster\")"
   ]
  },
  {
   "cell_type": "code",
   "execution_count": 16,
   "metadata": {},
   "outputs": [],
   "source": [
    "chargemaster=os.getcwd()"
   ]
  },
  {
   "cell_type": "code",
   "execution_count": 22,
   "metadata": {},
   "outputs": [],
   "source": [
    "#Save Enter the correct directory and save it to a variable\n",
    "\n",
    "os.chdir(\"..\")\n"
   ]
  },
  {
   "cell_type": "code",
   "execution_count": 40,
   "metadata": {},
   "outputs": [
    {
     "output_type": "error",
     "ename": "NotADirectoryError",
     "evalue": "[Errno 20] Not a directory: '106374465_Common25_2020.xlsx'",
     "traceback": [
      "\u001b[0;31m---------------------------------------------------------------------------\u001b[0m",
      "\u001b[0;31mNotADirectoryError\u001b[0m                        Traceback (most recent call last)",
      "\u001b[0;32m<ipython-input-40-6a3e9a22cf48>\u001b[0m in \u001b[0;36m<module>\u001b[0;34m\u001b[0m\n\u001b[1;32m      3\u001b[0m \u001b[0mdirlist\u001b[0m \u001b[0;34m=\u001b[0m \u001b[0mlist\u001b[0m\u001b[0;34m(\u001b[0m\u001b[0mos\u001b[0m\u001b[0;34m.\u001b[0m \u001b[0mlistdir\u001b[0m\u001b[0;34m(\u001b[0m\u001b[0;34m)\u001b[0m\u001b[0;34m)\u001b[0m\u001b[0;34m\u001b[0m\u001b[0;34m\u001b[0m\u001b[0m\n\u001b[1;32m      4\u001b[0m \u001b[0;32mfor\u001b[0m \u001b[0mi\u001b[0m \u001b[0;32min\u001b[0m \u001b[0mrange\u001b[0m\u001b[0;34m(\u001b[0m\u001b[0mlen\u001b[0m\u001b[0;34m(\u001b[0m\u001b[0mdirlist\u001b[0m\u001b[0;34m)\u001b[0m\u001b[0;34m)\u001b[0m\u001b[0;34m:\u001b[0m\u001b[0;34m\u001b[0m\u001b[0;34m\u001b[0m\u001b[0m\n\u001b[0;32m----> 5\u001b[0;31m     \u001b[0mos\u001b[0m\u001b[0;34m.\u001b[0m\u001b[0mchdir\u001b[0m\u001b[0;34m(\u001b[0m\u001b[0mdirlist\u001b[0m\u001b[0;34m[\u001b[0m\u001b[0mi\u001b[0m\u001b[0;34m]\u001b[0m\u001b[0;34m)\u001b[0m\u001b[0;34m\u001b[0m\u001b[0;34m\u001b[0m\u001b[0m\n\u001b[0m\u001b[1;32m      6\u001b[0m     \u001b[0;32mfor\u001b[0m \u001b[0mroot\u001b[0m\u001b[0;34m,\u001b[0m \u001b[0mdirs\u001b[0m\u001b[0;34m,\u001b[0m \u001b[0mfiles\u001b[0m \u001b[0;32min\u001b[0m \u001b[0mos\u001b[0m\u001b[0;34m.\u001b[0m\u001b[0mwalk\u001b[0m\u001b[0;34m(\u001b[0m\u001b[0;34m\".\"\u001b[0m\u001b[0;34m)\u001b[0m\u001b[0;34m:\u001b[0m\u001b[0;34m\u001b[0m\u001b[0;34m\u001b[0m\u001b[0m\n\u001b[1;32m      7\u001b[0m         \u001b[0;32mfor\u001b[0m \u001b[0mfilename\u001b[0m \u001b[0;32min\u001b[0m \u001b[0mfiles\u001b[0m\u001b[0;34m:\u001b[0m\u001b[0;34m\u001b[0m\u001b[0;34m\u001b[0m\u001b[0m\n",
      "\u001b[0;31mNotADirectoryError\u001b[0m: [Errno 20] Not a directory: '106374465_Common25_2020.xlsx'"
     ]
    }
   ],
   "source": [
    "#get the names of all files from each directory, then test if each file has a 1045 in it.\n",
    "formSheetDict={}\n",
    "dirlist = list(os. listdir())\n",
    "for i in range(len(dirlist)):\n",
    "    os.chdir(dirlist[i])\n",
    "    for root, dirs, files in os.walk(\".\"):\n",
    "        for filename in files:\n",
    "            # try:\n",
    "            formSheetDict[filename]=find1045_xlsx(filename)\n",
    "    #         except:\n",
    "    #             print(f\"{filename} is the wrong data type: skipping\")\n",
    "    # os.chdir(chargemaster)\n"
   ]
  },
  {
   "cell_type": "code",
   "execution_count": 24,
   "metadata": {},
   "outputs": [],
   "source": [
    "os.chdir(\"data\")"
   ]
  },
  {
   "cell_type": "code",
   "execution_count": 24,
   "metadata": {},
   "outputs": [
    {
     "output_type": "error",
     "ename": "TypeError",
     "evalue": "expected str, bytes or os.PathLike object, not Worksheet",
     "traceback": [
      "\u001b[0;31m---------------------------------------------------------------------------\u001b[0m",
      "\u001b[0;31mTypeError\u001b[0m                                 Traceback (most recent call last)",
      "\u001b[0;32m<ipython-input-24-d03ae25797de>\u001b[0m in \u001b[0;36m<module>\u001b[0;34m\u001b[0m\n\u001b[1;32m      9\u001b[0m             \u001b[0;31m# try:\u001b[0m\u001b[0;34m\u001b[0m\u001b[0;34m\u001b[0m\u001b[0;34m\u001b[0m\u001b[0m\n\u001b[1;32m     10\u001b[0m             \u001b[0msheet\u001b[0m\u001b[0;34m=\u001b[0m\u001b[0mfind1045_xlsx\u001b[0m\u001b[0;34m(\u001b[0m\u001b[0mfilename\u001b[0m\u001b[0;34m)\u001b[0m\u001b[0;34m\u001b[0m\u001b[0;34m\u001b[0m\u001b[0m\n\u001b[0;32m---> 11\u001b[0;31m             \u001b[0mmasterdf\u001b[0m\u001b[0;34m=\u001b[0m\u001b[0mget1045dataframes\u001b[0m\u001b[0;34m(\u001b[0m\u001b[0msheet\u001b[0m\u001b[0;34m)\u001b[0m\u001b[0;34m\u001b[0m\u001b[0;34m\u001b[0m\u001b[0m\n\u001b[0m\u001b[1;32m     12\u001b[0m             \u001b[0multradf\u001b[0m\u001b[0;34m.\u001b[0m\u001b[0mappend\u001b[0m\u001b[0;34m(\u001b[0m\u001b[0mmasterdf\u001b[0m\u001b[0;34m)\u001b[0m\u001b[0;34m\u001b[0m\u001b[0;34m\u001b[0m\u001b[0m\n\u001b[1;32m     13\u001b[0m             \u001b[0mprint\u001b[0m\u001b[0;34m(\u001b[0m\u001b[0mdirlist\u001b[0m\u001b[0;34m[\u001b[0m\u001b[0mi\u001b[0m\u001b[0;34m]\u001b[0m\u001b[0;34m)\u001b[0m\u001b[0;34m\u001b[0m\u001b[0;34m\u001b[0m\u001b[0m\n",
      "\u001b[0;32m<ipython-input-20-301e138c75b2>\u001b[0m in \u001b[0;36mget1045dataframes\u001b[0;34m(xlsx_file)\u001b[0m\n\u001b[1;32m      1\u001b[0m \u001b[0;31m#Get all the data, put it in a dataframe list, then convert all dataframes from a single sheet into plaintext, returning the final list\u001b[0m\u001b[0;34m\u001b[0m\u001b[0;34m\u001b[0m\u001b[0;34m\u001b[0m\u001b[0m\n\u001b[1;32m      2\u001b[0m \u001b[0;32mdef\u001b[0m \u001b[0mget1045dataframes\u001b[0m\u001b[0;34m(\u001b[0m\u001b[0mxlsx_file\u001b[0m\u001b[0;34m)\u001b[0m\u001b[0;34m:\u001b[0m\u001b[0;34m\u001b[0m\u001b[0;34m\u001b[0m\u001b[0m\n\u001b[0;32m----> 3\u001b[0;31m     \u001b[0msheet\u001b[0m\u001b[0;34m=\u001b[0m\u001b[0mfind1045_xlsx\u001b[0m\u001b[0;34m(\u001b[0m\u001b[0mxlsx_file\u001b[0m\u001b[0;34m)\u001b[0m\u001b[0;34m\u001b[0m\u001b[0;34m\u001b[0m\u001b[0m\n\u001b[0m\u001b[1;32m      4\u001b[0m     \u001b[0mmasterlist\u001b[0m\u001b[0;34m=\u001b[0m\u001b[0;34m[\u001b[0m\u001b[0;34m]\u001b[0m\u001b[0;34m\u001b[0m\u001b[0;34m\u001b[0m\u001b[0m\n\u001b[1;32m      5\u001b[0m     \u001b[0mmasterdf\u001b[0m\u001b[0;34m=\u001b[0m\u001b[0mpd\u001b[0m\u001b[0;34m.\u001b[0m\u001b[0mDataFrame\u001b[0m\u001b[0;34m(\u001b[0m\u001b[0;34m)\u001b[0m\u001b[0;34m\u001b[0m\u001b[0;34m\u001b[0m\u001b[0m\n",
      "\u001b[0;32m<ipython-input-3-44b767cf81a9>\u001b[0m in \u001b[0;36mfind1045_xlsx\u001b[0;34m(filepath)\u001b[0m\n\u001b[1;32m      3\u001b[0m \u001b[0;32mdef\u001b[0m \u001b[0mfind1045_xlsx\u001b[0m\u001b[0;34m(\u001b[0m\u001b[0mfilepath\u001b[0m\u001b[0;34m)\u001b[0m\u001b[0;34m:\u001b[0m\u001b[0;34m\u001b[0m\u001b[0;34m\u001b[0m\u001b[0m\n\u001b[1;32m      4\u001b[0m     \u001b[0;31m#read file\u001b[0m\u001b[0;34m\u001b[0m\u001b[0;34m\u001b[0m\u001b[0;34m\u001b[0m\u001b[0m\n\u001b[0;32m----> 5\u001b[0;31m     \u001b[0mxlsx_file\u001b[0m \u001b[0;34m=\u001b[0m \u001b[0mPath\u001b[0m\u001b[0;34m(\u001b[0m\u001b[0mfilepath\u001b[0m\u001b[0;34m)\u001b[0m\u001b[0;34m\u001b[0m\u001b[0;34m\u001b[0m\u001b[0m\n\u001b[0m\u001b[1;32m      6\u001b[0m     \u001b[0mwb_obj\u001b[0m \u001b[0;34m=\u001b[0m \u001b[0mopenpyxl\u001b[0m\u001b[0;34m.\u001b[0m\u001b[0mload_workbook\u001b[0m\u001b[0;34m(\u001b[0m\u001b[0mxlsx_file\u001b[0m\u001b[0;34m)\u001b[0m\u001b[0;34m\u001b[0m\u001b[0;34m\u001b[0m\u001b[0m\n\u001b[1;32m      7\u001b[0m \u001b[0;34m\u001b[0m\u001b[0m\n",
      "\u001b[0;32m~/anaconda3/envs/DataViz/lib/python3.8/pathlib.py\u001b[0m in \u001b[0;36m__new__\u001b[0;34m(cls, *args, **kwargs)\u001b[0m\n\u001b[1;32m   1036\u001b[0m         \u001b[0;32mif\u001b[0m \u001b[0mcls\u001b[0m \u001b[0;32mis\u001b[0m \u001b[0mPath\u001b[0m\u001b[0;34m:\u001b[0m\u001b[0;34m\u001b[0m\u001b[0;34m\u001b[0m\u001b[0m\n\u001b[1;32m   1037\u001b[0m             \u001b[0mcls\u001b[0m \u001b[0;34m=\u001b[0m \u001b[0mWindowsPath\u001b[0m \u001b[0;32mif\u001b[0m \u001b[0mos\u001b[0m\u001b[0;34m.\u001b[0m\u001b[0mname\u001b[0m \u001b[0;34m==\u001b[0m \u001b[0;34m'nt'\u001b[0m \u001b[0;32melse\u001b[0m \u001b[0mPosixPath\u001b[0m\u001b[0;34m\u001b[0m\u001b[0;34m\u001b[0m\u001b[0m\n\u001b[0;32m-> 1038\u001b[0;31m         \u001b[0mself\u001b[0m \u001b[0;34m=\u001b[0m \u001b[0mcls\u001b[0m\u001b[0;34m.\u001b[0m\u001b[0m_from_parts\u001b[0m\u001b[0;34m(\u001b[0m\u001b[0margs\u001b[0m\u001b[0;34m,\u001b[0m \u001b[0minit\u001b[0m\u001b[0;34m=\u001b[0m\u001b[0;32mFalse\u001b[0m\u001b[0;34m)\u001b[0m\u001b[0;34m\u001b[0m\u001b[0;34m\u001b[0m\u001b[0m\n\u001b[0m\u001b[1;32m   1039\u001b[0m         \u001b[0;32mif\u001b[0m \u001b[0;32mnot\u001b[0m \u001b[0mself\u001b[0m\u001b[0;34m.\u001b[0m\u001b[0m_flavour\u001b[0m\u001b[0;34m.\u001b[0m\u001b[0mis_supported\u001b[0m\u001b[0;34m:\u001b[0m\u001b[0;34m\u001b[0m\u001b[0;34m\u001b[0m\u001b[0m\n\u001b[1;32m   1040\u001b[0m             raise NotImplementedError(\"cannot instantiate %r on your system\"\n",
      "\u001b[0;32m~/anaconda3/envs/DataViz/lib/python3.8/pathlib.py\u001b[0m in \u001b[0;36m_from_parts\u001b[0;34m(cls, args, init)\u001b[0m\n\u001b[1;32m    677\u001b[0m         \u001b[0;31m# right flavour.\u001b[0m\u001b[0;34m\u001b[0m\u001b[0;34m\u001b[0m\u001b[0;34m\u001b[0m\u001b[0m\n\u001b[1;32m    678\u001b[0m         \u001b[0mself\u001b[0m \u001b[0;34m=\u001b[0m \u001b[0mobject\u001b[0m\u001b[0;34m.\u001b[0m\u001b[0m__new__\u001b[0m\u001b[0;34m(\u001b[0m\u001b[0mcls\u001b[0m\u001b[0;34m)\u001b[0m\u001b[0;34m\u001b[0m\u001b[0;34m\u001b[0m\u001b[0m\n\u001b[0;32m--> 679\u001b[0;31m         \u001b[0mdrv\u001b[0m\u001b[0;34m,\u001b[0m \u001b[0mroot\u001b[0m\u001b[0;34m,\u001b[0m \u001b[0mparts\u001b[0m \u001b[0;34m=\u001b[0m \u001b[0mself\u001b[0m\u001b[0;34m.\u001b[0m\u001b[0m_parse_args\u001b[0m\u001b[0;34m(\u001b[0m\u001b[0margs\u001b[0m\u001b[0;34m)\u001b[0m\u001b[0;34m\u001b[0m\u001b[0;34m\u001b[0m\u001b[0m\n\u001b[0m\u001b[1;32m    680\u001b[0m         \u001b[0mself\u001b[0m\u001b[0;34m.\u001b[0m\u001b[0m_drv\u001b[0m \u001b[0;34m=\u001b[0m \u001b[0mdrv\u001b[0m\u001b[0;34m\u001b[0m\u001b[0;34m\u001b[0m\u001b[0m\n\u001b[1;32m    681\u001b[0m         \u001b[0mself\u001b[0m\u001b[0;34m.\u001b[0m\u001b[0m_root\u001b[0m \u001b[0;34m=\u001b[0m \u001b[0mroot\u001b[0m\u001b[0;34m\u001b[0m\u001b[0;34m\u001b[0m\u001b[0m\n",
      "\u001b[0;32m~/anaconda3/envs/DataViz/lib/python3.8/pathlib.py\u001b[0m in \u001b[0;36m_parse_args\u001b[0;34m(cls, args)\u001b[0m\n\u001b[1;32m    661\u001b[0m                 \u001b[0mparts\u001b[0m \u001b[0;34m+=\u001b[0m \u001b[0ma\u001b[0m\u001b[0;34m.\u001b[0m\u001b[0m_parts\u001b[0m\u001b[0;34m\u001b[0m\u001b[0;34m\u001b[0m\u001b[0m\n\u001b[1;32m    662\u001b[0m             \u001b[0;32melse\u001b[0m\u001b[0;34m:\u001b[0m\u001b[0;34m\u001b[0m\u001b[0;34m\u001b[0m\u001b[0m\n\u001b[0;32m--> 663\u001b[0;31m                 \u001b[0ma\u001b[0m \u001b[0;34m=\u001b[0m \u001b[0mos\u001b[0m\u001b[0;34m.\u001b[0m\u001b[0mfspath\u001b[0m\u001b[0;34m(\u001b[0m\u001b[0ma\u001b[0m\u001b[0;34m)\u001b[0m\u001b[0;34m\u001b[0m\u001b[0;34m\u001b[0m\u001b[0m\n\u001b[0m\u001b[1;32m    664\u001b[0m                 \u001b[0;32mif\u001b[0m \u001b[0misinstance\u001b[0m\u001b[0;34m(\u001b[0m\u001b[0ma\u001b[0m\u001b[0;34m,\u001b[0m \u001b[0mstr\u001b[0m\u001b[0;34m)\u001b[0m\u001b[0;34m:\u001b[0m\u001b[0;34m\u001b[0m\u001b[0;34m\u001b[0m\u001b[0m\n\u001b[1;32m    665\u001b[0m                     \u001b[0;31m# Force-cast str subclasses to str (issue #21127)\u001b[0m\u001b[0;34m\u001b[0m\u001b[0;34m\u001b[0m\u001b[0;34m\u001b[0m\u001b[0m\n",
      "\u001b[0;31mTypeError\u001b[0m: expected str, bytes or os.PathLike object, not Worksheet"
     ]
    }
   ],
   "source": [
    "#The big final block of code that will probably crash your computer\n",
    "ultradf=pd.DataFrame()\n",
    "#get the names of all files from each directory, then test if each file has a 1045 in it.\n",
    "dirlist = list(os. listdir())\n",
    "for i in range(len(dirlist)):\n",
    "    os.chdir(dirlist[i])\n",
    "    for root, dirs, files in os.walk(\".\"):\n",
    "        for filename in files:\n",
    "            # try:\n",
    "            sheet=find1045_xlsx(filename)\n",
    "            masterdf=get1045dataframes(sheet)\n",
    "            ultradf.append(masterdf)\n",
    "            print(dirlist[i])\n",
    "    #         except:\n",
    "    #             print(f\"{filename} is the wrong data type: skipping\")\n",
    "    # os.chdir(chargemaster)\n"
   ]
  },
  {
   "cell_type": "code",
   "execution_count": 14,
   "metadata": {},
   "outputs": [],
   "source": [
    "new=masterlist[0].append(masterlist[1])"
   ]
  },
  {
   "cell_type": "code",
   "execution_count": 15,
   "metadata": {},
   "outputs": [
    {
     "output_type": "execute_result",
     "data": {
      "text/plain": [
       "0                                             Service 2019 CPT Code  \\\n",
       "1   Emergency Room Visit, Level 2 (low to moderate...         99282   \n",
       "2   Emergency Room Visit, Level 3 (moderate severity)         99283   \n",
       "3       Emergency Room Visit, Level 4 (high severity)         99284   \n",
       "4   Outpatient Visit, established patient, 15 minutes         99213   \n",
       "1                               Basic Metabolic Panel         80048   \n",
       "2         Blood Gas Analysis, including 02 saturation         82805   \n",
       "3                     Complete Blood Count, automated         85027   \n",
       "4   Complete Blood Count, with differential WBC, a...         85025   \n",
       "5                       Comprehensive Metabolic Panel         80053   \n",
       "6                  Creatine Kinase (CK), (CPK), Total         82550   \n",
       "7                                         Lipid Panel         80061   \n",
       "8                         Partial Thromboplastin Time         85730   \n",
       "9                                    Prothrombin Time         85610   \n",
       "10                        Thyroid Stimulating Hormone         84443   \n",
       "11                             Troponin, Quantitative         84484   \n",
       "12                     Urinalysis, without microscopy         81002   \n",
       "13                        Urinalysis, with microscopy         81001   \n",
       "\n",
       "0  Average Charge                                       Service Type  \\\n",
       "1          746.55  Evaluation & Management Services (CPT Codes 99...   \n",
       "2         1051.05  Evaluation & Management Services (CPT Codes 99...   \n",
       "3          1581.3  Evaluation & Management Services (CPT Codes 99...   \n",
       "4            None  Evaluation & Management Services (CPT Codes 99...   \n",
       "1           310.9  Laboratory & Pathology Services (CPT Codes 800...   \n",
       "2           179.7  Laboratory & Pathology Services (CPT Codes 800...   \n",
       "3           166.5  Laboratory & Pathology Services (CPT Codes 800...   \n",
       "4          162.05  Laboratory & Pathology Services (CPT Codes 800...   \n",
       "5           390.3  Laboratory & Pathology Services (CPT Codes 800...   \n",
       "6           179.7  Laboratory & Pathology Services (CPT Codes 800...   \n",
       "7          363.85  Laboratory & Pathology Services (CPT Codes 800...   \n",
       "8           229.3  Laboratory & Pathology Services (CPT Codes 800...   \n",
       "9           168.7  Laboratory & Pathology Services (CPT Codes 800...   \n",
       "10          230.4  Laboratory & Pathology Services (CPT Codes 800...   \n",
       "11          263.5  Laboratory & Pathology Services (CPT Codes 800...   \n",
       "12             54  Laboratory & Pathology Services (CPT Codes 800...   \n",
       "13         113.55  Laboratory & Pathology Services (CPT Codes 800...   \n",
       "\n",
       "0             Hospital  \n",
       "1    Alvarado Hospital  \n",
       "2    Alvarado Hospital  \n",
       "3    Alvarado Hospital  \n",
       "4    Alvarado Hospital  \n",
       "1    Alvarado Hospital  \n",
       "2    Alvarado Hospital  \n",
       "3    Alvarado Hospital  \n",
       "4    Alvarado Hospital  \n",
       "5    Alvarado Hospital  \n",
       "6    Alvarado Hospital  \n",
       "7    Alvarado Hospital  \n",
       "8    Alvarado Hospital  \n",
       "9    Alvarado Hospital  \n",
       "10   Alvarado Hospital  \n",
       "11   Alvarado Hospital  \n",
       "12   Alvarado Hospital  \n",
       "13   Alvarado Hospital  "
      ],
      "text/html": "<div>\n<style scoped>\n    .dataframe tbody tr th:only-of-type {\n        vertical-align: middle;\n    }\n\n    .dataframe tbody tr th {\n        vertical-align: top;\n    }\n\n    .dataframe thead th {\n        text-align: right;\n    }\n</style>\n<table border=\"1\" class=\"dataframe\">\n  <thead>\n    <tr style=\"text-align: right;\">\n      <th></th>\n      <th>Service</th>\n      <th>2019 CPT Code</th>\n      <th>Average Charge</th>\n      <th>Service Type</th>\n      <th>Hospital</th>\n    </tr>\n  </thead>\n  <tbody>\n    <tr>\n      <th>1</th>\n      <td>Emergency Room Visit, Level 2 (low to moderate...</td>\n      <td>99282</td>\n      <td>746.55</td>\n      <td>Evaluation &amp; Management Services (CPT Codes 99...</td>\n      <td>Alvarado Hospital</td>\n    </tr>\n    <tr>\n      <th>2</th>\n      <td>Emergency Room Visit, Level 3 (moderate severity)</td>\n      <td>99283</td>\n      <td>1051.05</td>\n      <td>Evaluation &amp; Management Services (CPT Codes 99...</td>\n      <td>Alvarado Hospital</td>\n    </tr>\n    <tr>\n      <th>3</th>\n      <td>Emergency Room Visit, Level 4 (high severity)</td>\n      <td>99284</td>\n      <td>1581.3</td>\n      <td>Evaluation &amp; Management Services (CPT Codes 99...</td>\n      <td>Alvarado Hospital</td>\n    </tr>\n    <tr>\n      <th>4</th>\n      <td>Outpatient Visit, established patient, 15 minutes</td>\n      <td>99213</td>\n      <td>None</td>\n      <td>Evaluation &amp; Management Services (CPT Codes 99...</td>\n      <td>Alvarado Hospital</td>\n    </tr>\n    <tr>\n      <th>1</th>\n      <td>Basic Metabolic Panel</td>\n      <td>80048</td>\n      <td>310.9</td>\n      <td>Laboratory &amp; Pathology Services (CPT Codes 800...</td>\n      <td>Alvarado Hospital</td>\n    </tr>\n    <tr>\n      <th>2</th>\n      <td>Blood Gas Analysis, including 02 saturation</td>\n      <td>82805</td>\n      <td>179.7</td>\n      <td>Laboratory &amp; Pathology Services (CPT Codes 800...</td>\n      <td>Alvarado Hospital</td>\n    </tr>\n    <tr>\n      <th>3</th>\n      <td>Complete Blood Count, automated</td>\n      <td>85027</td>\n      <td>166.5</td>\n      <td>Laboratory &amp; Pathology Services (CPT Codes 800...</td>\n      <td>Alvarado Hospital</td>\n    </tr>\n    <tr>\n      <th>4</th>\n      <td>Complete Blood Count, with differential WBC, a...</td>\n      <td>85025</td>\n      <td>162.05</td>\n      <td>Laboratory &amp; Pathology Services (CPT Codes 800...</td>\n      <td>Alvarado Hospital</td>\n    </tr>\n    <tr>\n      <th>5</th>\n      <td>Comprehensive Metabolic Panel</td>\n      <td>80053</td>\n      <td>390.3</td>\n      <td>Laboratory &amp; Pathology Services (CPT Codes 800...</td>\n      <td>Alvarado Hospital</td>\n    </tr>\n    <tr>\n      <th>6</th>\n      <td>Creatine Kinase (CK), (CPK), Total</td>\n      <td>82550</td>\n      <td>179.7</td>\n      <td>Laboratory &amp; Pathology Services (CPT Codes 800...</td>\n      <td>Alvarado Hospital</td>\n    </tr>\n    <tr>\n      <th>7</th>\n      <td>Lipid Panel</td>\n      <td>80061</td>\n      <td>363.85</td>\n      <td>Laboratory &amp; Pathology Services (CPT Codes 800...</td>\n      <td>Alvarado Hospital</td>\n    </tr>\n    <tr>\n      <th>8</th>\n      <td>Partial Thromboplastin Time</td>\n      <td>85730</td>\n      <td>229.3</td>\n      <td>Laboratory &amp; Pathology Services (CPT Codes 800...</td>\n      <td>Alvarado Hospital</td>\n    </tr>\n    <tr>\n      <th>9</th>\n      <td>Prothrombin Time</td>\n      <td>85610</td>\n      <td>168.7</td>\n      <td>Laboratory &amp; Pathology Services (CPT Codes 800...</td>\n      <td>Alvarado Hospital</td>\n    </tr>\n    <tr>\n      <th>10</th>\n      <td>Thyroid Stimulating Hormone</td>\n      <td>84443</td>\n      <td>230.4</td>\n      <td>Laboratory &amp; Pathology Services (CPT Codes 800...</td>\n      <td>Alvarado Hospital</td>\n    </tr>\n    <tr>\n      <th>11</th>\n      <td>Troponin, Quantitative</td>\n      <td>84484</td>\n      <td>263.5</td>\n      <td>Laboratory &amp; Pathology Services (CPT Codes 800...</td>\n      <td>Alvarado Hospital</td>\n    </tr>\n    <tr>\n      <th>12</th>\n      <td>Urinalysis, without microscopy</td>\n      <td>81002</td>\n      <td>54</td>\n      <td>Laboratory &amp; Pathology Services (CPT Codes 800...</td>\n      <td>Alvarado Hospital</td>\n    </tr>\n    <tr>\n      <th>13</th>\n      <td>Urinalysis, with microscopy</td>\n      <td>81001</td>\n      <td>113.55</td>\n      <td>Laboratory &amp; Pathology Services (CPT Codes 800...</td>\n      <td>Alvarado Hospital</td>\n    </tr>\n  </tbody>\n</table>\n</div>"
     },
     "metadata": {},
     "execution_count": 15
    }
   ],
   "source": [
    "new.h"
   ]
  },
  {
   "cell_type": "code",
   "execution_count": null,
   "metadata": {},
   "outputs": [],
   "source": [
    "filename[-5:]"
   ]
  },
  {
   "cell_type": "code",
   "execution_count": null,
   "metadata": {},
   "outputs": [],
   "source": [
    "os.chdir(\"data\")"
   ]
  },
  {
   "cell_type": "code",
   "execution_count": null,
   "metadata": {},
   "outputs": [],
   "source": [
    "os.getcwd()"
   ]
  },
  {
   "cell_type": "code",
   "execution_count": null,
   "metadata": {},
   "outputs": [],
   "source": [
    "os.chdir(\"..\")"
   ]
  },
  {
   "cell_type": "code",
   "execution_count": null,
   "metadata": {},
   "outputs": [],
   "source": [
    "os.chdir(\"2020_CDM_chargemaster\")"
   ]
  },
  {
   "cell_type": "code",
   "execution_count": null,
   "metadata": {},
   "outputs": [],
   "source": [
    "\n",
    "    ##Getting the 1045 data\n",
    "xls_file = Path(\"/home/ygael/Projects/healthcare/data/2020_CDM_chargemaster/Emanate Health Foothill Presbyterian Hospital/106190298_Common25_2020.xls\")"
   ]
  },
  {
   "cell_type": "code",
   "execution_count": null,
   "metadata": {},
   "outputs": [],
   "source": [
    "book = xlrd.open_workbook(xls_file)"
   ]
  },
  {
   "cell_type": "code",
   "execution_count": null,
   "metadata": {},
   "outputs": [],
   "source": [
    "book = xlrd.open_workbook(xls_file)\n",
    "\n",
    "print(\"The number of worksheets is {0}\".format(book.nsheets))\n",
    "print(\"Worksheet name(s): {0}\".format(book.sheet_names()))\n",
    "sh = book.sheet_by_index(0)\n",
    "print(\"{0} {1} {2}\".format(sh.name, sh.nrows, sh.ncols))\n",
    "print(\"Cell D30 is {0}\".format(sh.cell_value(rowx=29, colx=3)))\n",
    "for rx in range(sh.nrows):\n",
    "    print(sh.row(rx))"
   ]
  },
  {
   "cell_type": "code",
   "execution_count": 11,
   "metadata": {},
   "outputs": [],
   "source": [
    "#Function to extract 1045 sheet from xls file (not name, whole sheet)\n",
    "\n",
    "def find1045_xls(filepath):\n",
    "    #read file\n",
    "    xls_file = Path(filepath)\n",
    "    book = xlrd.open_workbook(xls_file)\n",
    "\n",
    "    #get sheet names\n",
    "    sheetnames=(\"{0}\".format(book.sheet_names()))\n",
    "    sheetnames= ast.literal_eval(sheetnames)\n",
    "\n",
    "\n",
    "#Create a keywords list to identify ABS 1045 forms\n",
    "    keywords= [\"common\", \"procedures\", \"1045\", \"form\"]\n",
    "\n",
    "#Search for the sheet by keyword\n",
    "    for name in sheetnames:\n",
    "        wholename=name.lower()\n",
    "        wordsInName=wholename.split()\n",
    "        match =  any(item in wordsInName for item in keywords)\n",
    "        if match==True:\n",
    "            cur_sheet = book.sheet_by_name(name)\n",
    "            return(cur_sheet)\n",
    "            break\n"
   ]
  },
  {
   "cell_type": "code",
   "execution_count": null,
   "metadata": {},
   "outputs": [],
   "source": [
    "x2x = XLS2XLSX(xls_file)\n"
   ]
  },
  {
   "cell_type": "code",
   "execution_count": null,
   "metadata": {},
   "outputs": [],
   "source": [
    "from xls2xlsx import XLS2XLSX\n",
    "x2x = XLS2XLSX(xls_file)\n",
    "wb = x2x.to_xlsx()"
   ]
  },
  {
   "cell_type": "code",
   "execution_count": null,
   "metadata": {},
   "outputs": [],
   "source": [
    "884\n",
    "\n",
    ">>> import ast\n",
    ">>> x = '[ \"A\",\"B\",\"C\" , \" D\"]'\n",
    ">>> x = ast.literal_eval(x)\n",
    ">>> x\n",
    "['A', 'B', 'C', ' D']\n",
    ">>> x = [n.strip() for n in x]\n",
    ">>> x\n",
    "['A', 'B', 'C', 'D']"
   ]
  },
  {
   "cell_type": "code",
   "execution_count": null,
   "metadata": {},
   "outputs": [],
   "source": [
    "\n",
    "import xlrd\n",
    "from openpyxl.workbook import Workbook as openpyxlWorkbook\n",
    "\n",
    "# content is a string containing the file. For example the result of an http.request(url).\n",
    "# You can also use a filepath by calling \"xlrd.open_workbook(filepath)\".\n",
    "\n",
    "xlsBook = xlrd.open_workbook(file_contents=content)\n",
    "workbook = openpyxlWorkbook()\n",
    "\n",
    "for i in xrange(0, xlsBook.nsheets):\n",
    "    xlsSheet = xlsBook.sheet_by_index(i)\n",
    "    sheet = workbook.active if i == 0 else workbook.create_sheet()\n",
    "    sheet.title = xlsSheet.name\n",
    "\n",
    "    for row in xrange(0, xlsSheet.nrows):\n",
    "        for col in xrange(0, xlsSheet.ncols):\n",
    "            sheet.cell(row=row + 1, column=col + 1).value = xlsSheet.cell_value(row, col)\n",
    "\n",
    "# The new xlsx file is in \"workbook\", without iterators (iter_rows).\n",
    "# For iteration, use \"for row in worksheet.rows:\".\n",
    "# For range iteration, use \"for row in worksheet.range(\"{}:{}\".format(startCell, endCell)):\"."
   ]
  },
  {
   "cell_type": "code",
   "execution_count": null,
   "metadata": {},
   "outputs": [],
   "source": [
    "#Iterate through files and convert all xls files to xlsx, removing the original file\n",
    "def convert(filename):\n",
    "    p.save_book_as(file_name=f\"{filename}\",\n",
    "                dest_file_name=f\"{filename[:-4]}.xlsx\" )"
   ]
  },
  {
   "cell_type": "code",
   "execution_count": null,
   "metadata": {},
   "outputs": [],
   "source": [
    "import pyexcel as p\n",
    "data=p.get_records(file_name=xls_file)\n",
    "p.save_as(array=data, dest_file_name=\"example.xls\")"
   ]
  },
  {
   "cell_type": "code",
   "execution_count": null,
   "metadata": {},
   "outputs": [],
   "source": [
    "os.getcwd()"
   ]
  },
  {
   "cell_type": "code",
   "execution_count": 63,
   "metadata": {},
   "outputs": [],
   "source": [
    "def cleanse_func(v):\n",
    "     v = v.replace(\"&nbsp;\", \"\")\n",
    "     v = v.rstrip().strip()\n",
    "     return v\n"
   ]
  },
  {
   "cell_type": "code",
   "execution_count": 60,
   "metadata": {},
   "outputs": [],
   "source": [
    "from pyexcel_xls import get_data\n",
    "data = get_data(xls_file)\n"
   ]
  },
  {
   "cell_type": "code",
   "execution_count": 54,
   "metadata": {},
   "outputs": [],
   "source": [
    "cwd=os.getcwd()"
   ]
  },
  {
   "cell_type": "code",
   "execution_count": 9,
   "metadata": {},
   "outputs": [
    {
     "output_type": "execute_result",
     "data": {
      "text/plain": [
       "'/home/ygael/Projects/healthcare/code'"
      ]
     },
     "metadata": {},
     "execution_count": 9
    }
   ],
   "source": [
    "os.getcwd()"
   ]
  },
  {
   "cell_type": "code",
   "execution_count": 10,
   "metadata": {},
   "outputs": [],
   "source": [
    "os.chdir(\"..\")"
   ]
  },
  {
   "cell_type": "code",
   "execution_count": 53,
   "metadata": {},
   "outputs": [
    {
     "output_type": "execute_result",
     "data": {
      "text/plain": [
       "'/home/ygael/Projects/healthcare/data/2020_CDM_chargemaster'"
      ]
     },
     "metadata": {},
     "execution_count": 53
    }
   ],
   "source": [
    "cwd"
   ]
  },
  {
   "cell_type": "code",
   "execution_count": 11,
   "metadata": {},
   "outputs": [],
   "source": [
    "os.chdir(\"data\")"
   ]
  },
  {
   "cell_type": "code",
   "execution_count": 12,
   "metadata": {},
   "outputs": [],
   "source": [
    "os.chdir(\"2020_CDM_chargemaster\")"
   ]
  },
  {
   "cell_type": "code",
   "execution_count": null,
   "metadata": {},
   "outputs": [],
   "source": [
    "#A function to convert all files in subfolders starting from the absolute filepath of the year's chargemaster folder\n",
    "\n",
    "def convertfrom(directory):\n",
    "    #Use absolute path to move to the directory containing all hospital folders\n",
    "    os.chdir(directory)\n",
    "    #save current working directory to a variable\n",
    "    cwd=os.getcwd()\n",
    "    #Convert all files to xlsx format\n",
    "    dirlist = list(os. listdir())\n",
    "    for i in range(len(dirlist)):\n",
    "        os.chdir(dirlist[i])\n",
    "        for root, dirs, files in os.walk(\".\"):\n",
    "            for filename in files:\n",
    "                if filename[-3:]==\"xls\":\n",
    "                    try:\n",
    "                        convert(filename)\n",
    "                        os.remove(filename)\n",
    "                    except:\n",
    "                        print(filename)\n",
    "                else:\n",
    "                    continue\n",
    "        os.chdir(\"..\")\n",
    "    os.chdir(cwd)"
   ]
  },
  {
   "cell_type": "code",
   "execution_count": 21,
   "metadata": {},
   "outputs": [
    {
     "output_type": "stream",
     "name": "stdout",
     "text": [
      "106364188_CDM_2020.xls\n106364188_CDM_2020-Cloud.xls\n106332172_CDM_2020.xls\n106332172_CDM_2020-Cloud.xls\n106201281_PCT_CHG_2020.xls\n"
     ]
    }
   ],
   "source": [
    "convertfrom(\"/home/ygael/Projects/healthcare/data/2020_CDM_chargemaster\")"
   ]
  },
  {
   "source": [
    "data=pd.read_excel(xls_file)\n",
    "data = data.applymap(lambda x: x.encode('unicode_escape').\n",
    "                 decode('utf-8') if isinstance(x, str) else x)\n",
    "data.to_excel"
   ],
   "cell_type": "markdown",
   "metadata": {}
  },
  {
   "cell_type": "code",
   "execution_count": 16,
   "metadata": {},
   "outputs": [],
   "source": [
    "book = xlrd.open_workbook(xls_file)\n",
    "\n",
    "\n",
    "#character = table.Cell(Row = 1, Column = 1).Range.Text\n",
    "#character = removeSpecialCharacters(character)"
   ]
  },
  {
   "cell_type": "code",
   "execution_count": 11,
   "metadata": {},
   "outputs": [],
   "source": [
    "os.chdir(\"../data/sqlite\")"
   ]
  },
  {
   "cell_type": "code",
   "execution_count": 12,
   "metadata": {},
   "outputs": [],
   "source": [
    "from sqlalchemy import create_engine"
   ]
  },
  {
   "cell_type": "code",
   "execution_count": 14,
   "metadata": {},
   "outputs": [
    {
     "output_type": "stream",
     "name": "stdout",
     "text": [
      "2021-05-27 14:20:16,448 INFO sqlalchemy.engine.base.Engine SELECT CAST('test plain returns' AS VARCHAR(60)) AS anon_1\n",
      "2021-05-27 14:20:16,449 INFO sqlalchemy.engine.base.Engine ()\n",
      "2021-05-27 14:20:16,450 INFO sqlalchemy.engine.base.Engine SELECT CAST('test unicode returns' AS VARCHAR(60)) AS anon_1\n",
      "2021-05-27 14:20:16,452 INFO sqlalchemy.engine.base.Engine ()\n"
     ]
    }
   ],
   "source": [
    "engine = create_engine('sqlite:///hospitaldata.db', echo=True)\n",
    "sqlite_connection = engine.connect()"
   ]
  },
  {
   "cell_type": "code",
   "execution_count": null,
   "metadata": {},
   "outputs": [],
   "source": [
    "tesdata=masterlist[0]"
   ]
  },
  {
   "cell_type": "code",
   "execution_count": 28,
   "metadata": {},
   "outputs": [
    {
     "output_type": "stream",
     "name": "stdout",
     "text": [
      "2021-05-26 15:45:29,099 INFO sqlalchemy.engine.base.Engine PRAGMA main.table_info(\"masterlist0\")\n",
      "2021-05-26 15:45:29,101 INFO sqlalchemy.engine.base.Engine ()\n",
      "2021-05-26 15:45:29,104 INFO sqlalchemy.engine.base.Engine PRAGMA temp.table_info(\"masterlist0\")\n",
      "2021-05-26 15:45:29,105 INFO sqlalchemy.engine.base.Engine ()\n",
      "2021-05-26 15:45:29,112 INFO sqlalchemy.engine.base.Engine \n",
      "CREATE TABLE masterlist0 (\n",
      "\t\"index\" BIGINT, \n",
      "\t\"Service\" TEXT, \n",
      "\t\"2019 CPT Code\" BIGINT, \n",
      "\t\"Average Charge\" FLOAT, \n",
      "\t\"Service Type\" TEXT, \n",
      "\t\"Hospital\" TEXT\n",
      ")\n",
      "\n",
      "\n",
      "2021-05-26 15:45:29,113 INFO sqlalchemy.engine.base.Engine ()\n",
      "2021-05-26 15:45:29,123 INFO sqlalchemy.engine.base.Engine COMMIT\n",
      "2021-05-26 15:45:29,124 INFO sqlalchemy.engine.base.Engine CREATE INDEX ix_masterlist0_index ON masterlist0 (\"index\")\n",
      "2021-05-26 15:45:29,125 INFO sqlalchemy.engine.base.Engine ()\n",
      "2021-05-26 15:45:29,136 INFO sqlalchemy.engine.base.Engine COMMIT\n",
      "2021-05-26 15:45:29,142 INFO sqlalchemy.engine.base.Engine BEGIN (implicit)\n",
      "2021-05-26 15:45:29,145 INFO sqlalchemy.engine.base.Engine INSERT INTO masterlist0 (\"index\", \"Service\", \"2019 CPT Code\", \"Average Charge\", \"Service Type\", \"Hospital\") VALUES (?, ?, ?, ?, ?, ?)\n",
      "2021-05-26 15:45:29,147 INFO sqlalchemy.engine.base.Engine ((1, 'Emergency Room Visit, Level 2 (low to moderate severity)', 99282, 746.55, 'Evaluation & Management Services (CPT Codes 99201-99499)', ' Alvarado Hospital'), (2, 'Emergency Room Visit, Level 3 (moderate severity)', 99283, 1051.05, 'Evaluation & Management Services (CPT Codes 99201-99499)', ' Alvarado Hospital'), (3, 'Emergency Room Visit, Level 4 (high severity)', 99284, 1581.3, 'Evaluation & Management Services (CPT Codes 99201-99499)', ' Alvarado Hospital'), (4, 'Outpatient Visit, established patient, 15 minutes', 99213, None, 'Evaluation & Management Services (CPT Codes 99201-99499)', ' Alvarado Hospital'))\n",
      "2021-05-26 15:45:29,149 INFO sqlalchemy.engine.base.Engine COMMIT\n"
     ]
    }
   ],
   "source": [
    "sqlite_table = \"masterlist0\"\n",
    ".to_sql(sqlite_table, sqlite_connection, if_exists='fail')"
   ]
  },
  {
   "cell_type": "code",
   "execution_count": 31,
   "metadata": {},
   "outputs": [],
   "source": [
    "sqlite_connection.close()"
   ]
  },
  {
   "cell_type": "code",
   "execution_count": 32,
   "metadata": {},
   "outputs": [
    {
     "output_type": "execute_result",
     "data": {
      "text/plain": [
       "0"
      ]
     },
     "metadata": {},
     "execution_count": 32
    }
   ],
   "source": [
    "os.system('sqlite3')"
   ]
  },
  {
   "cell_type": "code",
   "execution_count": 26,
   "metadata": {},
   "outputs": [],
   "source": [
    "myfile=masterlist[0].to_csv(\"myfile.csv\")"
   ]
  },
  {
   "cell_type": "code",
   "execution_count": 24,
   "metadata": {},
   "outputs": [
    {
     "output_type": "execute_result",
     "data": {
      "text/plain": [
       "'/home/ygael/Projects/healthcare/data/sqlite'"
      ]
     },
     "metadata": {},
     "execution_count": 24
    }
   ],
   "source": [
    "os.getcwd()"
   ]
  },
  {
   "cell_type": "code",
   "execution_count": 27,
   "metadata": {},
   "outputs": [
    {
     "output_type": "execute_result",
     "data": {
      "text/plain": [
       "0                                            Service 2019 CPT Code  \\\n",
       "1  Emergency Room Visit, Level 2 (low to moderate...         99282   \n",
       "2  Emergency Room Visit, Level 3 (moderate severity)         99283   \n",
       "3      Emergency Room Visit, Level 4 (high severity)         99284   \n",
       "4  Outpatient Visit, established patient, 15 minutes         99213   \n",
       "\n",
       "0 Average Charge                                       Service Type  \\\n",
       "1         746.55  Evaluation & Management Services (CPT Codes 99...   \n",
       "2        1051.05  Evaluation & Management Services (CPT Codes 99...   \n",
       "3         1581.3  Evaluation & Management Services (CPT Codes 99...   \n",
       "4           None  Evaluation & Management Services (CPT Codes 99...   \n",
       "\n",
       "0            Hospital  \n",
       "1   Alvarado Hospital  \n",
       "2   Alvarado Hospital  \n",
       "3   Alvarado Hospital  \n",
       "4   Alvarado Hospital  "
      ],
      "text/html": "<div>\n<style scoped>\n    .dataframe tbody tr th:only-of-type {\n        vertical-align: middle;\n    }\n\n    .dataframe tbody tr th {\n        vertical-align: top;\n    }\n\n    .dataframe thead th {\n        text-align: right;\n    }\n</style>\n<table border=\"1\" class=\"dataframe\">\n  <thead>\n    <tr style=\"text-align: right;\">\n      <th></th>\n      <th>Service</th>\n      <th>2019 CPT Code</th>\n      <th>Average Charge</th>\n      <th>Service Type</th>\n      <th>Hospital</th>\n    </tr>\n  </thead>\n  <tbody>\n    <tr>\n      <th>1</th>\n      <td>Emergency Room Visit, Level 2 (low to moderate...</td>\n      <td>99282</td>\n      <td>746.55</td>\n      <td>Evaluation &amp; Management Services (CPT Codes 99...</td>\n      <td>Alvarado Hospital</td>\n    </tr>\n    <tr>\n      <th>2</th>\n      <td>Emergency Room Visit, Level 3 (moderate severity)</td>\n      <td>99283</td>\n      <td>1051.05</td>\n      <td>Evaluation &amp; Management Services (CPT Codes 99...</td>\n      <td>Alvarado Hospital</td>\n    </tr>\n    <tr>\n      <th>3</th>\n      <td>Emergency Room Visit, Level 4 (high severity)</td>\n      <td>99284</td>\n      <td>1581.3</td>\n      <td>Evaluation &amp; Management Services (CPT Codes 99...</td>\n      <td>Alvarado Hospital</td>\n    </tr>\n    <tr>\n      <th>4</th>\n      <td>Outpatient Visit, established patient, 15 minutes</td>\n      <td>99213</td>\n      <td>None</td>\n      <td>Evaluation &amp; Management Services (CPT Codes 99...</td>\n      <td>Alvarado Hospital</td>\n    </tr>\n  </tbody>\n</table>\n</div>"
     },
     "metadata": {},
     "execution_count": 27
    }
   ],
   "source": [
    "masterlist[0]"
   ]
  },
  {
   "cell_type": "code",
   "execution_count": null,
   "metadata": {},
   "outputs": [],
   "source": []
  }
 ]
}