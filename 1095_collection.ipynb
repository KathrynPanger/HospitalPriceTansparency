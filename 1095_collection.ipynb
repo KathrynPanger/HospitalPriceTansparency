{
 "metadata": {
  "language_info": {
   "codemirror_mode": {
    "name": "ipython",
    "version": 3
   },
   "file_extension": ".py",
   "mimetype": "text/x-python",
   "name": "python",
   "nbconvert_exporter": "python",
   "pygments_lexer": "ipython3",
   "version": "3.8.5"
  },
  "orig_nbformat": 2,
  "kernelspec": {
   "name": "python385jvsc74a57bd0566c7dc836cf49ea79a80bde3a77d731ae67019fab1def2dd83c01090ce827fd",
   "display_name": "Python 3.8.5 64-bit ('DataViz': conda)"
  }
 },
 "nbformat": 4,
 "nbformat_minor": 2,
 "cells": [
  {
   "cell_type": "code",
   "execution_count": 1,
   "metadata": {},
   "outputs": [],
   "source": [
    "import os\n",
    "import pandas as pd\n",
    "import xlrd\n",
    "from pathlib import Path\n",
    "import openpyxl\n",
    "from openpyxl import load_workbook\n",
    "import numpy as np\n",
    "import re\n",
    "import ast\n",
    "from xls2xlsx import XLS2XLSX\n",
    "from csv import writer"
   ]
  },
  {
   "cell_type": "code",
   "execution_count": 2,
   "metadata": {},
   "outputs": [],
   "source": [
    "#Change working directory to navicage files\n",
    "os.chdir(\"/home/ygael/Projects/healthcare/data/2020_CDM_chargemaster\")"
   ]
  },
  {
   "cell_type": "code",
   "execution_count": 3,
   "metadata": {},
   "outputs": [],
   "source": [
    "#Function to extract 1045 sheet name from xlsx files\n",
    "\n",
    "def find1045_xlsx(filepath):\n",
    "    #read file\n",
    "    xlsx_file = Path(filepath)\n",
    "    wb_obj = openpyxl.load_workbook(xlsx_file, data_only=True)\n",
    "\n",
    "    #get sheet names\n",
    "    sheetnames=wb_obj.sheetnames\n",
    "\n",
    "    #Create a keywords list to identify ABS 1045 forms\n",
    "    keywords= [\"common\", \"procedures\", \"1045\", \"form\"]\n",
    "\n",
    "    #Search for the sheet by keyword\n",
    "    for name in sheetnames:\n",
    "        wholename=name.lower()\n",
    "        wordsInName=wholename.split()\n",
    "        match =  any(item in wordsInName for item in keywords)\n",
    "        if match==True:\n",
    "            sheetname=(wb_obj[name])\n",
    "            return(sheetname)\n",
    "            break\n"
   ]
  },
  {
   "cell_type": "code",
   "execution_count": 4,
   "metadata": {},
   "outputs": [],
   "source": [
    "#Function to extract all dataframes from a single xlsx file\n",
    "def getdata_xlsx(file):\n",
    "    dflist=[]\n",
    "    coordlist=[]\n",
    "    sheet=find1045_xlsx(file)\n",
    "    alphabet=[\"A\",\"B\",\"C\",\"D\",\"E\",\"F\",\"G\",\"H\",\"I\",\"J\",\"K\",\"L\",\"M\",\"N\",\"O\",\"P\",\"Q\",\"R\",\"S\",\"T\",\"U\",\"V\",\"W\",\"X\",\"Y\",\"Z\"]\n",
    "    found=False\n",
    "    keywords1 = [\"evaluation\", \"management\", \"services\"]\n",
    "    keywords2 = [\"laboratory\", \"pathology\", \"services\"]\n",
    "    keywords3= [\"radiology\", \"services\"]\n",
    "    keywords4 = [\"medicine\", \"services\"]\n",
    "    keywords5 = [\"surgery\", \"services\"]\n",
    "    keywords6 = [\"other\", \"common\", \"outpatient\", \"procedures\"]\n",
    "    keywords7 = [\"count\", \"of\", \"reported\", \"procedures\",]\n",
    "    keywordslists=[keywords1,keywords2,keywords3,keywords4,keywords5,keywords6,keywords7]\n",
    "    for wordlist in keywordslists:\n",
    "        try: #when sheet is nonetype (doesn't exist) we need to skip it\n",
    "            for row in sheet.iter_rows():\n",
    "                    for cell in row:\n",
    "                        heading = str(cell.value).lower()\n",
    "                        wordsInHeading=heading.split()\n",
    "                        match =  all(item in wordsInHeading for item in wordlist)\n",
    "                        if match==True:\n",
    "                            coord1=cell.coordinate\n",
    "                            coordlist.append(coord1)\n",
    "                            break\n",
    "        except:\n",
    "            return(\"FAIL\")\n",
    "            continue\n",
    "    for coordinate in coordlist[0:-1]:\n",
    "        splitcoord=re.split('(\\d+)', coordinate)\n",
    "        nextbreak=coordlist[int(coordlist.index(coordinate)+1)]\n",
    "        splitbreak=re.split('(\\d+)', nextbreak)\n",
    "        lastcell=f\"{int(splitbreak[1])-1}\"\n",
    "        coord2=f\"C{lastcell}\"\n",
    "\n",
    "        cellgroup=[coordinate,coord2]\n",
    "        df=pd.DataFrame(sheet[f\"{cellgroup[0]}:{cellgroup[1]}\"])\n",
    "\n",
    "\n",
    "\n",
    "        dflist.append(df)\n",
    "\n",
    "    return(dflist)\n",
    "\n",
    "  \n",
    "    "
   ]
  },
  {
   "cell_type": "code",
   "execution_count": 5,
   "metadata": {},
   "outputs": [],
   "source": [
    "#Function to convert cell object values to plaintext values\n",
    "def convertvalue(x):\n",
    "    return x.value"
   ]
  },
  {
   "cell_type": "code",
   "execution_count": 6,
   "metadata": {},
   "outputs": [],
   "source": [
    "#Function to extract all dataframes from a single 1095 file\n",
    "def getMaster(somefile):\n",
    "        sheet=find1045_xlsx(somefile)\n",
    "        masterlist=[]\n",
    "        rawlist=getdata_xlsx(somefile)\n",
    "        for i in range(len(rawlist)):\n",
    "                df=rawlist[i].applymap(convertvalue)\n",
    "                raw_name=sheet[\"A1\"].value\n",
    "                hos_name=raw_name.replace('Hospital Name: ', '')\n",
    "                df[\"Hospital\"] = os.path.basename(os.path.dirname(somefile))\n",
    "                df.columns = df.iloc[0]\n",
    "                df[\"Service Type\"]=df.iloc[0,0]\n",
    "                df.rename(columns={ df.columns[0]: \"Service\" }, inplace = True)\n",
    "                df = df.iloc[1: , :]\n",
    "                        #add the hospital name as a variable\n",
    "                        \n",
    "                masterlist.append(df)\n",
    "                return(masterlist)"
   ]
  },
  {
   "cell_type": "code",
   "execution_count": 7,
   "metadata": {},
   "outputs": [],
   "source": [
    "#Function to get a list of files in a directory (code borrowed from StackOverflow)\n",
    "\n",
    "def getListOfFiles(dirName):\n",
    "    # create a list of file and sub directories \n",
    "    # names in the given directory \n",
    "    listOfFile = os.listdir(dirName)\n",
    "    allFiles = list()\n",
    "    # Iterate over all the entries99213/G0463\n",
    "    for entry in listOfFile:\n",
    "        # Create full path\n",
    "        fullPath = os.path.join(dirName, entry)\n",
    "        # If entry is a directory then get the list of files in this directory \n",
    "        if os.path.isdir(fullPath):\n",
    "            allFiles = allFiles + getListOfFiles(fullPath)\n",
    "        else:\n",
    "            allFiles.append(fullPath)\n",
    "                \n",
    "    return allFiles"
   ]
  },
  {
   "cell_type": "code",
   "execution_count": 8,
   "metadata": {},
   "outputs": [],
   "source": [
    "#Create Column Labels\n",
    "alldata=pd.DataFrame(columns = ['ID','Service', 'CPT',\"AvCharge\", 'Hospital', \"ServiceType\"])\n",
    "with open('/home/ygael/Projects/healthcare/data/csv/alldata.csv', 'a') as f:\n",
    "    alldata.to_csv(f, header=True)"
   ]
  },
  {
   "cell_type": "code",
   "execution_count": 9,
   "metadata": {},
   "outputs": [
    {
     "output_type": "stream",
     "name": "stderr",
     "text": [
      "/home/ygael/anaconda3/envs/DataViz/lib/python3.8/site-packages/openpyxl/worksheet/header_footer.py:48: UserWarning: Cannot parse header or footer so it will be ignored\n",
      "  warn(\"\"\"Cannot parse header or footer so it will be ignored\"\"\")\n",
      "/home/ygael/anaconda3/envs/DataViz/lib/python3.8/site-packages/openpyxl/reader/drawings.py:59: UserWarning: wmf image format is not supported so the image is being dropped\n",
      "  warn(msg)\n"
     ]
    }
   ],
   "source": [
    "##Extract data from as many 1045 files in the chargemaster as possible given efficacy of preceeding functions at standarizing extraction process for decidedly non-standard files\n",
    "\n",
    "filelist=getListOfFiles(\"/home/ygael/Projects/healthcare/data/2020_CDM_chargemaster\")\n",
    "for filename in filelist:\n",
    "    if filename[-4:]==\"xlsx\":\n",
    "                try:\n",
    "                    df=getMaster(filename)\n",
    "                    if df != \"FAIL\":\n",
    "                        for i in range(len(df)):\n",
    "                            df[i].replace({'99213/G0463': 99213, 'G0463': 99213,'-': \"\",  'N/A': \"\"}, inplace=True)\n",
    "                            with open('/home/ygael/Projects/healthcare/data/csv/alldata.csv', 'a') as f:\n",
    "                                    try:\n",
    "                                        df[i].to_csv(f, header=False)\n",
    "                                    except:\n",
    "                                        continue\n",
    "                except:\n",
    "                    continue"
   ]
  },
  {
   "cell_type": "code",
   "execution_count": 55,
   "metadata": {},
   "outputs": [],
   "source": [
    "test=getMaster(\"/home/ygael/Projects/healthcare/data/2020_CDM_chargemaster/Dameron Hospital/106390846_CDM_All_2020.xlsx\")"
   ]
  },
  {
   "cell_type": "code",
   "execution_count": 58,
   "metadata": {},
   "outputs": [
    {
     "output_type": "execute_result",
     "data": {
      "text/plain": [
       "0                                            Service  2020 CPT Code  \\\n",
       "1  Emergency Room Visit, Level 2 (low to moderate...          99282   \n",
       "2  Emergency Room Visit, Level 3 (moderate severity)          99283   \n",
       "3  Emergency Room Visit, Level 4 (high severity w...          99284   \n",
       "4  Emergency Room Visit, Level 4 (high severity w...          99285   \n",
       "5  Outpatient Visit, established patient, 15 minutes          99213   \n",
       "\n",
       "0 Average Charge  Dameron Hospital  \\\n",
       "1           1643  Dameron Hospital   \n",
       "2           2391  Dameron Hospital   \n",
       "3           3534  Dameron Hospital   \n",
       "4           4887  Dameron Hospital   \n",
       "5                 Dameron Hospital   \n",
       "\n",
       "0                                       Service Type  \n",
       "1  Evaluation & Management Services (CPT Codes 99...  \n",
       "2  Evaluation & Management Services (CPT Codes 99...  \n",
       "3  Evaluation & Management Services (CPT Codes 99...  \n",
       "4  Evaluation & Management Services (CPT Codes 99...  \n",
       "5  Evaluation & Management Services (CPT Codes 99...  "
      ],
      "text/html": "<div>\n<style scoped>\n    .dataframe tbody tr th:only-of-type {\n        vertical-align: middle;\n    }\n\n    .dataframe tbody tr th {\n        vertical-align: top;\n    }\n\n    .dataframe thead th {\n        text-align: right;\n    }\n</style>\n<table border=\"1\" class=\"dataframe\">\n  <thead>\n    <tr style=\"text-align: right;\">\n      <th></th>\n      <th>Service</th>\n      <th>2020 CPT Code</th>\n      <th>Average Charge</th>\n      <th>Dameron Hospital</th>\n      <th>Service Type</th>\n    </tr>\n  </thead>\n  <tbody>\n    <tr>\n      <th>1</th>\n      <td>Emergency Room Visit, Level 2 (low to moderate...</td>\n      <td>99282</td>\n      <td>1643</td>\n      <td>Dameron Hospital</td>\n      <td>Evaluation &amp; Management Services (CPT Codes 99...</td>\n    </tr>\n    <tr>\n      <th>2</th>\n      <td>Emergency Room Visit, Level 3 (moderate severity)</td>\n      <td>99283</td>\n      <td>2391</td>\n      <td>Dameron Hospital</td>\n      <td>Evaluation &amp; Management Services (CPT Codes 99...</td>\n    </tr>\n    <tr>\n      <th>3</th>\n      <td>Emergency Room Visit, Level 4 (high severity w...</td>\n      <td>99284</td>\n      <td>3534</td>\n      <td>Dameron Hospital</td>\n      <td>Evaluation &amp; Management Services (CPT Codes 99...</td>\n    </tr>\n    <tr>\n      <th>4</th>\n      <td>Emergency Room Visit, Level 4 (high severity w...</td>\n      <td>99285</td>\n      <td>4887</td>\n      <td>Dameron Hospital</td>\n      <td>Evaluation &amp; Management Services (CPT Codes 99...</td>\n    </tr>\n    <tr>\n      <th>5</th>\n      <td>Outpatient Visit, established patient, 15 minutes</td>\n      <td>99213</td>\n      <td></td>\n      <td>Dameron Hospital</td>\n      <td>Evaluation &amp; Management Services (CPT Codes 99...</td>\n    </tr>\n  </tbody>\n</table>\n</div>"
     },
     "metadata": {},
     "execution_count": 58
    }
   ],
   "source": [
    "test[0].replace({'-': \"\",  'N/A': \"\"})\n"
   ]
  },
  {
   "cell_type": "code",
   "execution_count": 25,
   "metadata": {},
   "outputs": [],
   "source": [
    "nulllist=[\"\",\"N/A\"]"
   ]
  },
  {
   "cell_type": "code",
   "execution_count": 15,
   "metadata": {},
   "outputs": [
    {
     "output_type": "execute_result",
     "data": {
      "text/plain": [
       "Empty DataFrame\n",
       "Columns: [Service, CPT, Hospital, Service Type]\n",
       "Index: []"
      ],
      "text/html": "<div>\n<style scoped>\n    .dataframe tbody tr th:only-of-type {\n        vertical-align: middle;\n    }\n\n    .dataframe tbody tr th {\n        vertical-align: top;\n    }\n\n    .dataframe thead th {\n        text-align: right;\n    }\n</style>\n<table border=\"1\" class=\"dataframe\">\n  <thead>\n    <tr style=\"text-align: right;\">\n      <th></th>\n      <th>Service</th>\n      <th>CPT</th>\n      <th>Hospital</th>\n      <th>Service Type</th>\n    </tr>\n  </thead>\n  <tbody>\n  </tbody>\n</table>\n</div>"
     },
     "metadata": {},
     "execution_count": 15
    }
   ],
   "source": []
  },
  {
   "cell_type": "code",
   "execution_count": 66,
   "metadata": {},
   "outputs": [],
   "source": [
    "csv=pd.read_csv('/home/ygael/Projects/healthcare/data/csv/alldata.csv')"
   ]
  },
  {
   "cell_type": "code",
   "execution_count": 64,
   "metadata": {},
   "outputs": [
    {
     "output_type": "error",
     "ename": "KeyError",
     "evalue": "'CPT'",
     "traceback": [
      "\u001b[0;31m---------------------------------------------------------------------------\u001b[0m",
      "\u001b[0;31mKeyError\u001b[0m                                  Traceback (most recent call last)",
      "\u001b[0;32m~/anaconda3/envs/DataViz/lib/python3.8/site-packages/pandas/core/indexes/base.py\u001b[0m in \u001b[0;36mget_loc\u001b[0;34m(self, key, method, tolerance)\u001b[0m\n\u001b[1;32m   2894\u001b[0m             \u001b[0;32mtry\u001b[0m\u001b[0;34m:\u001b[0m\u001b[0;34m\u001b[0m\u001b[0;34m\u001b[0m\u001b[0m\n\u001b[0;32m-> 2895\u001b[0;31m                 \u001b[0;32mreturn\u001b[0m \u001b[0mself\u001b[0m\u001b[0;34m.\u001b[0m\u001b[0m_engine\u001b[0m\u001b[0;34m.\u001b[0m\u001b[0mget_loc\u001b[0m\u001b[0;34m(\u001b[0m\u001b[0mcasted_key\u001b[0m\u001b[0;34m)\u001b[0m\u001b[0;34m\u001b[0m\u001b[0;34m\u001b[0m\u001b[0m\n\u001b[0m\u001b[1;32m   2896\u001b[0m             \u001b[0;32mexcept\u001b[0m \u001b[0mKeyError\u001b[0m \u001b[0;32mas\u001b[0m \u001b[0merr\u001b[0m\u001b[0;34m:\u001b[0m\u001b[0;34m\u001b[0m\u001b[0;34m\u001b[0m\u001b[0m\n",
      "\u001b[0;32mpandas/_libs/index.pyx\u001b[0m in \u001b[0;36mpandas._libs.index.IndexEngine.get_loc\u001b[0;34m()\u001b[0m\n",
      "\u001b[0;32mpandas/_libs/index.pyx\u001b[0m in \u001b[0;36mpandas._libs.index.IndexEngine.get_loc\u001b[0;34m()\u001b[0m\n",
      "\u001b[0;32mpandas/_libs/hashtable_class_helper.pxi\u001b[0m in \u001b[0;36mpandas._libs.hashtable.PyObjectHashTable.get_item\u001b[0;34m()\u001b[0m\n",
      "\u001b[0;32mpandas/_libs/hashtable_class_helper.pxi\u001b[0m in \u001b[0;36mpandas._libs.hashtable.PyObjectHashTable.get_item\u001b[0;34m()\u001b[0m\n",
      "\u001b[0;31mKeyError\u001b[0m: 'CPT'",
      "\nThe above exception was the direct cause of the following exception:\n",
      "\u001b[0;31mKeyError\u001b[0m                                  Traceback (most recent call last)",
      "\u001b[0;32m<ipython-input-64-b0db76835321>\u001b[0m in \u001b[0;36m<module>\u001b[0;34m\u001b[0m\n\u001b[0;32m----> 1\u001b[0;31m \u001b[0;32mfor\u001b[0m \u001b[0mi\u001b[0m \u001b[0;32min\u001b[0m \u001b[0mrange\u001b[0m \u001b[0;34m(\u001b[0m\u001b[0mlen\u001b[0m\u001b[0;34m(\u001b[0m\u001b[0mcsv\u001b[0m\u001b[0;34m[\u001b[0m\u001b[0;34m\"CPT\"\u001b[0m\u001b[0;34m]\u001b[0m\u001b[0;34m)\u001b[0m\u001b[0;34m)\u001b[0m\u001b[0;34m:\u001b[0m\u001b[0;34m\u001b[0m\u001b[0;34m\u001b[0m\u001b[0m\n\u001b[0m\u001b[1;32m      2\u001b[0m     \u001b[0;32mif\u001b[0m \u001b[0mcsv\u001b[0m\u001b[0;34m[\u001b[0m\u001b[0;34m\"CPT\"\u001b[0m\u001b[0;34m]\u001b[0m\u001b[0;34m[\u001b[0m\u001b[0mi\u001b[0m\u001b[0;34m]\u001b[0m \u001b[0;34m!=\u001b[0m\u001b[0;34m\"N/A\"\u001b[0m\u001b[0;34m:\u001b[0m\u001b[0;34m\u001b[0m\u001b[0;34m\u001b[0m\u001b[0m\n\u001b[1;32m      3\u001b[0m         \u001b[0mprint\u001b[0m\u001b[0;34m(\u001b[0m\u001b[0mcsv\u001b[0m\u001b[0;34m[\u001b[0m\u001b[0;34m\"CPT\"\u001b[0m\u001b[0;34m]\u001b[0m\u001b[0;34m[\u001b[0m\u001b[0mi\u001b[0m\u001b[0;34m]\u001b[0m\u001b[0;34m)\u001b[0m\u001b[0;34m\u001b[0m\u001b[0;34m\u001b[0m\u001b[0m\n",
      "\u001b[0;32m~/anaconda3/envs/DataViz/lib/python3.8/site-packages/pandas/core/frame.py\u001b[0m in \u001b[0;36m__getitem__\u001b[0;34m(self, key)\u001b[0m\n\u001b[1;32m   2900\u001b[0m             \u001b[0;32mif\u001b[0m \u001b[0mself\u001b[0m\u001b[0;34m.\u001b[0m\u001b[0mcolumns\u001b[0m\u001b[0;34m.\u001b[0m\u001b[0mnlevels\u001b[0m \u001b[0;34m>\u001b[0m \u001b[0;36m1\u001b[0m\u001b[0;34m:\u001b[0m\u001b[0;34m\u001b[0m\u001b[0;34m\u001b[0m\u001b[0m\n\u001b[1;32m   2901\u001b[0m                 \u001b[0;32mreturn\u001b[0m \u001b[0mself\u001b[0m\u001b[0;34m.\u001b[0m\u001b[0m_getitem_multilevel\u001b[0m\u001b[0;34m(\u001b[0m\u001b[0mkey\u001b[0m\u001b[0;34m)\u001b[0m\u001b[0;34m\u001b[0m\u001b[0;34m\u001b[0m\u001b[0m\n\u001b[0;32m-> 2902\u001b[0;31m             \u001b[0mindexer\u001b[0m \u001b[0;34m=\u001b[0m \u001b[0mself\u001b[0m\u001b[0;34m.\u001b[0m\u001b[0mcolumns\u001b[0m\u001b[0;34m.\u001b[0m\u001b[0mget_loc\u001b[0m\u001b[0;34m(\u001b[0m\u001b[0mkey\u001b[0m\u001b[0;34m)\u001b[0m\u001b[0;34m\u001b[0m\u001b[0;34m\u001b[0m\u001b[0m\n\u001b[0m\u001b[1;32m   2903\u001b[0m             \u001b[0;32mif\u001b[0m \u001b[0mis_integer\u001b[0m\u001b[0;34m(\u001b[0m\u001b[0mindexer\u001b[0m\u001b[0;34m)\u001b[0m\u001b[0;34m:\u001b[0m\u001b[0;34m\u001b[0m\u001b[0;34m\u001b[0m\u001b[0m\n\u001b[1;32m   2904\u001b[0m                 \u001b[0mindexer\u001b[0m \u001b[0;34m=\u001b[0m \u001b[0;34m[\u001b[0m\u001b[0mindexer\u001b[0m\u001b[0;34m]\u001b[0m\u001b[0;34m\u001b[0m\u001b[0;34m\u001b[0m\u001b[0m\n",
      "\u001b[0;32m~/anaconda3/envs/DataViz/lib/python3.8/site-packages/pandas/core/indexes/base.py\u001b[0m in \u001b[0;36mget_loc\u001b[0;34m(self, key, method, tolerance)\u001b[0m\n\u001b[1;32m   2895\u001b[0m                 \u001b[0;32mreturn\u001b[0m \u001b[0mself\u001b[0m\u001b[0;34m.\u001b[0m\u001b[0m_engine\u001b[0m\u001b[0;34m.\u001b[0m\u001b[0mget_loc\u001b[0m\u001b[0;34m(\u001b[0m\u001b[0mcasted_key\u001b[0m\u001b[0;34m)\u001b[0m\u001b[0;34m\u001b[0m\u001b[0;34m\u001b[0m\u001b[0m\n\u001b[1;32m   2896\u001b[0m             \u001b[0;32mexcept\u001b[0m \u001b[0mKeyError\u001b[0m \u001b[0;32mas\u001b[0m \u001b[0merr\u001b[0m\u001b[0;34m:\u001b[0m\u001b[0;34m\u001b[0m\u001b[0;34m\u001b[0m\u001b[0m\n\u001b[0;32m-> 2897\u001b[0;31m                 \u001b[0;32mraise\u001b[0m \u001b[0mKeyError\u001b[0m\u001b[0;34m(\u001b[0m\u001b[0mkey\u001b[0m\u001b[0;34m)\u001b[0m \u001b[0;32mfrom\u001b[0m \u001b[0merr\u001b[0m\u001b[0;34m\u001b[0m\u001b[0;34m\u001b[0m\u001b[0m\n\u001b[0m\u001b[1;32m   2898\u001b[0m \u001b[0;34m\u001b[0m\u001b[0m\n\u001b[1;32m   2899\u001b[0m         \u001b[0;32mif\u001b[0m \u001b[0mtolerance\u001b[0m \u001b[0;32mis\u001b[0m \u001b[0;32mnot\u001b[0m \u001b[0;32mNone\u001b[0m\u001b[0;34m:\u001b[0m\u001b[0;34m\u001b[0m\u001b[0;34m\u001b[0m\u001b[0m\n",
      "\u001b[0;31mKeyError\u001b[0m: 'CPT'"
     ]
    }
   ],
   "source": [
    "for i in range (len(csv[\"CPT\"])):\n",
    "    if csv[\"CPT\"][i] !=\"N/A\":\n",
    "        print(csv[\"CPT\"][i])"
   ]
  },
  {
   "cell_type": "code",
   "execution_count": 65,
   "metadata": {},
   "outputs": [
    {
     "output_type": "execute_result",
     "data": {
      "text/plain": [
       "      1 Emergency Room Visit, Level 2 (low to moderate severity)  99282  \\\n",
       "0     2  Emergency Room Visit, Level 3 (moderate severity)        99283   \n",
       "1     3  Emergency Room Visit, Level 4 (high severity w...        99284   \n",
       "2     4  Emergency Room Visit, Level 4 (high severity w...        99285   \n",
       "3     5  Outpatient Visit, established patient, 15 minutes        99213   \n",
       "4     1  Emergency Room Visit, Level 2 (low to moderate...        99282   \n",
       "...  ..                                                ...          ...   \n",
       "1266  5  Outpatient Visit, established patient, 15 minutes        99213   \n",
       "1267  1  Emergency Room Visit, Level 2 (low to moderate...        99282   \n",
       "1268  2  Emergency Room Visit, Level 3 (moderate severity)        99283   \n",
       "1269  3      Emergency Room Visit, Level 4 (high severity)        99284   \n",
       "1270  4  Outpatient Visit, established patient, 15 minutes        99213   \n",
       "\n",
       "         1394   Adventist Health Lodi Memorial  \\\n",
       "0     1911.00   Adventist Health Lodi Memorial   \n",
       "1     2560.00   Adventist Health Lodi Memorial   \n",
       "2     3594.00   Adventist Health Lodi Memorial   \n",
       "3      187.00   Adventist Health Lodi Memorial   \n",
       "4         NaN  San Joaquin Valley Rehab Center   \n",
       "...       ...                              ...   \n",
       "1266      NaN            Sierra Vista Hospital   \n",
       "1267  4019.18      Cedars-Sinai Medical Center   \n",
       "1268  6183.35      Cedars-Sinai Medical Center   \n",
       "1269  8833.35      Cedars-Sinai Medical Center   \n",
       "1270   386.71      Cedars-Sinai Medical Center   \n",
       "\n",
       "     Evaluation & Management Services (CPT Codes 99201-99499)  \n",
       "0     Evaluation & Management Services (CPT Codes 99...        \n",
       "1     Evaluation & Management Services (CPT Codes 99...        \n",
       "2     Evaluation & Management Services (CPT Codes 99...        \n",
       "3     Evaluation & Management Services (CPT Codes 99...        \n",
       "4     Evaluation & Management Services (CPT Codes 99...        \n",
       "...                                                 ...        \n",
       "1266  Evaluation & Management Services (CPT Codes 99...        \n",
       "1267  Evaluation & Management Services (CPT Codes 99...        \n",
       "1268  Evaluation & Management Services (CPT Codes 99...        \n",
       "1269  Evaluation & Management Services (CPT Codes 99...        \n",
       "1270  Evaluation & Management Services (CPT Codes 99...        \n",
       "\n",
       "[1271 rows x 6 columns]"
      ],
      "text/html": "<div>\n<style scoped>\n    .dataframe tbody tr th:only-of-type {\n        vertical-align: middle;\n    }\n\n    .dataframe tbody tr th {\n        vertical-align: top;\n    }\n\n    .dataframe thead th {\n        text-align: right;\n    }\n</style>\n<table border=\"1\" class=\"dataframe\">\n  <thead>\n    <tr style=\"text-align: right;\">\n      <th></th>\n      <th>1</th>\n      <th>Emergency Room Visit, Level 2 (low to moderate severity)</th>\n      <th>99282</th>\n      <th>1394</th>\n      <th>Adventist Health Lodi Memorial</th>\n      <th>Evaluation &amp; Management Services (CPT Codes 99201-99499)</th>\n    </tr>\n  </thead>\n  <tbody>\n    <tr>\n      <th>0</th>\n      <td>2</td>\n      <td>Emergency Room Visit, Level 3 (moderate severity)</td>\n      <td>99283</td>\n      <td>1911.00</td>\n      <td>Adventist Health Lodi Memorial</td>\n      <td>Evaluation &amp; Management Services (CPT Codes 99...</td>\n    </tr>\n    <tr>\n      <th>1</th>\n      <td>3</td>\n      <td>Emergency Room Visit, Level 4 (high severity w...</td>\n      <td>99284</td>\n      <td>2560.00</td>\n      <td>Adventist Health Lodi Memorial</td>\n      <td>Evaluation &amp; Management Services (CPT Codes 99...</td>\n    </tr>\n    <tr>\n      <th>2</th>\n      <td>4</td>\n      <td>Emergency Room Visit, Level 4 (high severity w...</td>\n      <td>99285</td>\n      <td>3594.00</td>\n      <td>Adventist Health Lodi Memorial</td>\n      <td>Evaluation &amp; Management Services (CPT Codes 99...</td>\n    </tr>\n    <tr>\n      <th>3</th>\n      <td>5</td>\n      <td>Outpatient Visit, established patient, 15 minutes</td>\n      <td>99213</td>\n      <td>187.00</td>\n      <td>Adventist Health Lodi Memorial</td>\n      <td>Evaluation &amp; Management Services (CPT Codes 99...</td>\n    </tr>\n    <tr>\n      <th>4</th>\n      <td>1</td>\n      <td>Emergency Room Visit, Level 2 (low to moderate...</td>\n      <td>99282</td>\n      <td>NaN</td>\n      <td>San Joaquin Valley Rehab Center</td>\n      <td>Evaluation &amp; Management Services (CPT Codes 99...</td>\n    </tr>\n    <tr>\n      <th>...</th>\n      <td>...</td>\n      <td>...</td>\n      <td>...</td>\n      <td>...</td>\n      <td>...</td>\n      <td>...</td>\n    </tr>\n    <tr>\n      <th>1266</th>\n      <td>5</td>\n      <td>Outpatient Visit, established patient, 15 minutes</td>\n      <td>99213</td>\n      <td>NaN</td>\n      <td>Sierra Vista Hospital</td>\n      <td>Evaluation &amp; Management Services (CPT Codes 99...</td>\n    </tr>\n    <tr>\n      <th>1267</th>\n      <td>1</td>\n      <td>Emergency Room Visit, Level 2 (low to moderate...</td>\n      <td>99282</td>\n      <td>4019.18</td>\n      <td>Cedars-Sinai Medical Center</td>\n      <td>Evaluation &amp; Management Services (CPT Codes 99...</td>\n    </tr>\n    <tr>\n      <th>1268</th>\n      <td>2</td>\n      <td>Emergency Room Visit, Level 3 (moderate severity)</td>\n      <td>99283</td>\n      <td>6183.35</td>\n      <td>Cedars-Sinai Medical Center</td>\n      <td>Evaluation &amp; Management Services (CPT Codes 99...</td>\n    </tr>\n    <tr>\n      <th>1269</th>\n      <td>3</td>\n      <td>Emergency Room Visit, Level 4 (high severity)</td>\n      <td>99284</td>\n      <td>8833.35</td>\n      <td>Cedars-Sinai Medical Center</td>\n      <td>Evaluation &amp; Management Services (CPT Codes 99...</td>\n    </tr>\n    <tr>\n      <th>1270</th>\n      <td>4</td>\n      <td>Outpatient Visit, established patient, 15 minutes</td>\n      <td>99213</td>\n      <td>386.71</td>\n      <td>Cedars-Sinai Medical Center</td>\n      <td>Evaluation &amp; Management Services (CPT Codes 99...</td>\n    </tr>\n  </tbody>\n</table>\n<p>1271 rows × 6 columns</p>\n</div>"
     },
     "metadata": {},
     "execution_count": 65
    }
   ],
   "source": [
    "csv"
   ]
  },
  {
   "cell_type": "code",
   "execution_count": 19,
   "metadata": {},
   "outputs": [],
   "source": [
    "nonull=csv.replace({'-': None, '': None,  'N/A': None})"
   ]
  },
  {
   "cell_type": "code",
   "execution_count": 31,
   "metadata": {},
   "outputs": [
    {
     "output_type": "error",
     "ename": "KeyError",
     "evalue": "'CPT'",
     "traceback": [
      "\u001b[0;31m---------------------------------------------------------------------------\u001b[0m",
      "\u001b[0;31mKeyError\u001b[0m                                  Traceback (most recent call last)",
      "\u001b[0;32m<ipython-input-31-ccd0806cd464>\u001b[0m in \u001b[0;36m<module>\u001b[0;34m\u001b[0m\n\u001b[0;32m----> 1\u001b[0;31m \u001b[0mcsv\u001b[0m\u001b[0;34m.\u001b[0m\u001b[0mloc\u001b[0m\u001b[0;34m[\u001b[0m\u001b[0;34m\"CPT\"\u001b[0m\u001b[0;34m]\u001b[0m\u001b[0;34m\u001b[0m\u001b[0;34m\u001b[0m\u001b[0m\n\u001b[0m",
      "\u001b[0;32m~/anaconda3/envs/DataViz/lib/python3.8/site-packages/pandas/core/indexing.py\u001b[0m in \u001b[0;36m__getitem__\u001b[0;34m(self, key)\u001b[0m\n\u001b[1;32m    877\u001b[0m \u001b[0;34m\u001b[0m\u001b[0m\n\u001b[1;32m    878\u001b[0m             \u001b[0mmaybe_callable\u001b[0m \u001b[0;34m=\u001b[0m \u001b[0mcom\u001b[0m\u001b[0;34m.\u001b[0m\u001b[0mapply_if_callable\u001b[0m\u001b[0;34m(\u001b[0m\u001b[0mkey\u001b[0m\u001b[0;34m,\u001b[0m \u001b[0mself\u001b[0m\u001b[0;34m.\u001b[0m\u001b[0mobj\u001b[0m\u001b[0;34m)\u001b[0m\u001b[0;34m\u001b[0m\u001b[0;34m\u001b[0m\u001b[0m\n\u001b[0;32m--> 879\u001b[0;31m             \u001b[0;32mreturn\u001b[0m \u001b[0mself\u001b[0m\u001b[0;34m.\u001b[0m\u001b[0m_getitem_axis\u001b[0m\u001b[0;34m(\u001b[0m\u001b[0mmaybe_callable\u001b[0m\u001b[0;34m,\u001b[0m \u001b[0maxis\u001b[0m\u001b[0;34m=\u001b[0m\u001b[0maxis\u001b[0m\u001b[0;34m)\u001b[0m\u001b[0;34m\u001b[0m\u001b[0;34m\u001b[0m\u001b[0m\n\u001b[0m\u001b[1;32m    880\u001b[0m \u001b[0;34m\u001b[0m\u001b[0m\n\u001b[1;32m    881\u001b[0m     \u001b[0;32mdef\u001b[0m \u001b[0m_is_scalar_access\u001b[0m\u001b[0;34m(\u001b[0m\u001b[0mself\u001b[0m\u001b[0;34m,\u001b[0m \u001b[0mkey\u001b[0m\u001b[0;34m:\u001b[0m \u001b[0mTuple\u001b[0m\u001b[0;34m)\u001b[0m\u001b[0;34m:\u001b[0m\u001b[0;34m\u001b[0m\u001b[0;34m\u001b[0m\u001b[0m\n",
      "\u001b[0;32m~/anaconda3/envs/DataViz/lib/python3.8/site-packages/pandas/core/indexing.py\u001b[0m in \u001b[0;36m_getitem_axis\u001b[0;34m(self, key, axis)\u001b[0m\n\u001b[1;32m   1108\u001b[0m         \u001b[0;31m# fall thru to straight lookup\u001b[0m\u001b[0;34m\u001b[0m\u001b[0;34m\u001b[0m\u001b[0;34m\u001b[0m\u001b[0m\n\u001b[1;32m   1109\u001b[0m         \u001b[0mself\u001b[0m\u001b[0;34m.\u001b[0m\u001b[0m_validate_key\u001b[0m\u001b[0;34m(\u001b[0m\u001b[0mkey\u001b[0m\u001b[0;34m,\u001b[0m \u001b[0maxis\u001b[0m\u001b[0;34m)\u001b[0m\u001b[0;34m\u001b[0m\u001b[0;34m\u001b[0m\u001b[0m\n\u001b[0;32m-> 1110\u001b[0;31m         \u001b[0;32mreturn\u001b[0m \u001b[0mself\u001b[0m\u001b[0;34m.\u001b[0m\u001b[0m_get_label\u001b[0m\u001b[0;34m(\u001b[0m\u001b[0mkey\u001b[0m\u001b[0;34m,\u001b[0m \u001b[0maxis\u001b[0m\u001b[0;34m=\u001b[0m\u001b[0maxis\u001b[0m\u001b[0;34m)\u001b[0m\u001b[0;34m\u001b[0m\u001b[0;34m\u001b[0m\u001b[0m\n\u001b[0m\u001b[1;32m   1111\u001b[0m \u001b[0;34m\u001b[0m\u001b[0m\n\u001b[1;32m   1112\u001b[0m     \u001b[0;32mdef\u001b[0m \u001b[0m_get_slice_axis\u001b[0m\u001b[0;34m(\u001b[0m\u001b[0mself\u001b[0m\u001b[0;34m,\u001b[0m \u001b[0mslice_obj\u001b[0m\u001b[0;34m:\u001b[0m \u001b[0mslice\u001b[0m\u001b[0;34m,\u001b[0m \u001b[0maxis\u001b[0m\u001b[0;34m:\u001b[0m \u001b[0mint\u001b[0m\u001b[0;34m)\u001b[0m\u001b[0;34m:\u001b[0m\u001b[0;34m\u001b[0m\u001b[0;34m\u001b[0m\u001b[0m\n",
      "\u001b[0;32m~/anaconda3/envs/DataViz/lib/python3.8/site-packages/pandas/core/indexing.py\u001b[0m in \u001b[0;36m_get_label\u001b[0;34m(self, label, axis)\u001b[0m\n\u001b[1;32m   1057\u001b[0m     \u001b[0;32mdef\u001b[0m \u001b[0m_get_label\u001b[0m\u001b[0;34m(\u001b[0m\u001b[0mself\u001b[0m\u001b[0;34m,\u001b[0m \u001b[0mlabel\u001b[0m\u001b[0;34m,\u001b[0m \u001b[0maxis\u001b[0m\u001b[0;34m:\u001b[0m \u001b[0mint\u001b[0m\u001b[0;34m)\u001b[0m\u001b[0;34m:\u001b[0m\u001b[0;34m\u001b[0m\u001b[0;34m\u001b[0m\u001b[0m\n\u001b[1;32m   1058\u001b[0m         \u001b[0;31m# GH#5667 this will fail if the label is not present in the axis.\u001b[0m\u001b[0;34m\u001b[0m\u001b[0;34m\u001b[0m\u001b[0;34m\u001b[0m\u001b[0m\n\u001b[0;32m-> 1059\u001b[0;31m         \u001b[0;32mreturn\u001b[0m \u001b[0mself\u001b[0m\u001b[0;34m.\u001b[0m\u001b[0mobj\u001b[0m\u001b[0;34m.\u001b[0m\u001b[0mxs\u001b[0m\u001b[0;34m(\u001b[0m\u001b[0mlabel\u001b[0m\u001b[0;34m,\u001b[0m \u001b[0maxis\u001b[0m\u001b[0;34m=\u001b[0m\u001b[0maxis\u001b[0m\u001b[0;34m)\u001b[0m\u001b[0;34m\u001b[0m\u001b[0;34m\u001b[0m\u001b[0m\n\u001b[0m\u001b[1;32m   1060\u001b[0m \u001b[0;34m\u001b[0m\u001b[0m\n\u001b[1;32m   1061\u001b[0m     \u001b[0;32mdef\u001b[0m \u001b[0m_handle_lowerdim_multi_index_axis0\u001b[0m\u001b[0;34m(\u001b[0m\u001b[0mself\u001b[0m\u001b[0;34m,\u001b[0m \u001b[0mtup\u001b[0m\u001b[0;34m:\u001b[0m \u001b[0mTuple\u001b[0m\u001b[0;34m)\u001b[0m\u001b[0;34m:\u001b[0m\u001b[0;34m\u001b[0m\u001b[0;34m\u001b[0m\u001b[0m\n",
      "\u001b[0;32m~/anaconda3/envs/DataViz/lib/python3.8/site-packages/pandas/core/generic.py\u001b[0m in \u001b[0;36mxs\u001b[0;34m(self, key, axis, level, drop_level)\u001b[0m\n\u001b[1;32m   3489\u001b[0m             \u001b[0mloc\u001b[0m\u001b[0;34m,\u001b[0m \u001b[0mnew_index\u001b[0m \u001b[0;34m=\u001b[0m \u001b[0mself\u001b[0m\u001b[0;34m.\u001b[0m\u001b[0mindex\u001b[0m\u001b[0;34m.\u001b[0m\u001b[0mget_loc_level\u001b[0m\u001b[0;34m(\u001b[0m\u001b[0mkey\u001b[0m\u001b[0;34m,\u001b[0m \u001b[0mdrop_level\u001b[0m\u001b[0;34m=\u001b[0m\u001b[0mdrop_level\u001b[0m\u001b[0;34m)\u001b[0m\u001b[0;34m\u001b[0m\u001b[0;34m\u001b[0m\u001b[0m\n\u001b[1;32m   3490\u001b[0m         \u001b[0;32melse\u001b[0m\u001b[0;34m:\u001b[0m\u001b[0;34m\u001b[0m\u001b[0;34m\u001b[0m\u001b[0m\n\u001b[0;32m-> 3491\u001b[0;31m             \u001b[0mloc\u001b[0m \u001b[0;34m=\u001b[0m \u001b[0mself\u001b[0m\u001b[0;34m.\u001b[0m\u001b[0mindex\u001b[0m\u001b[0;34m.\u001b[0m\u001b[0mget_loc\u001b[0m\u001b[0;34m(\u001b[0m\u001b[0mkey\u001b[0m\u001b[0;34m)\u001b[0m\u001b[0;34m\u001b[0m\u001b[0;34m\u001b[0m\u001b[0m\n\u001b[0m\u001b[1;32m   3492\u001b[0m \u001b[0;34m\u001b[0m\u001b[0m\n\u001b[1;32m   3493\u001b[0m             \u001b[0;32mif\u001b[0m \u001b[0misinstance\u001b[0m\u001b[0;34m(\u001b[0m\u001b[0mloc\u001b[0m\u001b[0;34m,\u001b[0m \u001b[0mnp\u001b[0m\u001b[0;34m.\u001b[0m\u001b[0mndarray\u001b[0m\u001b[0;34m)\u001b[0m\u001b[0;34m:\u001b[0m\u001b[0;34m\u001b[0m\u001b[0;34m\u001b[0m\u001b[0m\n",
      "\u001b[0;32m~/anaconda3/envs/DataViz/lib/python3.8/site-packages/pandas/core/indexes/range.py\u001b[0m in \u001b[0;36mget_loc\u001b[0;34m(self, key, method, tolerance)\u001b[0m\n\u001b[1;32m    356\u001b[0m                 \u001b[0;32mexcept\u001b[0m \u001b[0mValueError\u001b[0m \u001b[0;32mas\u001b[0m \u001b[0merr\u001b[0m\u001b[0;34m:\u001b[0m\u001b[0;34m\u001b[0m\u001b[0;34m\u001b[0m\u001b[0m\n\u001b[1;32m    357\u001b[0m                     \u001b[0;32mraise\u001b[0m \u001b[0mKeyError\u001b[0m\u001b[0;34m(\u001b[0m\u001b[0mkey\u001b[0m\u001b[0;34m)\u001b[0m \u001b[0;32mfrom\u001b[0m \u001b[0merr\u001b[0m\u001b[0;34m\u001b[0m\u001b[0;34m\u001b[0m\u001b[0m\n\u001b[0;32m--> 358\u001b[0;31m             \u001b[0;32mraise\u001b[0m \u001b[0mKeyError\u001b[0m\u001b[0;34m(\u001b[0m\u001b[0mkey\u001b[0m\u001b[0;34m)\u001b[0m\u001b[0;34m\u001b[0m\u001b[0;34m\u001b[0m\u001b[0m\n\u001b[0m\u001b[1;32m    359\u001b[0m         \u001b[0;32mreturn\u001b[0m \u001b[0msuper\u001b[0m\u001b[0;34m(\u001b[0m\u001b[0;34m)\u001b[0m\u001b[0;34m.\u001b[0m\u001b[0mget_loc\u001b[0m\u001b[0;34m(\u001b[0m\u001b[0mkey\u001b[0m\u001b[0;34m,\u001b[0m \u001b[0mmethod\u001b[0m\u001b[0;34m=\u001b[0m\u001b[0mmethod\u001b[0m\u001b[0;34m,\u001b[0m \u001b[0mtolerance\u001b[0m\u001b[0;34m=\u001b[0m\u001b[0mtolerance\u001b[0m\u001b[0;34m)\u001b[0m\u001b[0;34m\u001b[0m\u001b[0;34m\u001b[0m\u001b[0m\n\u001b[1;32m    360\u001b[0m \u001b[0;34m\u001b[0m\u001b[0m\n",
      "\u001b[0;31mKeyError\u001b[0m: 'CPT'"
     ]
    }
   ],
   "source": [
    "csv.loc[\"CPT\"]"
   ]
  },
  {
   "cell_type": "code",
   "execution_count": null,
   "metadata": {},
   "outputs": [],
   "source": []
  }
 ]
}