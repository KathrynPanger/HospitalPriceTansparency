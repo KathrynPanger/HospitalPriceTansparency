{
 "metadata": {
  "language_info": {
   "codemirror_mode": {
    "name": "ipython",
    "version": 3
   },
   "file_extension": ".py",
   "mimetype": "text/x-python",
   "name": "python",
   "nbconvert_exporter": "python",
   "pygments_lexer": "ipython3",
   "version": "3.8.5"
  },
  "orig_nbformat": 2,
  "kernelspec": {
   "name": "python385jvsc74a57bd0566c7dc836cf49ea79a80bde3a77d731ae67019fab1def2dd83c01090ce827fd",
   "display_name": "Python 3.8.5 64-bit ('DataViz': conda)"
  }
 },
 "nbformat": 4,
 "nbformat_minor": 2,
 "cells": [
  {
   "cell_type": "code",
   "execution_count": 1,
   "metadata": {},
   "outputs": [],
   "source": [
    "import os\n",
    "import pandas as pd\n",
    "import xlrd\n",
    "from pathlib import Path\n",
    "import openpyxl\n",
    "from openpyxl import load_workbook\n",
    "import numpy as np\n",
    "import re\n",
    "import ast\n",
    "from xls2xlsx import XLS2XLSX\n",
    "from csv import writer"
   ]
  },
  {
   "cell_type": "code",
   "execution_count": 1,
   "metadata": {},
   "outputs": [],
   "source": [
    "#Function to convert all xls files to xlsx, removing the original file\n",
    "def convert(filename):\n",
    "    p.save_book_as(file_name=f\"{filename}\",\n",
    "                dest_file_name=f\"{filename[:-4]}.xlsx\" )"
   ]
  },
  {
   "cell_type": "code",
   "execution_count": 4,
   "metadata": {},
   "outputs": [],
   "source": [
    "#A function to convert all files in subfolders starting from the absolute filepath of the year's chargemaster folder\n",
    "\n",
    "def convertfrom(directory):\n",
    "    #Use absolute path to move to the directory containing all hospital folders\n",
    "    os.chdir(directory)\n",
    "    #save current working directory to a variable\n",
    "    cwd=os.getcwd()\n",
    "    #Convert all files to xlsx format\n",
    "    dirlist = list(os. listdir())\n",
    "    for i in range(len(dirlist)):\n",
    "        os.chdir(dirlist[i])\n",
    "        for root, dirs, files in os.walk(\".\"):\n",
    "            for filename in files:\n",
    "                if filename[-3:]==\"xls\":\n",
    "                    try:\n",
    "                        convert(filename)\n",
    "                        os.remove(filename)\n",
    "                    except:\n",
    "                        print(\"File contains special characters- could not convert\")\n",
    "                        print(filename)\n",
    "                else:\n",
    "                    continue\n",
    "        os.chdir(\"..\")\n",
    "    os.chdir(cwd)"
   ]
  },
  {
   "cell_type": "code",
   "execution_count": 5,
   "metadata": {},
   "outputs": [
    {
     "output_type": "stream",
     "name": "stdout",
     "text": [
      "File contains special characters- could not convert\n106364188_CDM_2020.xls\nFile contains special characters- could not convert\n106364188_CDM_2020-Cloud.xls\nFile contains special characters- could not convert\n106332172_CDM_2020.xls\nFile contains special characters- could not convert\n106332172_CDM_2020-Cloud.xls\nFile contains special characters- could not convert\n106201281_PCT_CHG_2020.xls\n"
     ]
    }
   ],
   "source": [
    "convertfrom(\"/home/ygael/Projects/healthcare/data/2020_CDM_chargemaster\")"
   ]
  },
  {
   "cell_type": "code",
   "execution_count": null,
   "metadata": {},
   "outputs": [],
   "source": []
  }
 ]
}