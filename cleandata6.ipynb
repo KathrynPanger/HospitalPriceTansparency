{
 "metadata": {
  "language_info": {
   "codemirror_mode": {
    "name": "ipython",
    "version": 3
   },
   "file_extension": ".py",
   "mimetype": "text/x-python",
   "name": "python",
   "nbconvert_exporter": "python",
   "pygments_lexer": "ipython3",
   "version": "3.8.5"
  },
  "orig_nbformat": 2,
  "kernelspec": {
   "name": "python385jvsc74a57bd0566c7dc836cf49ea79a80bde3a77d731ae67019fab1def2dd83c01090ce827fd",
   "display_name": "Python 3.8.5 64-bit ('DataViz': conda)"
  }
 },
 "nbformat": 4,
 "nbformat_minor": 2,
 "cells": [
  {
   "cell_type": "code",
   "execution_count": 1,
   "metadata": {},
   "outputs": [],
   "source": [
    "import os\n",
    "import pandas as pd\n",
    "import xlrd\n",
    "from pathlib import Path\n",
    "import openpyxl\n",
    "from openpyxl import load_workbook\n",
    "import numpy as np\n",
    "import re\n",
    "import ast\n",
    "from xls2xlsx import XLS2XLSX"
   ]
  },
  {
   "cell_type": "code",
   "execution_count": 2,
   "metadata": {},
   "outputs": [],
   "source": [
    "\n",
    "    ##Getting the 1045 data\n",
    "xlsx_file = Path('SimData', '/home/ygael/Projects/healthcare/data/2020_CDM_chargemaster/Alvarado Hospital/106370652_CDM_All_2020.xlsx')\n",
    "wb_obj = openpyxl.load_workbook(xlsx_file) "
   ]
  },
  {
   "cell_type": "code",
   "execution_count": 3,
   "metadata": {},
   "outputs": [],
   "source": [
    "#Function to extract 1045 sheet name from xlsx file only\n",
    "\n",
    "def find1045_xlsx(filepath):\n",
    "    #read file\n",
    "    xlsx_file = Path(filepath)\n",
    "    wb_obj = openpyxl.load_workbook(xlsx_file)\n",
    "\n",
    "    #get sheet names\n",
    "    sheetnames=wb_obj.sheetnames\n",
    "\n",
    "    #Create a keywords list to identify ABS 1045 forms\n",
    "    keywords= [\"common\", \"procedures\", \"1045\", \"form\"]\n",
    "\n",
    "    #Search for the sheet by keyword\n",
    "    for name in sheetnames:\n",
    "        wholename=name.lower()\n",
    "        wordsInName=wholename.split()\n",
    "        match =  any(item in wordsInName for item in keywords)\n",
    "        if match==True:\n",
    "            sheetname=(wb_obj[name])\n",
    "            return(sheetname)\n",
    "            break\n"
   ]
  },
  {
   "cell_type": "code",
   "execution_count": 4,
   "metadata": {},
   "outputs": [],
   "source": [
    "#Function to extract all dataframes from a single xlsx file\n",
    "def getdata_xlsx(file):\n",
    "    dflist=[]\n",
    "    coordlist=[]\n",
    "    sheet=find1045_xlsx(file)\n",
    "    alphabet=[\"A\",\"B\",\"C\",\"D\",\"E\",\"F\",\"G\",\"H\",\"I\",\"J\",\"K\",\"L\",\"M\",\"N\",\"O\",\"P\",\"Q\",\"R\",\"S\",\"T\",\"U\",\"V\",\"W\",\"X\",\"Y\",\"Z\"]\n",
    "    found=False\n",
    "    keywords1 = [\"evaluation\", \"management\", \"services\"]\n",
    "    keywords2 = [\"laboratory\", \"pathology\", \"services\"]\n",
    "    keywords3= [\"radiology\", \"services\"]\n",
    "    keywords4 = [\"medicine\", \"services\"]\n",
    "    keywords5 = [\"surgery\", \"services\"]\n",
    "    keywords6 = [\"other\", \"common\", \"outpatient\", \"procedures\"]\n",
    "    keywords7 = [\"count\", \"of\", \"reported\", \"procedures\",]\n",
    "    keywordslists=[keywords1,keywords2,keywords3,keywords4,keywords5,keywords6,keywords7]\n",
    "    for wordlist in keywordslists:\n",
    "        for row in sheet.iter_rows():\n",
    "                for cell in row:\n",
    "                    heading = str(cell.value).lower()\n",
    "                    wordsInHeading=heading.split()\n",
    "                    match =  all(item in wordsInHeading for item in wordlist)\n",
    "                    if match==True:\n",
    "                        coord1=cell.coordinate\n",
    "                        coordlist.append(coord1)\n",
    "                        break\n",
    "    for coordinate in coordlist[0:-1]:\n",
    "        splitcoord=re.split('(\\d+)', coordinate)\n",
    "        nextbreak=coordlist[int(coordlist.index(coordinate)+1)]\n",
    "        splitbreak=re.split('(\\d+)', nextbreak)\n",
    "        lastcell=f\"{int(splitbreak[1])-1}\"\n",
    "        coord2=f\"C{lastcell}\"\n",
    "\n",
    "        cellgroup=[coordinate,coord2]\n",
    "        df=pd.DataFrame(sheet[f\"{cellgroup[0]}:{cellgroup[1]}\"])\n",
    "\n",
    "\n",
    "\n",
    "        dflist.append(df)\n",
    "\n",
    "    return(dflist)\n",
    "\n",
    "  \n",
    "    "
   ]
  },
  {
   "cell_type": "code",
   "execution_count": 5,
   "metadata": {},
   "outputs": [],
   "source": [
    "#Function to convert cell object values to plaintext values\n",
    "def convertvalue(x):\n",
    "    return x.value"
   ]
  },
  {
   "cell_type": "code",
   "execution_count": 6,
   "metadata": {},
   "outputs": [],
   "source": [
    "#Convert all dataframes from a single sheet into plaintext\n",
    "sheet=find1045_xlsx(xlsx_file)\n",
    "masterlist=[]\n",
    "rawlist=getdata_xlsx(xlsx_file)\n",
    "for i in range(len(rawlist)):\n",
    "    df=rawlist[i].applymap(convertvalue)\n",
    "            #add the hospital name as a variable\n",
    "    masterlist.append(df)"
   ]
  },
  {
   "cell_type": "code",
   "execution_count": 7,
   "metadata": {},
   "outputs": [],
   "source": [
    "#Get the column names from the dataframe\n",
    "for df in masterlist:\n",
    "    if len(df)>0:\n",
    "        df.columns = df.iloc[0]\n",
    "        df[\"Service Type\"]=df.iloc[0,0]\n",
    "        df.rename(columns={ df.columns[0]: \"Service\" }, inplace = True)\n",
    "        df=df.drop(df.index[0], inplace=True)\n",
    "\n",
    "\n"
   ]
  },
  {
   "cell_type": "code",
   "execution_count": 8,
   "metadata": {},
   "outputs": [],
   "source": [
    "#add the hospital name as a variable in every df in the converted list\n",
    "for i in range(len(masterlist)):\n",
    "        raw_name=sheet[\"A1\"].value\n",
    "        hos_name=raw_name.replace('Hospital Name: ', '')\n",
    "        masterlist[i][\"Hospital\"]=hos_name\n"
   ]
  },
  {
   "cell_type": "code",
   "execution_count": 9,
   "metadata": {},
   "outputs": [
    {
     "output_type": "execute_result",
     "data": {
      "text/plain": [
       "0                                            Service 2019 CPT Code  \\\n",
       "1  Emergency Room Visit, Level 2 (low to moderate...         99282   \n",
       "2  Emergency Room Visit, Level 3 (moderate severity)         99283   \n",
       "3      Emergency Room Visit, Level 4 (high severity)         99284   \n",
       "4  Outpatient Visit, established patient, 15 minutes         99213   \n",
       "\n",
       "0 Average Charge                                       Service Type  \\\n",
       "1         746.55  Evaluation & Management Services (CPT Codes 99...   \n",
       "2        1051.05  Evaluation & Management Services (CPT Codes 99...   \n",
       "3         1581.3  Evaluation & Management Services (CPT Codes 99...   \n",
       "4           None  Evaluation & Management Services (CPT Codes 99...   \n",
       "\n",
       "0            Hospital  \n",
       "1   Alvarado Hospital  \n",
       "2   Alvarado Hospital  \n",
       "3   Alvarado Hospital  \n",
       "4   Alvarado Hospital  "
      ],
      "text/html": "<div>\n<style scoped>\n    .dataframe tbody tr th:only-of-type {\n        vertical-align: middle;\n    }\n\n    .dataframe tbody tr th {\n        vertical-align: top;\n    }\n\n    .dataframe thead th {\n        text-align: right;\n    }\n</style>\n<table border=\"1\" class=\"dataframe\">\n  <thead>\n    <tr style=\"text-align: right;\">\n      <th></th>\n      <th>Service</th>\n      <th>2019 CPT Code</th>\n      <th>Average Charge</th>\n      <th>Service Type</th>\n      <th>Hospital</th>\n    </tr>\n  </thead>\n  <tbody>\n    <tr>\n      <th>1</th>\n      <td>Emergency Room Visit, Level 2 (low to moderate...</td>\n      <td>99282</td>\n      <td>746.55</td>\n      <td>Evaluation &amp; Management Services (CPT Codes 99...</td>\n      <td>Alvarado Hospital</td>\n    </tr>\n    <tr>\n      <th>2</th>\n      <td>Emergency Room Visit, Level 3 (moderate severity)</td>\n      <td>99283</td>\n      <td>1051.05</td>\n      <td>Evaluation &amp; Management Services (CPT Codes 99...</td>\n      <td>Alvarado Hospital</td>\n    </tr>\n    <tr>\n      <th>3</th>\n      <td>Emergency Room Visit, Level 4 (high severity)</td>\n      <td>99284</td>\n      <td>1581.3</td>\n      <td>Evaluation &amp; Management Services (CPT Codes 99...</td>\n      <td>Alvarado Hospital</td>\n    </tr>\n    <tr>\n      <th>4</th>\n      <td>Outpatient Visit, established patient, 15 minutes</td>\n      <td>99213</td>\n      <td>None</td>\n      <td>Evaluation &amp; Management Services (CPT Codes 99...</td>\n      <td>Alvarado Hospital</td>\n    </tr>\n  </tbody>\n</table>\n</div>"
     },
     "metadata": {},
     "execution_count": 9
    }
   ],
   "source": [
    "masterlist[0]"
   ]
  },
  {
   "cell_type": "code",
   "execution_count": 10,
   "metadata": {},
   "outputs": [],
   "source": [
    "#get the names of all folders in the data directory\n",
    "os.chdir(\"..\")\n",
    "os.chdir(\"data\")\n",
    "os.chdir(\"2020_CDM_chargemaster\")\n",
    "\n"
   ]
  },
  {
   "cell_type": "code",
   "execution_count": 11,
   "metadata": {},
   "outputs": [],
   "source": [
    "#Function to extract 1045 sheet name\n",
    "\n",
    "def find1045(filepath):\n",
    "    #read file\n",
    "    if filepath[-5:] == \".xlsx\":\n",
    "        excel_file = Path(filepath)\n",
    "        wb_obj = openpyxl.load_workbook(excel_file)\n",
    "\n",
    "    #get sheet names\n",
    "    sheetnames=wb_obj.sheetnames\n",
    "\n",
    "    #Create a keywords list to identify ABS 1045 forms\n",
    "    keywords= [\"common\", \"procedures\", \"1045\", \"form\"]\n",
    "\n",
    "    #Search for the sheet by keyword\n",
    "    for name in sheetnames:\n",
    "        wholename=name.lower()\n",
    "        wordsInName=wholename.split()\n",
    "        match =  any(item in wordsInName for item in keywords)\n",
    "        if match==True:\n",
    "            sheetname=(wb_obj[name])\n",
    "            return(sheetname)\n",
    "            break\n"
   ]
  },
  {
   "cell_type": "code",
   "execution_count": 12,
   "metadata": {},
   "outputs": [
    {
     "output_type": "stream",
     "name": "stdout",
     "text": [
      "106390923_CDM_All_2020.xlsx\n",
      "<Worksheet \"Common OP Procedures\">\n",
      "106104023_CDM_All_2020.xls\n"
     ]
    },
    {
     "output_type": "error",
     "ename": "InvalidFileException",
     "evalue": "openpyxl does not support the old .xls file format, please use xlrd to read this file, or convert it to the more recent .xlsx file format.",
     "traceback": [
      "\u001b[0;31m---------------------------------------------------------------------------\u001b[0m",
      "\u001b[0;31mInvalidFileException\u001b[0m                      Traceback (most recent call last)",
      "\u001b[0;32m<ipython-input-12-03439491147b>\u001b[0m in \u001b[0;36m<module>\u001b[0;34m\u001b[0m\n\u001b[1;32m      6\u001b[0m         \u001b[0;32mfor\u001b[0m \u001b[0mfilename\u001b[0m \u001b[0;32min\u001b[0m \u001b[0mfiles\u001b[0m\u001b[0;34m:\u001b[0m\u001b[0;34m\u001b[0m\u001b[0;34m\u001b[0m\u001b[0m\n\u001b[1;32m      7\u001b[0m             \u001b[0mprint\u001b[0m\u001b[0;34m(\u001b[0m\u001b[0mfilename\u001b[0m\u001b[0;34m)\u001b[0m\u001b[0;34m\u001b[0m\u001b[0;34m\u001b[0m\u001b[0m\n\u001b[0;32m----> 8\u001b[0;31m             \u001b[0mprint\u001b[0m \u001b[0;34m(\u001b[0m\u001b[0mfind1045_xlsx\u001b[0m\u001b[0;34m(\u001b[0m\u001b[0mfilename\u001b[0m\u001b[0;34m)\u001b[0m\u001b[0;34m)\u001b[0m\u001b[0;34m\u001b[0m\u001b[0;34m\u001b[0m\u001b[0m\n\u001b[0m\u001b[1;32m      9\u001b[0m     \u001b[0mos\u001b[0m\u001b[0;34m.\u001b[0m\u001b[0mchdir\u001b[0m\u001b[0;34m(\u001b[0m\u001b[0;34m\"..\"\u001b[0m\u001b[0;34m)\u001b[0m\u001b[0;34m\u001b[0m\u001b[0;34m\u001b[0m\u001b[0m\n",
      "\u001b[0;32m<ipython-input-3-44b767cf81a9>\u001b[0m in \u001b[0;36mfind1045_xlsx\u001b[0;34m(filepath)\u001b[0m\n\u001b[1;32m      4\u001b[0m     \u001b[0;31m#read file\u001b[0m\u001b[0;34m\u001b[0m\u001b[0;34m\u001b[0m\u001b[0;34m\u001b[0m\u001b[0m\n\u001b[1;32m      5\u001b[0m     \u001b[0mxlsx_file\u001b[0m \u001b[0;34m=\u001b[0m \u001b[0mPath\u001b[0m\u001b[0;34m(\u001b[0m\u001b[0mfilepath\u001b[0m\u001b[0;34m)\u001b[0m\u001b[0;34m\u001b[0m\u001b[0;34m\u001b[0m\u001b[0m\n\u001b[0;32m----> 6\u001b[0;31m     \u001b[0mwb_obj\u001b[0m \u001b[0;34m=\u001b[0m \u001b[0mopenpyxl\u001b[0m\u001b[0;34m.\u001b[0m\u001b[0mload_workbook\u001b[0m\u001b[0;34m(\u001b[0m\u001b[0mxlsx_file\u001b[0m\u001b[0;34m)\u001b[0m\u001b[0;34m\u001b[0m\u001b[0;34m\u001b[0m\u001b[0m\n\u001b[0m\u001b[1;32m      7\u001b[0m \u001b[0;34m\u001b[0m\u001b[0m\n\u001b[1;32m      8\u001b[0m     \u001b[0;31m#get sheet names\u001b[0m\u001b[0;34m\u001b[0m\u001b[0;34m\u001b[0m\u001b[0;34m\u001b[0m\u001b[0m\n",
      "\u001b[0;32m~/anaconda3/envs/DataViz/lib/python3.8/site-packages/openpyxl/reader/excel.py\u001b[0m in \u001b[0;36mload_workbook\u001b[0;34m(filename, read_only, keep_vba, data_only, keep_links)\u001b[0m\n\u001b[1;32m    313\u001b[0m \u001b[0;34m\u001b[0m\u001b[0m\n\u001b[1;32m    314\u001b[0m     \"\"\"\n\u001b[0;32m--> 315\u001b[0;31m     reader = ExcelReader(filename, read_only, keep_vba,\n\u001b[0m\u001b[1;32m    316\u001b[0m                         data_only, keep_links)\n\u001b[1;32m    317\u001b[0m     \u001b[0mreader\u001b[0m\u001b[0;34m.\u001b[0m\u001b[0mread\u001b[0m\u001b[0;34m(\u001b[0m\u001b[0;34m)\u001b[0m\u001b[0;34m\u001b[0m\u001b[0;34m\u001b[0m\u001b[0m\n",
      "\u001b[0;32m~/anaconda3/envs/DataViz/lib/python3.8/site-packages/openpyxl/reader/excel.py\u001b[0m in \u001b[0;36m__init__\u001b[0;34m(self, fn, read_only, keep_vba, data_only, keep_links)\u001b[0m\n\u001b[1;32m    122\u001b[0m     def __init__(self,  fn, read_only=False, keep_vba=KEEP_VBA,\n\u001b[1;32m    123\u001b[0m                   data_only=False, keep_links=True):\n\u001b[0;32m--> 124\u001b[0;31m         \u001b[0mself\u001b[0m\u001b[0;34m.\u001b[0m\u001b[0marchive\u001b[0m \u001b[0;34m=\u001b[0m \u001b[0m_validate_archive\u001b[0m\u001b[0;34m(\u001b[0m\u001b[0mfn\u001b[0m\u001b[0;34m)\u001b[0m\u001b[0;34m\u001b[0m\u001b[0;34m\u001b[0m\u001b[0m\n\u001b[0m\u001b[1;32m    125\u001b[0m         \u001b[0mself\u001b[0m\u001b[0;34m.\u001b[0m\u001b[0mvalid_files\u001b[0m \u001b[0;34m=\u001b[0m \u001b[0mself\u001b[0m\u001b[0;34m.\u001b[0m\u001b[0marchive\u001b[0m\u001b[0;34m.\u001b[0m\u001b[0mnamelist\u001b[0m\u001b[0;34m(\u001b[0m\u001b[0;34m)\u001b[0m\u001b[0;34m\u001b[0m\u001b[0;34m\u001b[0m\u001b[0m\n\u001b[1;32m    126\u001b[0m         \u001b[0mself\u001b[0m\u001b[0;34m.\u001b[0m\u001b[0mread_only\u001b[0m \u001b[0;34m=\u001b[0m \u001b[0mread_only\u001b[0m\u001b[0;34m\u001b[0m\u001b[0;34m\u001b[0m\u001b[0m\n",
      "\u001b[0;32m~/anaconda3/envs/DataViz/lib/python3.8/site-packages/openpyxl/reader/excel.py\u001b[0m in \u001b[0;36m_validate_archive\u001b[0;34m(filename)\u001b[0m\n\u001b[1;32m     92\u001b[0m                        \u001b[0;34m'Supported formats are: %s'\u001b[0m\u001b[0;34m)\u001b[0m \u001b[0;34m%\u001b[0m \u001b[0;34m(\u001b[0m\u001b[0mfile_format\u001b[0m\u001b[0;34m,\u001b[0m\u001b[0;34m\u001b[0m\u001b[0;34m\u001b[0m\u001b[0m\n\u001b[1;32m     93\u001b[0m                                                        ','.join(SUPPORTED_FORMATS))\n\u001b[0;32m---> 94\u001b[0;31m             \u001b[0;32mraise\u001b[0m \u001b[0mInvalidFileException\u001b[0m\u001b[0;34m(\u001b[0m\u001b[0mmsg\u001b[0m\u001b[0;34m)\u001b[0m\u001b[0;34m\u001b[0m\u001b[0;34m\u001b[0m\u001b[0m\n\u001b[0m\u001b[1;32m     95\u001b[0m \u001b[0;34m\u001b[0m\u001b[0m\n\u001b[1;32m     96\u001b[0m     \u001b[0marchive\u001b[0m \u001b[0;34m=\u001b[0m \u001b[0mZipFile\u001b[0m\u001b[0;34m(\u001b[0m\u001b[0mfilename\u001b[0m\u001b[0;34m,\u001b[0m \u001b[0;34m'r'\u001b[0m\u001b[0;34m)\u001b[0m\u001b[0;34m\u001b[0m\u001b[0;34m\u001b[0m\u001b[0m\n",
      "\u001b[0;31mInvalidFileException\u001b[0m: openpyxl does not support the old .xls file format, please use xlrd to read this file, or convert it to the more recent .xlsx file format."
     ]
    }
   ],
   "source": [
    "#get the names of all files from each directory, then test if each file has a 1045 in it.\n",
    "dirlist = list(os. listdir())\n",
    "for i in range(len(dirlist)):\n",
    "    os.chdir(dirlist[i])\n",
    "    for root, dirs, files in os.walk(\".\"):\n",
    "        for filename in files:\n",
    "            print(filename)\n",
    "            print (find1045_xlsx(filename))\n",
    "    os.chdir(\"..\")"
   ]
  },
  {
   "cell_type": "code",
   "execution_count": null,
   "metadata": {},
   "outputs": [],
   "source": [
    "filename=\"test.xlsx\""
   ]
  },
  {
   "cell_type": "code",
   "execution_count": null,
   "metadata": {},
   "outputs": [],
   "source": [
    "filename[-5:]"
   ]
  },
  {
   "cell_type": "code",
   "execution_count": 15,
   "metadata": {},
   "outputs": [
    {
     "output_type": "error",
     "ename": "FileNotFoundError",
     "evalue": "[Errno 2] No such file or directory: 'data'",
     "traceback": [
      "\u001b[0;31m---------------------------------------------------------------------------\u001b[0m",
      "\u001b[0;31mFileNotFoundError\u001b[0m                         Traceback (most recent call last)",
      "\u001b[0;32m<ipython-input-15-d4f89ee4a760>\u001b[0m in \u001b[0;36m<module>\u001b[0;34m\u001b[0m\n\u001b[0;32m----> 1\u001b[0;31m \u001b[0mos\u001b[0m\u001b[0;34m.\u001b[0m\u001b[0mchdir\u001b[0m\u001b[0;34m(\u001b[0m\u001b[0;34m\"data\"\u001b[0m\u001b[0;34m)\u001b[0m\u001b[0;34m\u001b[0m\u001b[0;34m\u001b[0m\u001b[0m\n\u001b[0m",
      "\u001b[0;31mFileNotFoundError\u001b[0m: [Errno 2] No such file or directory: 'data'"
     ]
    }
   ],
   "source": [
    "os.chdir(\"data\")"
   ]
  },
  {
   "cell_type": "code",
   "execution_count": 16,
   "metadata": {},
   "outputs": [
    {
     "output_type": "execute_result",
     "data": {
      "text/plain": [
       "'/home/ygael/Projects/healthcare/data/2020_CDM_chargemaster/San Joaquin Valley Rehab Center'"
      ]
     },
     "metadata": {},
     "execution_count": 16
    }
   ],
   "source": [
    "os.getcwd()"
   ]
  },
  {
   "cell_type": "code",
   "execution_count": 17,
   "metadata": {},
   "outputs": [],
   "source": [
    "os.chdir(\"..\")"
   ]
  },
  {
   "cell_type": "code",
   "execution_count": 18,
   "metadata": {},
   "outputs": [
    {
     "output_type": "error",
     "ename": "FileNotFoundError",
     "evalue": "[Errno 2] No such file or directory: '2020_CDM_chargemaster'",
     "traceback": [
      "\u001b[0;31m---------------------------------------------------------------------------\u001b[0m",
      "\u001b[0;31mFileNotFoundError\u001b[0m                         Traceback (most recent call last)",
      "\u001b[0;32m<ipython-input-18-2880f1bbfe9b>\u001b[0m in \u001b[0;36m<module>\u001b[0;34m\u001b[0m\n\u001b[0;32m----> 1\u001b[0;31m \u001b[0mos\u001b[0m\u001b[0;34m.\u001b[0m\u001b[0mchdir\u001b[0m\u001b[0;34m(\u001b[0m\u001b[0;34m\"2020_CDM_chargemaster\"\u001b[0m\u001b[0;34m)\u001b[0m\u001b[0;34m\u001b[0m\u001b[0;34m\u001b[0m\u001b[0m\n\u001b[0m",
      "\u001b[0;31mFileNotFoundError\u001b[0m: [Errno 2] No such file or directory: '2020_CDM_chargemaster'"
     ]
    }
   ],
   "source": [
    "os.chdir(\"2020_CDM_chargemaster\")"
   ]
  },
  {
   "cell_type": "code",
   "execution_count": 2,
   "metadata": {},
   "outputs": [],
   "source": [
    "\n",
    "    ##Getting the 1045 data\n",
    "xls_file = Path(\"/home/ygael/Projects/healthcare/data/2020_CDM_chargemaster/Emanate Health Foothill Presbyterian Hospital/106190298_Common25_2020.xls\")"
   ]
  },
  {
   "cell_type": "code",
   "execution_count": 20,
   "metadata": {},
   "outputs": [],
   "source": [
    "book = xlrd.open_workbook(xls_file)"
   ]
  },
  {
   "cell_type": "code",
   "execution_count": 21,
   "metadata": {},
   "outputs": [
    {
     "output_type": "stream",
     "name": "stdout",
     "text": [
      "The number of worksheets is 2\nWorksheet name(s): ['Top 50 List', 'AB 1045 Form']\nTop 50 List 51 3\n"
     ]
    },
    {
     "output_type": "error",
     "ename": "IndexError",
     "evalue": "list index out of range",
     "traceback": [
      "\u001b[0;31m---------------------------------------------------------------------------\u001b[0m",
      "\u001b[0;31mIndexError\u001b[0m                                Traceback (most recent call last)",
      "\u001b[0;32m<ipython-input-21-b13a28a8046e>\u001b[0m in \u001b[0;36m<module>\u001b[0;34m\u001b[0m\n\u001b[1;32m      5\u001b[0m \u001b[0msh\u001b[0m \u001b[0;34m=\u001b[0m \u001b[0mbook\u001b[0m\u001b[0;34m.\u001b[0m\u001b[0msheet_by_index\u001b[0m\u001b[0;34m(\u001b[0m\u001b[0;36m0\u001b[0m\u001b[0;34m)\u001b[0m\u001b[0;34m\u001b[0m\u001b[0;34m\u001b[0m\u001b[0m\n\u001b[1;32m      6\u001b[0m \u001b[0mprint\u001b[0m\u001b[0;34m(\u001b[0m\u001b[0;34m\"{0} {1} {2}\"\u001b[0m\u001b[0;34m.\u001b[0m\u001b[0mformat\u001b[0m\u001b[0;34m(\u001b[0m\u001b[0msh\u001b[0m\u001b[0;34m.\u001b[0m\u001b[0mname\u001b[0m\u001b[0;34m,\u001b[0m \u001b[0msh\u001b[0m\u001b[0;34m.\u001b[0m\u001b[0mnrows\u001b[0m\u001b[0;34m,\u001b[0m \u001b[0msh\u001b[0m\u001b[0;34m.\u001b[0m\u001b[0mncols\u001b[0m\u001b[0;34m)\u001b[0m\u001b[0;34m)\u001b[0m\u001b[0;34m\u001b[0m\u001b[0;34m\u001b[0m\u001b[0m\n\u001b[0;32m----> 7\u001b[0;31m \u001b[0mprint\u001b[0m\u001b[0;34m(\u001b[0m\u001b[0;34m\"Cell D30 is {0}\"\u001b[0m\u001b[0;34m.\u001b[0m\u001b[0mformat\u001b[0m\u001b[0;34m(\u001b[0m\u001b[0msh\u001b[0m\u001b[0;34m.\u001b[0m\u001b[0mcell_value\u001b[0m\u001b[0;34m(\u001b[0m\u001b[0mrowx\u001b[0m\u001b[0;34m=\u001b[0m\u001b[0;36m29\u001b[0m\u001b[0;34m,\u001b[0m \u001b[0mcolx\u001b[0m\u001b[0;34m=\u001b[0m\u001b[0;36m3\u001b[0m\u001b[0;34m)\u001b[0m\u001b[0;34m)\u001b[0m\u001b[0;34m)\u001b[0m\u001b[0;34m\u001b[0m\u001b[0;34m\u001b[0m\u001b[0m\n\u001b[0m\u001b[1;32m      8\u001b[0m \u001b[0;32mfor\u001b[0m \u001b[0mrx\u001b[0m \u001b[0;32min\u001b[0m \u001b[0mrange\u001b[0m\u001b[0;34m(\u001b[0m\u001b[0msh\u001b[0m\u001b[0;34m.\u001b[0m\u001b[0mnrows\u001b[0m\u001b[0;34m)\u001b[0m\u001b[0;34m:\u001b[0m\u001b[0;34m\u001b[0m\u001b[0;34m\u001b[0m\u001b[0m\n\u001b[1;32m      9\u001b[0m     \u001b[0mprint\u001b[0m\u001b[0;34m(\u001b[0m\u001b[0msh\u001b[0m\u001b[0;34m.\u001b[0m\u001b[0mrow\u001b[0m\u001b[0;34m(\u001b[0m\u001b[0mrx\u001b[0m\u001b[0;34m)\u001b[0m\u001b[0;34m)\u001b[0m\u001b[0;34m\u001b[0m\u001b[0;34m\u001b[0m\u001b[0m\n",
      "\u001b[0;32m~/anaconda3/envs/DataViz/lib/python3.8/site-packages/xlrd/sheet.py\u001b[0m in \u001b[0;36mcell_value\u001b[0;34m(self, rowx, colx)\u001b[0m\n\u001b[1;32m    418\u001b[0m     \u001b[0;32mdef\u001b[0m \u001b[0mcell_value\u001b[0m\u001b[0;34m(\u001b[0m\u001b[0mself\u001b[0m\u001b[0;34m,\u001b[0m \u001b[0mrowx\u001b[0m\u001b[0;34m,\u001b[0m \u001b[0mcolx\u001b[0m\u001b[0;34m)\u001b[0m\u001b[0;34m:\u001b[0m\u001b[0;34m\u001b[0m\u001b[0;34m\u001b[0m\u001b[0m\n\u001b[1;32m    419\u001b[0m         \u001b[0;34m\"Value of the cell in the given row and column.\"\u001b[0m\u001b[0;34m\u001b[0m\u001b[0;34m\u001b[0m\u001b[0m\n\u001b[0;32m--> 420\u001b[0;31m         \u001b[0;32mreturn\u001b[0m \u001b[0mself\u001b[0m\u001b[0;34m.\u001b[0m\u001b[0m_cell_values\u001b[0m\u001b[0;34m[\u001b[0m\u001b[0mrowx\u001b[0m\u001b[0;34m]\u001b[0m\u001b[0;34m[\u001b[0m\u001b[0mcolx\u001b[0m\u001b[0;34m]\u001b[0m\u001b[0;34m\u001b[0m\u001b[0;34m\u001b[0m\u001b[0m\n\u001b[0m\u001b[1;32m    421\u001b[0m \u001b[0;34m\u001b[0m\u001b[0m\n\u001b[1;32m    422\u001b[0m     \u001b[0;32mdef\u001b[0m \u001b[0mcell_type\u001b[0m\u001b[0;34m(\u001b[0m\u001b[0mself\u001b[0m\u001b[0;34m,\u001b[0m \u001b[0mrowx\u001b[0m\u001b[0;34m,\u001b[0m \u001b[0mcolx\u001b[0m\u001b[0;34m)\u001b[0m\u001b[0;34m:\u001b[0m\u001b[0;34m\u001b[0m\u001b[0;34m\u001b[0m\u001b[0m\n",
      "\u001b[0;31mIndexError\u001b[0m: list index out of range"
     ]
    }
   ],
   "source": [
    "book = xlrd.open_workbook(xls_file)\n",
    "\n",
    "print(\"The number of worksheets is {0}\".format(book.nsheets))\n",
    "print(\"Worksheet name(s): {0}\".format(book.sheet_names()))\n",
    "sh = book.sheet_by_index(0)\n",
    "print(\"{0} {1} {2}\".format(sh.name, sh.nrows, sh.ncols))\n",
    "print(\"Cell D30 is {0}\".format(sh.cell_value(rowx=29, colx=3)))\n",
    "for rx in range(sh.nrows):\n",
    "    print(sh.row(rx))"
   ]
  },
  {
   "cell_type": "code",
   "execution_count": 27,
   "metadata": {},
   "outputs": [],
   "source": [
    "#Function to extract 1045 sheet from xls file (not name, whole sheet)\n",
    "\n",
    "def find1045_xls(filepath):\n",
    "    #read file\n",
    "    xls_file = Path(filepath)\n",
    "    book = xlrd.open_workbook(xls_file)\n",
    "\n",
    "    #get sheet names\n",
    "    sheetnames=(\"{0}\".format(book.sheet_names()))\n",
    "    sheetnames= ast.literal_eval(sheetnames)\n",
    "\n",
    "\n",
    "#Create a keywords list to identify ABS 1045 forms\n",
    "    keywords= [\"common\", \"procedures\", \"1045\", \"form\"]\n",
    "\n",
    "#Search for the sheet by keyword\n",
    "    for name in sheetnames:\n",
    "        wholename=name.lower()\n",
    "        wordsInName=wholename.split()\n",
    "        match =  any(item in wordsInName for item in keywords)\n",
    "        if match==True:\n",
    "            cur_sheet = book.sheet_by_name(name)\n",
    "            return(cur_sheet)\n",
    "            break\n"
   ]
  },
  {
   "cell_type": "code",
   "execution_count": 35,
   "metadata": {},
   "outputs": [
    {
     "output_type": "error",
     "ename": "AttributeError",
     "evalue": "'PosixPath' object has no attribute 'read'",
     "traceback": [
      "\u001b[0;31m---------------------------------------------------------------------------\u001b[0m",
      "\u001b[0;31mAttributeError\u001b[0m                            Traceback (most recent call last)",
      "\u001b[0;32m<ipython-input-35-abc5122b3487>\u001b[0m in \u001b[0;36m<module>\u001b[0;34m\u001b[0m\n\u001b[0;32m----> 1\u001b[0;31m \u001b[0mx2x\u001b[0m \u001b[0;34m=\u001b[0m \u001b[0mXLS2XLSX\u001b[0m\u001b[0;34m(\u001b[0m\u001b[0mxls_file\u001b[0m\u001b[0;34m)\u001b[0m\u001b[0;34m\u001b[0m\u001b[0;34m\u001b[0m\u001b[0m\n\u001b[0m",
      "\u001b[0;32m~/anaconda3/envs/DataViz/lib/python3.8/site-packages/xls2xlsx/xls2xlsx.py\u001b[0m in \u001b[0;36m__init__\u001b[0;34m(self, f, dirname)\u001b[0m\n\u001b[1;32m     37\u001b[0m             \u001b[0;32mif\u001b[0m \u001b[0misinstance\u001b[0m\u001b[0;34m(\u001b[0m\u001b[0mf\u001b[0m\u001b[0;34m,\u001b[0m \u001b[0mstr\u001b[0m\u001b[0;34m)\u001b[0m\u001b[0;34m:\u001b[0m\u001b[0;34m\u001b[0m\u001b[0;34m\u001b[0m\u001b[0m\n\u001b[1;32m     38\u001b[0m                 \u001b[0mself\u001b[0m\u001b[0;34m.\u001b[0m\u001b[0mdirname\u001b[0m \u001b[0;34m=\u001b[0m \u001b[0mos\u001b[0m\u001b[0;34m.\u001b[0m\u001b[0mpath\u001b[0m\u001b[0;34m.\u001b[0m\u001b[0msplit\u001b[0m\u001b[0;34m(\u001b[0m\u001b[0mf\u001b[0m\u001b[0;34m)\u001b[0m\u001b[0;34m[\u001b[0m\u001b[0;36m0\u001b[0m\u001b[0;34m]\u001b[0m\u001b[0;34m\u001b[0m\u001b[0;34m\u001b[0m\u001b[0m\n\u001b[0;32m---> 39\u001b[0;31m             \u001b[0mself\u001b[0m\u001b[0;34m.\u001b[0m\u001b[0mcontents\u001b[0m \u001b[0;34m=\u001b[0m \u001b[0mXLS2XLSX\u001b[0m\u001b[0;34m.\u001b[0m\u001b[0mread\u001b[0m\u001b[0;34m(\u001b[0m\u001b[0mf\u001b[0m\u001b[0;34m)\u001b[0m\u001b[0;34m\u001b[0m\u001b[0;34m\u001b[0m\u001b[0m\n\u001b[0m\u001b[1;32m     40\u001b[0m \u001b[0;34m\u001b[0m\u001b[0m\n\u001b[1;32m     41\u001b[0m         \u001b[0mself\u001b[0m\u001b[0;34m.\u001b[0m\u001b[0mh2x\u001b[0m \u001b[0;34m=\u001b[0m \u001b[0;32mNone\u001b[0m\u001b[0;34m\u001b[0m\u001b[0;34m\u001b[0m\u001b[0m\n",
      "\u001b[0;32m~/anaconda3/envs/DataViz/lib/python3.8/site-packages/xls2xlsx/xls2xlsx.py\u001b[0m in \u001b[0;36mread\u001b[0;34m(f, retries)\u001b[0m\n\u001b[1;32m     67\u001b[0m                 \u001b[0;32mreturn\u001b[0m \u001b[0mt\u001b[0m\u001b[0;34m.\u001b[0m\u001b[0mread\u001b[0m\u001b[0;34m(\u001b[0m\u001b[0;34m)\u001b[0m\u001b[0;34m\u001b[0m\u001b[0;34m\u001b[0m\u001b[0m\n\u001b[1;32m     68\u001b[0m         \u001b[0;32melse\u001b[0m\u001b[0;34m:\u001b[0m\u001b[0;34m\u001b[0m\u001b[0;34m\u001b[0m\u001b[0m\n\u001b[0;32m---> 69\u001b[0;31m             \u001b[0;32mreturn\u001b[0m \u001b[0mf\u001b[0m\u001b[0;34m.\u001b[0m\u001b[0mread\u001b[0m\u001b[0;34m(\u001b[0m\u001b[0;34m)\u001b[0m\u001b[0;34m\u001b[0m\u001b[0;34m\u001b[0m\u001b[0m\n\u001b[0m\u001b[1;32m     70\u001b[0m \u001b[0;34m\u001b[0m\u001b[0m\n\u001b[1;32m     71\u001b[0m     \u001b[0;32mdef\u001b[0m \u001b[0mxls_date_to_xlsx\u001b[0m\u001b[0;34m(\u001b[0m\u001b[0mself\u001b[0m\u001b[0;34m,\u001b[0m \u001b[0mvalue\u001b[0m\u001b[0;34m)\u001b[0m\u001b[0;34m:\u001b[0m\u001b[0;34m\u001b[0m\u001b[0;34m\u001b[0m\u001b[0m\n",
      "\u001b[0;31mAttributeError\u001b[0m: 'PosixPath' object has no attribute 'read'"
     ]
    }
   ],
   "source": [
    "x2x = XLS2XLSX(xls_file)\n"
   ]
  },
  {
   "cell_type": "code",
   "execution_count": 36,
   "metadata": {},
   "outputs": [
    {
     "output_type": "error",
     "ename": "AttributeError",
     "evalue": "'PosixPath' object has no attribute 'read'",
     "traceback": [
      "\u001b[0;31m---------------------------------------------------------------------------\u001b[0m",
      "\u001b[0;31mAttributeError\u001b[0m                            Traceback (most recent call last)",
      "\u001b[0;32m<ipython-input-36-401dc464de5b>\u001b[0m in \u001b[0;36m<module>\u001b[0;34m\u001b[0m\n\u001b[1;32m      1\u001b[0m \u001b[0;32mfrom\u001b[0m \u001b[0mxls2xlsx\u001b[0m \u001b[0;32mimport\u001b[0m \u001b[0mXLS2XLSX\u001b[0m\u001b[0;34m\u001b[0m\u001b[0;34m\u001b[0m\u001b[0m\n\u001b[0;32m----> 2\u001b[0;31m \u001b[0mx2x\u001b[0m \u001b[0;34m=\u001b[0m \u001b[0mXLS2XLSX\u001b[0m\u001b[0;34m(\u001b[0m\u001b[0mxls_file\u001b[0m\u001b[0;34m)\u001b[0m\u001b[0;34m\u001b[0m\u001b[0;34m\u001b[0m\u001b[0m\n\u001b[0m\u001b[1;32m      3\u001b[0m \u001b[0mwb\u001b[0m \u001b[0;34m=\u001b[0m \u001b[0mx2x\u001b[0m\u001b[0;34m.\u001b[0m\u001b[0mto_xlsx\u001b[0m\u001b[0;34m(\u001b[0m\u001b[0;34m)\u001b[0m\u001b[0;34m\u001b[0m\u001b[0;34m\u001b[0m\u001b[0m\n",
      "\u001b[0;32m~/anaconda3/envs/DataViz/lib/python3.8/site-packages/xls2xlsx/xls2xlsx.py\u001b[0m in \u001b[0;36m__init__\u001b[0;34m(self, f, dirname)\u001b[0m\n\u001b[1;32m     37\u001b[0m             \u001b[0;32mif\u001b[0m \u001b[0misinstance\u001b[0m\u001b[0;34m(\u001b[0m\u001b[0mf\u001b[0m\u001b[0;34m,\u001b[0m \u001b[0mstr\u001b[0m\u001b[0;34m)\u001b[0m\u001b[0;34m:\u001b[0m\u001b[0;34m\u001b[0m\u001b[0;34m\u001b[0m\u001b[0m\n\u001b[1;32m     38\u001b[0m                 \u001b[0mself\u001b[0m\u001b[0;34m.\u001b[0m\u001b[0mdirname\u001b[0m \u001b[0;34m=\u001b[0m \u001b[0mos\u001b[0m\u001b[0;34m.\u001b[0m\u001b[0mpath\u001b[0m\u001b[0;34m.\u001b[0m\u001b[0msplit\u001b[0m\u001b[0;34m(\u001b[0m\u001b[0mf\u001b[0m\u001b[0;34m)\u001b[0m\u001b[0;34m[\u001b[0m\u001b[0;36m0\u001b[0m\u001b[0;34m]\u001b[0m\u001b[0;34m\u001b[0m\u001b[0;34m\u001b[0m\u001b[0m\n\u001b[0;32m---> 39\u001b[0;31m             \u001b[0mself\u001b[0m\u001b[0;34m.\u001b[0m\u001b[0mcontents\u001b[0m \u001b[0;34m=\u001b[0m \u001b[0mXLS2XLSX\u001b[0m\u001b[0;34m.\u001b[0m\u001b[0mread\u001b[0m\u001b[0;34m(\u001b[0m\u001b[0mf\u001b[0m\u001b[0;34m)\u001b[0m\u001b[0;34m\u001b[0m\u001b[0;34m\u001b[0m\u001b[0m\n\u001b[0m\u001b[1;32m     40\u001b[0m \u001b[0;34m\u001b[0m\u001b[0m\n\u001b[1;32m     41\u001b[0m         \u001b[0mself\u001b[0m\u001b[0;34m.\u001b[0m\u001b[0mh2x\u001b[0m \u001b[0;34m=\u001b[0m \u001b[0;32mNone\u001b[0m\u001b[0;34m\u001b[0m\u001b[0;34m\u001b[0m\u001b[0m\n",
      "\u001b[0;32m~/anaconda3/envs/DataViz/lib/python3.8/site-packages/xls2xlsx/xls2xlsx.py\u001b[0m in \u001b[0;36mread\u001b[0;34m(f, retries)\u001b[0m\n\u001b[1;32m     67\u001b[0m                 \u001b[0;32mreturn\u001b[0m \u001b[0mt\u001b[0m\u001b[0;34m.\u001b[0m\u001b[0mread\u001b[0m\u001b[0;34m(\u001b[0m\u001b[0;34m)\u001b[0m\u001b[0;34m\u001b[0m\u001b[0;34m\u001b[0m\u001b[0m\n\u001b[1;32m     68\u001b[0m         \u001b[0;32melse\u001b[0m\u001b[0;34m:\u001b[0m\u001b[0;34m\u001b[0m\u001b[0;34m\u001b[0m\u001b[0m\n\u001b[0;32m---> 69\u001b[0;31m             \u001b[0;32mreturn\u001b[0m \u001b[0mf\u001b[0m\u001b[0;34m.\u001b[0m\u001b[0mread\u001b[0m\u001b[0;34m(\u001b[0m\u001b[0;34m)\u001b[0m\u001b[0;34m\u001b[0m\u001b[0;34m\u001b[0m\u001b[0m\n\u001b[0m\u001b[1;32m     70\u001b[0m \u001b[0;34m\u001b[0m\u001b[0m\n\u001b[1;32m     71\u001b[0m     \u001b[0;32mdef\u001b[0m \u001b[0mxls_date_to_xlsx\u001b[0m\u001b[0;34m(\u001b[0m\u001b[0mself\u001b[0m\u001b[0;34m,\u001b[0m \u001b[0mvalue\u001b[0m\u001b[0;34m)\u001b[0m\u001b[0;34m:\u001b[0m\u001b[0;34m\u001b[0m\u001b[0;34m\u001b[0m\u001b[0m\n",
      "\u001b[0;31mAttributeError\u001b[0m: 'PosixPath' object has no attribute 'read'"
     ]
    }
   ],
   "source": [
    "from xls2xlsx import XLS2XLSX\n",
    "x2x = XLS2XLSX(xls_file)\n",
    "wb = x2x.to_xlsx()"
   ]
  },
  {
   "cell_type": "code",
   "execution_count": null,
   "metadata": {},
   "outputs": [],
   "source": [
    "884\n",
    "\n",
    ">>> import ast\n",
    ">>> x = '[ \"A\",\"B\",\"C\" , \" D\"]'\n",
    ">>> x = ast.literal_eval(x)\n",
    ">>> x\n",
    "['A', 'B', 'C', ' D']\n",
    ">>> x = [n.strip() for n in x]\n",
    ">>> x\n",
    "['A', 'B', 'C', 'D']"
   ]
  },
  {
   "cell_type": "code",
   "execution_count": null,
   "metadata": {},
   "outputs": [],
   "source": [
    "\n",
    "import xlrd\n",
    "from openpyxl.workbook import Workbook as openpyxlWorkbook\n",
    "\n",
    "# content is a string containing the file. For example the result of an http.request(url).\n",
    "# You can also use a filepath by calling \"xlrd.open_workbook(filepath)\".\n",
    "\n",
    "xlsBook = xlrd.open_workbook(file_contents=content)\n",
    "workbook = openpyxlWorkbook()\n",
    "\n",
    "for i in xrange(0, xlsBook.nsheets):\n",
    "    xlsSheet = xlsBook.sheet_by_index(i)\n",
    "    sheet = workbook.active if i == 0 else workbook.create_sheet()\n",
    "    sheet.title = xlsSheet.name\n",
    "\n",
    "    for row in xrange(0, xlsSheet.nrows):\n",
    "        for col in xrange(0, xlsSheet.ncols):\n",
    "            sheet.cell(row=row + 1, column=col + 1).value = xlsSheet.cell_value(row, col)\n",
    "\n",
    "# The new xlsx file is in \"workbook\", without iterators (iter_rows).\n",
    "# For iteration, use \"for row in worksheet.rows:\".\n",
    "# For range iteration, use \"for row in worksheet.range(\"{}:{}\".format(startCell, endCell)):\"."
   ]
  },
  {
   "cell_type": "code",
   "execution_count": 98,
   "metadata": {},
   "outputs": [],
   "source": [
    "#Iterate through files and convert all xls files to xlsx, removing the original file\n",
    "def convert(filename):\n",
    "    p.save_book_as(file_name=f\"{filename}\",\n",
    "                dest_file_name=f\"{filename[:-4]}.xlsx\")"
   ]
  },
  {
   "cell_type": "code",
   "execution_count": 4,
   "metadata": {},
   "outputs": [
    {
     "output_type": "error",
     "ename": "Exception",
     "evalue": "file_name should be a string",
     "traceback": [
      "\u001b[0;31m---------------------------------------------------------------------------\u001b[0m",
      "\u001b[0;31mAttributeError\u001b[0m                            Traceback (most recent call last)",
      "\u001b[0;32m~/anaconda3/envs/DataViz/lib/python3.8/site-packages/pyexcel_io/io.py\u001b[0m in \u001b[0;36mload_data\u001b[0;34m(file_name, file_content, file_stream, file_type, force_file_type, sheet_name, sheet_index, sheets, library, streaming, **keywords)\u001b[0m\n\u001b[1;32m    179\u001b[0m             \u001b[0;32mtry\u001b[0m\u001b[0;34m:\u001b[0m\u001b[0;34m\u001b[0m\u001b[0;34m\u001b[0m\u001b[0m\n\u001b[0;32m--> 180\u001b[0;31m                 \u001b[0mfile_type\u001b[0m \u001b[0;34m=\u001b[0m \u001b[0mfile_name\u001b[0m\u001b[0;34m.\u001b[0m\u001b[0msplit\u001b[0m\u001b[0;34m(\u001b[0m\u001b[0;34m\".\"\u001b[0m\u001b[0;34m)\u001b[0m\u001b[0;34m[\u001b[0m\u001b[0;34m-\u001b[0m\u001b[0;36m1\u001b[0m\u001b[0;34m]\u001b[0m\u001b[0;34m\u001b[0m\u001b[0;34m\u001b[0m\u001b[0m\n\u001b[0m\u001b[1;32m    181\u001b[0m             \u001b[0;32mexcept\u001b[0m \u001b[0mAttributeError\u001b[0m\u001b[0;34m:\u001b[0m\u001b[0;34m\u001b[0m\u001b[0;34m\u001b[0m\u001b[0m\n",
      "\u001b[0;31mAttributeError\u001b[0m: 'PosixPath' object has no attribute 'split'",
      "\nDuring handling of the above exception, another exception occurred:\n",
      "\u001b[0;31mException\u001b[0m                                 Traceback (most recent call last)",
      "\u001b[0;32m<ipython-input-4-1e9b1a629564>\u001b[0m in \u001b[0;36m<module>\u001b[0;34m\u001b[0m\n\u001b[1;32m      1\u001b[0m \u001b[0;32mfrom\u001b[0m \u001b[0mpyexcel_xls\u001b[0m \u001b[0;32mimport\u001b[0m \u001b[0mget_data\u001b[0m\u001b[0;34m\u001b[0m\u001b[0;34m\u001b[0m\u001b[0m\n\u001b[0;32m----> 2\u001b[0;31m \u001b[0mdata\u001b[0m \u001b[0;34m=\u001b[0m \u001b[0mget_data\u001b[0m\u001b[0;34m(\u001b[0m\u001b[0mxls_file\u001b[0m\u001b[0;34m)\u001b[0m\u001b[0;34m\u001b[0m\u001b[0;34m\u001b[0m\u001b[0m\n\u001b[0m",
      "\u001b[0;32m~/anaconda3/envs/DataViz/lib/python3.8/site-packages/pyexcel_xls/__init__.py\u001b[0m in \u001b[0;36mget_data\u001b[0;34m(afile, file_type, **keywords)\u001b[0m\n\u001b[1;32m     47\u001b[0m     \u001b[0;32mif\u001b[0m \u001b[0misstream\u001b[0m\u001b[0;34m(\u001b[0m\u001b[0mafile\u001b[0m\u001b[0;34m)\u001b[0m \u001b[0;32mand\u001b[0m \u001b[0mfile_type\u001b[0m \u001b[0;32mis\u001b[0m \u001b[0;32mNone\u001b[0m\u001b[0;34m:\u001b[0m\u001b[0;34m\u001b[0m\u001b[0;34m\u001b[0m\u001b[0m\n\u001b[1;32m     48\u001b[0m         \u001b[0mfile_type\u001b[0m \u001b[0;34m=\u001b[0m \u001b[0m__FILE_TYPE__\u001b[0m\u001b[0;34m\u001b[0m\u001b[0;34m\u001b[0m\u001b[0m\n\u001b[0;32m---> 49\u001b[0;31m     \u001b[0;32mreturn\u001b[0m \u001b[0mread_data\u001b[0m\u001b[0;34m(\u001b[0m\u001b[0mafile\u001b[0m\u001b[0;34m,\u001b[0m \u001b[0mfile_type\u001b[0m\u001b[0;34m=\u001b[0m\u001b[0mfile_type\u001b[0m\u001b[0;34m,\u001b[0m \u001b[0;34m**\u001b[0m\u001b[0mkeywords\u001b[0m\u001b[0;34m)\u001b[0m\u001b[0;34m\u001b[0m\u001b[0;34m\u001b[0m\u001b[0m\n\u001b[0m\u001b[1;32m     50\u001b[0m \u001b[0;34m\u001b[0m\u001b[0m\n\u001b[1;32m     51\u001b[0m \u001b[0;34m\u001b[0m\u001b[0m\n",
      "\u001b[0;32m~/anaconda3/envs/DataViz/lib/python3.8/site-packages/pyexcel_io/io.py\u001b[0m in \u001b[0;36mget_data\u001b[0;34m(afile, file_type, streaming, **keywords)\u001b[0m\n\u001b[1;32m     84\u001b[0m     \u001b[0;32mif\u001b[0m \u001b[0mstreaming\u001b[0m \u001b[0;32mis\u001b[0m \u001b[0;32mnot\u001b[0m \u001b[0;32mNone\u001b[0m \u001b[0;32mand\u001b[0m \u001b[0mstreaming\u001b[0m \u001b[0;32mis\u001b[0m \u001b[0;32mTrue\u001b[0m\u001b[0;34m:\u001b[0m\u001b[0;34m\u001b[0m\u001b[0;34m\u001b[0m\u001b[0m\n\u001b[1;32m     85\u001b[0m         \u001b[0mwarnings\u001b[0m\u001b[0;34m.\u001b[0m\u001b[0mwarn\u001b[0m\u001b[0;34m(\u001b[0m\u001b[0;34m\"Please use iget_data instead\"\u001b[0m\u001b[0;34m)\u001b[0m\u001b[0;34m\u001b[0m\u001b[0;34m\u001b[0m\u001b[0m\n\u001b[0;32m---> 86\u001b[0;31m     data, _ = _get_data(\n\u001b[0m\u001b[1;32m     87\u001b[0m         \u001b[0mafile\u001b[0m\u001b[0;34m,\u001b[0m \u001b[0mfile_type\u001b[0m\u001b[0;34m=\u001b[0m\u001b[0mfile_type\u001b[0m\u001b[0;34m,\u001b[0m \u001b[0mstreaming\u001b[0m\u001b[0;34m=\u001b[0m\u001b[0;32mFalse\u001b[0m\u001b[0;34m,\u001b[0m \u001b[0;34m**\u001b[0m\u001b[0mkeywords\u001b[0m\u001b[0;34m\u001b[0m\u001b[0;34m\u001b[0m\u001b[0m\n\u001b[1;32m     88\u001b[0m     )\n",
      "\u001b[0;32m~/anaconda3/envs/DataViz/lib/python3.8/site-packages/pyexcel_io/io.py\u001b[0m in \u001b[0;36m_get_data\u001b[0;34m(afile, file_type, **keywords)\u001b[0m\n\u001b[1;32m    103\u001b[0m         \u001b[0;32melse\u001b[0m\u001b[0;34m:\u001b[0m\u001b[0;34m\u001b[0m\u001b[0;34m\u001b[0m\u001b[0m\n\u001b[1;32m    104\u001b[0m             \u001b[0mkeywords\u001b[0m\u001b[0;34m.\u001b[0m\u001b[0mupdate\u001b[0m\u001b[0;34m(\u001b[0m\u001b[0mdict\u001b[0m\u001b[0;34m(\u001b[0m\u001b[0mfile_content\u001b[0m\u001b[0;34m=\u001b[0m\u001b[0mafile\u001b[0m\u001b[0;34m,\u001b[0m \u001b[0mfile_type\u001b[0m\u001b[0;34m=\u001b[0m\u001b[0mfile_type\u001b[0m\u001b[0;34m)\u001b[0m\u001b[0;34m)\u001b[0m\u001b[0;34m\u001b[0m\u001b[0;34m\u001b[0m\u001b[0m\n\u001b[0;32m--> 105\u001b[0;31m     \u001b[0;32mreturn\u001b[0m \u001b[0mload_data\u001b[0m\u001b[0;34m(\u001b[0m\u001b[0;34m**\u001b[0m\u001b[0mkeywords\u001b[0m\u001b[0;34m)\u001b[0m\u001b[0;34m\u001b[0m\u001b[0;34m\u001b[0m\u001b[0m\n\u001b[0m\u001b[1;32m    106\u001b[0m \u001b[0;34m\u001b[0m\u001b[0m\n\u001b[1;32m    107\u001b[0m \u001b[0;34m\u001b[0m\u001b[0m\n",
      "\u001b[0;32m~/anaconda3/envs/DataViz/lib/python3.8/site-packages/pyexcel_io/io.py\u001b[0m in \u001b[0;36mload_data\u001b[0;34m(file_name, file_content, file_stream, file_type, force_file_type, sheet_name, sheet_index, sheets, library, streaming, **keywords)\u001b[0m\n\u001b[1;32m    180\u001b[0m                 \u001b[0mfile_type\u001b[0m \u001b[0;34m=\u001b[0m \u001b[0mfile_name\u001b[0m\u001b[0;34m.\u001b[0m\u001b[0msplit\u001b[0m\u001b[0;34m(\u001b[0m\u001b[0;34m\".\"\u001b[0m\u001b[0;34m)\u001b[0m\u001b[0;34m[\u001b[0m\u001b[0;34m-\u001b[0m\u001b[0;36m1\u001b[0m\u001b[0;34m]\u001b[0m\u001b[0;34m\u001b[0m\u001b[0;34m\u001b[0m\u001b[0m\n\u001b[1;32m    181\u001b[0m             \u001b[0;32mexcept\u001b[0m \u001b[0mAttributeError\u001b[0m\u001b[0;34m:\u001b[0m\u001b[0;34m\u001b[0m\u001b[0;34m\u001b[0m\u001b[0m\n\u001b[0;32m--> 182\u001b[0;31m                 \u001b[0;32mraise\u001b[0m \u001b[0mException\u001b[0m\u001b[0;34m(\u001b[0m\u001b[0mconstants\u001b[0m\u001b[0;34m.\u001b[0m\u001b[0mMESSAGE_FILE_NAME_SHOULD_BE_STRING\u001b[0m\u001b[0;34m)\u001b[0m\u001b[0;34m\u001b[0m\u001b[0;34m\u001b[0m\u001b[0m\n\u001b[0m\u001b[1;32m    183\u001b[0m \u001b[0;34m\u001b[0m\u001b[0m\n\u001b[1;32m    184\u001b[0m     \u001b[0;32mtry\u001b[0m\u001b[0;34m:\u001b[0m\u001b[0;34m\u001b[0m\u001b[0;34m\u001b[0m\u001b[0m\n",
      "\u001b[0;31mException\u001b[0m: file_name should be a string"
     ]
    }
   ],
   "source": [
    "from pyexcel_xls import get_data\n",
    "data = get_data(xls_file)\n"
   ]
  },
  {
   "cell_type": "code",
   "execution_count": 54,
   "metadata": {},
   "outputs": [],
   "source": [
    "cwd=os.getcwd()"
   ]
  },
  {
   "cell_type": "code",
   "execution_count": 56,
   "metadata": {},
   "outputs": [
    {
     "output_type": "execute_result",
     "data": {
      "text/plain": [
       "'/home/ygael/Projects/healthcare/data/2019_CDM_chargemaster'"
      ]
     },
     "metadata": {},
     "execution_count": 56
    }
   ],
   "source": [
    "os.getcwd()"
   ]
  },
  {
   "cell_type": "code",
   "execution_count": 52,
   "metadata": {},
   "outputs": [],
   "source": [
    "os.chdir(\"..\")"
   ]
  },
  {
   "cell_type": "code",
   "execution_count": 53,
   "metadata": {},
   "outputs": [
    {
     "output_type": "execute_result",
     "data": {
      "text/plain": [
       "'/home/ygael/Projects/healthcare/data/2020_CDM_chargemaster'"
      ]
     },
     "metadata": {},
     "execution_count": 53
    }
   ],
   "source": [
    "cwd"
   ]
  },
  {
   "cell_type": "code",
   "execution_count": 15,
   "metadata": {},
   "outputs": [],
   "source": [
    "os.chdir(\"data\")"
   ]
  },
  {
   "cell_type": "code",
   "execution_count": 17,
   "metadata": {},
   "outputs": [],
   "source": [
    "os.chdir(\"2020_CDM_chargemaster\")"
   ]
  },
  {
   "cell_type": "code",
   "execution_count": 99,
   "metadata": {},
   "outputs": [],
   "source": [
    "#A function to convert all files in subfolders starting from the absolute filepath of the year's chargemaster folder\n",
    "\n",
    "def convertfrom(directory):\n",
    "    #Use absolute path to move to the directory containing all hospital folders\n",
    "    os.chdir(directory)\n",
    "    #save current working directory to a variable\n",
    "    cwd=os.getcwd()\n",
    "    #Convert all files to xlsx format\n",
    "    dirlist = list(os. listdir())\n",
    "    for i in range(len(dirlist)):\n",
    "        os.chdir(dirlist[i])\n",
    "        for root, dirs, files in os.walk(\".\"):\n",
    "            for filename in files:\n",
    "                if filename[-3:]==\"xls\":\n",
    "                    convert(filename)\n",
    "                    os.remove(filename)\n",
    "                else:\n",
    "                    print(filename)\n",
    "                    print(\"no\")\n",
    "        os.chdir(\"..\")\n",
    "    os.chdir(cwd)"
   ]
  },
  {
   "cell_type": "code",
   "execution_count": 100,
   "metadata": {},
   "outputs": [
    {
     "output_type": "stream",
     "name": "stdout",
     "text": [
      "106331194_Common25_2019.xlsx\n",
      "no\n",
      "106331194_CDM_2019.xlsx\n",
      "no\n",
      "Thumbs.db\n",
      "no\n",
      "106331194_PCT_CHG_2019.xlsx\n",
      "no\n",
      "106301258_CDM_2019.xlsx\n",
      "no\n",
      "106301258_PCT_CHG_2019.xlsx\n",
      "no\n",
      "106301258_Common25_2019.xlsx\n",
      "no\n",
      "106190382_CDM_2019.xlsx\n",
      "no\n",
      "106190382_Common25_2019.xlsx\n",
      "no\n",
      "Thumbs.db\n",
      "no\n",
      "106190382_PCT_CHG_2019.xlsx\n",
      "no\n",
      "106390923_CDM_All_2019.xlsx\n",
      "no\n",
      "106104023_CDM_All_2019.xls.xlsx\n",
      "no\n",
      "106370730_PCT_CHG_2019.xlsx\n",
      "no\n",
      "106374465_Common25_2019.xlsx\n",
      "no\n",
      "106370730_Common25_2019.xlsx\n",
      "no\n",
      "Thumbs.db\n",
      "no\n",
      "106370730_CDM_2019.xlsx\n",
      "no\n",
      "106361339_CDM_All_2019.xlsx\n",
      "no\n",
      "Thumbs.db\n",
      "no\n",
      "106314024_Common25_2019.xlsx\n",
      "no\n",
      "106314024_PCT_CHG_2019.xls.xlsx\n",
      "no\n",
      "Thumbs.db\n",
      "no\n",
      "2019 NCAL CDM Final.xlsx\n",
      "no\n",
      "106560473_CDM_All_2019.xlsx\n",
      "no\n",
      "106190197_Common25_2019.xlsx\n",
      "no\n",
      "106190197_Comments_2019.docx\n",
      "no\n",
      "106190197_CDM_2019.xlsx\n",
      "no\n",
      "106331293_CDM_All_2019.xlsx\n",
      "no\n",
      "106015000_Common25_2019.xlsx\n",
      "no\n",
      "106015000_CDM_2019.xlsx\n",
      "no\n",
      "Thumbs.db\n",
      "no\n",
      "106015000_PCT_CHG_2019.xls.xlsx\n",
      "no\n",
      "106391010_CDM_2019.xlsx\n",
      "no\n",
      "106391010_Comments_2019.doc\n",
      "no\n",
      "106391010_Common25_2019.xlsx\n",
      "no\n",
      "106391010_PCT_CHG_2019.xlsx\n",
      "no\n",
      "106420522_CDM_All_2019.xlsx\n",
      "no\n",
      "Thumbs.db\n",
      "no\n",
      "106370749_Common25_2019.xlsx\n",
      "no\n",
      "106370749_CDM_2019.xlsx\n",
      "no\n",
      ".~lock.106370749_Common25_2019.xlsx#\n",
      "no\n",
      "106370749_Comments_2019.docx\n",
      "no\n",
      "106301342_CDM_All_2019.xlsx\n",
      "no\n",
      "Thumbs.db\n",
      "no\n",
      "106560501_CDM_All_2019.xlsx\n",
      "no\n",
      "106190034_CDM_All_2019.xlsx\n",
      "no\n",
      "Thumbs.db\n",
      "no\n",
      "106450940_CDM_All_2019.xlsx\n",
      "no\n",
      "Thumbs.db\n",
      "no\n",
      "106130699_CDM_All_2019.xlsx\n",
      "no\n",
      "Thumbs.db\n",
      "no\n",
      "106190812_CDM_All_2019.xlsx\n",
      "no\n",
      "106270875_CDM_All_2019.xlsx\n",
      "no\n",
      "Thumbs.db\n",
      "no\n",
      "160281266_CDM_All_2019.xls.xlsx\n",
      "no\n",
      "Thumbs.db\n",
      "no\n",
      "106150782_Common25_2019.xls.xlsx\n",
      "no\n",
      "106150782_PCT_CHG_2019.xls.xlsx\n",
      "no\n",
      "106150782_CDM_2019.xls.xlsx\n",
      "no\n",
      "Thumbs.db\n",
      "no\n",
      "106380964_CDM_All_2019.xlsx\n",
      "no\n",
      "106380964_Comments_2019.docx\n",
      "no\n",
      "Thumbs.db\n",
      "no\n",
      "106190462_CDM_All_2019.xls.xlsx\n",
      "no\n",
      "Thumbs.db\n",
      "no\n",
      "106311000_CDM_All_2019.xlsx\n",
      "no\n",
      "106311000_Comments_2019.docx\n",
      "no\n",
      "Thumbs.db\n",
      "no\n",
      "106390846_CDM_All_2019.xlsx\n",
      "no\n",
      "Thumbs.db\n",
      "no\n",
      "106281078_CDM_All_2019.xlsx\n",
      "no\n",
      "106190630_CDM_2019.xlsx\n",
      "no\n",
      "106190630_Common25_2019.xlsx\n",
      "no\n",
      "106190630_PCT_CHG_2019.xls.xlsx\n",
      "no\n",
      "Thumbs.db\n",
      "no\n",
      "106281047_CDM_All_2019.xlsx\n",
      "no\n",
      "Thumbs.db\n",
      "no\n",
      "106190766_Comments_2019.docx\n",
      "no\n",
      "106190766_CDM_2019.xlsx\n",
      "no\n",
      "106190766_Common25_2019.xlsx\n",
      "no\n",
      "106504038_CDM_All_2019.xlsx\n",
      "no\n",
      "Thumbs.db\n",
      "no\n",
      "106190521_Common25_2019.xlsx\n",
      "no\n",
      "106190521_Comments_2019.docx\n",
      "no\n",
      "106190521_CDM_2019.xlsx\n",
      "no\n",
      "106270777_CDM_All_2019.xlsx\n",
      "no\n",
      "106270777_Comments_2019.xlsx\n",
      "no\n",
      "Thumbs.db\n",
      "no\n",
      "106194219_CDM_All_2019.xls.xlsx\n",
      "no\n",
      "106334068_CDM_2019.xlsx\n",
      "no\n",
      "106334068_Common25_2019.xlsx\n",
      "no\n",
      "106334068_Comments_2019.pdf\n",
      "no\n",
      "Thumbs.db\n",
      "no\n",
      "106121031_PCT_CHG_2019.xlsx\n",
      "no\n",
      "106121031_Common25_2019.xlsx\n",
      "no\n",
      "106121031_CDM_2019.xls.xlsx\n",
      "no\n",
      "106434040_Comments(2)_2019.docx\n",
      "no\n",
      "106434040_Common25_2019.xlsx\n",
      "no\n",
      "106434040_CDM_2019.xlsx\n",
      "no\n",
      "106434040_Comments(1)_2019.docx\n",
      "no\n",
      "106364231_PCT_CHG_2019.xls.xlsx\n",
      "no\n",
      "106364231_Common25_2019.xlsx\n",
      "no\n",
      "Thumbs.db\n",
      "no\n",
      "106364231_CDM_2019.xlsx\n",
      "no\n",
      "106364231_CDM_RX_2019.xlsx\n",
      "no\n",
      "106301188_Common25_2019.xlsx\n",
      "no\n",
      "106301188_CDM_2019.xlsx\n",
      "no\n",
      "106301188_PCT_CHG_2019.xlsx\n",
      "no\n",
      "106434153_CDM_2019.xlsx\n",
      "no\n",
      "106434153_Common25_2019.xlsx\n",
      "no\n",
      "106434153_PCT_CHG_2019.xls.xlsx\n",
      "no\n",
      "Thumbs.db\n",
      "no\n",
      "106014233_Comments_2019.docx\n",
      "no\n",
      "106014233_CDM_All_2019.xlsx\n",
      "no\n",
      "Thumbs.db\n",
      "no\n",
      "106431506_Common25_2019.xlsx\n",
      "no\n",
      "106431506_CDM_2019.xlsx\n",
      "no\n",
      "106431506_PCT_CHG_2019.xls.xlsx\n",
      "no\n",
      "Thumbs.db\n",
      "no\n",
      "106190163_CDM_All_2019.xlsx\n",
      "no\n",
      "Thumbs.db\n",
      "no\n",
      "106380868_CDM_All_2019.xlsx\n",
      "no\n",
      "106430763_PCT_CHG_2019.xlsx\n",
      "no\n",
      "106430763_CDM_2019.xlsx\n",
      "no\n",
      "106430763_Common25_2019.xlsx\n",
      "no\n",
      "Thumbs.db\n",
      "no\n",
      "106430837_CDM_All_2019.xlsx\n",
      "no\n",
      "106220733_CDM_2019.xlsx\n",
      "no\n",
      "106220733_Comments_2019.pdf\n",
      "no\n",
      "106364014_CDM_2019.XLSX\n",
      "no\n",
      "106364014_PCT_CHG_2019.xlsx\n",
      "no\n",
      "106364014_Common25_2019.xlsx\n",
      "no\n",
      "106050932_CDM_All_2019.xlsx\n",
      "no\n",
      "106190392_CDM_All_2019.xlsx\n",
      "no\n",
      "Thumbs.db\n",
      "no\n",
      "106190137_CDM_All_2019.xlsx\n",
      "no\n",
      "106370689_Common25_2019.xlsx\n",
      "no\n",
      "106370689_CDM_2019.xlsx\n",
      "no\n",
      "106370689_PCT_CHG_2019.xlsx\n",
      "no\n",
      "Thumbs.db\n",
      "no\n",
      "106040962_CDM_All_2019.xlsx\n",
      "no\n",
      "106190517_Common25_2019.xlsx\n",
      "no\n",
      "Thumbs.db\n",
      "no\n",
      "106190517_CDM_2019.xlsx\n",
      "no\n",
      "106301283_CDM_All_2019.xlsx\n",
      "no\n",
      "Thumbs.db\n",
      "no\n",
      "106150808_CDM_All_2019.xlsx\n",
      "no\n",
      "Thumbs.db\n",
      "no\n",
      "106560203_CDM_All_2019.xls.xlsx\n",
      "no\n",
      "106190020_CDM_All_2019.xlsx\n",
      "no\n",
      "106190599_Comments_2019.pdf\n",
      "no\n",
      "106190599_CDM_2019.xls.xlsx\n",
      "no\n",
      "106121080_CDM_All_2019.xlsx\n",
      "no\n",
      "Thumbs.db\n",
      "no\n",
      "106394009_Common25_2019.xlsx\n",
      "no\n",
      "106394009_CDM_2019.xlsx\n",
      "no\n",
      "106394009_PCT_CHG_2019.xls.xlsx\n",
      "no\n",
      "Thumbs.db\n",
      "no\n",
      "106014132_Common25_2019.xlsx\n",
      "no\n",
      "106014132_PCT_CHG_2019.xls.xlsx\n",
      "no\n",
      "Thumbs.db\n",
      "no\n",
      "106014132_CDM_2019.xlsx\n",
      "no\n",
      "106260011_PCT_CHG_2019.xlsx\n",
      "no\n",
      "106260011_Common25_2019.xlsx\n",
      "no\n",
      "106260011_CDM_2019.xlsx\n",
      "no\n",
      "106454013_CDM_All_2019.xlsx\n",
      "no\n",
      "Thumbs.db\n",
      "no\n",
      "106191227_CDM_All_2019.xlsx\n",
      "no\n",
      "Thumbs.db\n",
      "no\n",
      "106380842_CDM_All_2019.xlsx\n",
      "no\n",
      "106370714_PCT_CHG_2019.xlsx\n",
      "no\n",
      "106370714_Common25_2019.xlsx\n",
      "no\n",
      "Thumbs.db\n",
      "no\n",
      "106370714_CDM_2019.xlsx\n",
      "no\n",
      "106364502_Common25_2019.xlsx\n",
      "no\n",
      "106364502_PCT_CHG_2019.xlsx\n",
      "no\n",
      "106364502_CDM_2019.XLSX\n",
      "no\n",
      "106190256_CDM_2019.xlsx\n",
      "no\n",
      "106190256_Common25_2019.xlsx\n",
      "no\n",
      "106190256_Comments_2019.docx\n",
      "no\n",
      "106070988_PCT_CHG_2019.xlsx\n",
      "no\n",
      "106070988_Common25_2019.xlsx\n",
      "no\n",
      "106070988_CDM_2019.xlsx\n",
      "no\n",
      "106491076_CDM_All_2019.xlsx\n",
      "no\n",
      "Thumbs.db\n",
      "no\n",
      "106190429_Common25_2019.xlsx\n",
      "no\n",
      "106190429_PCT_CHG_2019.xlsx\n",
      "no\n",
      "106190429_CDM_2019.xlsx\n",
      "no\n",
      "106484044_PCT_CHG_2019.xls.xlsx\n",
      "no\n",
      "106484044_CDM_2019.xlsx\n",
      "no\n",
      "106484044_Common25_2019.xlsx\n",
      "no\n",
      "Thumbs.db\n",
      "no\n",
      "106190125_CDM_All_2019.xlsx\n",
      "no\n",
      "Thumbs.db\n",
      "no\n",
      "106382715_CDM_All_2019.xlsx\n",
      "no\n",
      "Thumbs.db\n",
      "no\n",
      "106190687_CDM_2019.xlsx\n",
      "no\n",
      "106190687_Common25_2019.xlsx\n",
      "no\n",
      "106190687_PCT_CHG_2019.xlsx\n",
      "no\n",
      "106190687_MSDRG_2019.xlsx\n",
      "no\n",
      "Thumbs.db\n",
      "no\n",
      "106370694_Common25_2019.xlsx\n",
      "no\n",
      "106370694_PCT_CHG_2019.xlsx\n",
      "no\n",
      "106370694_CDM_2019.xlsx\n",
      "no\n",
      "Thumbs.db\n",
      "no\n",
      "106034002_CDM_All_2019.xlsx\n",
      "no\n",
      "106034002_Comments_2019.docx\n",
      "no\n",
      "Thumbs.db\n",
      "no\n",
      "106380857_CDM_2019.xlsx\n",
      "no\n",
      "106380857_Common25_2019.xlsx\n",
      "no\n",
      "106380857_PCT_CHG_2019.xls.xlsx\n",
      "no\n",
      "Thumbs.db\n",
      "no\n",
      "106481094_CDM_All_2019.xlsx\n",
      "no\n",
      "106481094_Comments_2019.docx\n",
      "no\n",
      "Thumbs.db\n",
      "no\n",
      "160105051_CDM_All_2019.xls.xlsx\n",
      "no\n",
      "Thumbs.db\n",
      "no\n",
      "106500852_CDM_All_2019.xlsx\n",
      "no\n",
      "106074097_PCT_CHG_2019.xls.xlsx\n",
      "no\n",
      "106074097_Common25_2019.xlsx\n",
      "no\n",
      "106074097_CDM_2019.xlsx\n",
      "no\n",
      "Thumbs.db\n",
      "no\n",
      "106190052_CDM_2019.xls.xlsx\n",
      "no\n",
      "106190052_Common25_2019.xls.xlsx\n",
      "no\n",
      "106190052_PCT_CHG_2019.xls.xlsx\n",
      "no\n",
      "Thumbs.db\n",
      "no\n",
      "106470871_CDM_All_2019.xlsx\n",
      "no\n",
      "Thumbs.db\n",
      "no\n",
      "106381154_CDM_All_2019.xlsx\n",
      "no\n",
      "106370721_CDM_2019.xls.xlsx\n",
      "no\n",
      "106370721_CDM_2019.xlsx\n",
      "no\n",
      "106370721_Comments_2019.docx\n",
      "no\n",
      ".~lock.106370721_CDM_2019.xls#\n",
      "no\n",
      "106370721_PCT_CHG_2019.xls.xlsx\n",
      "no\n",
      "Thumbs.db\n",
      "no\n"
     ]
    },
    {
     "output_type": "error",
     "ename": "IllegalCharacterError",
     "evalue": "",
     "traceback": [
      "\u001b[0;31m---------------------------------------------------------------------------\u001b[0m",
      "\u001b[0;31mIllegalCharacterError\u001b[0m                     Traceback (most recent call last)",
      "\u001b[0;32m<ipython-input-100-13865c51decb>\u001b[0m in \u001b[0;36m<module>\u001b[0;34m\u001b[0m\n\u001b[0;32m----> 1\u001b[0;31m \u001b[0mconvertfrom\u001b[0m\u001b[0;34m(\u001b[0m\u001b[0;34m\"/home/ygael/Projects/healthcare/data/2019_CDM_chargemaster\"\u001b[0m\u001b[0;34m)\u001b[0m\u001b[0;34m\u001b[0m\u001b[0;34m\u001b[0m\u001b[0m\n\u001b[0m",
      "\u001b[0;32m<ipython-input-99-5a6a81d16fff>\u001b[0m in \u001b[0;36mconvertfrom\u001b[0;34m(directory)\u001b[0m\n\u001b[1;32m     13\u001b[0m             \u001b[0;32mfor\u001b[0m \u001b[0mfilename\u001b[0m \u001b[0;32min\u001b[0m \u001b[0mfiles\u001b[0m\u001b[0;34m:\u001b[0m\u001b[0;34m\u001b[0m\u001b[0;34m\u001b[0m\u001b[0m\n\u001b[1;32m     14\u001b[0m                 \u001b[0;32mif\u001b[0m \u001b[0mfilename\u001b[0m\u001b[0;34m[\u001b[0m\u001b[0;34m-\u001b[0m\u001b[0;36m3\u001b[0m\u001b[0;34m:\u001b[0m\u001b[0;34m]\u001b[0m\u001b[0;34m==\u001b[0m\u001b[0;34m\"xls\"\u001b[0m\u001b[0;34m:\u001b[0m\u001b[0;34m\u001b[0m\u001b[0;34m\u001b[0m\u001b[0m\n\u001b[0;32m---> 15\u001b[0;31m                     \u001b[0mconvert\u001b[0m\u001b[0;34m(\u001b[0m\u001b[0mfilename\u001b[0m\u001b[0;34m)\u001b[0m\u001b[0;34m\u001b[0m\u001b[0;34m\u001b[0m\u001b[0m\n\u001b[0m\u001b[1;32m     16\u001b[0m                     \u001b[0mos\u001b[0m\u001b[0;34m.\u001b[0m\u001b[0mremove\u001b[0m\u001b[0;34m(\u001b[0m\u001b[0mfilename\u001b[0m\u001b[0;34m)\u001b[0m\u001b[0;34m\u001b[0m\u001b[0;34m\u001b[0m\u001b[0m\n\u001b[1;32m     17\u001b[0m                 \u001b[0;32melse\u001b[0m\u001b[0;34m:\u001b[0m\u001b[0;34m\u001b[0m\u001b[0;34m\u001b[0m\u001b[0m\n",
      "\u001b[0;32m<ipython-input-98-4960748a0d25>\u001b[0m in \u001b[0;36mconvert\u001b[0;34m(filename)\u001b[0m\n\u001b[1;32m      1\u001b[0m \u001b[0;31m#Iterate through files and convert all xls files to xlsx, removing the original file\u001b[0m\u001b[0;34m\u001b[0m\u001b[0;34m\u001b[0m\u001b[0;34m\u001b[0m\u001b[0m\n\u001b[1;32m      2\u001b[0m \u001b[0;32mdef\u001b[0m \u001b[0mconvert\u001b[0m\u001b[0;34m(\u001b[0m\u001b[0mfilename\u001b[0m\u001b[0;34m)\u001b[0m\u001b[0;34m:\u001b[0m\u001b[0;34m\u001b[0m\u001b[0;34m\u001b[0m\u001b[0m\n\u001b[0;32m----> 3\u001b[0;31m     p.save_book_as(file_name=f\"{filename}\",\n\u001b[0m\u001b[1;32m      4\u001b[0m                 dest_file_name=f\"{filename[:-4]}.xlsx\")\n",
      "\u001b[0;32m~/anaconda3/envs/DataViz/lib/python3.8/site-packages/pyexcel/core.py\u001b[0m in \u001b[0;36msave_book_as\u001b[0;34m(**keywords)\u001b[0m\n\u001b[1;32m    110\u001b[0m     \u001b[0mbook\u001b[0m \u001b[0;34m=\u001b[0m \u001b[0msources\u001b[0m\u001b[0;34m.\u001b[0m\u001b[0mget_book_stream\u001b[0m\u001b[0;34m(\u001b[0m\u001b[0;34m**\u001b[0m\u001b[0msource_keywords\u001b[0m\u001b[0;34m)\u001b[0m\u001b[0;34m\u001b[0m\u001b[0;34m\u001b[0m\u001b[0m\n\u001b[1;32m    111\u001b[0m     \u001b[0mbook\u001b[0m \u001b[0;34m=\u001b[0m \u001b[0mto_book\u001b[0m\u001b[0;34m(\u001b[0m\u001b[0mbook\u001b[0m\u001b[0;34m)\u001b[0m\u001b[0;34m\u001b[0m\u001b[0;34m\u001b[0m\u001b[0m\n\u001b[0;32m--> 112\u001b[0;31m     \u001b[0;32mreturn\u001b[0m \u001b[0msources\u001b[0m\u001b[0;34m.\u001b[0m\u001b[0msave_book\u001b[0m\u001b[0;34m(\u001b[0m\u001b[0mbook\u001b[0m\u001b[0;34m,\u001b[0m \u001b[0;34m**\u001b[0m\u001b[0mdest_keywords\u001b[0m\u001b[0;34m)\u001b[0m\u001b[0;34m\u001b[0m\u001b[0;34m\u001b[0m\u001b[0m\n\u001b[0m\u001b[1;32m    113\u001b[0m \u001b[0;34m\u001b[0m\u001b[0m\n\u001b[1;32m    114\u001b[0m \u001b[0;34m\u001b[0m\u001b[0m\n",
      "\u001b[0;32m~/anaconda3/envs/DataViz/lib/python3.8/site-packages/pyexcel/internal/core.py\u001b[0m in \u001b[0;36msave_book\u001b[0;34m(book, **keywords)\u001b[0m\n\u001b[1;32m     54\u001b[0m     \"\"\"\n\u001b[1;32m     55\u001b[0m     \u001b[0ma_source\u001b[0m \u001b[0;34m=\u001b[0m \u001b[0mSOURCE\u001b[0m\u001b[0;34m.\u001b[0m\u001b[0mget_writable_book_source\u001b[0m\u001b[0;34m(\u001b[0m\u001b[0;34m**\u001b[0m\u001b[0mkeywords\u001b[0m\u001b[0;34m)\u001b[0m\u001b[0;34m\u001b[0m\u001b[0;34m\u001b[0m\u001b[0m\n\u001b[0;32m---> 56\u001b[0;31m     \u001b[0;32mreturn\u001b[0m \u001b[0m_save_any\u001b[0m\u001b[0;34m(\u001b[0m\u001b[0ma_source\u001b[0m\u001b[0;34m,\u001b[0m \u001b[0mbook\u001b[0m\u001b[0;34m)\u001b[0m\u001b[0;34m\u001b[0m\u001b[0;34m\u001b[0m\u001b[0m\n\u001b[0m\u001b[1;32m     57\u001b[0m \u001b[0;34m\u001b[0m\u001b[0m\n\u001b[1;32m     58\u001b[0m \u001b[0;34m\u001b[0m\u001b[0m\n",
      "\u001b[0;32m~/anaconda3/envs/DataViz/lib/python3.8/site-packages/pyexcel/internal/core.py\u001b[0m in \u001b[0;36m_save_any\u001b[0;34m(a_source, instance)\u001b[0m\n\u001b[1;32m     58\u001b[0m \u001b[0;34m\u001b[0m\u001b[0m\n\u001b[1;32m     59\u001b[0m \u001b[0;32mdef\u001b[0m \u001b[0m_save_any\u001b[0m\u001b[0;34m(\u001b[0m\u001b[0ma_source\u001b[0m\u001b[0;34m,\u001b[0m \u001b[0minstance\u001b[0m\u001b[0;34m)\u001b[0m\u001b[0;34m:\u001b[0m\u001b[0;34m\u001b[0m\u001b[0;34m\u001b[0m\u001b[0m\n\u001b[0;32m---> 60\u001b[0;31m     \u001b[0ma_source\u001b[0m\u001b[0;34m.\u001b[0m\u001b[0mwrite_data\u001b[0m\u001b[0;34m(\u001b[0m\u001b[0minstance\u001b[0m\u001b[0;34m)\u001b[0m\u001b[0;34m\u001b[0m\u001b[0;34m\u001b[0m\u001b[0m\n\u001b[0m\u001b[1;32m     61\u001b[0m     \u001b[0;32mtry\u001b[0m\u001b[0;34m:\u001b[0m\u001b[0;34m\u001b[0m\u001b[0;34m\u001b[0m\u001b[0m\n\u001b[1;32m     62\u001b[0m         \u001b[0mcontent_stream\u001b[0m \u001b[0;34m=\u001b[0m \u001b[0ma_source\u001b[0m\u001b[0;34m.\u001b[0m\u001b[0mget_content\u001b[0m\u001b[0;34m(\u001b[0m\u001b[0;34m)\u001b[0m\u001b[0;34m\u001b[0m\u001b[0;34m\u001b[0m\u001b[0m\n",
      "\u001b[0;32m~/anaconda3/envs/DataViz/lib/python3.8/site-packages/pyexcel/plugins/sources/file_output.py\u001b[0m in \u001b[0;36mwrite_data\u001b[0;34m(self, book)\u001b[0m\n\u001b[1;32m     39\u001b[0m \u001b[0;34m\u001b[0m\u001b[0m\n\u001b[1;32m     40\u001b[0m     \u001b[0;32mdef\u001b[0m \u001b[0mwrite_data\u001b[0m\u001b[0;34m(\u001b[0m\u001b[0mself\u001b[0m\u001b[0;34m,\u001b[0m \u001b[0mbook\u001b[0m\u001b[0;34m)\u001b[0m\u001b[0;34m:\u001b[0m\u001b[0;34m\u001b[0m\u001b[0;34m\u001b[0m\u001b[0m\n\u001b[0;32m---> 41\u001b[0;31m         self._renderer.render_book_to_file(\n\u001b[0m\u001b[1;32m     42\u001b[0m             \u001b[0mself\u001b[0m\u001b[0;34m.\u001b[0m\u001b[0m_file_name\u001b[0m\u001b[0;34m,\u001b[0m \u001b[0mbook\u001b[0m\u001b[0;34m,\u001b[0m \u001b[0;34m**\u001b[0m\u001b[0mself\u001b[0m\u001b[0;34m.\u001b[0m\u001b[0m_keywords\u001b[0m\u001b[0;34m\u001b[0m\u001b[0;34m\u001b[0m\u001b[0m\n\u001b[1;32m     43\u001b[0m         )\n",
      "\u001b[0;32m~/anaconda3/envs/DataViz/lib/python3.8/site-packages/pyexcel/plugins/renderers/excel.py\u001b[0m in \u001b[0;36mrender_book_to_file\u001b[0;34m(self, file_name, book, **keywords)\u001b[0m\n\u001b[1;32m     29\u001b[0m \u001b[0;34m\u001b[0m\u001b[0m\n\u001b[1;32m     30\u001b[0m     \u001b[0;32mdef\u001b[0m \u001b[0mrender_book_to_file\u001b[0m\u001b[0;34m(\u001b[0m\u001b[0mself\u001b[0m\u001b[0;34m,\u001b[0m \u001b[0mfile_name\u001b[0m\u001b[0;34m,\u001b[0m \u001b[0mbook\u001b[0m\u001b[0;34m,\u001b[0m \u001b[0;34m**\u001b[0m\u001b[0mkeywords\u001b[0m\u001b[0;34m)\u001b[0m\u001b[0;34m:\u001b[0m\u001b[0;34m\u001b[0m\u001b[0;34m\u001b[0m\u001b[0m\n\u001b[0;32m---> 31\u001b[0;31m         \u001b[0msave_data\u001b[0m\u001b[0;34m(\u001b[0m\u001b[0mfile_name\u001b[0m\u001b[0;34m,\u001b[0m \u001b[0mbook\u001b[0m\u001b[0;34m.\u001b[0m\u001b[0mto_dict\u001b[0m\u001b[0;34m(\u001b[0m\u001b[0;34m)\u001b[0m\u001b[0;34m,\u001b[0m \u001b[0;34m**\u001b[0m\u001b[0mkeywords\u001b[0m\u001b[0;34m)\u001b[0m\u001b[0;34m\u001b[0m\u001b[0;34m\u001b[0m\u001b[0m\n\u001b[0m\u001b[1;32m     32\u001b[0m \u001b[0;34m\u001b[0m\u001b[0m\n\u001b[1;32m     33\u001b[0m     \u001b[0;32mdef\u001b[0m \u001b[0mrender_sheet_to_stream\u001b[0m\u001b[0;34m(\u001b[0m\u001b[0mself\u001b[0m\u001b[0;34m,\u001b[0m \u001b[0mfile_stream\u001b[0m\u001b[0;34m,\u001b[0m \u001b[0msheet\u001b[0m\u001b[0;34m,\u001b[0m \u001b[0;34m**\u001b[0m\u001b[0mkeywords\u001b[0m\u001b[0;34m)\u001b[0m\u001b[0;34m:\u001b[0m\u001b[0;34m\u001b[0m\u001b[0;34m\u001b[0m\u001b[0m\n",
      "\u001b[0;32m~/anaconda3/envs/DataViz/lib/python3.8/site-packages/pyexcel_io/io.py\u001b[0m in \u001b[0;36msave_data\u001b[0;34m(afile, data, file_type, **keywords)\u001b[0m\n\u001b[1;32m    141\u001b[0m     \u001b[0mkeywords\u001b[0m\u001b[0;34m[\u001b[0m\u001b[0;34m\"single_sheet_in_book\"\u001b[0m\u001b[0;34m]\u001b[0m \u001b[0;34m=\u001b[0m \u001b[0msingle_sheet_in_book\u001b[0m\u001b[0;34m\u001b[0m\u001b[0;34m\u001b[0m\u001b[0m\n\u001b[1;32m    142\u001b[0m     \u001b[0;32mwith\u001b[0m \u001b[0mget_writer\u001b[0m\u001b[0;34m(\u001b[0m\u001b[0;34m**\u001b[0m\u001b[0mkeywords\u001b[0m\u001b[0;34m)\u001b[0m \u001b[0;32mas\u001b[0m \u001b[0mwriter\u001b[0m\u001b[0;34m:\u001b[0m\u001b[0;34m\u001b[0m\u001b[0;34m\u001b[0m\u001b[0m\n\u001b[0;32m--> 143\u001b[0;31m         \u001b[0mwriter\u001b[0m\u001b[0;34m.\u001b[0m\u001b[0mwrite\u001b[0m\u001b[0;34m(\u001b[0m\u001b[0mto_store\u001b[0m\u001b[0;34m)\u001b[0m\u001b[0;34m\u001b[0m\u001b[0;34m\u001b[0m\u001b[0m\n\u001b[0m\u001b[1;32m    144\u001b[0m \u001b[0;34m\u001b[0m\u001b[0m\n\u001b[1;32m    145\u001b[0m \u001b[0;34m\u001b[0m\u001b[0m\n",
      "\u001b[0;32m~/anaconda3/envs/DataViz/lib/python3.8/site-packages/pyexcel_io/writer.py\u001b[0m in \u001b[0;36mwrite\u001b[0;34m(self, incoming_dict)\u001b[0m\n\u001b[1;32m     40\u001b[0m \u001b[0;34m\u001b[0m\u001b[0m\n\u001b[1;32m     41\u001b[0m     \u001b[0;32mdef\u001b[0m \u001b[0mwrite\u001b[0m\u001b[0;34m(\u001b[0m\u001b[0mself\u001b[0m\u001b[0;34m,\u001b[0m \u001b[0mincoming_dict\u001b[0m\u001b[0;34m)\u001b[0m\u001b[0;34m:\u001b[0m\u001b[0;34m\u001b[0m\u001b[0;34m\u001b[0m\u001b[0m\n\u001b[0;32m---> 42\u001b[0;31m         \u001b[0mself\u001b[0m\u001b[0;34m.\u001b[0m\u001b[0mwriter\u001b[0m\u001b[0;34m.\u001b[0m\u001b[0mwrite\u001b[0m\u001b[0;34m(\u001b[0m\u001b[0mincoming_dict\u001b[0m\u001b[0;34m)\u001b[0m\u001b[0;34m\u001b[0m\u001b[0;34m\u001b[0m\u001b[0m\n\u001b[0m\u001b[1;32m     43\u001b[0m \u001b[0;34m\u001b[0m\u001b[0m\n\u001b[1;32m     44\u001b[0m     \u001b[0;32mdef\u001b[0m \u001b[0mclose\u001b[0m\u001b[0;34m(\u001b[0m\u001b[0mself\u001b[0m\u001b[0;34m)\u001b[0m\u001b[0;34m:\u001b[0m\u001b[0;34m\u001b[0m\u001b[0;34m\u001b[0m\u001b[0m\n",
      "\u001b[0;32m~/anaconda3/envs/DataViz/lib/python3.8/site-packages/pyexcel_io/plugin_api/abstract_writer.py\u001b[0m in \u001b[0;36mwrite\u001b[0;34m(self, incoming_dict)\u001b[0m\n\u001b[1;32m     10\u001b[0m             \u001b[0msheet_writer\u001b[0m \u001b[0;34m=\u001b[0m \u001b[0mself\u001b[0m\u001b[0;34m.\u001b[0m\u001b[0mcreate_sheet\u001b[0m\u001b[0;34m(\u001b[0m\u001b[0msheet_name\u001b[0m\u001b[0;34m)\u001b[0m\u001b[0;34m\u001b[0m\u001b[0;34m\u001b[0m\u001b[0m\n\u001b[1;32m     11\u001b[0m             \u001b[0;32mif\u001b[0m \u001b[0msheet_writer\u001b[0m\u001b[0;34m:\u001b[0m\u001b[0;34m\u001b[0m\u001b[0;34m\u001b[0m\u001b[0m\n\u001b[0;32m---> 12\u001b[0;31m                 \u001b[0msheet_writer\u001b[0m\u001b[0;34m.\u001b[0m\u001b[0mwrite_array\u001b[0m\u001b[0;34m(\u001b[0m\u001b[0mincoming_dict\u001b[0m\u001b[0;34m[\u001b[0m\u001b[0msheet_name\u001b[0m\u001b[0;34m]\u001b[0m\u001b[0;34m)\u001b[0m\u001b[0;34m\u001b[0m\u001b[0;34m\u001b[0m\u001b[0m\n\u001b[0m\u001b[1;32m     13\u001b[0m                 \u001b[0msheet_writer\u001b[0m\u001b[0;34m.\u001b[0m\u001b[0mclose\u001b[0m\u001b[0;34m(\u001b[0m\u001b[0;34m)\u001b[0m\u001b[0;34m\u001b[0m\u001b[0;34m\u001b[0m\u001b[0m\n\u001b[1;32m     14\u001b[0m             \u001b[0;32melse\u001b[0m\u001b[0;34m:\u001b[0m\u001b[0;34m\u001b[0m\u001b[0;34m\u001b[0m\u001b[0m\n",
      "\u001b[0;32m~/anaconda3/envs/DataViz/lib/python3.8/site-packages/pyexcel_io/plugin_api/abstract_sheet.py\u001b[0m in \u001b[0;36mwrite_array\u001b[0;34m(self, table)\u001b[0m\n\u001b[1;32m     16\u001b[0m         \"\"\"\n\u001b[1;32m     17\u001b[0m         \u001b[0;32mfor\u001b[0m \u001b[0mrow\u001b[0m \u001b[0;32min\u001b[0m \u001b[0mtable\u001b[0m\u001b[0;34m:\u001b[0m\u001b[0;34m\u001b[0m\u001b[0;34m\u001b[0m\u001b[0m\n\u001b[0;32m---> 18\u001b[0;31m             \u001b[0mself\u001b[0m\u001b[0;34m.\u001b[0m\u001b[0mwrite_row\u001b[0m\u001b[0;34m(\u001b[0m\u001b[0mrow\u001b[0m\u001b[0;34m)\u001b[0m\u001b[0;34m\u001b[0m\u001b[0;34m\u001b[0m\u001b[0m\n\u001b[0m\u001b[1;32m     19\u001b[0m \u001b[0;34m\u001b[0m\u001b[0m\n\u001b[1;32m     20\u001b[0m     \u001b[0;32mdef\u001b[0m \u001b[0mclose\u001b[0m\u001b[0;34m(\u001b[0m\u001b[0mself\u001b[0m\u001b[0;34m)\u001b[0m\u001b[0;34m:\u001b[0m\u001b[0;34m\u001b[0m\u001b[0;34m\u001b[0m\u001b[0m\n",
      "\u001b[0;32m~/anaconda3/envs/DataViz/lib/python3.8/site-packages/pyexcel_xlsx/xlsxw.py\u001b[0m in \u001b[0;36mwrite_row\u001b[0;34m(self, array)\u001b[0m\n\u001b[1;32m     26\u001b[0m         \u001b[0mwrite\u001b[0m \u001b[0ma\u001b[0m \u001b[0mrow\u001b[0m \u001b[0minto\u001b[0m \u001b[0mthe\u001b[0m \u001b[0mfile\u001b[0m\u001b[0;34m\u001b[0m\u001b[0;34m\u001b[0m\u001b[0m\n\u001b[1;32m     27\u001b[0m         \"\"\"\n\u001b[0;32m---> 28\u001b[0;31m         \u001b[0mself\u001b[0m\u001b[0;34m.\u001b[0m\u001b[0m_xlsx_sheet\u001b[0m\u001b[0;34m.\u001b[0m\u001b[0mappend\u001b[0m\u001b[0;34m(\u001b[0m\u001b[0marray\u001b[0m\u001b[0;34m)\u001b[0m\u001b[0;34m\u001b[0m\u001b[0;34m\u001b[0m\u001b[0m\n\u001b[0m\u001b[1;32m     29\u001b[0m \u001b[0;34m\u001b[0m\u001b[0m\n\u001b[1;32m     30\u001b[0m     \u001b[0;32mdef\u001b[0m \u001b[0mclose\u001b[0m\u001b[0;34m(\u001b[0m\u001b[0mself\u001b[0m\u001b[0;34m)\u001b[0m\u001b[0;34m:\u001b[0m\u001b[0;34m\u001b[0m\u001b[0;34m\u001b[0m\u001b[0m\n",
      "\u001b[0;32m~/anaconda3/envs/DataViz/lib/python3.8/site-packages/openpyxl/worksheet/_write_only.py\u001b[0m in \u001b[0;36mappend\u001b[0;34m(self, row)\u001b[0m\n\u001b[1;32m    118\u001b[0m             \u001b[0mnext\u001b[0m\u001b[0;34m(\u001b[0m\u001b[0mself\u001b[0m\u001b[0;34m.\u001b[0m\u001b[0m_rows\u001b[0m\u001b[0;34m)\u001b[0m\u001b[0;34m\u001b[0m\u001b[0;34m\u001b[0m\u001b[0m\n\u001b[1;32m    119\u001b[0m \u001b[0;34m\u001b[0m\u001b[0m\n\u001b[0;32m--> 120\u001b[0;31m         \u001b[0mself\u001b[0m\u001b[0;34m.\u001b[0m\u001b[0m_rows\u001b[0m\u001b[0;34m.\u001b[0m\u001b[0msend\u001b[0m\u001b[0;34m(\u001b[0m\u001b[0mrow\u001b[0m\u001b[0;34m)\u001b[0m\u001b[0;34m\u001b[0m\u001b[0;34m\u001b[0m\u001b[0m\n\u001b[0m\u001b[1;32m    121\u001b[0m \u001b[0;34m\u001b[0m\u001b[0m\n\u001b[1;32m    122\u001b[0m \u001b[0;34m\u001b[0m\u001b[0m\n",
      "\u001b[0;32m~/anaconda3/envs/DataViz/lib/python3.8/site-packages/openpyxl/worksheet/_write_only.py\u001b[0m in \u001b[0;36m_write_rows\u001b[0;34m(self)\u001b[0m\n\u001b[1;32m     70\u001b[0m                     \u001b[0mrow\u001b[0m \u001b[0;34m=\u001b[0m \u001b[0;34m(\u001b[0m\u001b[0;32myield\u001b[0m\u001b[0;34m)\u001b[0m\u001b[0;34m\u001b[0m\u001b[0;34m\u001b[0m\u001b[0m\n\u001b[1;32m     71\u001b[0m                     \u001b[0mrow\u001b[0m \u001b[0;34m=\u001b[0m \u001b[0mself\u001b[0m\u001b[0;34m.\u001b[0m\u001b[0m_values_to_row\u001b[0m\u001b[0;34m(\u001b[0m\u001b[0mrow\u001b[0m\u001b[0;34m,\u001b[0m \u001b[0mrow_idx\u001b[0m\u001b[0;34m)\u001b[0m\u001b[0;34m\u001b[0m\u001b[0;34m\u001b[0m\u001b[0m\n\u001b[0;32m---> 72\u001b[0;31m                     \u001b[0mself\u001b[0m\u001b[0;34m.\u001b[0m\u001b[0m_writer\u001b[0m\u001b[0;34m.\u001b[0m\u001b[0mwrite_row\u001b[0m\u001b[0;34m(\u001b[0m\u001b[0mxf\u001b[0m\u001b[0;34m,\u001b[0m \u001b[0mrow\u001b[0m\u001b[0;34m,\u001b[0m \u001b[0mrow_idx\u001b[0m\u001b[0;34m)\u001b[0m\u001b[0;34m\u001b[0m\u001b[0;34m\u001b[0m\u001b[0m\n\u001b[0m\u001b[1;32m     73\u001b[0m                     \u001b[0mrow_idx\u001b[0m \u001b[0;34m+=\u001b[0m \u001b[0;36m1\u001b[0m\u001b[0;34m\u001b[0m\u001b[0;34m\u001b[0m\u001b[0m\n\u001b[1;32m     74\u001b[0m             \u001b[0;32mexcept\u001b[0m \u001b[0mGeneratorExit\u001b[0m\u001b[0;34m:\u001b[0m\u001b[0;34m\u001b[0m\u001b[0;34m\u001b[0m\u001b[0m\n",
      "\u001b[0;32m~/anaconda3/envs/DataViz/lib/python3.8/site-packages/openpyxl/worksheet/_writer.py\u001b[0m in \u001b[0;36mwrite_row\u001b[0;34m(self, xf, row, row_idx)\u001b[0m\n\u001b[1;32m    135\u001b[0m         \u001b[0;32mwith\u001b[0m \u001b[0mxf\u001b[0m\u001b[0;34m.\u001b[0m\u001b[0melement\u001b[0m\u001b[0;34m(\u001b[0m\u001b[0;34m\"row\"\u001b[0m\u001b[0;34m,\u001b[0m \u001b[0mattrs\u001b[0m\u001b[0;34m)\u001b[0m\u001b[0;34m:\u001b[0m\u001b[0;34m\u001b[0m\u001b[0;34m\u001b[0m\u001b[0m\n\u001b[1;32m    136\u001b[0m \u001b[0;34m\u001b[0m\u001b[0m\n\u001b[0;32m--> 137\u001b[0;31m             \u001b[0;32mfor\u001b[0m \u001b[0mcell\u001b[0m \u001b[0;32min\u001b[0m \u001b[0mrow\u001b[0m\u001b[0;34m:\u001b[0m\u001b[0;34m\u001b[0m\u001b[0;34m\u001b[0m\u001b[0m\n\u001b[0m\u001b[1;32m    138\u001b[0m                 \u001b[0;32mif\u001b[0m \u001b[0mcell\u001b[0m\u001b[0;34m.\u001b[0m\u001b[0m_comment\u001b[0m \u001b[0;32mis\u001b[0m \u001b[0;32mnot\u001b[0m \u001b[0;32mNone\u001b[0m\u001b[0;34m:\u001b[0m\u001b[0;34m\u001b[0m\u001b[0;34m\u001b[0m\u001b[0m\n\u001b[1;32m    139\u001b[0m                     \u001b[0mcomment\u001b[0m \u001b[0;34m=\u001b[0m \u001b[0mCommentRecord\u001b[0m\u001b[0;34m.\u001b[0m\u001b[0mfrom_cell\u001b[0m\u001b[0;34m(\u001b[0m\u001b[0mcell\u001b[0m\u001b[0;34m)\u001b[0m\u001b[0;34m\u001b[0m\u001b[0;34m\u001b[0m\u001b[0m\n",
      "\u001b[0;32m~/anaconda3/envs/DataViz/lib/python3.8/site-packages/openpyxl/worksheet/_write_only.py\u001b[0m in \u001b[0;36m_values_to_row\u001b[0;34m(self, values, row_idx)\u001b[0m\n\u001b[1;32m    131\u001b[0m                 \u001b[0;32mcontinue\u001b[0m\u001b[0;34m\u001b[0m\u001b[0;34m\u001b[0m\u001b[0m\n\u001b[1;32m    132\u001b[0m             \u001b[0;32mtry\u001b[0m\u001b[0;34m:\u001b[0m\u001b[0;34m\u001b[0m\u001b[0;34m\u001b[0m\u001b[0m\n\u001b[0;32m--> 133\u001b[0;31m                 \u001b[0mcell\u001b[0m\u001b[0;34m.\u001b[0m\u001b[0mvalue\u001b[0m \u001b[0;34m=\u001b[0m \u001b[0mvalue\u001b[0m\u001b[0;34m\u001b[0m\u001b[0;34m\u001b[0m\u001b[0m\n\u001b[0m\u001b[1;32m    134\u001b[0m             \u001b[0;32mexcept\u001b[0m \u001b[0mValueError\u001b[0m\u001b[0;34m:\u001b[0m\u001b[0;34m\u001b[0m\u001b[0;34m\u001b[0m\u001b[0m\n\u001b[1;32m    135\u001b[0m                 \u001b[0;32mif\u001b[0m \u001b[0misinstance\u001b[0m\u001b[0;34m(\u001b[0m\u001b[0mvalue\u001b[0m\u001b[0;34m,\u001b[0m \u001b[0mCell\u001b[0m\u001b[0;34m)\u001b[0m\u001b[0;34m:\u001b[0m\u001b[0;34m\u001b[0m\u001b[0;34m\u001b[0m\u001b[0m\n",
      "\u001b[0;32m~/anaconda3/envs/DataViz/lib/python3.8/site-packages/openpyxl/cell/cell.py\u001b[0m in \u001b[0;36mvalue\u001b[0;34m(self, value)\u001b[0m\n\u001b[1;32m    213\u001b[0m     \u001b[0;32mdef\u001b[0m \u001b[0mvalue\u001b[0m\u001b[0;34m(\u001b[0m\u001b[0mself\u001b[0m\u001b[0;34m,\u001b[0m \u001b[0mvalue\u001b[0m\u001b[0;34m)\u001b[0m\u001b[0;34m:\u001b[0m\u001b[0;34m\u001b[0m\u001b[0;34m\u001b[0m\u001b[0m\n\u001b[1;32m    214\u001b[0m         \u001b[0;34m\"\"\"Set the value and infer type and display options.\"\"\"\u001b[0m\u001b[0;34m\u001b[0m\u001b[0;34m\u001b[0m\u001b[0m\n\u001b[0;32m--> 215\u001b[0;31m         \u001b[0mself\u001b[0m\u001b[0;34m.\u001b[0m\u001b[0m_bind_value\u001b[0m\u001b[0;34m(\u001b[0m\u001b[0mvalue\u001b[0m\u001b[0;34m)\u001b[0m\u001b[0;34m\u001b[0m\u001b[0;34m\u001b[0m\u001b[0m\n\u001b[0m\u001b[1;32m    216\u001b[0m \u001b[0;34m\u001b[0m\u001b[0m\n\u001b[1;32m    217\u001b[0m     \u001b[0;34m@\u001b[0m\u001b[0mproperty\u001b[0m\u001b[0;34m\u001b[0m\u001b[0;34m\u001b[0m\u001b[0m\n",
      "\u001b[0;32m~/anaconda3/envs/DataViz/lib/python3.8/site-packages/openpyxl/cell/cell.py\u001b[0m in \u001b[0;36m_bind_value\u001b[0;34m(self, value)\u001b[0m\n\u001b[1;32m    192\u001b[0m \u001b[0;34m\u001b[0m\u001b[0m\n\u001b[1;32m    193\u001b[0m         \u001b[0;32melif\u001b[0m \u001b[0mdt\u001b[0m \u001b[0;34m==\u001b[0m \u001b[0;34m\"s\"\u001b[0m\u001b[0;34m:\u001b[0m\u001b[0;34m\u001b[0m\u001b[0;34m\u001b[0m\u001b[0m\n\u001b[0;32m--> 194\u001b[0;31m             \u001b[0mvalue\u001b[0m \u001b[0;34m=\u001b[0m \u001b[0mself\u001b[0m\u001b[0;34m.\u001b[0m\u001b[0mcheck_string\u001b[0m\u001b[0;34m(\u001b[0m\u001b[0mvalue\u001b[0m\u001b[0;34m)\u001b[0m\u001b[0;34m\u001b[0m\u001b[0;34m\u001b[0m\u001b[0m\n\u001b[0m\u001b[1;32m    195\u001b[0m             \u001b[0;32mif\u001b[0m \u001b[0mlen\u001b[0m\u001b[0;34m(\u001b[0m\u001b[0mvalue\u001b[0m\u001b[0;34m)\u001b[0m \u001b[0;34m>\u001b[0m \u001b[0;36m1\u001b[0m \u001b[0;32mand\u001b[0m \u001b[0mvalue\u001b[0m\u001b[0;34m.\u001b[0m\u001b[0mstartswith\u001b[0m\u001b[0;34m(\u001b[0m\u001b[0;34m\"=\"\u001b[0m\u001b[0;34m)\u001b[0m\u001b[0;34m:\u001b[0m\u001b[0;34m\u001b[0m\u001b[0;34m\u001b[0m\u001b[0m\n\u001b[1;32m    196\u001b[0m                 \u001b[0mself\u001b[0m\u001b[0;34m.\u001b[0m\u001b[0mdata_type\u001b[0m \u001b[0;34m=\u001b[0m \u001b[0;34m'f'\u001b[0m\u001b[0;34m\u001b[0m\u001b[0;34m\u001b[0m\u001b[0m\n",
      "\u001b[0;32m~/anaconda3/envs/DataViz/lib/python3.8/site-packages/openpyxl/cell/cell.py\u001b[0m in \u001b[0;36mcheck_string\u001b[0;34m(self, value)\u001b[0m\n\u001b[1;32m    160\u001b[0m         \u001b[0mvalue\u001b[0m \u001b[0;34m=\u001b[0m \u001b[0mvalue\u001b[0m\u001b[0;34m[\u001b[0m\u001b[0;34m:\u001b[0m\u001b[0;36m32767\u001b[0m\u001b[0;34m]\u001b[0m\u001b[0;34m\u001b[0m\u001b[0;34m\u001b[0m\u001b[0m\n\u001b[1;32m    161\u001b[0m         \u001b[0;32mif\u001b[0m \u001b[0mnext\u001b[0m\u001b[0;34m(\u001b[0m\u001b[0mILLEGAL_CHARACTERS_RE\u001b[0m\u001b[0;34m.\u001b[0m\u001b[0mfinditer\u001b[0m\u001b[0;34m(\u001b[0m\u001b[0mvalue\u001b[0m\u001b[0;34m)\u001b[0m\u001b[0;34m,\u001b[0m \u001b[0;32mNone\u001b[0m\u001b[0;34m)\u001b[0m\u001b[0;34m:\u001b[0m\u001b[0;34m\u001b[0m\u001b[0;34m\u001b[0m\u001b[0m\n\u001b[0;32m--> 162\u001b[0;31m             \u001b[0;32mraise\u001b[0m \u001b[0mIllegalCharacterError\u001b[0m\u001b[0;34m\u001b[0m\u001b[0;34m\u001b[0m\u001b[0m\n\u001b[0m\u001b[1;32m    163\u001b[0m         \u001b[0;32mreturn\u001b[0m \u001b[0mvalue\u001b[0m\u001b[0;34m\u001b[0m\u001b[0;34m\u001b[0m\u001b[0m\n\u001b[1;32m    164\u001b[0m \u001b[0;34m\u001b[0m\u001b[0m\n",
      "\u001b[0;31mIllegalCharacterError\u001b[0m: "
     ]
    }
   ],
   "source": [
    "convertfrom(\"/home/ygael/Projects/healthcare/data/2019_CDM_chargemaster\")"
   ]
  },
  {
   "cell_type": "code",
   "execution_count": 70,
   "metadata": {},
   "outputs": [],
   "source": [
    "from import_export import resources\n",
    "from openpyxl.cell.cell import ILLEGAL_CHARACTERS_RE\n",
    "\n",
    "class CleanModelResource(resources.ModelResource):\n",
    "  def export_field(self, field, obj):\n",
    "    v = super(CleanModelResource, self).export_field(field, obj)\n",
    "    if type(v) == str:\n",
    "      v = ILLEGAL_CHARACTERS_RE.sub('', v)\n",
    "    return v"
   ]
  },
  {
   "cell_type": "code",
   "execution_count": null,
   "metadata": {},
   "outputs": [],
   "source": []
  }
 ]
}