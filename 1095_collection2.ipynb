{
 "metadata": {
  "language_info": {
   "codemirror_mode": {
    "name": "ipython",
    "version": 3
   },
   "file_extension": ".py",
   "mimetype": "text/x-python",
   "name": "python",
   "nbconvert_exporter": "python",
   "pygments_lexer": "ipython3",
   "version": "3.8.5"
  },
  "orig_nbformat": 2,
  "kernelspec": {
   "name": "python385jvsc74a57bd0566c7dc836cf49ea79a80bde3a77d731ae67019fab1def2dd83c01090ce827fd",
   "display_name": "Python 3.8.5 64-bit ('DataViz': conda)"
  }
 },
 "nbformat": 4,
 "nbformat_minor": 2,
 "cells": [
  {
   "cell_type": "code",
   "execution_count": 1,
   "metadata": {},
   "outputs": [],
   "source": [
    "import os\n",
    "import pandas as pd\n",
    "import xlrd\n",
    "from pathlib import Path\n",
    "import openpyxl\n",
    "from openpyxl import load_workbook\n",
    "import numpy as np\n",
    "import re\n",
    "import ast\n",
    "from xls2xlsx import XLS2XLSX\n",
    "from csv import writer"
   ]
  },
  {
   "cell_type": "code",
   "execution_count": 2,
   "metadata": {},
   "outputs": [],
   "source": [
    "#Change working directory to navicage files\n",
    "os.chdir(\"/home/ygael/Projects/healthcare/data/2020_CDM_chargemaster\")"
   ]
  },
  {
   "cell_type": "code",
   "execution_count": 3,
   "metadata": {},
   "outputs": [],
   "source": [
    "#Function to extract 1045 sheet name from xlsx files\n",
    "\n",
    "def find1045_xlsx(filepath):\n",
    "    #read file\n",
    "    xlsx_file = Path(filepath)\n",
    "    wb_obj = openpyxl.load_workbook(xlsx_file, data_only=True)\n",
    "\n",
    "    #get sheet names\n",
    "    sheetnames=wb_obj.sheetnames\n",
    "\n",
    "    #Create a keywords list to identify ABS 1045 forms\n",
    "    keywords= [\"common\", \"procedures\", \"1045\", \"form\"]\n",
    "\n",
    "    #Search for the sheet by keyword\n",
    "    for name in sheetnames:\n",
    "        wholename=name.lower()\n",
    "        wordsInName=wholename.split()\n",
    "        match =  any(item in wordsInName for item in keywords)\n",
    "        if match==True:\n",
    "            sheetname=(wb_obj[name])\n",
    "            return(sheetname)\n",
    "            break\n"
   ]
  },
  {
   "cell_type": "code",
   "execution_count": 4,
   "metadata": {},
   "outputs": [],
   "source": [
    "#Function to extract all dataframes from a single xlsx file\n",
    "def getdata_xlsx(file):\n",
    "    dflist=[]\n",
    "    coordlist=[]\n",
    "    sheet=find1045_xlsx(file)\n",
    "    alphabet=[\"A\",\"B\",\"C\",\"D\",\"E\",\"F\",\"G\",\"H\",\"I\",\"J\",\"K\",\"L\",\"M\",\"N\",\"O\",\"P\",\"Q\",\"R\",\"S\",\"T\",\"U\",\"V\",\"W\",\"X\",\"Y\",\"Z\"]\n",
    "    found=False\n",
    "    keywords1 = [\"evaluation\", \"management\", \"services\"]\n",
    "    keywords2 = [\"laboratory\", \"pathology\", \"services\"]\n",
    "    keywords3= [\"radiology\", \"services\"]\n",
    "    keywords4 = [\"medicine\", \"services\"]\n",
    "    keywords5 = [\"surgery\", \"services\"]\n",
    "    keywords6 = [\"other\", \"common\", \"outpatient\", \"procedures\"]\n",
    "    keywords7 = [\"count\", \"of\", \"reported\", \"procedures\",]\n",
    "    keywordslists=[keywords1,keywords2,keywords3,keywords4,keywords5,keywords6,keywords7]\n",
    "    for wordlist in keywordslists:\n",
    "        try: #when sheet is nonetype (doesn't exist) we need to skip it\n",
    "            for row in sheet.iter_rows():\n",
    "                    for cell in row:\n",
    "                        heading = str(cell.value).lower()\n",
    "                        wordsInHeading=heading.split()\n",
    "                        match =  all(item in wordsInHeading for item in wordlist)\n",
    "                        if match==True:\n",
    "                            coord1=cell.coordinate\n",
    "                            coordlist.append(coord1)\n",
    "                            break\n",
    "        except:\n",
    "            return(\"FAIL\")\n",
    "            continue\n",
    "    for coordinate in coordlist[0:-1]:\n",
    "        splitcoord=re.split('(\\d+)', coordinate)\n",
    "        nextbreak=coordlist[int(coordlist.index(coordinate)+1)]\n",
    "        splitbreak=re.split('(\\d+)', nextbreak)\n",
    "        lastcell=f\"{int(splitbreak[1])-1}\"\n",
    "        coord2=f\"C{lastcell}\"\n",
    "\n",
    "        cellgroup=[coordinate,coord2]\n",
    "        df=pd.DataFrame(sheet[f\"{cellgroup[0]}:{cellgroup[1]}\"])\n",
    "\n",
    "\n",
    "\n",
    "        dflist.append(df)\n",
    "\n",
    "    return(dflist)\n",
    "\n",
    "  \n",
    "    "
   ]
  },
  {
   "cell_type": "code",
   "execution_count": 5,
   "metadata": {},
   "outputs": [],
   "source": [
    "#Function to convert cell object values to plaintext values\n",
    "def convertvalue(x):\n",
    "    return x.value"
   ]
  },
  {
   "cell_type": "code",
   "execution_count": 6,
   "metadata": {},
   "outputs": [],
   "source": [
    "#Function to extract all dataframes from a single 1095 file\n",
    "def getMaster(somefile):\n",
    "        sheet=find1045_xlsx(somefile)\n",
    "        masterlist=[]\n",
    "        rawlist=getdata_xlsx(somefile)\n",
    "        for i in range(len(rawlist)):\n",
    "                df=rawlist[i].applymap(convertvalue)\n",
    "                raw_name=sheet[\"A1\"].value\n",
    "                hos_name=raw_name.replace('Hospital Name: ', '')\n",
    "                df[\"Hospital\"] = os.path.basename(os.path.dirname(somefile))\n",
    "                df.columns = df.iloc[0]\n",
    "                df[\"Service Type\"]=df.iloc[0,0]\n",
    "                df.rename(columns={ df.columns[0]: \"Service\" }, inplace = True)\n",
    "                df = df.iloc[1: , :]\n",
    "                        #add the hospital name as a variable\n",
    "                        \n",
    "                masterlist.append(df)\n",
    "                return(masterlist)"
   ]
  },
  {
   "cell_type": "code",
   "execution_count": 7,
   "metadata": {},
   "outputs": [],
   "source": [
    "#Function to get a list of files in a directory (code borrowed from StackOverflow)\n",
    "\n",
    "def getListOfFiles(dirName):\n",
    "    # create a list of file and sub directories \n",
    "    # names in the given directory \n",
    "    listOfFile = os.listdir(dirName)\n",
    "    allFiles = list()\n",
    "    # Iterate over all the entries99213/G0463\n",
    "    for entry in listOfFile:\n",
    "        # Create full path\n",
    "        fullPath = os.path.join(dirName, entry)\n",
    "        # If entry is a directory then get the list of files in this directory \n",
    "        if os.path.isdir(fullPath):\n",
    "            allFiles = allFiles + getListOfFiles(fullPath)\n",
    "        else:\n",
    "            allFiles.append(fullPath)\n",
    "                \n",
    "    return allFiles"
   ]
  },
  {
   "cell_type": "code",
   "execution_count": 8,
   "metadata": {},
   "outputs": [],
   "source": [
    "#Create Column Labels\n",
    "alldata=pd.DataFrame(columns = ['Service', 'CPT',\"AvCharge\", 'Hospital', \"ServiceType\"]).set_index([\"Hospital\"])\n",
    "with open('/home/ygael/Projects/healthcare/data/csv/2020_data.csv', 'a') as f:\n",
    "    alldata.to_csv(f, header=True)"
   ]
  },
  {
   "cell_type": "code",
   "execution_count": 9,
   "metadata": {},
   "outputs": [
    {
     "output_type": "stream",
     "name": "stderr",
     "text": [
      "/home/ygael/anaconda3/envs/DataViz/lib/python3.8/site-packages/openpyxl/worksheet/header_footer.py:48: UserWarning: Cannot parse header or footer so it will be ignored\n",
      "  warn(\"\"\"Cannot parse header or footer so it will be ignored\"\"\")\n",
      "/home/ygael/anaconda3/envs/DataViz/lib/python3.8/site-packages/openpyxl/reader/drawings.py:59: UserWarning: wmf image format is not supported so the image is being dropped\n",
      "  warn(msg)\n"
     ]
    }
   ],
   "source": [
    "##Extract data from as many 1045 files in the chargemaster as possible given efficacy of preceeding functions at standarizing extraction process for decidedly non-standard files\n",
    "\n",
    "filelist=getListOfFiles(\"/home/ygael/Projects/healthcare/data/2020_CDM_chargemaster\")\n",
    "for filename in filelist:\n",
    "    if filename[-4:]==\"xlsx\":\n",
    "                try:\n",
    "                    df=getMaster(filename)\n",
    "                    if df != \"FAIL\":\n",
    "                        for i in range(len(df)):\n",
    "                            df[i].replace({'99213/G0463': 99213, 'G0463': 99213,'-': \"\",  'N/A': \"\"}, inplace=True)\n",
    "                            with open('/home/ygael/Projects/healthcare/data/csv/2020_data.csv', 'a') as f:\n",
    "                                    try:\n",
    "                                        df[i].to_csv(f, header=False)\n",
    "                                    except:\n",
    "                                        continue\n",
    "                except:\n",
    "                    continue"
   ]
  },
  {
   "cell_type": "code",
   "execution_count": null,
   "metadata": {},
   "outputs": [],
   "source": [
    "#repeat for 2019 data\n",
    "#Create Column Labels\n",
    "alldata=pd.DataFrame(columns = ['Service', 'CPT',\"AvCharge\", 'Hospital', \"ServiceType\"]).set_index([\"Hospital\"])\n",
    "with open('/home/ygael/Projects/healthcare/data/csv/2019_data.csv', 'a') as f:\n",
    "    alldata.to_csv(f, header=True)"
   ]
  },
  {
   "cell_type": "code",
   "execution_count": null,
   "metadata": {},
   "outputs": [],
   "source": [
    "#repeat for 2019 data\n",
    "#Extract 1095 data and save to CSV\n",
    "filelist=getListOfFiles(\"/home/ygael/Projects/healthcare/data/2019_CDM_chargemaster\")\n",
    "for filename in filelist:\n",
    "    if filename[-4:]==\"xlsx\":\n",
    "                try:\n",
    "                    df=getMaster(filename)\n",
    "                    if df != \"FAIL\":\n",
    "                        for i in range(len(df)):\n",
    "                            df[i].replace({'99213/G0463': 99213, 'G0463': 99213,'-': \"\",  'N/A': \"\"}, inplace=True)\n",
    "                            with open('/home/ygael/Projects/healthcare/data/csv/2019_data.csv', 'a') as f:\n",
    "                                    try:\n",
    "                                        df[i].to_csv(f, header=False)\n",
    "                                    except:\n",
    "                                        continue\n",
    "                except:\n",
    "                    continue"
   ]
  },
  {
   "cell_type": "code",
   "execution_count": null,
   "metadata": {},
   "outputs": [],
   "source": []
  }
 ]
}