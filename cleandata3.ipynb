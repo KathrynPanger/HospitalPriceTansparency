{
 "metadata": {
  "language_info": {
   "codemirror_mode": {
    "name": "ipython",
    "version": 3
   },
   "file_extension": ".py",
   "mimetype": "text/x-python",
   "name": "python",
   "nbconvert_exporter": "python",
   "pygments_lexer": "ipython3",
   "version": "3.8.5"
  },
  "orig_nbformat": 2,
  "kernelspec": {
   "name": "python385jvsc74a57bd0566c7dc836cf49ea79a80bde3a77d731ae67019fab1def2dd83c01090ce827fd",
   "display_name": "Python 3.8.5 64-bit ('DataViz': conda)"
  }
 },
 "nbformat": 4,
 "nbformat_minor": 2,
 "cells": [
  {
   "cell_type": "code",
   "execution_count": 1,
   "metadata": {},
   "outputs": [],
   "source": [
    "import os\n",
    "import pandas as pd\n",
    "import xlrd\n",
    "from pathlib import Path\n",
    "import openpyxl\n",
    "from openpyxl import load_workbook\n",
    "import numpy as np\n",
    "import re"
   ]
  },
  {
   "cell_type": "code",
   "execution_count": 2,
   "metadata": {},
   "outputs": [],
   "source": [
    "#Identify files with AB 1045 Forms in them, extract worksheets which may contain this form\n",
    "#names like \"Common OP Procedures\" or \"AB 1045 form\"\n",
    "xlsx_file = Path('SimData', '/home/ygael/Projects/healthcare/data/2019_CDM_chargemaster/Adventist Health Clearlake/106171049_CDM_All_2019.xlsx')\n",
    "wb_obj = openpyxl.load_workbook(xlsx_file) \n",
    "\n",
    "# Read the active sheet:\n",
    "sheet = wb_obj.active\n"
   ]
  },
  {
   "cell_type": "code",
   "execution_count": 3,
   "metadata": {},
   "outputs": [
    {
     "output_type": "execute_result",
     "data": {
      "text/plain": [
       "     Charge Code                     Charge Code Description HCPCS Code  \\\n",
       "1           1255                    ROOM/BED: Intensive Care       None   \n",
       "2           7211                  ROOM/BED: Med/Surg Private       None   \n",
       "3          17509                   ROOM/BED: Newborn Routine       None   \n",
       "4          21253             ROOM/BED: Med/Surg Semi-Private       None   \n",
       "5          27003      ROOM/BED: Obstetrics LDRP Semi-Private       None   \n",
       "...          ...                                         ...        ...   \n",
       "8708     9520156           PF PM DEPRESSION SCREENING 95 952       None   \n",
       "8709     9520511  PF PM DIL RETINAL EYE EXAM W/INTERP 95 952       None   \n",
       "8710     9520586           PF PM HGB A1C LEVEL < 7.0% 95 952       None   \n",
       "8711     9520594        PF PM HGB A1C LEVEL 7.0%-9.0% 95 952       None   \n",
       "8712     9520602           PF PM HGB A1C LEVEL > 9.0% 95 952       None   \n",
       "\n",
       "     June 2019 Prices  \n",
       "1             9350.13  \n",
       "2             4935.76  \n",
       "3              3172.4  \n",
       "4             4390.68  \n",
       "5             4561.25  \n",
       "...               ...  \n",
       "8708             0.01  \n",
       "8709             0.01  \n",
       "8710             0.01  \n",
       "8711             0.01  \n",
       "8712             0.01  \n",
       "\n",
       "[8712 rows x 4 columns]"
      ],
      "text/html": "<div>\n<style scoped>\n    .dataframe tbody tr th:only-of-type {\n        vertical-align: middle;\n    }\n\n    .dataframe tbody tr th {\n        vertical-align: top;\n    }\n\n    .dataframe thead th {\n        text-align: right;\n    }\n</style>\n<table border=\"1\" class=\"dataframe\">\n  <thead>\n    <tr style=\"text-align: right;\">\n      <th></th>\n      <th>Charge Code</th>\n      <th>Charge Code Description</th>\n      <th>HCPCS Code</th>\n      <th>June 2019 Prices</th>\n    </tr>\n  </thead>\n  <tbody>\n    <tr>\n      <th>1</th>\n      <td>1255</td>\n      <td>ROOM/BED: Intensive Care</td>\n      <td>None</td>\n      <td>9350.13</td>\n    </tr>\n    <tr>\n      <th>2</th>\n      <td>7211</td>\n      <td>ROOM/BED: Med/Surg Private</td>\n      <td>None</td>\n      <td>4935.76</td>\n    </tr>\n    <tr>\n      <th>3</th>\n      <td>17509</td>\n      <td>ROOM/BED: Newborn Routine</td>\n      <td>None</td>\n      <td>3172.4</td>\n    </tr>\n    <tr>\n      <th>4</th>\n      <td>21253</td>\n      <td>ROOM/BED: Med/Surg Semi-Private</td>\n      <td>None</td>\n      <td>4390.68</td>\n    </tr>\n    <tr>\n      <th>5</th>\n      <td>27003</td>\n      <td>ROOM/BED: Obstetrics LDRP Semi-Private</td>\n      <td>None</td>\n      <td>4561.25</td>\n    </tr>\n    <tr>\n      <th>...</th>\n      <td>...</td>\n      <td>...</td>\n      <td>...</td>\n      <td>...</td>\n    </tr>\n    <tr>\n      <th>8708</th>\n      <td>9520156</td>\n      <td>PF PM DEPRESSION SCREENING 95 952</td>\n      <td>None</td>\n      <td>0.01</td>\n    </tr>\n    <tr>\n      <th>8709</th>\n      <td>9520511</td>\n      <td>PF PM DIL RETINAL EYE EXAM W/INTERP 95 952</td>\n      <td>None</td>\n      <td>0.01</td>\n    </tr>\n    <tr>\n      <th>8710</th>\n      <td>9520586</td>\n      <td>PF PM HGB A1C LEVEL &lt; 7.0% 95 952</td>\n      <td>None</td>\n      <td>0.01</td>\n    </tr>\n    <tr>\n      <th>8711</th>\n      <td>9520594</td>\n      <td>PF PM HGB A1C LEVEL 7.0%-9.0% 95 952</td>\n      <td>None</td>\n      <td>0.01</td>\n    </tr>\n    <tr>\n      <th>8712</th>\n      <td>9520602</td>\n      <td>PF PM HGB A1C LEVEL &gt; 9.0% 95 952</td>\n      <td>None</td>\n      <td>0.01</td>\n    </tr>\n  </tbody>\n</table>\n<p>8712 rows × 4 columns</p>\n</div>"
     },
     "metadata": {},
     "execution_count": 3
    }
   ],
   "source": [
    "#Get Chargecode Sheet\n",
    "#####################################################\n",
    "datalist=[]\n",
    "for row in sheet.iter_rows():\n",
    "    for cell in row:\n",
    "        datalist.append(cell.value)\n",
    "\n",
    "#Get column names\n",
    "col_names = []\n",
    "for column in sheet.iter_cols(1, sheet.max_column):\n",
    "    col_names.append(column[0].value)\n",
    "   \n",
    "    \n",
    "#Create a dictionary from the speadsheet\n",
    "\n",
    "data = {}\n",
    "\n",
    "for i, row in enumerate(sheet.iter_rows(values_only=True)):\n",
    "    if i == 0:\n",
    "        for i in range(len(col_names)):\n",
    "            data[row[i]] = [col_names[i]]\n",
    "\n",
    "    else:\n",
    "        for i in range(len(col_names)):\n",
    "            data[col_names[i]].append(row[i])\n",
    "\n",
    "#Create a dataframe from the dictionary\n",
    "df = pd.DataFrame(data)\n",
    "df = df.iloc[1:]\n",
    "\n",
    "df"
   ]
  },
  {
   "cell_type": "code",
   "execution_count": null,
   "metadata": {},
   "outputs": [],
   "source": []
  },
  {
   "cell_type": "code",
   "execution_count": 4,
   "metadata": {},
   "outputs": [],
   "source": [
    "\n",
    "    ##Getting the 1045 data\n",
    "xlsx_file = Path('SimData', '/home/ygael/Projects/healthcare/data/2020_CDM_chargemaster/Alvarado Hospital/106370652_CDM_All_2020.xlsx')\n",
    "wb_obj = openpyxl.load_workbook(xlsx_file) "
   ]
  },
  {
   "cell_type": "code",
   "execution_count": 5,
   "metadata": {},
   "outputs": [],
   "source": [
    "#Function to extract 1045 sheet name\n",
    "\n",
    "def find1045(filepath):\n",
    "    #read file\n",
    "    xlsx_file = Path('SimData', filepath)\n",
    "    wb_obj = openpyxl.load_workbook(xlsx_file)\n",
    "\n",
    "    #get sheet names\n",
    "    sheetnames=wb_obj.sheetnames\n",
    "\n",
    "    #Create a keywords list to identify ABS 1045 forms\n",
    "    keywords= [\"common\", \"procedures\", \"1045\", \"form\"]\n",
    "\n",
    "    #Search for the sheet by keyword\n",
    "    for name in sheetnames:\n",
    "        wholename=name.lower()\n",
    "        wordsInName=wholename.split()\n",
    "        match =  any(item in wordsInName for item in keywords)\n",
    "        if match==True:\n",
    "            sheetname=(wb_obj[name])\n",
    "            return(sheetname)\n",
    "            break\n"
   ]
  },
  {
   "cell_type": "code",
   "execution_count": 6,
   "metadata": {},
   "outputs": [],
   "source": [
    "#Get the first part of the data after finding the 1045 sheet (nested)\n",
    "def getdata(file):\n",
    "    sheet=find1045(file)\n",
    "    alphabet=[\"A\",\"B\",\"C\",\"D\",\"E\",\"F\",\"G\",\"H\",\"I\",\"J\",\"K\",\"L\",\"M\",\"N\",\"O\",\"P\",\"Q\",\"R\",\"S\",\"T\",\"U\",\"V\",\"W\",\"X\",\"Y\",\"Z\"]\n",
    "    found=False\n",
    "    keywords = [\"evaluation\", \"management\"]\n",
    "    for row in sheet.iter_rows():\n",
    "        if found == False:\n",
    "            for cell in row:\n",
    "                heading = str(cell.value).lower()\n",
    "                wordsInHeading=heading.split()\n",
    "                match =  any(item in wordsInHeading for item in keywords)\n",
    "                if match==True:\n",
    "                    found = True\n",
    "                    coord1=cell.coordinate\n",
    "                    splitcoord=re.split('(\\d+)', coord1)\n",
    "                    alphaindex=(alphabet.index(f'{splitcoord[0]}'))+2\n",
    "                    alphachar=alphabet[alphaindex]\n",
    "                    numindex=splitcoord[1]\n",
    "                    numindex=int(numindex)+3\n",
    "                    numindex=str(numindex)\n",
    "                    coord2=f\"{alphachar}{numindex}\"\n",
    "                    df=pd.DataFrame(wb_obj[\"ABS 1045\"][f\"{coord1}:{coord2}\"])\n",
    "                    values=[]\n",
    "                    for row in sheet[coord1:coord2]:\n",
    "                        for i in range(len(row)):\n",
    "                            values.append(row[i].value)\n",
    "                    data = np.array(values).reshape((4, 3))\n",
    "                    df=pd.DataFrame(data=data)\n",
    "                    df.columns = df.iloc[0]\n",
    "                    df[\"Service Type\"]=values[0]\n",
    "                    df.rename(columns={values[0]:\"Service\"})\n",
    "                    df.drop(df.index[0])\n",
    "                    return(df)"
   ]
  },
  {
   "cell_type": "code",
   "execution_count": 7,
   "metadata": {},
   "outputs": [
    {
     "output_type": "execute_result",
     "data": {
      "text/plain": [
       "0 Evaluation & Management Services (CPT Codes 99201-99499)  2019 CPT Code  \\\n",
       "0  Evaluation & Management Services (CPT Codes 99...        2019 CPT Code   \n",
       "1  Emergency Room Visit, Level 2 (low to moderate...                99282   \n",
       "2  Emergency Room Visit, Level 3 (moderate severity)                99283   \n",
       "3      Emergency Room Visit, Level 4 (high severity)                99284   \n",
       "\n",
       "0  Average Charge                                       Service Type  \n",
       "0  Average Charge  Evaluation & Management Services (CPT Codes 99...  \n",
       "1          746.55  Evaluation & Management Services (CPT Codes 99...  \n",
       "2         1051.05  Evaluation & Management Services (CPT Codes 99...  \n",
       "3          1581.3  Evaluation & Management Services (CPT Codes 99...  "
      ],
      "text/html": "<div>\n<style scoped>\n    .dataframe tbody tr th:only-of-type {\n        vertical-align: middle;\n    }\n\n    .dataframe tbody tr th {\n        vertical-align: top;\n    }\n\n    .dataframe thead th {\n        text-align: right;\n    }\n</style>\n<table border=\"1\" class=\"dataframe\">\n  <thead>\n    <tr style=\"text-align: right;\">\n      <th></th>\n      <th>Evaluation &amp; Management Services (CPT Codes 99201-99499)</th>\n      <th>2019 CPT Code</th>\n      <th>Average Charge</th>\n      <th>Service Type</th>\n    </tr>\n  </thead>\n  <tbody>\n    <tr>\n      <th>0</th>\n      <td>Evaluation &amp; Management Services (CPT Codes 99...</td>\n      <td>2019 CPT Code</td>\n      <td>Average Charge</td>\n      <td>Evaluation &amp; Management Services (CPT Codes 99...</td>\n    </tr>\n    <tr>\n      <th>1</th>\n      <td>Emergency Room Visit, Level 2 (low to moderate...</td>\n      <td>99282</td>\n      <td>746.55</td>\n      <td>Evaluation &amp; Management Services (CPT Codes 99...</td>\n    </tr>\n    <tr>\n      <th>2</th>\n      <td>Emergency Room Visit, Level 3 (moderate severity)</td>\n      <td>99283</td>\n      <td>1051.05</td>\n      <td>Evaluation &amp; Management Services (CPT Codes 99...</td>\n    </tr>\n    <tr>\n      <th>3</th>\n      <td>Emergency Room Visit, Level 4 (high severity)</td>\n      <td>99284</td>\n      <td>1581.3</td>\n      <td>Evaluation &amp; Management Services (CPT Codes 99...</td>\n    </tr>\n  </tbody>\n</table>\n</div>"
     },
     "metadata": {},
     "execution_count": 7
    }
   ],
   "source": [
    "getdata(xlsx_file)"
   ]
  },
  {
   "cell_type": "code",
   "execution_count": 8,
   "metadata": {},
   "outputs": [],
   "source": [
    "#Note- change above function to accept lists of lists of (yes, of and of) keywords as an argument so that one function can get data from all sheets"
   ]
  },
  {
   "cell_type": "code",
   "execution_count": 9,
   "metadata": {},
   "outputs": [],
   "source": [
    "masterdf=pd.DataFrame()"
   ]
  },
  {
   "cell_type": "code",
   "execution_count": 196,
   "metadata": {},
   "outputs": [],
   "source": [
    "def getdata2(file):\n",
    "    dflist=[]\n",
    "    coordlist=[]\n",
    "    sheet=find1045(file)\n",
    "    alphabet=[\"A\",\"B\",\"C\",\"D\",\"E\",\"F\",\"G\",\"H\",\"I\",\"J\",\"K\",\"L\",\"M\",\"N\",\"O\",\"P\",\"Q\",\"R\",\"S\",\"T\",\"U\",\"V\",\"W\",\"X\",\"Y\",\"Z\"]\n",
    "    found=False\n",
    "    keywords1 = [\"evaluation\", \"management\", \"services\"]\n",
    "    keywords2 = [\"laboratory\", \"pathology\", \"services\"]\n",
    "    keywords3= [\"radiology\", \"services\"]\n",
    "    keywords4 = [\"medicine\", \"services\"]\n",
    "    keywords5 = [\"surgery\", \"services\"]\n",
    "    keywords6 = [\"other\", \"common\", \"outpatient\", \"procedures\"]\n",
    "    keywords7 = [\"count\", \"of\", \"reported\", \"procedures\",]\n",
    "    keywordslists=[keywords1,keywords2,keywords3,keywords4,keywords5,keywords6,keywords7]\n",
    "    for wordlist in keywordslists:\n",
    "        for row in sheet.iter_rows():\n",
    "                for cell in row:\n",
    "                    heading = str(cell.value).lower()\n",
    "                    wordsInHeading=heading.split()\n",
    "                    match =  all(item in wordsInHeading for item in wordlist)\n",
    "                    if match==True:\n",
    "                        coord1=cell.coordinate\n",
    "                        coordlist.append(coord1)\n",
    "                        break\n",
    "    #print(coordlist)\n",
    "    for coordinate in coordlist[0:-1]:\n",
    "        #print(\"coord\")\n",
    "        #print(coordinate)\n",
    "        splitcoord=re.split('(\\d+)', coordinate)\n",
    "        nextbreak=coordlist[int(coordlist.index(coordinate)+1)]\n",
    "        print(\"nextbreak\")\n",
    "        print(nextbreak)\n",
    "        splitbreak=re.split('(\\d+)', nextbreak)\n",
    "        #print(\"splitbreak\")\n",
    "        #print(splitbreak)\n",
    "        lastcell=f\"{int(splitbreak[1])-1}\"\n",
    "        coord2=f\"C{lastcell}\"\n",
    "        #print(\"coord2\")\n",
    "        #print(coord2)\n",
    "\n",
    "        cellgroup=[coordinate,coord2]\n",
    "        #print(cellgroup)\n",
    "        df=pd.DataFrame(sheet[f\"{cellgroup[0]}:{cellgroup[1]}\"])\n",
    "\n",
    "        dflist.append(df)\n",
    "\n",
    "    return(dflist)\n",
    "\n",
    "  \n",
    "    "
   ]
  },
  {
   "cell_type": "code",
   "execution_count": 197,
   "metadata": {},
   "outputs": [],
   "source": [
    "def getdata2comment(file):\n",
    "    dflist=[]\n",
    "    coordlist=[]\n",
    "    sheet=find1045(file)\n",
    "    print(sheet.max_row)\n",
    "    alphabet=[\"A\",\"B\",\"C\",\"D\",\"E\",\"F\",\"G\",\"H\",\"I\",\"J\",\"K\",\"L\",\"M\",\"N\",\"O\",\"P\",\"Q\",\"R\",\"S\",\"T\",\"U\",\"V\",\"W\",\"X\",\"Y\",\"Z\"]\n",
    "    found=False\n",
    "    keywords1 = [\"evaluation\", \"management\", \"services\"]\n",
    "    keywords2 = [\"laboratory\", \"pathology\", \"services\"]\n",
    "    keywords3= [\"radiology\", \"services\"]\n",
    "    keywords4 = [\"medicine\", \"services\"]\n",
    "    keywords5 = [\"surgery\", \"services\"]\n",
    "    keywords6 = [\"other\",\"common\"]\n",
    "    keywords7 = [\"count\", \"of\", \"reported\", \"procedures\",]\n",
    "    keywordslists=[keywords1,keywords2,keywords3,keywords4,keywords5,keywords6,keywords7]\n",
    "    for wordlist in keywordslists:\n",
    "        for row in sheet.iter_rows():\n",
    "                for cell in row:\n",
    "                    heading = str(cell.value).lower()\n",
    "                    wordsInHeading=heading.split()\n",
    "                    match =  all(item in wordsInHeading for item in wordlist)\n",
    "                    if match==True:\n",
    "                        coord1=cell.coordinate\n",
    "                        coordlist.append(coord1)\n",
    "                        break\n",
    "    #print(coordlist)\n",
    "    for coordinate in coordlist[0:-1]:\n",
    "        #print(\"coord\")\n",
    "        #print(coordinate)\n",
    "        splitcoord=re.split('(\\d+)', coordinate)\n",
    "        nextbreak=coordlist[int(coordlist.index(coordinate)+1)]\n",
    "        print(\"nextbreak\")\n",
    "        print(nextbreak)\n",
    "        splitbreak=re.split('(\\d+)', nextbreak)\n",
    "        #print(\"splitbreak\")\n",
    "        #print(splitbreak)\n",
    "        lastcell=f\"{int(splitbreak[1])-1}\"\n",
    "        coord2=f\"C{lastcell}\"\n",
    "        #print(\"coord2\")\n",
    "        #print(coord2)\n",
    "\n",
    "        cellgroup=[coordinate,coord2]\n",
    "        #print(cellgroup)\n",
    "        df=pd.DataFrame(sheet[f\"{cellgroup[0]}:{cellgroup[1]}\"])\n",
    "    print(coordlist)\n",
    "\n",
    "    return(dflist)"
   ]
  },
  {
   "cell_type": "code",
   "execution_count": 198,
   "metadata": {},
   "outputs": [],
   "source": [
    "def convertvalue(x):\n",
    "    return x.value"
   ]
  },
  {
   "cell_type": "code",
   "execution_count": 199,
   "metadata": {},
   "outputs": [
    {
     "output_type": "execute_result",
     "data": {
      "text/plain": [
       "[3]"
      ]
     },
     "metadata": {},
     "execution_count": 199
    }
   ],
   "source": [
    "mylist=[1,2,3]\n",
    "mylist[-1:1:-2]"
   ]
  },
  {
   "cell_type": "code",
   "execution_count": 200,
   "metadata": {},
   "outputs": [
    {
     "output_type": "stream",
     "name": "stdout",
     "text": [
      "nextbreak\nA11\nnextbreak\nA25\nnextbreak\nA33\nnextbreak\nA40\nnextbreak\nA47\nnextbreak\nA56\n"
     ]
    }
   ],
   "source": [
    "#Get a list of all important dfs in the dataset, converted\n",
    "convertlist=[]\n",
    "masterlist=getdata2(xlsx_file)\n",
    "for i in range(len(masterlist)):\n",
    "    df=masterlist[i].applymap(convertvalue)\n",
    "    convertlist.append(df)"
   ]
  },
  {
   "cell_type": "code",
   "execution_count": 201,
   "metadata": {},
   "outputs": [],
   "source": [
    "for df in convertlist:\n",
    "    if len(df)>0:\n",
    "        df.columns = df.iloc[0]\n",
    "        df[\"Service Type\"]=df.iloc[0,0]\n",
    "        df.rename(columns={ df.columns[0]: \"Service\" }, inplace = True)\n",
    "        df=df.drop(df.index[0], inplace=True)"
   ]
  },
  {
   "cell_type": "code",
   "execution_count": 203,
   "metadata": {},
   "outputs": [
    {
     "output_type": "execute_result",
     "data": {
      "text/plain": [
       "0                               Service 2019 CPT Code Average Charge  \\\n",
       "1                    GLUCOSE BLOOD TEST         82962          165.4   \n",
       "2  COLLECTION VENOUS BLOOD,VENIPUNCTURE         36415          16.55   \n",
       "3         NONINVASV OXYGEN SATUR;SINGLE         94760           89.3   \n",
       "4               BACTERIA CULTURE SCREEN         87081            172   \n",
       "5                                  None          None           None   \n",
       "6                                  None          None           None   \n",
       "7                                  None          None           None   \n",
       "8                                  None          None           None   \n",
       "\n",
       "0                                       Service Type  \n",
       "1  Other Common Outpatient Procedures (list as ne...  \n",
       "2  Other Common Outpatient Procedures (list as ne...  \n",
       "3  Other Common Outpatient Procedures (list as ne...  \n",
       "4  Other Common Outpatient Procedures (list as ne...  \n",
       "5  Other Common Outpatient Procedures (list as ne...  \n",
       "6  Other Common Outpatient Procedures (list as ne...  \n",
       "7  Other Common Outpatient Procedures (list as ne...  \n",
       "8  Other Common Outpatient Procedures (list as ne...  "
      ],
      "text/html": "<div>\n<style scoped>\n    .dataframe tbody tr th:only-of-type {\n        vertical-align: middle;\n    }\n\n    .dataframe tbody tr th {\n        vertical-align: top;\n    }\n\n    .dataframe thead th {\n        text-align: right;\n    }\n</style>\n<table border=\"1\" class=\"dataframe\">\n  <thead>\n    <tr style=\"text-align: right;\">\n      <th></th>\n      <th>Service</th>\n      <th>2019 CPT Code</th>\n      <th>Average Charge</th>\n      <th>Service Type</th>\n    </tr>\n  </thead>\n  <tbody>\n    <tr>\n      <th>1</th>\n      <td>GLUCOSE BLOOD TEST</td>\n      <td>82962</td>\n      <td>165.4</td>\n      <td>Other Common Outpatient Procedures (list as ne...</td>\n    </tr>\n    <tr>\n      <th>2</th>\n      <td>COLLECTION VENOUS BLOOD,VENIPUNCTURE</td>\n      <td>36415</td>\n      <td>16.55</td>\n      <td>Other Common Outpatient Procedures (list as ne...</td>\n    </tr>\n    <tr>\n      <th>3</th>\n      <td>NONINVASV OXYGEN SATUR;SINGLE</td>\n      <td>94760</td>\n      <td>89.3</td>\n      <td>Other Common Outpatient Procedures (list as ne...</td>\n    </tr>\n    <tr>\n      <th>4</th>\n      <td>BACTERIA CULTURE SCREEN</td>\n      <td>87081</td>\n      <td>172</td>\n      <td>Other Common Outpatient Procedures (list as ne...</td>\n    </tr>\n    <tr>\n      <th>5</th>\n      <td>None</td>\n      <td>None</td>\n      <td>None</td>\n      <td>Other Common Outpatient Procedures (list as ne...</td>\n    </tr>\n    <tr>\n      <th>6</th>\n      <td>None</td>\n      <td>None</td>\n      <td>None</td>\n      <td>Other Common Outpatient Procedures (list as ne...</td>\n    </tr>\n    <tr>\n      <th>7</th>\n      <td>None</td>\n      <td>None</td>\n      <td>None</td>\n      <td>Other Common Outpatient Procedures (list as ne...</td>\n    </tr>\n    <tr>\n      <th>8</th>\n      <td>None</td>\n      <td>None</td>\n      <td>None</td>\n      <td>Other Common Outpatient Procedures (list as ne...</td>\n    </tr>\n  </tbody>\n</table>\n</div>"
     },
     "metadata": {},
     "execution_count": 203
    }
   ],
   "source": [
    "convertlist[5]"
   ]
  },
  {
   "source": [],
   "cell_type": "markdown",
   "metadata": {}
  },
  {
   "cell_type": "code",
   "execution_count": null,
   "metadata": {},
   "outputs": [],
   "source": [
    "#Pull relavant data from worksheets\n",
    "\n",
    "startFolder =\"/home/ygael/Projects/healthcare/data/2020_CDM_chargemaster\"\n",
    "\n",
    "for subdir, dirs, files in os.walk(rootdir):\n",
    "    for file in files:\n",
    "        hospital_df = pd.DataFrame(pd.read_excel(file))\n",
    "        lines=f.readlines()\n",
    "        f.close()\n",
    "        f=open(file,'w')\n",
    "        for line in lines:\n",
    "            newline = \"No you are not\"\n",
    "            f.write(newline)\n",
    "        f.close()\n",
    "        \n",
    "        "
   ]
  }
 ]
}