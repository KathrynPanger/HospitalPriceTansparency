{
 "metadata": {
  "language_info": {
   "codemirror_mode": {
    "name": "ipython",
    "version": 3
   },
   "file_extension": ".py",
   "mimetype": "text/x-python",
   "name": "python",
   "nbconvert_exporter": "python",
   "pygments_lexer": "ipython3",
   "version": "3.8.5"
  },
  "orig_nbformat": 2,
  "kernelspec": {
   "name": "python385jvsc74a57bd0566c7dc836cf49ea79a80bde3a77d731ae67019fab1def2dd83c01090ce827fd",
   "display_name": "Python 3.8.5 64-bit ('DataViz': conda)"
  }
 },
 "nbformat": 4,
 "nbformat_minor": 2,
 "cells": [
  {
   "cell_type": "code",
   "execution_count": 165,
   "metadata": {},
   "outputs": [],
   "source": [
    "import os\n",
    "import pandas as pd\n",
    "import xlrd\n",
    "from pathlib import Path\n",
    "import openpyxl\n",
    "from openpyxl import load_workbook\n",
    "import numpy as np\n",
    "import re"
   ]
  },
  {
   "cell_type": "code",
   "execution_count": 67,
   "metadata": {},
   "outputs": [],
   "source": [
    "#Identify files with AB 1045 Forms in them, extract worksheets which may contain this form\n",
    "#names like \"Common OP Procedures\" or \"AB 1045 form\"\n",
    "xlsx_file = Path('SimData', '/home/ygael/Projects/healthcare/data/2019_CDM_chargemaster/Adventist Health Clearlake/106171049_CDM_All_2019.xlsx')\n",
    "wb_obj = openpyxl.load_workbook(xlsx_file) \n",
    "\n",
    "# Read the active sheet:\n",
    "sheet = wb_obj.active\n"
   ]
  },
  {
   "cell_type": "code",
   "execution_count": 68,
   "metadata": {},
   "outputs": [
    {
     "output_type": "execute_result",
     "data": {
      "text/plain": [
       "     Charge Code                     Charge Code Description HCPCS Code  \\\n",
       "1           1255                    ROOM/BED: Intensive Care       None   \n",
       "2           7211                  ROOM/BED: Med/Surg Private       None   \n",
       "3          17509                   ROOM/BED: Newborn Routine       None   \n",
       "4          21253             ROOM/BED: Med/Surg Semi-Private       None   \n",
       "5          27003      ROOM/BED: Obstetrics LDRP Semi-Private       None   \n",
       "...          ...                                         ...        ...   \n",
       "8708     9520156           PF PM DEPRESSION SCREENING 95 952       None   \n",
       "8709     9520511  PF PM DIL RETINAL EYE EXAM W/INTERP 95 952       None   \n",
       "8710     9520586           PF PM HGB A1C LEVEL < 7.0% 95 952       None   \n",
       "8711     9520594        PF PM HGB A1C LEVEL 7.0%-9.0% 95 952       None   \n",
       "8712     9520602           PF PM HGB A1C LEVEL > 9.0% 95 952       None   \n",
       "\n",
       "     June 2019 Prices  \n",
       "1             9350.13  \n",
       "2             4935.76  \n",
       "3              3172.4  \n",
       "4             4390.68  \n",
       "5             4561.25  \n",
       "...               ...  \n",
       "8708             0.01  \n",
       "8709             0.01  \n",
       "8710             0.01  \n",
       "8711             0.01  \n",
       "8712             0.01  \n",
       "\n",
       "[8712 rows x 4 columns]"
      ],
      "text/html": "<div>\n<style scoped>\n    .dataframe tbody tr th:only-of-type {\n        vertical-align: middle;\n    }\n\n    .dataframe tbody tr th {\n        vertical-align: top;\n    }\n\n    .dataframe thead th {\n        text-align: right;\n    }\n</style>\n<table border=\"1\" class=\"dataframe\">\n  <thead>\n    <tr style=\"text-align: right;\">\n      <th></th>\n      <th>Charge Code</th>\n      <th>Charge Code Description</th>\n      <th>HCPCS Code</th>\n      <th>June 2019 Prices</th>\n    </tr>\n  </thead>\n  <tbody>\n    <tr>\n      <th>1</th>\n      <td>1255</td>\n      <td>ROOM/BED: Intensive Care</td>\n      <td>None</td>\n      <td>9350.13</td>\n    </tr>\n    <tr>\n      <th>2</th>\n      <td>7211</td>\n      <td>ROOM/BED: Med/Surg Private</td>\n      <td>None</td>\n      <td>4935.76</td>\n    </tr>\n    <tr>\n      <th>3</th>\n      <td>17509</td>\n      <td>ROOM/BED: Newborn Routine</td>\n      <td>None</td>\n      <td>3172.4</td>\n    </tr>\n    <tr>\n      <th>4</th>\n      <td>21253</td>\n      <td>ROOM/BED: Med/Surg Semi-Private</td>\n      <td>None</td>\n      <td>4390.68</td>\n    </tr>\n    <tr>\n      <th>5</th>\n      <td>27003</td>\n      <td>ROOM/BED: Obstetrics LDRP Semi-Private</td>\n      <td>None</td>\n      <td>4561.25</td>\n    </tr>\n    <tr>\n      <th>...</th>\n      <td>...</td>\n      <td>...</td>\n      <td>...</td>\n      <td>...</td>\n    </tr>\n    <tr>\n      <th>8708</th>\n      <td>9520156</td>\n      <td>PF PM DEPRESSION SCREENING 95 952</td>\n      <td>None</td>\n      <td>0.01</td>\n    </tr>\n    <tr>\n      <th>8709</th>\n      <td>9520511</td>\n      <td>PF PM DIL RETINAL EYE EXAM W/INTERP 95 952</td>\n      <td>None</td>\n      <td>0.01</td>\n    </tr>\n    <tr>\n      <th>8710</th>\n      <td>9520586</td>\n      <td>PF PM HGB A1C LEVEL &lt; 7.0% 95 952</td>\n      <td>None</td>\n      <td>0.01</td>\n    </tr>\n    <tr>\n      <th>8711</th>\n      <td>9520594</td>\n      <td>PF PM HGB A1C LEVEL 7.0%-9.0% 95 952</td>\n      <td>None</td>\n      <td>0.01</td>\n    </tr>\n    <tr>\n      <th>8712</th>\n      <td>9520602</td>\n      <td>PF PM HGB A1C LEVEL &gt; 9.0% 95 952</td>\n      <td>None</td>\n      <td>0.01</td>\n    </tr>\n  </tbody>\n</table>\n<p>8712 rows × 4 columns</p>\n</div>"
     },
     "metadata": {},
     "execution_count": 68
    }
   ],
   "source": [
    "#Get Chargecode Sheet\n",
    "#####################################################\n",
    "datalist=[]\n",
    "for row in sheet.iter_rows():\n",
    "    for cell in row:\n",
    "        datalist.append(cell.value)\n",
    "\n",
    "#Get column names\n",
    "col_names = []\n",
    "for column in sheet.iter_cols(1, sheet.max_column):\n",
    "    col_names.append(column[0].value)\n",
    "   \n",
    "    \n",
    "#Create a dictionary from the speadsheet\n",
    "\n",
    "data = {}\n",
    "\n",
    "for i, row in enumerate(sheet.iter_rows(values_only=True)):\n",
    "    if i == 0:\n",
    "        for i in range(len(col_names)):\n",
    "            data[row[i]] = [col_names[i]]\n",
    "\n",
    "    else:\n",
    "        for i in range(len(col_names)):\n",
    "            data[col_names[i]].append(row[i])\n",
    "\n",
    "#Create a dataframe from the dictionary\n",
    "df = pd.DataFrame(data)\n",
    "df = df.iloc[1:]\n",
    "\n",
    "df"
   ]
  },
  {
   "cell_type": "code",
   "execution_count": null,
   "metadata": {},
   "outputs": [],
   "source": []
  },
  {
   "cell_type": "code",
   "execution_count": null,
   "metadata": {},
   "outputs": [],
   "source": [
    "\n",
    "    ##Getting the 1045 data\n",
    "xlsx_file = Path('SimData', '/home/ygael/Projects/healthcare/data/2020_CDM_chargemaster/Alvarado Hospital/106370652_CDM_All_2020.xlsx')\n",
    "wb_obj = openpyxl.load_workbook(xlsx_file) "
   ]
  },
  {
   "cell_type": "code",
   "execution_count": 99,
   "metadata": {},
   "outputs": [],
   "source": [
    "#Function to extract 1045 sheet name\n",
    "\n",
    "def find1045(filepath):\n",
    "    #read file\n",
    "    xlsx_file = Path('SimData', filepath)\n",
    "    wb_obj = openpyxl.load_workbook(xlsx_file)\n",
    "\n",
    "    #get sheet names\n",
    "    sheetnames=wb_obj.sheetnames\n",
    "\n",
    "    #Create a keywords list to identify ABS 1045 forms\n",
    "    keywords= [\"common\", \"procedures\", \"1045\", \"form\"]\n",
    "\n",
    "    #Search for the sheet by keyword\n",
    "    for name in sheetnames:\n",
    "        wholename=name.lower()\n",
    "        wordsInName=wholename.split()\n",
    "        match =  any(item in wordsInName for item in keywords)\n",
    "        if match==True:\n",
    "            sheetname=(wb_obj[name])\n",
    "            return(sheetname)\n",
    "            break\n"
   ]
  },
  {
   "cell_type": "code",
   "execution_count": 113,
   "metadata": {},
   "outputs": [],
   "source": [
    "#Get the first part of the data after finding the 1045 sheet (nested)\n",
    "def getdata(file):\n",
    "    sheet=find1045(file)\n",
    "    alphabet=[\"A\",\"B\",\"C\",\"D\",\"E\",\"F\",\"G\",\"H\",\"I\",\"J\",\"K\",\"L\",\"M\",\"N\",\"O\",\"P\",\"Q\",\"R\",\"S\",\"T\",\"U\",\"V\",\"W\",\"X\",\"Y\",\"Z\"]\n",
    "    found=False\n",
    "    keywords = [\"evaluation\", \"management\"]\n",
    "    for row in sheet.iter_rows():\n",
    "        if found == False:\n",
    "            for cell in row:\n",
    "                heading = str(cell.value).lower()\n",
    "                wordsInHeading=heading.split()\n",
    "                match =  any(item in wordsInHeading for item in keywords)\n",
    "                if match==True:\n",
    "                    found = True\n",
    "                    coord1=cell.coordinate\n",
    "                    splitcoord=split(coord1)\n",
    "                    alphaindex=(alphabet.index(f'{splitcoord[0]}'))+2\n",
    "                    alphachar=alphabet[alphaindex]\n",
    "                    numindex=splitcoord[1]\n",
    "                    numindex=int(numindex)+3\n",
    "                    numindex=str(numindex)\n",
    "                    coord2=f\"{alphachar}{numindex}\"\n",
    "                    df=pd.DataFrame(wb_obj[\"ABS 1045\"][f\"{coord1}:{coord2}\"])\n",
    "                    values=[]\n",
    "                    for row in sheet[coord1:coord2]:\n",
    "                        for i in range(len(row)):\n",
    "                            values.append(row[i].value)\n",
    "                    data = np.array(values).reshape((4, 3))\n",
    "                    df=pd.DataFrame(data=data)\n",
    "                    df.columns = df.iloc[0]\n",
    "                    df[\"Service Type\"]=values[0]\n",
    "                    df.rename(columns={values[0]:\"Service\"})\n",
    "                    df.drop(df.index[0])\n",
    "                    return(df)"
   ]
  },
  {
   "cell_type": "code",
   "execution_count": 114,
   "metadata": {},
   "outputs": [
    {
     "output_type": "stream",
     "name": "stdout",
     "text": [
      "A6\nC9\n"
     ]
    },
    {
     "output_type": "execute_result",
     "data": {
      "text/plain": [
       "0 Evaluation & Management Services (CPT Codes 99201-99499)  2019 CPT Code  \\\n",
       "0  Evaluation & Management Services (CPT Codes 99...        2019 CPT Code   \n",
       "1  Emergency Room Visit, Level 2 (low to moderate...                99282   \n",
       "2  Emergency Room Visit, Level 3 (moderate severity)                99283   \n",
       "3      Emergency Room Visit, Level 4 (high severity)                99284   \n",
       "\n",
       "0  Average Charge                                       Service Type  \n",
       "0  Average Charge  Evaluation & Management Services (CPT Codes 99...  \n",
       "1          746.55  Evaluation & Management Services (CPT Codes 99...  \n",
       "2         1051.05  Evaluation & Management Services (CPT Codes 99...  \n",
       "3          1581.3  Evaluation & Management Services (CPT Codes 99...  "
      ],
      "text/html": "<div>\n<style scoped>\n    .dataframe tbody tr th:only-of-type {\n        vertical-align: middle;\n    }\n\n    .dataframe tbody tr th {\n        vertical-align: top;\n    }\n\n    .dataframe thead th {\n        text-align: right;\n    }\n</style>\n<table border=\"1\" class=\"dataframe\">\n  <thead>\n    <tr style=\"text-align: right;\">\n      <th></th>\n      <th>Evaluation &amp; Management Services (CPT Codes 99201-99499)</th>\n      <th>2019 CPT Code</th>\n      <th>Average Charge</th>\n      <th>Service Type</th>\n    </tr>\n  </thead>\n  <tbody>\n    <tr>\n      <th>0</th>\n      <td>Evaluation &amp; Management Services (CPT Codes 99...</td>\n      <td>2019 CPT Code</td>\n      <td>Average Charge</td>\n      <td>Evaluation &amp; Management Services (CPT Codes 99...</td>\n    </tr>\n    <tr>\n      <th>1</th>\n      <td>Emergency Room Visit, Level 2 (low to moderate...</td>\n      <td>99282</td>\n      <td>746.55</td>\n      <td>Evaluation &amp; Management Services (CPT Codes 99...</td>\n    </tr>\n    <tr>\n      <th>2</th>\n      <td>Emergency Room Visit, Level 3 (moderate severity)</td>\n      <td>99283</td>\n      <td>1051.05</td>\n      <td>Evaluation &amp; Management Services (CPT Codes 99...</td>\n    </tr>\n    <tr>\n      <th>3</th>\n      <td>Emergency Room Visit, Level 4 (high severity)</td>\n      <td>99284</td>\n      <td>1581.3</td>\n      <td>Evaluation &amp; Management Services (CPT Codes 99...</td>\n    </tr>\n  </tbody>\n</table>\n</div>"
     },
     "metadata": {},
     "execution_count": 114
    }
   ],
   "source": [
    "getdata(xlsx_file)"
   ]
  },
  {
   "cell_type": "code",
   "execution_count": null,
   "metadata": {},
   "outputs": [],
   "source": [
    "#Note- change above function to accept lists of lists of (yes, of and of) keywords as an argument so that one function can get data from all sheets"
   ]
  },
  {
   "cell_type": "code",
   "execution_count": 173,
   "metadata": {},
   "outputs": [],
   "source": [
    "masterdf=pd.DataFrame()"
   ]
  },
  {
   "cell_type": "code",
   "execution_count": 213,
   "metadata": {},
   "outputs": [],
   "source": [
    "def getdata2(file):\n",
    "    dflist=[]\n",
    "    coordlist=[]\n",
    "    sheet=find1045(file)\n",
    "    alphabet=[\"A\",\"B\",\"C\",\"D\",\"E\",\"F\",\"G\",\"H\",\"I\",\"J\",\"K\",\"L\",\"M\",\"N\",\"O\",\"P\",\"Q\",\"R\",\"S\",\"T\",\"U\",\"V\",\"W\",\"X\",\"Y\",\"Z\"]\n",
    "    found=False\n",
    "    keywords1 = [\"evaluation\", \"management\"]\n",
    "    keywords2 = [\"laboratory\", \"pathology\"]\n",
    "    keywords3= [\"radiology\"]\n",
    "    keywords4 = [\"medicine\"]\n",
    "    keywords5 = [\"surgery\"]\n",
    "    keywords6 = [\"outpatient\"]\n",
    "    keywords7 = [\"count\", \"of\"]\n",
    "    keywordslists=[keywords1,keywords2,keywords3,keywords4,keywords5,keywords6,keywords7]\n",
    "    for wordlist in keywordslists:\n",
    "        for row in sheet.iter_rows():\n",
    "                for cell in row:\n",
    "                    heading = str(cell.value).lower()\n",
    "                    wordsInHeading=heading.split()\n",
    "                    match =  any(item in wordsInHeading for item in wordlist)\n",
    "                    if match==True:\n",
    "                        coord1=cell.coordinate\n",
    "                        coordlist.append(coord1)\n",
    "                        break\n",
    "    print(coordlist)\n",
    "    for coordinate in coordlist[0:-1]:\n",
    "        print(\"coord\")\n",
    "        print(coordinate)\n",
    "        splitcoord=split(coordinate)\n",
    "        nextbreak=coordlist[int(coordlist.index(coordinate)+1)]\n",
    "        print(\"nextbreak\")\n",
    "        print(nextbreak)\n",
    "        splitbreak=re.split('(\\d+)', nextbreak)\n",
    "        print(\"splitbreak\")\n",
    "        print(splitbreak)\n",
    "        lastcell=f\"{int(splitbreak[1])-1}\"\n",
    "        coord2=f\"C{lastcell}\"\n",
    "        print(\"coord2\")\n",
    "        print(coord2)\n",
    "        cellgroup=[coordinate,coord2]\n",
    "        print(cellgroup)\n",
    "        df=pd.DataFrame(sheet[f\"{cellgroup[0]}:{cellgroup[1]}\"])\n",
    "        print(df)\n",
    "        dflist.append(df)\n",
    "    return(dflist)\n",
    "\n",
    "  \n",
    "    "
   ]
  },
  {
   "cell_type": "code",
   "execution_count": 214,
   "metadata": {},
   "outputs": [
    {
     "output_type": "stream",
     "name": "stdout",
     "text": [
      "['A6', 'A11', 'A25', 'A33', 'A40', 'A5', 'A10', 'A47', 'A3', 'A5', 'A56']\ncoord\nA6\nnextbreak\nA11\nsplitbreak\n['A', '11', '']\ncoord2\nC10\n['A6', 'C10']\n                       0                      1                      2\n0   <Cell 'ABS 1045'.A6>   <Cell 'ABS 1045'.B6>   <Cell 'ABS 1045'.C6>\n1   <Cell 'ABS 1045'.A7>   <Cell 'ABS 1045'.B7>   <Cell 'ABS 1045'.C7>\n2   <Cell 'ABS 1045'.A8>   <Cell 'ABS 1045'.B8>   <Cell 'ABS 1045'.C8>\n3   <Cell 'ABS 1045'.A9>   <Cell 'ABS 1045'.B9>   <Cell 'ABS 1045'.C9>\n4  <Cell 'ABS 1045'.A10>  <Cell 'ABS 1045'.B10>  <Cell 'ABS 1045'.C10>\ncoord\nA11\nnextbreak\nA25\nsplitbreak\n['A', '25', '']\ncoord2\nC24\n['A11', 'C24']\n                        0                      1                      2\n0   <Cell 'ABS 1045'.A11>  <Cell 'ABS 1045'.B11>  <Cell 'ABS 1045'.C11>\n1   <Cell 'ABS 1045'.A12>  <Cell 'ABS 1045'.B12>  <Cell 'ABS 1045'.C12>\n2   <Cell 'ABS 1045'.A13>  <Cell 'ABS 1045'.B13>  <Cell 'ABS 1045'.C13>\n3   <Cell 'ABS 1045'.A14>  <Cell 'ABS 1045'.B14>  <Cell 'ABS 1045'.C14>\n4   <Cell 'ABS 1045'.A15>  <Cell 'ABS 1045'.B15>  <Cell 'ABS 1045'.C15>\n5   <Cell 'ABS 1045'.A16>  <Cell 'ABS 1045'.B16>  <Cell 'ABS 1045'.C16>\n6   <Cell 'ABS 1045'.A17>  <Cell 'ABS 1045'.B17>  <Cell 'ABS 1045'.C17>\n7   <Cell 'ABS 1045'.A18>  <Cell 'ABS 1045'.B18>  <Cell 'ABS 1045'.C18>\n8   <Cell 'ABS 1045'.A19>  <Cell 'ABS 1045'.B19>  <Cell 'ABS 1045'.C19>\n9   <Cell 'ABS 1045'.A20>  <Cell 'ABS 1045'.B20>  <Cell 'ABS 1045'.C20>\n10  <Cell 'ABS 1045'.A21>  <Cell 'ABS 1045'.B21>  <Cell 'ABS 1045'.C21>\n11  <Cell 'ABS 1045'.A22>  <Cell 'ABS 1045'.B22>  <Cell 'ABS 1045'.C22>\n12  <Cell 'ABS 1045'.A23>  <Cell 'ABS 1045'.B23>  <Cell 'ABS 1045'.C23>\n13  <Cell 'ABS 1045'.A24>  <Cell 'ABS 1045'.B24>  <Cell 'ABS 1045'.C24>\ncoord\nA25\nnextbreak\nA33\nsplitbreak\n['A', '33', '']\ncoord2\nC32\n['A25', 'C32']\n                       0                      1                      2\n0  <Cell 'ABS 1045'.A25>  <Cell 'ABS 1045'.B25>  <Cell 'ABS 1045'.C25>\n1  <Cell 'ABS 1045'.A26>  <Cell 'ABS 1045'.B26>  <Cell 'ABS 1045'.C26>\n2  <Cell 'ABS 1045'.A27>  <Cell 'ABS 1045'.B27>  <Cell 'ABS 1045'.C27>\n3  <Cell 'ABS 1045'.A28>  <Cell 'ABS 1045'.B28>  <Cell 'ABS 1045'.C28>\n4  <Cell 'ABS 1045'.A29>  <Cell 'ABS 1045'.B29>  <Cell 'ABS 1045'.C29>\n5  <Cell 'ABS 1045'.A30>  <Cell 'ABS 1045'.B30>  <Cell 'ABS 1045'.C30>\n6  <Cell 'ABS 1045'.A31>  <Cell 'ABS 1045'.B31>  <Cell 'ABS 1045'.C31>\n7  <Cell 'ABS 1045'.A32>  <Cell 'ABS 1045'.B32>  <Cell 'ABS 1045'.C32>\ncoord\nA33\nnextbreak\nA40\nsplitbreak\n['A', '40', '']\ncoord2\nC39\n['A33', 'C39']\n                       0                      1                      2\n0  <Cell 'ABS 1045'.A33>  <Cell 'ABS 1045'.B33>  <Cell 'ABS 1045'.C33>\n1  <Cell 'ABS 1045'.A34>  <Cell 'ABS 1045'.B34>  <Cell 'ABS 1045'.C34>\n2  <Cell 'ABS 1045'.A35>  <Cell 'ABS 1045'.B35>  <Cell 'ABS 1045'.C35>\n3  <Cell 'ABS 1045'.A36>  <Cell 'ABS 1045'.B36>  <Cell 'ABS 1045'.C36>\n4  <Cell 'ABS 1045'.A37>  <Cell 'ABS 1045'.B37>  <Cell 'ABS 1045'.C37>\n5  <Cell 'ABS 1045'.A38>  <Cell 'ABS 1045'.B38>  <Cell 'ABS 1045'.C38>\n6  <Cell 'ABS 1045'.A39>  <Cell 'ABS 1045'.B39>  <Cell 'ABS 1045'.C39>\ncoord\nA40\nnextbreak\nA5\nsplitbreak\n['A', '5', '']\ncoord2\nC4\n['A40', 'C4']\nEmpty DataFrame\nColumns: []\nIndex: []\ncoord\nA5\nnextbreak\nA10\nsplitbreak\n['A', '10', '']\ncoord2\nC9\n['A5', 'C9']\n                      0                           1  \\\n0  <Cell 'ABS 1045'.A5>  <MergedCell 'ABS 1045'.B5>   \n1  <Cell 'ABS 1045'.A6>        <Cell 'ABS 1045'.B6>   \n2  <Cell 'ABS 1045'.A7>        <Cell 'ABS 1045'.B7>   \n3  <Cell 'ABS 1045'.A8>        <Cell 'ABS 1045'.B8>   \n4  <Cell 'ABS 1045'.A9>        <Cell 'ABS 1045'.B9>   \n\n                            2  \n0  <MergedCell 'ABS 1045'.C5>  \n1        <Cell 'ABS 1045'.C6>  \n2        <Cell 'ABS 1045'.C7>  \n3        <Cell 'ABS 1045'.C8>  \n4        <Cell 'ABS 1045'.C9>  \ncoord\nA10\nnextbreak\nA47\nsplitbreak\n['A', '47', '']\ncoord2\nC46\n['A10', 'C46']\n                        0                      1                      2\n0   <Cell 'ABS 1045'.A10>  <Cell 'ABS 1045'.B10>  <Cell 'ABS 1045'.C10>\n1   <Cell 'ABS 1045'.A11>  <Cell 'ABS 1045'.B11>  <Cell 'ABS 1045'.C11>\n2   <Cell 'ABS 1045'.A12>  <Cell 'ABS 1045'.B12>  <Cell 'ABS 1045'.C12>\n3   <Cell 'ABS 1045'.A13>  <Cell 'ABS 1045'.B13>  <Cell 'ABS 1045'.C13>\n4   <Cell 'ABS 1045'.A14>  <Cell 'ABS 1045'.B14>  <Cell 'ABS 1045'.C14>\n5   <Cell 'ABS 1045'.A15>  <Cell 'ABS 1045'.B15>  <Cell 'ABS 1045'.C15>\n6   <Cell 'ABS 1045'.A16>  <Cell 'ABS 1045'.B16>  <Cell 'ABS 1045'.C16>\n7   <Cell 'ABS 1045'.A17>  <Cell 'ABS 1045'.B17>  <Cell 'ABS 1045'.C17>\n8   <Cell 'ABS 1045'.A18>  <Cell 'ABS 1045'.B18>  <Cell 'ABS 1045'.C18>\n9   <Cell 'ABS 1045'.A19>  <Cell 'ABS 1045'.B19>  <Cell 'ABS 1045'.C19>\n10  <Cell 'ABS 1045'.A20>  <Cell 'ABS 1045'.B20>  <Cell 'ABS 1045'.C20>\n11  <Cell 'ABS 1045'.A21>  <Cell 'ABS 1045'.B21>  <Cell 'ABS 1045'.C21>\n12  <Cell 'ABS 1045'.A22>  <Cell 'ABS 1045'.B22>  <Cell 'ABS 1045'.C22>\n13  <Cell 'ABS 1045'.A23>  <Cell 'ABS 1045'.B23>  <Cell 'ABS 1045'.C23>\n14  <Cell 'ABS 1045'.A24>  <Cell 'ABS 1045'.B24>  <Cell 'ABS 1045'.C24>\n15  <Cell 'ABS 1045'.A25>  <Cell 'ABS 1045'.B25>  <Cell 'ABS 1045'.C25>\n16  <Cell 'ABS 1045'.A26>  <Cell 'ABS 1045'.B26>  <Cell 'ABS 1045'.C26>\n17  <Cell 'ABS 1045'.A27>  <Cell 'ABS 1045'.B27>  <Cell 'ABS 1045'.C27>\n18  <Cell 'ABS 1045'.A28>  <Cell 'ABS 1045'.B28>  <Cell 'ABS 1045'.C28>\n19  <Cell 'ABS 1045'.A29>  <Cell 'ABS 1045'.B29>  <Cell 'ABS 1045'.C29>\n20  <Cell 'ABS 1045'.A30>  <Cell 'ABS 1045'.B30>  <Cell 'ABS 1045'.C30>\n21  <Cell 'ABS 1045'.A31>  <Cell 'ABS 1045'.B31>  <Cell 'ABS 1045'.C31>\n22  <Cell 'ABS 1045'.A32>  <Cell 'ABS 1045'.B32>  <Cell 'ABS 1045'.C32>\n23  <Cell 'ABS 1045'.A33>  <Cell 'ABS 1045'.B33>  <Cell 'ABS 1045'.C33>\n24  <Cell 'ABS 1045'.A34>  <Cell 'ABS 1045'.B34>  <Cell 'ABS 1045'.C34>\n25  <Cell 'ABS 1045'.A35>  <Cell 'ABS 1045'.B35>  <Cell 'ABS 1045'.C35>\n26  <Cell 'ABS 1045'.A36>  <Cell 'ABS 1045'.B36>  <Cell 'ABS 1045'.C36>\n27  <Cell 'ABS 1045'.A37>  <Cell 'ABS 1045'.B37>  <Cell 'ABS 1045'.C37>\n28  <Cell 'ABS 1045'.A38>  <Cell 'ABS 1045'.B38>  <Cell 'ABS 1045'.C38>\n29  <Cell 'ABS 1045'.A39>  <Cell 'ABS 1045'.B39>  <Cell 'ABS 1045'.C39>\n30  <Cell 'ABS 1045'.A40>  <Cell 'ABS 1045'.B40>  <Cell 'ABS 1045'.C40>\n31  <Cell 'ABS 1045'.A41>  <Cell 'ABS 1045'.B41>  <Cell 'ABS 1045'.C41>\n32  <Cell 'ABS 1045'.A42>  <Cell 'ABS 1045'.B42>  <Cell 'ABS 1045'.C42>\n33  <Cell 'ABS 1045'.A43>  <Cell 'ABS 1045'.B43>  <Cell 'ABS 1045'.C43>\n34  <Cell 'ABS 1045'.A44>  <Cell 'ABS 1045'.B44>  <Cell 'ABS 1045'.C44>\n35  <Cell 'ABS 1045'.A45>  <Cell 'ABS 1045'.B45>  <Cell 'ABS 1045'.C45>\n36  <Cell 'ABS 1045'.A46>  <Cell 'ABS 1045'.B46>  <Cell 'ABS 1045'.C46>\ncoord\nA47\nnextbreak\nA3\nsplitbreak\n['A', '3', '']\ncoord2\nC2\n['A47', 'C2']\nEmpty DataFrame\nColumns: []\nIndex: []\ncoord\nA3\nnextbreak\nA5\nsplitbreak\n['A', '5', '']\ncoord2\nC4\n['A3', 'C4']\n                      0                           1  \\\n0  <Cell 'ABS 1045'.A3>  <MergedCell 'ABS 1045'.B3>   \n1  <Cell 'ABS 1045'.A4>        <Cell 'ABS 1045'.B4>   \n\n                            2  \n0  <MergedCell 'ABS 1045'.C3>  \n1        <Cell 'ABS 1045'.C4>  \ncoord\nA5\nnextbreak\nA10\nsplitbreak\n['A', '10', '']\ncoord2\nC9\n['A5', 'C9']\n                      0                           1  \\\n0  <Cell 'ABS 1045'.A5>  <MergedCell 'ABS 1045'.B5>   \n1  <Cell 'ABS 1045'.A6>        <Cell 'ABS 1045'.B6>   \n2  <Cell 'ABS 1045'.A7>        <Cell 'ABS 1045'.B7>   \n3  <Cell 'ABS 1045'.A8>        <Cell 'ABS 1045'.B8>   \n4  <Cell 'ABS 1045'.A9>        <Cell 'ABS 1045'.B9>   \n\n                            2  \n0  <MergedCell 'ABS 1045'.C5>  \n1        <Cell 'ABS 1045'.C6>  \n2        <Cell 'ABS 1045'.C7>  \n3        <Cell 'ABS 1045'.C8>  \n4        <Cell 'ABS 1045'.C9>  \n"
     ]
    }
   ],
   "source": [
    "masterlist=getdata2(xlsx_file)"
   ]
  },
  {
   "cell_type": "code",
   "execution_count": 215,
   "metadata": {},
   "outputs": [
    {
     "output_type": "execute_result",
     "data": {
      "text/plain": [
       "[                       0                      1                      2\n",
       " 0   <Cell 'ABS 1045'.A6>   <Cell 'ABS 1045'.B6>   <Cell 'ABS 1045'.C6>\n",
       " 1   <Cell 'ABS 1045'.A7>   <Cell 'ABS 1045'.B7>   <Cell 'ABS 1045'.C7>\n",
       " 2   <Cell 'ABS 1045'.A8>   <Cell 'ABS 1045'.B8>   <Cell 'ABS 1045'.C8>\n",
       " 3   <Cell 'ABS 1045'.A9>   <Cell 'ABS 1045'.B9>   <Cell 'ABS 1045'.C9>\n",
       " 4  <Cell 'ABS 1045'.A10>  <Cell 'ABS 1045'.B10>  <Cell 'ABS 1045'.C10>,\n",
       "                         0                      1                      2\n",
       " 0   <Cell 'ABS 1045'.A11>  <Cell 'ABS 1045'.B11>  <Cell 'ABS 1045'.C11>\n",
       " 1   <Cell 'ABS 1045'.A12>  <Cell 'ABS 1045'.B12>  <Cell 'ABS 1045'.C12>\n",
       " 2   <Cell 'ABS 1045'.A13>  <Cell 'ABS 1045'.B13>  <Cell 'ABS 1045'.C13>\n",
       " 3   <Cell 'ABS 1045'.A14>  <Cell 'ABS 1045'.B14>  <Cell 'ABS 1045'.C14>\n",
       " 4   <Cell 'ABS 1045'.A15>  <Cell 'ABS 1045'.B15>  <Cell 'ABS 1045'.C15>\n",
       " 5   <Cell 'ABS 1045'.A16>  <Cell 'ABS 1045'.B16>  <Cell 'ABS 1045'.C16>\n",
       " 6   <Cell 'ABS 1045'.A17>  <Cell 'ABS 1045'.B17>  <Cell 'ABS 1045'.C17>\n",
       " 7   <Cell 'ABS 1045'.A18>  <Cell 'ABS 1045'.B18>  <Cell 'ABS 1045'.C18>\n",
       " 8   <Cell 'ABS 1045'.A19>  <Cell 'ABS 1045'.B19>  <Cell 'ABS 1045'.C19>\n",
       " 9   <Cell 'ABS 1045'.A20>  <Cell 'ABS 1045'.B20>  <Cell 'ABS 1045'.C20>\n",
       " 10  <Cell 'ABS 1045'.A21>  <Cell 'ABS 1045'.B21>  <Cell 'ABS 1045'.C21>\n",
       " 11  <Cell 'ABS 1045'.A22>  <Cell 'ABS 1045'.B22>  <Cell 'ABS 1045'.C22>\n",
       " 12  <Cell 'ABS 1045'.A23>  <Cell 'ABS 1045'.B23>  <Cell 'ABS 1045'.C23>\n",
       " 13  <Cell 'ABS 1045'.A24>  <Cell 'ABS 1045'.B24>  <Cell 'ABS 1045'.C24>,\n",
       "                        0                      1                      2\n",
       " 0  <Cell 'ABS 1045'.A25>  <Cell 'ABS 1045'.B25>  <Cell 'ABS 1045'.C25>\n",
       " 1  <Cell 'ABS 1045'.A26>  <Cell 'ABS 1045'.B26>  <Cell 'ABS 1045'.C26>\n",
       " 2  <Cell 'ABS 1045'.A27>  <Cell 'ABS 1045'.B27>  <Cell 'ABS 1045'.C27>\n",
       " 3  <Cell 'ABS 1045'.A28>  <Cell 'ABS 1045'.B28>  <Cell 'ABS 1045'.C28>\n",
       " 4  <Cell 'ABS 1045'.A29>  <Cell 'ABS 1045'.B29>  <Cell 'ABS 1045'.C29>\n",
       " 5  <Cell 'ABS 1045'.A30>  <Cell 'ABS 1045'.B30>  <Cell 'ABS 1045'.C30>\n",
       " 6  <Cell 'ABS 1045'.A31>  <Cell 'ABS 1045'.B31>  <Cell 'ABS 1045'.C31>\n",
       " 7  <Cell 'ABS 1045'.A32>  <Cell 'ABS 1045'.B32>  <Cell 'ABS 1045'.C32>,\n",
       "                        0                      1                      2\n",
       " 0  <Cell 'ABS 1045'.A33>  <Cell 'ABS 1045'.B33>  <Cell 'ABS 1045'.C33>\n",
       " 1  <Cell 'ABS 1045'.A34>  <Cell 'ABS 1045'.B34>  <Cell 'ABS 1045'.C34>\n",
       " 2  <Cell 'ABS 1045'.A35>  <Cell 'ABS 1045'.B35>  <Cell 'ABS 1045'.C35>\n",
       " 3  <Cell 'ABS 1045'.A36>  <Cell 'ABS 1045'.B36>  <Cell 'ABS 1045'.C36>\n",
       " 4  <Cell 'ABS 1045'.A37>  <Cell 'ABS 1045'.B37>  <Cell 'ABS 1045'.C37>\n",
       " 5  <Cell 'ABS 1045'.A38>  <Cell 'ABS 1045'.B38>  <Cell 'ABS 1045'.C38>\n",
       " 6  <Cell 'ABS 1045'.A39>  <Cell 'ABS 1045'.B39>  <Cell 'ABS 1045'.C39>,\n",
       " Empty DataFrame\n",
       " Columns: []\n",
       " Index: [],\n",
       "                       0                           1  \\\n",
       " 0  <Cell 'ABS 1045'.A5>  <MergedCell 'ABS 1045'.B5>   \n",
       " 1  <Cell 'ABS 1045'.A6>        <Cell 'ABS 1045'.B6>   \n",
       " 2  <Cell 'ABS 1045'.A7>        <Cell 'ABS 1045'.B7>   \n",
       " 3  <Cell 'ABS 1045'.A8>        <Cell 'ABS 1045'.B8>   \n",
       " 4  <Cell 'ABS 1045'.A9>        <Cell 'ABS 1045'.B9>   \n",
       " \n",
       "                             2  \n",
       " 0  <MergedCell 'ABS 1045'.C5>  \n",
       " 1        <Cell 'ABS 1045'.C6>  \n",
       " 2        <Cell 'ABS 1045'.C7>  \n",
       " 3        <Cell 'ABS 1045'.C8>  \n",
       " 4        <Cell 'ABS 1045'.C9>  ,\n",
       "                         0                      1                      2\n",
       " 0   <Cell 'ABS 1045'.A10>  <Cell 'ABS 1045'.B10>  <Cell 'ABS 1045'.C10>\n",
       " 1   <Cell 'ABS 1045'.A11>  <Cell 'ABS 1045'.B11>  <Cell 'ABS 1045'.C11>\n",
       " 2   <Cell 'ABS 1045'.A12>  <Cell 'ABS 1045'.B12>  <Cell 'ABS 1045'.C12>\n",
       " 3   <Cell 'ABS 1045'.A13>  <Cell 'ABS 1045'.B13>  <Cell 'ABS 1045'.C13>\n",
       " 4   <Cell 'ABS 1045'.A14>  <Cell 'ABS 1045'.B14>  <Cell 'ABS 1045'.C14>\n",
       " 5   <Cell 'ABS 1045'.A15>  <Cell 'ABS 1045'.B15>  <Cell 'ABS 1045'.C15>\n",
       " 6   <Cell 'ABS 1045'.A16>  <Cell 'ABS 1045'.B16>  <Cell 'ABS 1045'.C16>\n",
       " 7   <Cell 'ABS 1045'.A17>  <Cell 'ABS 1045'.B17>  <Cell 'ABS 1045'.C17>\n",
       " 8   <Cell 'ABS 1045'.A18>  <Cell 'ABS 1045'.B18>  <Cell 'ABS 1045'.C18>\n",
       " 9   <Cell 'ABS 1045'.A19>  <Cell 'ABS 1045'.B19>  <Cell 'ABS 1045'.C19>\n",
       " 10  <Cell 'ABS 1045'.A20>  <Cell 'ABS 1045'.B20>  <Cell 'ABS 1045'.C20>\n",
       " 11  <Cell 'ABS 1045'.A21>  <Cell 'ABS 1045'.B21>  <Cell 'ABS 1045'.C21>\n",
       " 12  <Cell 'ABS 1045'.A22>  <Cell 'ABS 1045'.B22>  <Cell 'ABS 1045'.C22>\n",
       " 13  <Cell 'ABS 1045'.A23>  <Cell 'ABS 1045'.B23>  <Cell 'ABS 1045'.C23>\n",
       " 14  <Cell 'ABS 1045'.A24>  <Cell 'ABS 1045'.B24>  <Cell 'ABS 1045'.C24>\n",
       " 15  <Cell 'ABS 1045'.A25>  <Cell 'ABS 1045'.B25>  <Cell 'ABS 1045'.C25>\n",
       " 16  <Cell 'ABS 1045'.A26>  <Cell 'ABS 1045'.B26>  <Cell 'ABS 1045'.C26>\n",
       " 17  <Cell 'ABS 1045'.A27>  <Cell 'ABS 1045'.B27>  <Cell 'ABS 1045'.C27>\n",
       " 18  <Cell 'ABS 1045'.A28>  <Cell 'ABS 1045'.B28>  <Cell 'ABS 1045'.C28>\n",
       " 19  <Cell 'ABS 1045'.A29>  <Cell 'ABS 1045'.B29>  <Cell 'ABS 1045'.C29>\n",
       " 20  <Cell 'ABS 1045'.A30>  <Cell 'ABS 1045'.B30>  <Cell 'ABS 1045'.C30>\n",
       " 21  <Cell 'ABS 1045'.A31>  <Cell 'ABS 1045'.B31>  <Cell 'ABS 1045'.C31>\n",
       " 22  <Cell 'ABS 1045'.A32>  <Cell 'ABS 1045'.B32>  <Cell 'ABS 1045'.C32>\n",
       " 23  <Cell 'ABS 1045'.A33>  <Cell 'ABS 1045'.B33>  <Cell 'ABS 1045'.C33>\n",
       " 24  <Cell 'ABS 1045'.A34>  <Cell 'ABS 1045'.B34>  <Cell 'ABS 1045'.C34>\n",
       " 25  <Cell 'ABS 1045'.A35>  <Cell 'ABS 1045'.B35>  <Cell 'ABS 1045'.C35>\n",
       " 26  <Cell 'ABS 1045'.A36>  <Cell 'ABS 1045'.B36>  <Cell 'ABS 1045'.C36>\n",
       " 27  <Cell 'ABS 1045'.A37>  <Cell 'ABS 1045'.B37>  <Cell 'ABS 1045'.C37>\n",
       " 28  <Cell 'ABS 1045'.A38>  <Cell 'ABS 1045'.B38>  <Cell 'ABS 1045'.C38>\n",
       " 29  <Cell 'ABS 1045'.A39>  <Cell 'ABS 1045'.B39>  <Cell 'ABS 1045'.C39>\n",
       " 30  <Cell 'ABS 1045'.A40>  <Cell 'ABS 1045'.B40>  <Cell 'ABS 1045'.C40>\n",
       " 31  <Cell 'ABS 1045'.A41>  <Cell 'ABS 1045'.B41>  <Cell 'ABS 1045'.C41>\n",
       " 32  <Cell 'ABS 1045'.A42>  <Cell 'ABS 1045'.B42>  <Cell 'ABS 1045'.C42>\n",
       " 33  <Cell 'ABS 1045'.A43>  <Cell 'ABS 1045'.B43>  <Cell 'ABS 1045'.C43>\n",
       " 34  <Cell 'ABS 1045'.A44>  <Cell 'ABS 1045'.B44>  <Cell 'ABS 1045'.C44>\n",
       " 35  <Cell 'ABS 1045'.A45>  <Cell 'ABS 1045'.B45>  <Cell 'ABS 1045'.C45>\n",
       " 36  <Cell 'ABS 1045'.A46>  <Cell 'ABS 1045'.B46>  <Cell 'ABS 1045'.C46>,\n",
       " Empty DataFrame\n",
       " Columns: []\n",
       " Index: [],\n",
       "                       0                           1  \\\n",
       " 0  <Cell 'ABS 1045'.A3>  <MergedCell 'ABS 1045'.B3>   \n",
       " 1  <Cell 'ABS 1045'.A4>        <Cell 'ABS 1045'.B4>   \n",
       " \n",
       "                             2  \n",
       " 0  <MergedCell 'ABS 1045'.C3>  \n",
       " 1        <Cell 'ABS 1045'.C4>  ,\n",
       "                       0                           1  \\\n",
       " 0  <Cell 'ABS 1045'.A5>  <MergedCell 'ABS 1045'.B5>   \n",
       " 1  <Cell 'ABS 1045'.A6>        <Cell 'ABS 1045'.B6>   \n",
       " 2  <Cell 'ABS 1045'.A7>        <Cell 'ABS 1045'.B7>   \n",
       " 3  <Cell 'ABS 1045'.A8>        <Cell 'ABS 1045'.B8>   \n",
       " 4  <Cell 'ABS 1045'.A9>        <Cell 'ABS 1045'.B9>   \n",
       " \n",
       "                             2  \n",
       " 0  <MergedCell 'ABS 1045'.C5>  \n",
       " 1        <Cell 'ABS 1045'.C6>  \n",
       " 2        <Cell 'ABS 1045'.C7>  \n",
       " 3        <Cell 'ABS 1045'.C8>  \n",
       " 4        <Cell 'ABS 1045'.C9>  ]"
      ]
     },
     "metadata": {},
     "execution_count": 215
    }
   ],
   "source": [
    "masterlist"
   ]
  },
  {
   "source": [],
   "cell_type": "markdown",
   "metadata": {}
  },
  {
   "cell_type": "code",
   "execution_count": null,
   "metadata": {},
   "outputs": [],
   "source": [
    "#Pull relavant data from worksheets\n",
    "\n",
    "startFolder =\"/home/ygael/Projects/healthcare/data/2020_CDM_chargemaster\"\n",
    "\n",
    "for subdir, dirs, files in os.walk(rootdir):\n",
    "    for file in files:\n",
    "        hospital_df = pd.DataFrame(pd.read_excel(file))\n",
    "        lines=f.readlines()\n",
    "        f.close()\n",
    "        f=open(file,'w')\n",
    "        for line in lines:\n",
    "            newline = \"No you are not\"\n",
    "            f.write(newline)\n",
    "        f.close()\n",
    "        \n",
    "        "
   ]
  }
 ]
}