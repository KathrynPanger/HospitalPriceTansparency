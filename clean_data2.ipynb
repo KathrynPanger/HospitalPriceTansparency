{
 "metadata": {
  "language_info": {
   "codemirror_mode": {
    "name": "ipython",
    "version": 3
   },
   "file_extension": ".py",
   "mimetype": "text/x-python",
   "name": "python",
   "nbconvert_exporter": "python",
   "pygments_lexer": "ipython3",
   "version": "3.8.5"
  },
  "orig_nbformat": 2,
  "kernelspec": {
   "name": "python385jvsc74a57bd0566c7dc836cf49ea79a80bde3a77d731ae67019fab1def2dd83c01090ce827fd",
   "display_name": "Python 3.8.5 64-bit ('DataViz': conda)"
  }
 },
 "nbformat": 4,
 "nbformat_minor": 2,
 "cells": [
  {
   "cell_type": "code",
   "execution_count": 1,
   "metadata": {},
   "outputs": [],
   "source": [
    "import os\n",
    "import pandas as pd\n",
    "import xlrd\n",
    "from pathlib import Path\n",
    "import openpyxl\n",
    "from openpyxl import load_workbook\n",
    "import numpy as np\n",
    "import re"
   ]
  },
  {
   "cell_type": "code",
   "execution_count": 2,
   "metadata": {},
   "outputs": [],
   "source": [
    "#Identify files with AB 1045 Forms in them, extract worksheets which may contain this form\n",
    "#names like \"Common OP Procedures\" or \"AB 1045 form\"\n",
    "xlsx_file = Path('SimData', '/home/ygael/Projects/healthcare/data/2019_CDM_chargemaster/Adventist Health Clearlake/106171049_CDM_All_2019.xlsx')\n",
    "wb_obj = openpyxl.load_workbook(xlsx_file) \n",
    "\n",
    "# Read the active sheet:\n",
    "sheet = wb_obj.active\n"
   ]
  },
  {
   "cell_type": "code",
   "execution_count": 41,
   "metadata": {},
   "outputs": [
    {
     "output_type": "execute_result",
     "data": {
      "text/plain": [
       "     Charge Code                     Charge Code Description HCPCS Code  \\\n",
       "1           1255                    ROOM/BED: Intensive Care       None   \n",
       "2           7211                  ROOM/BED: Med/Surg Private       None   \n",
       "3          17509                   ROOM/BED: Newborn Routine       None   \n",
       "4          21253             ROOM/BED: Med/Surg Semi-Private       None   \n",
       "5          27003      ROOM/BED: Obstetrics LDRP Semi-Private       None   \n",
       "...          ...                                         ...        ...   \n",
       "8708     9520156           PF PM DEPRESSION SCREENING 95 952       None   \n",
       "8709     9520511  PF PM DIL RETINAL EYE EXAM W/INTERP 95 952       None   \n",
       "8710     9520586           PF PM HGB A1C LEVEL < 7.0% 95 952       None   \n",
       "8711     9520594        PF PM HGB A1C LEVEL 7.0%-9.0% 95 952       None   \n",
       "8712     9520602           PF PM HGB A1C LEVEL > 9.0% 95 952       None   \n",
       "\n",
       "     June 2019 Prices  \n",
       "1             9350.13  \n",
       "2             4935.76  \n",
       "3              3172.4  \n",
       "4             4390.68  \n",
       "5             4561.25  \n",
       "...               ...  \n",
       "8708             0.01  \n",
       "8709             0.01  \n",
       "8710             0.01  \n",
       "8711             0.01  \n",
       "8712             0.01  \n",
       "\n",
       "[8712 rows x 4 columns]"
      ],
      "text/html": "<div>\n<style scoped>\n    .dataframe tbody tr th:only-of-type {\n        vertical-align: middle;\n    }\n\n    .dataframe tbody tr th {\n        vertical-align: top;\n    }\n\n    .dataframe thead th {\n        text-align: right;\n    }\n</style>\n<table border=\"1\" class=\"dataframe\">\n  <thead>\n    <tr style=\"text-align: right;\">\n      <th></th>\n      <th>Charge Code</th>\n      <th>Charge Code Description</th>\n      <th>HCPCS Code</th>\n      <th>June 2019 Prices</th>\n    </tr>\n  </thead>\n  <tbody>\n    <tr>\n      <th>1</th>\n      <td>1255</td>\n      <td>ROOM/BED: Intensive Care</td>\n      <td>None</td>\n      <td>9350.13</td>\n    </tr>\n    <tr>\n      <th>2</th>\n      <td>7211</td>\n      <td>ROOM/BED: Med/Surg Private</td>\n      <td>None</td>\n      <td>4935.76</td>\n    </tr>\n    <tr>\n      <th>3</th>\n      <td>17509</td>\n      <td>ROOM/BED: Newborn Routine</td>\n      <td>None</td>\n      <td>3172.4</td>\n    </tr>\n    <tr>\n      <th>4</th>\n      <td>21253</td>\n      <td>ROOM/BED: Med/Surg Semi-Private</td>\n      <td>None</td>\n      <td>4390.68</td>\n    </tr>\n    <tr>\n      <th>5</th>\n      <td>27003</td>\n      <td>ROOM/BED: Obstetrics LDRP Semi-Private</td>\n      <td>None</td>\n      <td>4561.25</td>\n    </tr>\n    <tr>\n      <th>...</th>\n      <td>...</td>\n      <td>...</td>\n      <td>...</td>\n      <td>...</td>\n    </tr>\n    <tr>\n      <th>8708</th>\n      <td>9520156</td>\n      <td>PF PM DEPRESSION SCREENING 95 952</td>\n      <td>None</td>\n      <td>0.01</td>\n    </tr>\n    <tr>\n      <th>8709</th>\n      <td>9520511</td>\n      <td>PF PM DIL RETINAL EYE EXAM W/INTERP 95 952</td>\n      <td>None</td>\n      <td>0.01</td>\n    </tr>\n    <tr>\n      <th>8710</th>\n      <td>9520586</td>\n      <td>PF PM HGB A1C LEVEL &lt; 7.0% 95 952</td>\n      <td>None</td>\n      <td>0.01</td>\n    </tr>\n    <tr>\n      <th>8711</th>\n      <td>9520594</td>\n      <td>PF PM HGB A1C LEVEL 7.0%-9.0% 95 952</td>\n      <td>None</td>\n      <td>0.01</td>\n    </tr>\n    <tr>\n      <th>8712</th>\n      <td>9520602</td>\n      <td>PF PM HGB A1C LEVEL &gt; 9.0% 95 952</td>\n      <td>None</td>\n      <td>0.01</td>\n    </tr>\n  </tbody>\n</table>\n<p>8712 rows × 4 columns</p>\n</div>"
     },
     "metadata": {},
     "execution_count": 41
    }
   ],
   "source": [
    "#Get Chargecode Sheet\n",
    "#####################################################\n",
    "datalist=[]\n",
    "for row in sheet.iter_rows():\n",
    "    for cell in row:\n",
    "        datalist.append(cell.value)\n",
    "\n",
    "#Get column names\n",
    "col_names = []\n",
    "for column in sheet.iter_cols(1, sheet.max_column):\n",
    "    col_names.append(column[0].value)\n",
    "   \n",
    "    \n",
    "#Create a dictionary from the speadsheet\n",
    "\n",
    "data = {}\n",
    "\n",
    "for i, row in enumerate(sheet.iter_rows(values_only=True)):\n",
    "    if i == 0:\n",
    "        for i in range(len(col_names)):\n",
    "            data[row[i]] = [col_names[i]]\n",
    "\n",
    "    else:\n",
    "        for i in range(len(col_names)):\n",
    "            data[col_names[i]].append(row[i])\n",
    "\n",
    "#Create a dataframe from the dictionary\n",
    "df = pd.DataFrame(data)\n",
    "df = df.iloc[1:]\n",
    "\n",
    "df"
   ]
  },
  {
   "cell_type": "code",
   "execution_count": null,
   "metadata": {},
   "outputs": [],
   "source": []
  },
  {
   "cell_type": "code",
   "execution_count": 76,
   "metadata": {},
   "outputs": [],
   "source": [
    "\n",
    "    ##Getting the 1045 data\n",
    "xlsx_file = Path('SimData', '/home/ygael/Projects/healthcare/data/2020_CDM_chargemaster/Alvarado Hospital/106370652_CDM_All_2020.xlsx')\n",
    "wb_obj = openpyxl.load_workbook(xlsx_file) "
   ]
  },
  {
   "cell_type": "code",
   "execution_count": 77,
   "metadata": {},
   "outputs": [],
   "source": [
    "#Function to extract 1045 sheet name\n",
    "\n",
    "def find1045(filepath):\n",
    "    #read file\n",
    "    xlsx_file = Path('SimData', filepath)\n",
    "    wb_obj = openpyxl.load_workbook(xlsx_file)\n",
    "\n",
    "    #get sheet names\n",
    "    sheetnames=wb_obj.sheetnames\n",
    "\n",
    "    #Create a keywords list to identify ABS 1045 forms\n",
    "    keywords= [\"common\", \"procedures\", \"1045\", \"form\"]\n",
    "\n",
    "    #Search for the sheet by keyword\n",
    "    for name in sheetnames:\n",
    "        wholename=name.lower()\n",
    "        wordsInName=wholename.split()\n",
    "        match =  any(item in wordsInName for item in keywords)\n",
    "        if match==True:\n",
    "            sheetname=(wb_obj[name])\n",
    "            return(sheetname)\n",
    "            break\n"
   ]
  },
  {
   "cell_type": "code",
   "execution_count": 78,
   "metadata": {},
   "outputs": [],
   "source": [
    "#Get the first part of the data after finding the 1045 sheet (nested)\n",
    "def getdata(file):\n",
    "    sheet=find1045(file)\n",
    "    alphabet=[\"A\",\"B\",\"C\",\"D\",\"E\",\"F\",\"G\",\"H\",\"I\",\"J\",\"K\",\"L\",\"M\",\"N\",\"O\",\"P\",\"Q\",\"R\",\"S\",\"T\",\"U\",\"V\",\"W\",\"X\",\"Y\",\"Z\"]\n",
    "    found=False\n",
    "    keywords = [\"evaluation\", \"management\"]\n",
    "    for row in sheet.iter_rows():\n",
    "        if found == False:\n",
    "            for cell in row:\n",
    "                heading = str(cell.value).lower()\n",
    "                wordsInHeading=heading.split()\n",
    "                match =  any(item in wordsInHeading for item in keywords)\n",
    "                if match==True:\n",
    "                    found = True\n",
    "                    coord1=cell.coordinate\n",
    "                    splitcoord=re.split('(\\d+)', coord1)\n",
    "                    alphaindex=(alphabet.index(f'{splitcoord[0]}'))+2\n",
    "                    alphachar=alphabet[alphaindex]\n",
    "                    numindex=splitcoord[1]\n",
    "                    numindex=int(numindex)+3\n",
    "                    numindex=str(numindex)\n",
    "                    coord2=f\"{alphachar}{numindex}\"\n",
    "                    df=pd.DataFrame(wb_obj[\"ABS 1045\"][f\"{coord1}:{coord2}\"])\n",
    "                    values=[]\n",
    "                    for row in sheet[coord1:coord2]:\n",
    "                        for i in range(len(row)):\n",
    "                            values.append(row[i].value)\n",
    "                    data = np.array(values).reshape((4, 3))\n",
    "                    df=pd.DataFrame(data=data)\n",
    "                    df.columns = df.iloc[0]\n",
    "                    df[\"Service Type\"]=values[0]\n",
    "                    df.rename(columns={values[0]:\"Service\"})\n",
    "                    df.drop(df.index[0])\n",
    "                    return(df)"
   ]
  },
  {
   "cell_type": "code",
   "execution_count": 79,
   "metadata": {},
   "outputs": [
    {
     "output_type": "execute_result",
     "data": {
      "text/plain": [
       "0 Evaluation & Management Services (CPT Codes 99201-99499)  2019 CPT Code  \\\n",
       "0  Evaluation & Management Services (CPT Codes 99...        2019 CPT Code   \n",
       "1  Emergency Room Visit, Level 2 (low to moderate...                99282   \n",
       "2  Emergency Room Visit, Level 3 (moderate severity)                99283   \n",
       "3      Emergency Room Visit, Level 4 (high severity)                99284   \n",
       "\n",
       "0  Average Charge                                       Service Type  \n",
       "0  Average Charge  Evaluation & Management Services (CPT Codes 99...  \n",
       "1          746.55  Evaluation & Management Services (CPT Codes 99...  \n",
       "2         1051.05  Evaluation & Management Services (CPT Codes 99...  \n",
       "3          1581.3  Evaluation & Management Services (CPT Codes 99...  "
      ],
      "text/html": "<div>\n<style scoped>\n    .dataframe tbody tr th:only-of-type {\n        vertical-align: middle;\n    }\n\n    .dataframe tbody tr th {\n        vertical-align: top;\n    }\n\n    .dataframe thead th {\n        text-align: right;\n    }\n</style>\n<table border=\"1\" class=\"dataframe\">\n  <thead>\n    <tr style=\"text-align: right;\">\n      <th></th>\n      <th>Evaluation &amp; Management Services (CPT Codes 99201-99499)</th>\n      <th>2019 CPT Code</th>\n      <th>Average Charge</th>\n      <th>Service Type</th>\n    </tr>\n  </thead>\n  <tbody>\n    <tr>\n      <th>0</th>\n      <td>Evaluation &amp; Management Services (CPT Codes 99...</td>\n      <td>2019 CPT Code</td>\n      <td>Average Charge</td>\n      <td>Evaluation &amp; Management Services (CPT Codes 99...</td>\n    </tr>\n    <tr>\n      <th>1</th>\n      <td>Emergency Room Visit, Level 2 (low to moderate...</td>\n      <td>99282</td>\n      <td>746.55</td>\n      <td>Evaluation &amp; Management Services (CPT Codes 99...</td>\n    </tr>\n    <tr>\n      <th>2</th>\n      <td>Emergency Room Visit, Level 3 (moderate severity)</td>\n      <td>99283</td>\n      <td>1051.05</td>\n      <td>Evaluation &amp; Management Services (CPT Codes 99...</td>\n    </tr>\n    <tr>\n      <th>3</th>\n      <td>Emergency Room Visit, Level 4 (high severity)</td>\n      <td>99284</td>\n      <td>1581.3</td>\n      <td>Evaluation &amp; Management Services (CPT Codes 99...</td>\n    </tr>\n  </tbody>\n</table>\n</div>"
     },
     "metadata": {},
     "execution_count": 79
    }
   ],
   "source": [
    "getdata(xlsx_file)"
   ]
  },
  {
   "cell_type": "code",
   "execution_count": 80,
   "metadata": {},
   "outputs": [],
   "source": [
    "#Note- change above function to accept lists of lists of (yes, of and of) keywords as an argument so that one function can get data from all sheets"
   ]
  },
  {
   "cell_type": "code",
   "execution_count": 81,
   "metadata": {},
   "outputs": [],
   "source": [
    "masterdf=pd.DataFrame()"
   ]
  },
  {
   "cell_type": "code",
   "execution_count": 134,
   "metadata": {},
   "outputs": [],
   "source": [
    "def getdata2(file):\n",
    "    dflist=[]\n",
    "    coordlist=[]\n",
    "    sheet=find1045(file)\n",
    "    alphabet=[\"A\",\"B\",\"C\",\"D\",\"E\",\"F\",\"G\",\"H\",\"I\",\"J\",\"K\",\"L\",\"M\",\"N\",\"O\",\"P\",\"Q\",\"R\",\"S\",\"T\",\"U\",\"V\",\"W\",\"X\",\"Y\",\"Z\"]\n",
    "    found=False\n",
    "    keywords1 = [\"evaluation\", \"management\", \"services\"]\n",
    "    keywords2 = [\"laboratory\", \"pathology\", \"services\"]\n",
    "    keywords3= [\"radiology\", \"services\"]\n",
    "    keywords4 = [\"medicine\", \"services\"]\n",
    "    keywords5 = [\"surgery\", \"services\"]\n",
    "    keywords6 = [\"other\",\"common\",\"outpatient\", \"procedures\", \"list)\"]\n",
    "    keywords7 = [\"common\"]\n",
    "    keywordslists=[keywords1,keywords2,keywords3,keywords4,keywords5,keywords6,keywords7]\n",
    "    for wordlist in keywordslists:\n",
    "        for row in sheet.iter_rows():\n",
    "                for cell in row:\n",
    "                    heading = str(cell.value).lower()\n",
    "                    wordsInHeading=heading.split()\n",
    "                    print(wordsInHeading)\n",
    "                    match =  all(item in wordsInHeading for item in wordlist)\n",
    "                    if match==True:\n",
    "                        coord1=cell.coordinate\n",
    "                        coordlist.append(coord1)\n",
    "                        break\n",
    "    #print(coordlist)\n",
    "    for coordinate in coordlist[0:-1]:\n",
    "        #print(\"coord\")\n",
    "        #print(coordinate)\n",
    "        splitcoord=re.split('(\\d+)', coordinate)\n",
    "        nextbreak=coordlist[int(coordlist.index(coordinate)+1)]\n",
    "        #print(\"nextbreak\")\n",
    "        #print(nextbreak)\n",
    "        splitbreak=re.split('(\\d+)', nextbreak)\n",
    "        #print(\"splitbreak\")\n",
    "        #print(splitbreak)\n",
    "        lastcell=f\"{int(splitbreak[1])-1}\"\n",
    "        coord2=f\"C{lastcell}\"\n",
    "        #print(\"coord2\")\n",
    "        #print(coord2)\n",
    "\n",
    "        cellgroup=[coordinate,coord2]\n",
    "        #print(cellgroup)\n",
    "        df=pd.DataFrame(sheet[f\"{cellgroup[0]}:{cellgroup[1]}\"])\n",
    "\n",
    "        dflist.append(df)\n",
    "    return(dflist)\n",
    "\n",
    "  \n",
    "    "
   ]
  },
  {
   "cell_type": "code",
   "execution_count": 135,
   "metadata": {},
   "outputs": [],
   "source": [
    "def convertvalue(x):\n",
    "    return x.value"
   ]
  },
  {
   "cell_type": "code",
   "execution_count": 136,
   "metadata": {},
   "outputs": [
    {
     "output_type": "stream",
     "name": "stdout",
     "text": [
      "['hospital', 'name:', 'alvarado', 'hospital']\n['none']\n['none']\n['oshpd', 'facility', 'no:', '106370652']\n['none']\n['none']\n['effective', 'date', 'of', 'charges:', 'june', '2020']\n['none']\n['none']\n['none']\n['none']\n['none']\n['in', 'response', 'to', 'requests', 'from', 'hospitals', 'and', 'the', 'public,', 'oshpd', 'has', 'developed', 'this', 'form', 'to', 'assist', 'hospitals', 'in', 'collecting', 'and', 'submitting', 'the', 'average', 'charge', 'for', '25', 'common', 'outpatient', 'procedures', 'performed', 'by', 'hospitals,', 'as', 'required', 'by', 'ab', '1045', '(chapter', '532,', 'statutes', 'of', '2005).', 'use', 'of', 'the', 'oshpd', 'form', 'is', 'voluntary,', 'but', 'highly', 'encouraged,', 'as', 'it', 'allows', 'hospitals', 'to', 'report', 'and', 'the', 'public', 'to', 'compare', 'uniform', 'information', 'regarding', 'common', 'outpatient', 'procedures.']\n['none']\n['none']\n['evaluation', '&', 'management', 'services', '(cpt', 'codes', '99201-99499)']\n['emergency', 'room', 'visit,', 'level', '2', '(low', 'to', 'moderate', 'severity)']\n['99282']\n['746.55']\n['emergency', 'room', 'visit,', 'level', '3', '(moderate', 'severity)']\n['99283']\n['1051.05']\n['emergency', 'room', 'visit,', 'level', '4', '(high', 'severity)']\n['99284']\n['1581.3']\n['outpatient', 'visit,', 'established', 'patient,', '15', 'minutes']\n['99213']\n['none']\n['laboratory', '&', 'pathology', 'services', '(cpt', 'codes', '80047-89398)']\n['2019', 'cpt', 'code']\n['average', 'charge']\n['basic', 'metabolic', 'panel']\n['80048']\n['310.9']\n['blood', 'gas', 'analysis,', 'including', '02', 'saturation']\n['82805']\n['179.7']\n['complete', 'blood', 'count,', 'automated']\n['85027']\n['166.5']\n['complete', 'blood', 'count,', 'with', 'differential', 'wbc,', 'automated']\n['85025']\n['162.05']\n['comprehensive', 'metabolic', 'panel']\n['80053']\n['390.3']\n['creatine', 'kinase', '(ck),', '(cpk),', 'total']\n['82550']\n['179.7']\n['lipid', 'panel']\n['80061']\n['363.85']\n['partial', 'thromboplastin', 'time']\n['85730']\n['229.3']\n['prothrombin', 'time']\n['85610']\n['168.7']\n['thyroid', 'stimulating', 'hormone']\n['84443']\n['230.4']\n['troponin,', 'quantitative']\n['84484']\n['263.5']\n['urinalysis,', 'without', 'microscopy']\n['81002']\n['54']\n['urinalysis,', 'with', 'microscopy']\n['81001']\n['113.55']\n['radiology', 'services', '(cpt', 'codes', '70010-79999)']\n['2019', 'cpt', 'code']\n['average', 'charge']\n['ct', 'scan,', 'abdomen,', 'with', 'contrast']\n['74160']\n['4092.5']\n['ct', 'scan,', 'head', 'or', 'brain,', 'without', 'contrast']\n['70450']\n['2999.9']\n['ct', 'scan,', 'pelvis,', 'with', 'contrast']\n['72193']\n['3181.8']\n['mri,', 'head', 'or', 'brain,', 'without', 'contrast,', 'followed', 'by', 'contrast']\n['70553']\n['5414.4']\n['ultrasound,', 'abdomen,', 'complete']\n['76700']\n['1138.9']\n['ultrasound,', 'ob,', '14', 'weeks', 'or', 'more,', 'transabdominal']\n['76805']\n['1165.35']\n['x-ray,', 'lower', 'back,', 'four', 'views']\n['72110']\n['850.05']\n['medicine', 'services', '(cpt', 'codes', '90281-99607)']\n['2019', 'cpt', 'code']\n['average', 'charge']\n['cardiac', 'catheterization,', 'left', 'heart,', 'percutaneous']\n['93452']\n['13374.45']\n['echocardiography,', 'complete']\n['93307']\n['1114.65']\n['electrocardiogram,', 'routine,', 'with', 'interpretation', 'and', 'report']\n['93005']\n['418.95']\n['inhalation', 'treatment,', 'pressurized', 'or', 'nonpressurized']\n['94640']\n['215']\n['physical', 'therapy,', 'gait', 'training']\n['97116']\n['104.75']\n['physical', 'therapy,', 'therapeutic', 'exercise']\n['97110']\n['50.7']\n['surgery', 'services', '(cpt', 'codes', '10021-69990)']\n['2019', 'cpt', 'code']\n['average', 'charge']\n['colonoscopy,', 'diagnostic']\n['45378']\n['2669.15']\n['colonoscopy,', 'with', 'biopsy']\n['45380']\n['3004.3']\n['colonoscopy,', 'with', 'lesion', 'removal,', 'by', 'snare', 'technique']\n['45385']\n['3004.3']\n['endoscopy,', 'upper', 'gi,', 'with', 'biopsy']\n['43239']\n['2885.25']\n['endoscopy,', 'upper', 'gi,', 'diagnostic']\n['43235']\n['2885.25']\n['injection,', 'anesthetic', 'or', 'steroid,', 'transforaminal', 'epidural,', 'lumbar']\n['64483']\n['1789.5']\n['other', 'common', 'outpatient', 'procedures', '(list', 'as', 'needed)']\n['2019', 'cpt', 'code']\n['average', 'charge']\n['glucose', 'blood', 'test']\n['82962']\n['165.4']\n['collection', 'venous', 'blood,venipuncture']\n['36415']\n['16.55']\n['noninvasv', 'oxygen', 'satur;single']\n['94760']\n['89.3']\n['bacteria', 'culture', 'screen']\n['87081']\n['172']\n['none']\n['none']\n['none']\n['none']\n['none']\n['none']\n['none']\n['none']\n['none']\n['none']\n['none']\n['none']\n['count', 'of', 'reported', 'procedures', '(minimum', '25', 'required)']\n['none']\n['48']\n['none']\n['none']\n['none']\n['hospital', 'name:', 'alvarado', 'hospital']\n['none']\n['none']\n['oshpd', 'facility', 'no:', '106370652']\n['none']\n['none']\n['effective', 'date', 'of', 'charges:', 'june', '2020']\n['none']\n['none']\n['none']\n['none']\n['none']\n['in', 'response', 'to', 'requests', 'from', 'hospitals', 'and', 'the', 'public,', 'oshpd', 'has', 'developed', 'this', 'form', 'to', 'assist', 'hospitals', 'in', 'collecting', 'and', 'submitting', 'the', 'average', 'charge', 'for', '25', 'common', 'outpatient', 'procedures', 'performed', 'by', 'hospitals,', 'as', 'required', 'by', 'ab', '1045', '(chapter', '532,', 'statutes', 'of', '2005).', 'use', 'of', 'the', 'oshpd', 'form', 'is', 'voluntary,', 'but', 'highly', 'encouraged,', 'as', 'it', 'allows', 'hospitals', 'to', 'report', 'and', 'the', 'public', 'to', 'compare', 'uniform', 'information', 'regarding', 'common', 'outpatient', 'procedures.']\n['none']\n['none']\n['evaluation', '&', 'management', 'services', '(cpt', 'codes', '99201-99499)']\n['2019', 'cpt', 'code']\n['average', 'charge']\n['emergency', 'room', 'visit,', 'level', '2', '(low', 'to', 'moderate', 'severity)']\n['99282']\n['746.55']\n['emergency', 'room', 'visit,', 'level', '3', '(moderate', 'severity)']\n['99283']\n['1051.05']\n['emergency', 'room', 'visit,', 'level', '4', '(high', 'severity)']\n['99284']\n['1581.3']\n['outpatient', 'visit,', 'established', 'patient,', '15', 'minutes']\n['99213']\n['none']\n['laboratory', '&', 'pathology', 'services', '(cpt', 'codes', '80047-89398)']\n['basic', 'metabolic', 'panel']\n['80048']\n['310.9']\n['blood', 'gas', 'analysis,', 'including', '02', 'saturation']\n['82805']\n['179.7']\n['complete', 'blood', 'count,', 'automated']\n['85027']\n['166.5']\n['complete', 'blood', 'count,', 'with', 'differential', 'wbc,', 'automated']\n['85025']\n['162.05']\n['comprehensive', 'metabolic', 'panel']\n['80053']\n['390.3']\n['creatine', 'kinase', '(ck),', '(cpk),', 'total']\n['82550']\n['179.7']\n['lipid', 'panel']\n['80061']\n['363.85']\n['partial', 'thromboplastin', 'time']\n['85730']\n['229.3']\n['prothrombin', 'time']\n['85610']\n['168.7']\n['thyroid', 'stimulating', 'hormone']\n['84443']\n['230.4']\n['troponin,', 'quantitative']\n['84484']\n['263.5']\n['urinalysis,', 'without', 'microscopy']\n['81002']\n['54']\n['urinalysis,', 'with', 'microscopy']\n['81001']\n['113.55']\n['radiology', 'services', '(cpt', 'codes', '70010-79999)']\n['2019', 'cpt', 'code']\n['average', 'charge']\n['ct', 'scan,', 'abdomen,', 'with', 'contrast']\n['74160']\n['4092.5']\n['ct', 'scan,', 'head', 'or', 'brain,', 'without', 'contrast']\n['70450']\n['2999.9']\n['ct', 'scan,', 'pelvis,', 'with', 'contrast']\n['72193']\n['3181.8']\n['mri,', 'head', 'or', 'brain,', 'without', 'contrast,', 'followed', 'by', 'contrast']\n['70553']\n['5414.4']\n['ultrasound,', 'abdomen,', 'complete']\n['76700']\n['1138.9']\n['ultrasound,', 'ob,', '14', 'weeks', 'or', 'more,', 'transabdominal']\n['76805']\n['1165.35']\n['x-ray,', 'lower', 'back,', 'four', 'views']\n['72110']\n['850.05']\n['medicine', 'services', '(cpt', 'codes', '90281-99607)']\n['2019', 'cpt', 'code']\n['average', 'charge']\n['cardiac', 'catheterization,', 'left', 'heart,', 'percutaneous']\n['93452']\n['13374.45']\n['echocardiography,', 'complete']\n['93307']\n['1114.65']\n['electrocardiogram,', 'routine,', 'with', 'interpretation', 'and', 'report']\n['93005']\n['418.95']\n['inhalation', 'treatment,', 'pressurized', 'or', 'nonpressurized']\n['94640']\n['215']\n['physical', 'therapy,', 'gait', 'training']\n['97116']\n['104.75']\n['physical', 'therapy,', 'therapeutic', 'exercise']\n['97110']\n['50.7']\n['surgery', 'services', '(cpt', 'codes', '10021-69990)']\n['2019', 'cpt', 'code']\n['average', 'charge']\n['colonoscopy,', 'diagnostic']\n['45378']\n['2669.15']\n['colonoscopy,', 'with', 'biopsy']\n['45380']\n['3004.3']\n['colonoscopy,', 'with', 'lesion', 'removal,', 'by', 'snare', 'technique']\n['45385']\n['3004.3']\n['endoscopy,', 'upper', 'gi,', 'with', 'biopsy']\n['43239']\n['2885.25']\n['endoscopy,', 'upper', 'gi,', 'diagnostic']\n['43235']\n['2885.25']\n['injection,', 'anesthetic', 'or', 'steroid,', 'transforaminal', 'epidural,', 'lumbar']\n['64483']\n['1789.5']\n['other', 'common', 'outpatient', 'procedures', '(list', 'as', 'needed)']\n['2019', 'cpt', 'code']\n['average', 'charge']\n['glucose', 'blood', 'test']\n['82962']\n['165.4']\n['collection', 'venous', 'blood,venipuncture']\n['36415']\n['16.55']\n['noninvasv', 'oxygen', 'satur;single']\n['94760']\n['89.3']\n['bacteria', 'culture', 'screen']\n['87081']\n['172']\n['none']\n['none']\n['none']\n['none']\n['none']\n['none']\n['none']\n['none']\n['none']\n['none']\n['none']\n['none']\n['count', 'of', 'reported', 'procedures', '(minimum', '25', 'required)']\n['none']\n['48']\n['none']\n['none']\n['none']\n['hospital', 'name:', 'alvarado', 'hospital']\n['none']\n['none']\n['oshpd', 'facility', 'no:', '106370652']\n['none']\n['none']\n['effective', 'date', 'of', 'charges:', 'june', '2020']\n['none']\n['none']\n['none']\n['none']\n['none']\n['in', 'response', 'to', 'requests', 'from', 'hospitals', 'and', 'the', 'public,', 'oshpd', 'has', 'developed', 'this', 'form', 'to', 'assist', 'hospitals', 'in', 'collecting', 'and', 'submitting', 'the', 'average', 'charge', 'for', '25', 'common', 'outpatient', 'procedures', 'performed', 'by', 'hospitals,', 'as', 'required', 'by', 'ab', '1045', '(chapter', '532,', 'statutes', 'of', '2005).', 'use', 'of', 'the', 'oshpd', 'form', 'is', 'voluntary,', 'but', 'highly', 'encouraged,', 'as', 'it', 'allows', 'hospitals', 'to', 'report', 'and', 'the', 'public', 'to', 'compare', 'uniform', 'information', 'regarding', 'common', 'outpatient', 'procedures.']\n['none']\n['none']\n['evaluation', '&', 'management', 'services', '(cpt', 'codes', '99201-99499)']\n['2019', 'cpt', 'code']\n['average', 'charge']\n['emergency', 'room', 'visit,', 'level', '2', '(low', 'to', 'moderate', 'severity)']\n['99282']\n['746.55']\n['emergency', 'room', 'visit,', 'level', '3', '(moderate', 'severity)']\n['99283']\n['1051.05']\n['emergency', 'room', 'visit,', 'level', '4', '(high', 'severity)']\n['99284']\n['1581.3']\n['outpatient', 'visit,', 'established', 'patient,', '15', 'minutes']\n['99213']\n['none']\n['laboratory', '&', 'pathology', 'services', '(cpt', 'codes', '80047-89398)']\n['2019', 'cpt', 'code']\n['average', 'charge']\n['basic', 'metabolic', 'panel']\n['80048']\n['310.9']\n['blood', 'gas', 'analysis,', 'including', '02', 'saturation']\n['82805']\n['179.7']\n['complete', 'blood', 'count,', 'automated']\n['85027']\n['166.5']\n['complete', 'blood', 'count,', 'with', 'differential', 'wbc,', 'automated']\n['85025']\n['162.05']\n['comprehensive', 'metabolic', 'panel']\n['80053']\n['390.3']\n['creatine', 'kinase', '(ck),', '(cpk),', 'total']\n['82550']\n['179.7']\n['lipid', 'panel']\n['80061']\n['363.85']\n['partial', 'thromboplastin', 'time']\n['85730']\n['229.3']\n['prothrombin', 'time']\n['85610']\n['168.7']\n['thyroid', 'stimulating', 'hormone']\n['84443']\n['230.4']\n['troponin,', 'quantitative']\n['84484']\n['263.5']\n['urinalysis,', 'without', 'microscopy']\n['81002']\n['54']\n['urinalysis,', 'with', 'microscopy']\n['81001']\n['113.55']\n['radiology', 'services', '(cpt', 'codes', '70010-79999)']\n['ct', 'scan,', 'abdomen,', 'with', 'contrast']\n['74160']\n['4092.5']\n['ct', 'scan,', 'head', 'or', 'brain,', 'without', 'contrast']\n['70450']\n['2999.9']\n['ct', 'scan,', 'pelvis,', 'with', 'contrast']\n['72193']\n['3181.8']\n['mri,', 'head', 'or', 'brain,', 'without', 'contrast,', 'followed', 'by', 'contrast']\n['70553']\n['5414.4']\n['ultrasound,', 'abdomen,', 'complete']\n['76700']\n['1138.9']\n['ultrasound,', 'ob,', '14', 'weeks', 'or', 'more,', 'transabdominal']\n['76805']\n['1165.35']\n['x-ray,', 'lower', 'back,', 'four', 'views']\n['72110']\n['850.05']\n['medicine', 'services', '(cpt', 'codes', '90281-99607)']\n['2019', 'cpt', 'code']\n['average', 'charge']\n['cardiac', 'catheterization,', 'left', 'heart,', 'percutaneous']\n['93452']\n['13374.45']\n['echocardiography,', 'complete']\n['93307']\n['1114.65']\n['electrocardiogram,', 'routine,', 'with', 'interpretation', 'and', 'report']\n['93005']\n['418.95']\n['inhalation', 'treatment,', 'pressurized', 'or', 'nonpressurized']\n['94640']\n['215']\n['physical', 'therapy,', 'gait', 'training']\n['97116']\n['104.75']\n['physical', 'therapy,', 'therapeutic', 'exercise']\n['97110']\n['50.7']\n['surgery', 'services', '(cpt', 'codes', '10021-69990)']\n['2019', 'cpt', 'code']\n['average', 'charge']\n['colonoscopy,', 'diagnostic']\n['45378']\n['2669.15']\n['colonoscopy,', 'with', 'biopsy']\n['45380']\n['3004.3']\n['colonoscopy,', 'with', 'lesion', 'removal,', 'by', 'snare', 'technique']\n['45385']\n['3004.3']\n['endoscopy,', 'upper', 'gi,', 'with', 'biopsy']\n['43239']\n['2885.25']\n['endoscopy,', 'upper', 'gi,', 'diagnostic']\n['43235']\n['2885.25']\n['injection,', 'anesthetic', 'or', 'steroid,', 'transforaminal', 'epidural,', 'lumbar']\n['64483']\n['1789.5']\n['other', 'common', 'outpatient', 'procedures', '(list', 'as', 'needed)']\n['2019', 'cpt', 'code']\n['average', 'charge']\n['glucose', 'blood', 'test']\n['82962']\n['165.4']\n['collection', 'venous', 'blood,venipuncture']\n['36415']\n['16.55']\n['noninvasv', 'oxygen', 'satur;single']\n['94760']\n['89.3']\n['bacteria', 'culture', 'screen']\n['87081']\n['172']\n['none']\n['none']\n['none']\n['none']\n['none']\n['none']\n['none']\n['none']\n['none']\n['none']\n['none']\n['none']\n['count', 'of', 'reported', 'procedures', '(minimum', '25', 'required)']\n['none']\n['48']\n['none']\n['none']\n['none']\n['hospital', 'name:', 'alvarado', 'hospital']\n['none']\n['none']\n['oshpd', 'facility', 'no:', '106370652']\n['none']\n['none']\n['effective', 'date', 'of', 'charges:', 'june', '2020']\n['none']\n['none']\n['none']\n['none']\n['none']\n['in', 'response', 'to', 'requests', 'from', 'hospitals', 'and', 'the', 'public,', 'oshpd', 'has', 'developed', 'this', 'form', 'to', 'assist', 'hospitals', 'in', 'collecting', 'and', 'submitting', 'the', 'average', 'charge', 'for', '25', 'common', 'outpatient', 'procedures', 'performed', 'by', 'hospitals,', 'as', 'required', 'by', 'ab', '1045', '(chapter', '532,', 'statutes', 'of', '2005).', 'use', 'of', 'the', 'oshpd', 'form', 'is', 'voluntary,', 'but', 'highly', 'encouraged,', 'as', 'it', 'allows', 'hospitals', 'to', 'report', 'and', 'the', 'public', 'to', 'compare', 'uniform', 'information', 'regarding', 'common', 'outpatient', 'procedures.']\n['none']\n['none']\n['evaluation', '&', 'management', 'services', '(cpt', 'codes', '99201-99499)']\n['2019', 'cpt', 'code']\n['average', 'charge']\n['emergency', 'room', 'visit,', 'level', '2', '(low', 'to', 'moderate', 'severity)']\n['99282']\n['746.55']\n['emergency', 'room', 'visit,', 'level', '3', '(moderate', 'severity)']\n['99283']\n['1051.05']\n['emergency', 'room', 'visit,', 'level', '4', '(high', 'severity)']\n['99284']\n['1581.3']\n['outpatient', 'visit,', 'established', 'patient,', '15', 'minutes']\n['99213']\n['none']\n['laboratory', '&', 'pathology', 'services', '(cpt', 'codes', '80047-89398)']\n['2019', 'cpt', 'code']\n['average', 'charge']\n['basic', 'metabolic', 'panel']\n['80048']\n['310.9']\n['blood', 'gas', 'analysis,', 'including', '02', 'saturation']\n['82805']\n['179.7']\n['complete', 'blood', 'count,', 'automated']\n['85027']\n['166.5']\n['complete', 'blood', 'count,', 'with', 'differential', 'wbc,', 'automated']\n['85025']\n['162.05']\n['comprehensive', 'metabolic', 'panel']\n['80053']\n['390.3']\n['creatine', 'kinase', '(ck),', '(cpk),', 'total']\n['82550']\n['179.7']\n['lipid', 'panel']\n['80061']\n['363.85']\n['partial', 'thromboplastin', 'time']\n['85730']\n['229.3']\n['prothrombin', 'time']\n['85610']\n['168.7']\n['thyroid', 'stimulating', 'hormone']\n['84443']\n['230.4']\n['troponin,', 'quantitative']\n['84484']\n['263.5']\n['urinalysis,', 'without', 'microscopy']\n['81002']\n['54']\n['urinalysis,', 'with', 'microscopy']\n['81001']\n['113.55']\n['radiology', 'services', '(cpt', 'codes', '70010-79999)']\n['2019', 'cpt', 'code']\n['average', 'charge']\n['ct', 'scan,', 'abdomen,', 'with', 'contrast']\n['74160']\n['4092.5']\n['ct', 'scan,', 'head', 'or', 'brain,', 'without', 'contrast']\n['70450']\n['2999.9']\n['ct', 'scan,', 'pelvis,', 'with', 'contrast']\n['72193']\n['3181.8']\n['mri,', 'head', 'or', 'brain,', 'without', 'contrast,', 'followed', 'by', 'contrast']\n['70553']\n['5414.4']\n['ultrasound,', 'abdomen,', 'complete']\n['76700']\n['1138.9']\n['ultrasound,', 'ob,', '14', 'weeks', 'or', 'more,', 'transabdominal']\n['76805']\n['1165.35']\n['x-ray,', 'lower', 'back,', 'four', 'views']\n['72110']\n['850.05']\n['medicine', 'services', '(cpt', 'codes', '90281-99607)']\n['cardiac', 'catheterization,', 'left', 'heart,', 'percutaneous']\n['93452']\n['13374.45']\n['echocardiography,', 'complete']\n['93307']\n['1114.65']\n['electrocardiogram,', 'routine,', 'with', 'interpretation', 'and', 'report']\n['93005']\n['418.95']\n['inhalation', 'treatment,', 'pressurized', 'or', 'nonpressurized']\n['94640']\n['215']\n['physical', 'therapy,', 'gait', 'training']\n['97116']\n['104.75']\n['physical', 'therapy,', 'therapeutic', 'exercise']\n['97110']\n['50.7']\n['surgery', 'services', '(cpt', 'codes', '10021-69990)']\n['2019', 'cpt', 'code']\n['average', 'charge']\n['colonoscopy,', 'diagnostic']\n['45378']\n['2669.15']\n['colonoscopy,', 'with', 'biopsy']\n['45380']\n['3004.3']\n['colonoscopy,', 'with', 'lesion', 'removal,', 'by', 'snare', 'technique']\n['45385']\n['3004.3']\n['endoscopy,', 'upper', 'gi,', 'with', 'biopsy']\n['43239']\n['2885.25']\n['endoscopy,', 'upper', 'gi,', 'diagnostic']\n['43235']\n['2885.25']\n['injection,', 'anesthetic', 'or', 'steroid,', 'transforaminal', 'epidural,', 'lumbar']\n['64483']\n['1789.5']\n['other', 'common', 'outpatient', 'procedures', '(list', 'as', 'needed)']\n['2019', 'cpt', 'code']\n['average', 'charge']\n['glucose', 'blood', 'test']\n['82962']\n['165.4']\n['collection', 'venous', 'blood,venipuncture']\n['36415']\n['16.55']\n['noninvasv', 'oxygen', 'satur;single']\n['94760']\n['89.3']\n['bacteria', 'culture', 'screen']\n['87081']\n['172']\n['none']\n['none']\n['none']\n['none']\n['none']\n['none']\n['none']\n['none']\n['none']\n['none']\n['none']\n['none']\n['count', 'of', 'reported', 'procedures', '(minimum', '25', 'required)']\n['none']\n['48']\n['none']\n['none']\n['none']\n['hospital', 'name:', 'alvarado', 'hospital']\n['none']\n['none']\n['oshpd', 'facility', 'no:', '106370652']\n['none']\n['none']\n['effective', 'date', 'of', 'charges:', 'june', '2020']\n['none']\n['none']\n['none']\n['none']\n['none']\n['in', 'response', 'to', 'requests', 'from', 'hospitals', 'and', 'the', 'public,', 'oshpd', 'has', 'developed', 'this', 'form', 'to', 'assist', 'hospitals', 'in', 'collecting', 'and', 'submitting', 'the', 'average', 'charge', 'for', '25', 'common', 'outpatient', 'procedures', 'performed', 'by', 'hospitals,', 'as', 'required', 'by', 'ab', '1045', '(chapter', '532,', 'statutes', 'of', '2005).', 'use', 'of', 'the', 'oshpd', 'form', 'is', 'voluntary,', 'but', 'highly', 'encouraged,', 'as', 'it', 'allows', 'hospitals', 'to', 'report', 'and', 'the', 'public', 'to', 'compare', 'uniform', 'information', 'regarding', 'common', 'outpatient', 'procedures.']\n['none']\n['none']\n['evaluation', '&', 'management', 'services', '(cpt', 'codes', '99201-99499)']\n['2019', 'cpt', 'code']\n['average', 'charge']\n['emergency', 'room', 'visit,', 'level', '2', '(low', 'to', 'moderate', 'severity)']\n['99282']\n['746.55']\n['emergency', 'room', 'visit,', 'level', '3', '(moderate', 'severity)']\n['99283']\n['1051.05']\n['emergency', 'room', 'visit,', 'level', '4', '(high', 'severity)']\n['99284']\n['1581.3']\n['outpatient', 'visit,', 'established', 'patient,', '15', 'minutes']\n['99213']\n['none']\n['laboratory', '&', 'pathology', 'services', '(cpt', 'codes', '80047-89398)']\n['2019', 'cpt', 'code']\n['average', 'charge']\n['basic', 'metabolic', 'panel']\n['80048']\n['310.9']\n['blood', 'gas', 'analysis,', 'including', '02', 'saturation']\n['82805']\n['179.7']\n['complete', 'blood', 'count,', 'automated']\n['85027']\n['166.5']\n['complete', 'blood', 'count,', 'with', 'differential', 'wbc,', 'automated']\n['85025']\n['162.05']\n['comprehensive', 'metabolic', 'panel']\n['80053']\n['390.3']\n['creatine', 'kinase', '(ck),', '(cpk),', 'total']\n['82550']\n['179.7']\n['lipid', 'panel']\n['80061']\n['363.85']\n['partial', 'thromboplastin', 'time']\n['85730']\n['229.3']\n['prothrombin', 'time']\n['85610']\n['168.7']\n['thyroid', 'stimulating', 'hormone']\n['84443']\n['230.4']\n['troponin,', 'quantitative']\n['84484']\n['263.5']\n['urinalysis,', 'without', 'microscopy']\n['81002']\n['54']\n['urinalysis,', 'with', 'microscopy']\n['81001']\n['113.55']\n['radiology', 'services', '(cpt', 'codes', '70010-79999)']\n['2019', 'cpt', 'code']\n['average', 'charge']\n['ct', 'scan,', 'abdomen,', 'with', 'contrast']\n['74160']\n['4092.5']\n['ct', 'scan,', 'head', 'or', 'brain,', 'without', 'contrast']\n['70450']\n['2999.9']\n['ct', 'scan,', 'pelvis,', 'with', 'contrast']\n['72193']\n['3181.8']\n['mri,', 'head', 'or', 'brain,', 'without', 'contrast,', 'followed', 'by', 'contrast']\n['70553']\n['5414.4']\n['ultrasound,', 'abdomen,', 'complete']\n['76700']\n['1138.9']\n['ultrasound,', 'ob,', '14', 'weeks', 'or', 'more,', 'transabdominal']\n['76805']\n['1165.35']\n['x-ray,', 'lower', 'back,', 'four', 'views']\n['72110']\n['850.05']\n['medicine', 'services', '(cpt', 'codes', '90281-99607)']\n['2019', 'cpt', 'code']\n['average', 'charge']\n['cardiac', 'catheterization,', 'left', 'heart,', 'percutaneous']\n['93452']\n['13374.45']\n['echocardiography,', 'complete']\n['93307']\n['1114.65']\n['electrocardiogram,', 'routine,', 'with', 'interpretation', 'and', 'report']\n['93005']\n['418.95']\n['inhalation', 'treatment,', 'pressurized', 'or', 'nonpressurized']\n['94640']\n['215']\n['physical', 'therapy,', 'gait', 'training']\n['97116']\n['104.75']\n['physical', 'therapy,', 'therapeutic', 'exercise']\n['97110']\n['50.7']\n['surgery', 'services', '(cpt', 'codes', '10021-69990)']\n['colonoscopy,', 'diagnostic']\n['45378']\n['2669.15']\n['colonoscopy,', 'with', 'biopsy']\n['45380']\n['3004.3']\n['colonoscopy,', 'with', 'lesion', 'removal,', 'by', 'snare', 'technique']\n['45385']\n['3004.3']\n['endoscopy,', 'upper', 'gi,', 'with', 'biopsy']\n['43239']\n['2885.25']\n['endoscopy,', 'upper', 'gi,', 'diagnostic']\n['43235']\n['2885.25']\n['injection,', 'anesthetic', 'or', 'steroid,', 'transforaminal', 'epidural,', 'lumbar']\n['64483']\n['1789.5']\n['other', 'common', 'outpatient', 'procedures', '(list', 'as', 'needed)']\n['2019', 'cpt', 'code']\n['average', 'charge']\n['glucose', 'blood', 'test']\n['82962']\n['165.4']\n['collection', 'venous', 'blood,venipuncture']\n['36415']\n['16.55']\n['noninvasv', 'oxygen', 'satur;single']\n['94760']\n['89.3']\n['bacteria', 'culture', 'screen']\n['87081']\n['172']\n['none']\n['none']\n['none']\n['none']\n['none']\n['none']\n['none']\n['none']\n['none']\n['none']\n['none']\n['none']\n['count', 'of', 'reported', 'procedures', '(minimum', '25', 'required)']\n['none']\n['48']\n['none']\n['none']\n['none']\n['hospital', 'name:', 'alvarado', 'hospital']\n['none']\n['none']\n['oshpd', 'facility', 'no:', '106370652']\n['none']\n['none']\n['effective', 'date', 'of', 'charges:', 'june', '2020']\n['none']\n['none']\n['none']\n['none']\n['none']\n['in', 'response', 'to', 'requests', 'from', 'hospitals', 'and', 'the', 'public,', 'oshpd', 'has', 'developed', 'this', 'form', 'to', 'assist', 'hospitals', 'in', 'collecting', 'and', 'submitting', 'the', 'average', 'charge', 'for', '25', 'common', 'outpatient', 'procedures', 'performed', 'by', 'hospitals,', 'as', 'required', 'by', 'ab', '1045', '(chapter', '532,', 'statutes', 'of', '2005).', 'use', 'of', 'the', 'oshpd', 'form', 'is', 'voluntary,', 'but', 'highly', 'encouraged,', 'as', 'it', 'allows', 'hospitals', 'to', 'report', 'and', 'the', 'public', 'to', 'compare', 'uniform', 'information', 'regarding', 'common', 'outpatient', 'procedures.']\n['none']\n['none']\n['evaluation', '&', 'management', 'services', '(cpt', 'codes', '99201-99499)']\n['2019', 'cpt', 'code']\n['average', 'charge']\n['emergency', 'room', 'visit,', 'level', '2', '(low', 'to', 'moderate', 'severity)']\n['99282']\n['746.55']\n['emergency', 'room', 'visit,', 'level', '3', '(moderate', 'severity)']\n['99283']\n['1051.05']\n['emergency', 'room', 'visit,', 'level', '4', '(high', 'severity)']\n['99284']\n['1581.3']\n['outpatient', 'visit,', 'established', 'patient,', '15', 'minutes']\n['99213']\n['none']\n['laboratory', '&', 'pathology', 'services', '(cpt', 'codes', '80047-89398)']\n['2019', 'cpt', 'code']\n['average', 'charge']\n['basic', 'metabolic', 'panel']\n['80048']\n['310.9']\n['blood', 'gas', 'analysis,', 'including', '02', 'saturation']\n['82805']\n['179.7']\n['complete', 'blood', 'count,', 'automated']\n['85027']\n['166.5']\n['complete', 'blood', 'count,', 'with', 'differential', 'wbc,', 'automated']\n['85025']\n['162.05']\n['comprehensive', 'metabolic', 'panel']\n['80053']\n['390.3']\n['creatine', 'kinase', '(ck),', '(cpk),', 'total']\n['82550']\n['179.7']\n['lipid', 'panel']\n['80061']\n['363.85']\n['partial', 'thromboplastin', 'time']\n['85730']\n['229.3']\n['prothrombin', 'time']\n['85610']\n['168.7']\n['thyroid', 'stimulating', 'hormone']\n['84443']\n['230.4']\n['troponin,', 'quantitative']\n['84484']\n['263.5']\n['urinalysis,', 'without', 'microscopy']\n['81002']\n['54']\n['urinalysis,', 'with', 'microscopy']\n['81001']\n['113.55']\n['radiology', 'services', '(cpt', 'codes', '70010-79999)']\n['2019', 'cpt', 'code']\n['average', 'charge']\n['ct', 'scan,', 'abdomen,', 'with', 'contrast']\n['74160']\n['4092.5']\n['ct', 'scan,', 'head', 'or', 'brain,', 'without', 'contrast']\n['70450']\n['2999.9']\n['ct', 'scan,', 'pelvis,', 'with', 'contrast']\n['72193']\n['3181.8']\n['mri,', 'head', 'or', 'brain,', 'without', 'contrast,', 'followed', 'by', 'contrast']\n['70553']\n['5414.4']\n['ultrasound,', 'abdomen,', 'complete']\n['76700']\n['1138.9']\n['ultrasound,', 'ob,', '14', 'weeks', 'or', 'more,', 'transabdominal']\n['76805']\n['1165.35']\n['x-ray,', 'lower', 'back,', 'four', 'views']\n['72110']\n['850.05']\n['medicine', 'services', '(cpt', 'codes', '90281-99607)']\n['2019', 'cpt', 'code']\n['average', 'charge']\n['cardiac', 'catheterization,', 'left', 'heart,', 'percutaneous']\n['93452']\n['13374.45']\n['echocardiography,', 'complete']\n['93307']\n['1114.65']\n['electrocardiogram,', 'routine,', 'with', 'interpretation', 'and', 'report']\n['93005']\n['418.95']\n['inhalation', 'treatment,', 'pressurized', 'or', 'nonpressurized']\n['94640']\n['215']\n['physical', 'therapy,', 'gait', 'training']\n['97116']\n['104.75']\n['physical', 'therapy,', 'therapeutic', 'exercise']\n['97110']\n['50.7']\n['surgery', 'services', '(cpt', 'codes', '10021-69990)']\n['2019', 'cpt', 'code']\n['average', 'charge']\n['colonoscopy,', 'diagnostic']\n['45378']\n['2669.15']\n['colonoscopy,', 'with', 'biopsy']\n['45380']\n['3004.3']\n['colonoscopy,', 'with', 'lesion', 'removal,', 'by', 'snare', 'technique']\n['45385']\n['3004.3']\n['endoscopy,', 'upper', 'gi,', 'with', 'biopsy']\n['43239']\n['2885.25']\n['endoscopy,', 'upper', 'gi,', 'diagnostic']\n['43235']\n['2885.25']\n['injection,', 'anesthetic', 'or', 'steroid,', 'transforaminal', 'epidural,', 'lumbar']\n['64483']\n['1789.5']\n['other', 'common', 'outpatient', 'procedures', '(list', 'as', 'needed)']\n['2019', 'cpt', 'code']\n['average', 'charge']\n['glucose', 'blood', 'test']\n['82962']\n['165.4']\n['collection', 'venous', 'blood,venipuncture']\n['36415']\n['16.55']\n['noninvasv', 'oxygen', 'satur;single']\n['94760']\n['89.3']\n['bacteria', 'culture', 'screen']\n['87081']\n['172']\n['none']\n['none']\n['none']\n['none']\n['none']\n['none']\n['none']\n['none']\n['none']\n['none']\n['none']\n['none']\n['count', 'of', 'reported', 'procedures', '(minimum', '25', 'required)']\n['none']\n['48']\n['none']\n['none']\n['none']\n['hospital', 'name:', 'alvarado', 'hospital']\n['none']\n['none']\n['oshpd', 'facility', 'no:', '106370652']\n['none']\n['none']\n['effective', 'date', 'of', 'charges:', 'june', '2020']\n['none']\n['none']\n['none']\n['none']\n['none']\n['in', 'response', 'to', 'requests', 'from', 'hospitals', 'and', 'the', 'public,', 'oshpd', 'has', 'developed', 'this', 'form', 'to', 'assist', 'hospitals', 'in', 'collecting', 'and', 'submitting', 'the', 'average', 'charge', 'for', '25', 'common', 'outpatient', 'procedures', 'performed', 'by', 'hospitals,', 'as', 'required', 'by', 'ab', '1045', '(chapter', '532,', 'statutes', 'of', '2005).', 'use', 'of', 'the', 'oshpd', 'form', 'is', 'voluntary,', 'but', 'highly', 'encouraged,', 'as', 'it', 'allows', 'hospitals', 'to', 'report', 'and', 'the', 'public', 'to', 'compare', 'uniform', 'information', 'regarding', 'common', 'outpatient', 'procedures.']\n['evaluation', '&', 'management', 'services', '(cpt', 'codes', '99201-99499)']\n['2019', 'cpt', 'code']\n['average', 'charge']\n['emergency', 'room', 'visit,', 'level', '2', '(low', 'to', 'moderate', 'severity)']\n['99282']\n['746.55']\n['emergency', 'room', 'visit,', 'level', '3', '(moderate', 'severity)']\n['99283']\n['1051.05']\n['emergency', 'room', 'visit,', 'level', '4', '(high', 'severity)']\n['99284']\n['1581.3']\n['outpatient', 'visit,', 'established', 'patient,', '15', 'minutes']\n['99213']\n['none']\n['laboratory', '&', 'pathology', 'services', '(cpt', 'codes', '80047-89398)']\n['2019', 'cpt', 'code']\n['average', 'charge']\n['basic', 'metabolic', 'panel']\n['80048']\n['310.9']\n['blood', 'gas', 'analysis,', 'including', '02', 'saturation']\n['82805']\n['179.7']\n['complete', 'blood', 'count,', 'automated']\n['85027']\n['166.5']\n['complete', 'blood', 'count,', 'with', 'differential', 'wbc,', 'automated']\n['85025']\n['162.05']\n['comprehensive', 'metabolic', 'panel']\n['80053']\n['390.3']\n['creatine', 'kinase', '(ck),', '(cpk),', 'total']\n['82550']\n['179.7']\n['lipid', 'panel']\n['80061']\n['363.85']\n['partial', 'thromboplastin', 'time']\n['85730']\n['229.3']\n['prothrombin', 'time']\n['85610']\n['168.7']\n['thyroid', 'stimulating', 'hormone']\n['84443']\n['230.4']\n['troponin,', 'quantitative']\n['84484']\n['263.5']\n['urinalysis,', 'without', 'microscopy']\n['81002']\n['54']\n['urinalysis,', 'with', 'microscopy']\n['81001']\n['113.55']\n['radiology', 'services', '(cpt', 'codes', '70010-79999)']\n['2019', 'cpt', 'code']\n['average', 'charge']\n['ct', 'scan,', 'abdomen,', 'with', 'contrast']\n['74160']\n['4092.5']\n['ct', 'scan,', 'head', 'or', 'brain,', 'without', 'contrast']\n['70450']\n['2999.9']\n['ct', 'scan,', 'pelvis,', 'with', 'contrast']\n['72193']\n['3181.8']\n['mri,', 'head', 'or', 'brain,', 'without', 'contrast,', 'followed', 'by', 'contrast']\n['70553']\n['5414.4']\n['ultrasound,', 'abdomen,', 'complete']\n['76700']\n['1138.9']\n['ultrasound,', 'ob,', '14', 'weeks', 'or', 'more,', 'transabdominal']\n['76805']\n['1165.35']\n['x-ray,', 'lower', 'back,', 'four', 'views']\n['72110']\n['850.05']\n['medicine', 'services', '(cpt', 'codes', '90281-99607)']\n['2019', 'cpt', 'code']\n['average', 'charge']\n['cardiac', 'catheterization,', 'left', 'heart,', 'percutaneous']\n['93452']\n['13374.45']\n['echocardiography,', 'complete']\n['93307']\n['1114.65']\n['electrocardiogram,', 'routine,', 'with', 'interpretation', 'and', 'report']\n['93005']\n['418.95']\n['inhalation', 'treatment,', 'pressurized', 'or', 'nonpressurized']\n['94640']\n['215']\n['physical', 'therapy,', 'gait', 'training']\n['97116']\n['104.75']\n['physical', 'therapy,', 'therapeutic', 'exercise']\n['97110']\n['50.7']\n['surgery', 'services', '(cpt', 'codes', '10021-69990)']\n['2019', 'cpt', 'code']\n['average', 'charge']\n['colonoscopy,', 'diagnostic']\n['45378']\n['2669.15']\n['colonoscopy,', 'with', 'biopsy']\n['45380']\n['3004.3']\n['colonoscopy,', 'with', 'lesion', 'removal,', 'by', 'snare', 'technique']\n['45385']\n['3004.3']\n['endoscopy,', 'upper', 'gi,', 'with', 'biopsy']\n['43239']\n['2885.25']\n['endoscopy,', 'upper', 'gi,', 'diagnostic']\n['43235']\n['2885.25']\n['injection,', 'anesthetic', 'or', 'steroid,', 'transforaminal', 'epidural,', 'lumbar']\n['64483']\n['1789.5']\n['other', 'common', 'outpatient', 'procedures', '(list', 'as', 'needed)']\n['glucose', 'blood', 'test']\n['82962']\n['165.4']\n['collection', 'venous', 'blood,venipuncture']\n['36415']\n['16.55']\n['noninvasv', 'oxygen', 'satur;single']\n['94760']\n['89.3']\n['bacteria', 'culture', 'screen']\n['87081']\n['172']\n['none']\n['none']\n['none']\n['none']\n['none']\n['none']\n['none']\n['none']\n['none']\n['none']\n['none']\n['none']\n['count', 'of', 'reported', 'procedures', '(minimum', '25', 'required)']\n['none']\n['48']\n['none']\n['none']\n['none']\n"
     ]
    }
   ],
   "source": [
    "#Get a list of all important dfs in the dataset, converted\n",
    "convertlist=[]\n",
    "masterlist=getdata2(xlsx_file)\n",
    "for i in range(len(masterlist)):\n",
    "    df=masterlist[i].applymap(convertvalue)\n",
    "    convertlist.append(df)"
   ]
  },
  {
   "cell_type": "code",
   "execution_count": 137,
   "metadata": {},
   "outputs": [],
   "source": [
    "for df in convertlist:\n",
    "    if len(df)>0:\n",
    "        df.columns = df.iloc[0]\n",
    "        df[\"Service Type\"]=df.iloc[0,0]\n",
    "        df.rename(columns={ df.columns[0]: \"Service\" }, inplace = True)\n",
    "        df=df.drop(df.index[0], inplace=True)"
   ]
  },
  {
   "cell_type": "code",
   "execution_count": 140,
   "metadata": {},
   "outputs": [
    {
     "output_type": "execute_result",
     "data": {
      "text/plain": [
       "0                                            Service 2019 CPT Code  \\\n",
       "1  Cardiac Catheterization, Left Heart, percutane...         93452   \n",
       "2                         Echocardiography, complete         93307   \n",
       "3  Electrocardiogram, routine, with interpretatio...         93005   \n",
       "4  Inhalation Treatment, pressurized or nonpressu...         94640   \n",
       "5                    Physical Therapy, Gait Training         97116   \n",
       "6             Physical Therapy, Therapeutic Exercise         97110   \n",
       "\n",
       "0 Average Charge                                Service Type  \n",
       "1        13374.5  Medicine Services  (CPT Codes 90281-99607)  \n",
       "2        1114.65  Medicine Services  (CPT Codes 90281-99607)  \n",
       "3         418.95  Medicine Services  (CPT Codes 90281-99607)  \n",
       "4            215  Medicine Services  (CPT Codes 90281-99607)  \n",
       "5         104.75  Medicine Services  (CPT Codes 90281-99607)  \n",
       "6           50.7  Medicine Services  (CPT Codes 90281-99607)  "
      ],
      "text/html": "<div>\n<style scoped>\n    .dataframe tbody tr th:only-of-type {\n        vertical-align: middle;\n    }\n\n    .dataframe tbody tr th {\n        vertical-align: top;\n    }\n\n    .dataframe thead th {\n        text-align: right;\n    }\n</style>\n<table border=\"1\" class=\"dataframe\">\n  <thead>\n    <tr style=\"text-align: right;\">\n      <th></th>\n      <th>Service</th>\n      <th>2019 CPT Code</th>\n      <th>Average Charge</th>\n      <th>Service Type</th>\n    </tr>\n  </thead>\n  <tbody>\n    <tr>\n      <th>1</th>\n      <td>Cardiac Catheterization, Left Heart, percutane...</td>\n      <td>93452</td>\n      <td>13374.5</td>\n      <td>Medicine Services  (CPT Codes 90281-99607)</td>\n    </tr>\n    <tr>\n      <th>2</th>\n      <td>Echocardiography, complete</td>\n      <td>93307</td>\n      <td>1114.65</td>\n      <td>Medicine Services  (CPT Codes 90281-99607)</td>\n    </tr>\n    <tr>\n      <th>3</th>\n      <td>Electrocardiogram, routine, with interpretatio...</td>\n      <td>93005</td>\n      <td>418.95</td>\n      <td>Medicine Services  (CPT Codes 90281-99607)</td>\n    </tr>\n    <tr>\n      <th>4</th>\n      <td>Inhalation Treatment, pressurized or nonpressu...</td>\n      <td>94640</td>\n      <td>215</td>\n      <td>Medicine Services  (CPT Codes 90281-99607)</td>\n    </tr>\n    <tr>\n      <th>5</th>\n      <td>Physical Therapy, Gait Training</td>\n      <td>97116</td>\n      <td>104.75</td>\n      <td>Medicine Services  (CPT Codes 90281-99607)</td>\n    </tr>\n    <tr>\n      <th>6</th>\n      <td>Physical Therapy, Therapeutic Exercise</td>\n      <td>97110</td>\n      <td>50.7</td>\n      <td>Medicine Services  (CPT Codes 90281-99607)</td>\n    </tr>\n  </tbody>\n</table>\n</div>"
     },
     "metadata": {},
     "execution_count": 140
    }
   ],
   "source": [
    "convertlist[3]"
   ]
  },
  {
   "source": [],
   "cell_type": "markdown",
   "metadata": {}
  },
  {
   "cell_type": "code",
   "execution_count": null,
   "metadata": {},
   "outputs": [],
   "source": [
    "#Pull relavant data from worksheets\n",
    "\n",
    "startFolder =\"/home/ygael/Projects/healthcare/data/2020_CDM_chargemaster\"\n",
    "\n",
    "for subdir, dirs, files in os.walk(rootdir):\n",
    "    for file in files:\n",
    "        hospital_df = pd.DataFrame(pd.read_excel(file))\n",
    "        lines=f.readlines()\n",
    "        f.close()\n",
    "        f=open(file,'w')\n",
    "        for line in lines:\n",
    "            newline = \"No you are not\"\n",
    "            f.write(newline)\n",
    "        f.close()\n",
    "        \n",
    "        "
   ]
  }
 ]
}