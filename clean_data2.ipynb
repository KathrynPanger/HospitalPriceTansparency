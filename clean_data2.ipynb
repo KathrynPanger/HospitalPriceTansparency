{
 "metadata": {
  "language_info": {
   "codemirror_mode": {
    "name": "ipython",
    "version": 3
   },
   "file_extension": ".py",
   "mimetype": "text/x-python",
   "name": "python",
   "nbconvert_exporter": "python",
   "pygments_lexer": "ipython3",
   "version": "3.8.5"
  },
  "orig_nbformat": 2,
  "kernelspec": {
   "name": "python385jvsc74a57bd0566c7dc836cf49ea79a80bde3a77d731ae67019fab1def2dd83c01090ce827fd",
   "display_name": "Python 3.8.5 64-bit ('DataViz': conda)"
  }
 },
 "nbformat": 4,
 "nbformat_minor": 2,
 "cells": [
  {
   "cell_type": "code",
   "execution_count": 66,
   "metadata": {},
   "outputs": [],
   "source": [
    "import os\n",
    "import pandas as pd\n",
    "import xlrd\n",
    "from pathlib import Path\n",
    "import openpyxl\n",
    "from openpyxl import load_workbook\n",
    "import numpy as np"
   ]
  },
  {
   "cell_type": "code",
   "execution_count": 67,
   "metadata": {},
   "outputs": [],
   "source": [
    "#Identify files with AB 1045 Forms in them, extract worksheets which may contain this form\n",
    "#names like \"Common OP Procedures\" or \"AB 1045 form\"\n",
    "xlsx_file = Path('SimData', '/home/ygael/Projects/healthcare/data/2019_CDM_chargemaster/Adventist Health Clearlake/106171049_CDM_All_2019.xlsx')\n",
    "wb_obj = openpyxl.load_workbook(xlsx_file) \n",
    "\n",
    "# Read the active sheet:\n",
    "sheet = wb_obj.active\n"
   ]
  },
  {
   "cell_type": "code",
   "execution_count": 68,
   "metadata": {},
   "outputs": [
    {
     "output_type": "execute_result",
     "data": {
      "text/plain": [
       "     Charge Code                     Charge Code Description HCPCS Code  \\\n",
       "1           1255                    ROOM/BED: Intensive Care       None   \n",
       "2           7211                  ROOM/BED: Med/Surg Private       None   \n",
       "3          17509                   ROOM/BED: Newborn Routine       None   \n",
       "4          21253             ROOM/BED: Med/Surg Semi-Private       None   \n",
       "5          27003      ROOM/BED: Obstetrics LDRP Semi-Private       None   \n",
       "...          ...                                         ...        ...   \n",
       "8708     9520156           PF PM DEPRESSION SCREENING 95 952       None   \n",
       "8709     9520511  PF PM DIL RETINAL EYE EXAM W/INTERP 95 952       None   \n",
       "8710     9520586           PF PM HGB A1C LEVEL < 7.0% 95 952       None   \n",
       "8711     9520594        PF PM HGB A1C LEVEL 7.0%-9.0% 95 952       None   \n",
       "8712     9520602           PF PM HGB A1C LEVEL > 9.0% 95 952       None   \n",
       "\n",
       "     June 2019 Prices  \n",
       "1             9350.13  \n",
       "2             4935.76  \n",
       "3              3172.4  \n",
       "4             4390.68  \n",
       "5             4561.25  \n",
       "...               ...  \n",
       "8708             0.01  \n",
       "8709             0.01  \n",
       "8710             0.01  \n",
       "8711             0.01  \n",
       "8712             0.01  \n",
       "\n",
       "[8712 rows x 4 columns]"
      ],
      "text/html": "<div>\n<style scoped>\n    .dataframe tbody tr th:only-of-type {\n        vertical-align: middle;\n    }\n\n    .dataframe tbody tr th {\n        vertical-align: top;\n    }\n\n    .dataframe thead th {\n        text-align: right;\n    }\n</style>\n<table border=\"1\" class=\"dataframe\">\n  <thead>\n    <tr style=\"text-align: right;\">\n      <th></th>\n      <th>Charge Code</th>\n      <th>Charge Code Description</th>\n      <th>HCPCS Code</th>\n      <th>June 2019 Prices</th>\n    </tr>\n  </thead>\n  <tbody>\n    <tr>\n      <th>1</th>\n      <td>1255</td>\n      <td>ROOM/BED: Intensive Care</td>\n      <td>None</td>\n      <td>9350.13</td>\n    </tr>\n    <tr>\n      <th>2</th>\n      <td>7211</td>\n      <td>ROOM/BED: Med/Surg Private</td>\n      <td>None</td>\n      <td>4935.76</td>\n    </tr>\n    <tr>\n      <th>3</th>\n      <td>17509</td>\n      <td>ROOM/BED: Newborn Routine</td>\n      <td>None</td>\n      <td>3172.4</td>\n    </tr>\n    <tr>\n      <th>4</th>\n      <td>21253</td>\n      <td>ROOM/BED: Med/Surg Semi-Private</td>\n      <td>None</td>\n      <td>4390.68</td>\n    </tr>\n    <tr>\n      <th>5</th>\n      <td>27003</td>\n      <td>ROOM/BED: Obstetrics LDRP Semi-Private</td>\n      <td>None</td>\n      <td>4561.25</td>\n    </tr>\n    <tr>\n      <th>...</th>\n      <td>...</td>\n      <td>...</td>\n      <td>...</td>\n      <td>...</td>\n    </tr>\n    <tr>\n      <th>8708</th>\n      <td>9520156</td>\n      <td>PF PM DEPRESSION SCREENING 95 952</td>\n      <td>None</td>\n      <td>0.01</td>\n    </tr>\n    <tr>\n      <th>8709</th>\n      <td>9520511</td>\n      <td>PF PM DIL RETINAL EYE EXAM W/INTERP 95 952</td>\n      <td>None</td>\n      <td>0.01</td>\n    </tr>\n    <tr>\n      <th>8710</th>\n      <td>9520586</td>\n      <td>PF PM HGB A1C LEVEL &lt; 7.0% 95 952</td>\n      <td>None</td>\n      <td>0.01</td>\n    </tr>\n    <tr>\n      <th>8711</th>\n      <td>9520594</td>\n      <td>PF PM HGB A1C LEVEL 7.0%-9.0% 95 952</td>\n      <td>None</td>\n      <td>0.01</td>\n    </tr>\n    <tr>\n      <th>8712</th>\n      <td>9520602</td>\n      <td>PF PM HGB A1C LEVEL &gt; 9.0% 95 952</td>\n      <td>None</td>\n      <td>0.01</td>\n    </tr>\n  </tbody>\n</table>\n<p>8712 rows × 4 columns</p>\n</div>"
     },
     "metadata": {},
     "execution_count": 68
    }
   ],
   "source": [
    "#Get Chargecode Sheet\n",
    "#####################################################\n",
    "datalist=[]\n",
    "for row in sheet.iter_rows():\n",
    "    for cell in row:\n",
    "        datalist.append(cell.value)\n",
    "\n",
    "#Get column names\n",
    "col_names = []\n",
    "for column in sheet.iter_cols(1, sheet.max_column):\n",
    "    col_names.append(column[0].value)\n",
    "   \n",
    "    \n",
    "#Create a dictionary from the speadsheet\n",
    "\n",
    "data = {}\n",
    "\n",
    "for i, row in enumerate(sheet.iter_rows(values_only=True)):\n",
    "    if i == 0:\n",
    "        for i in range(len(col_names)):\n",
    "            data[row[i]] = [col_names[i]]\n",
    "\n",
    "    else:\n",
    "        for i in range(len(col_names)):\n",
    "            data[col_names[i]].append(row[i])\n",
    "\n",
    "#Create a dataframe from the dictionary\n",
    "df = pd.DataFrame(data)\n",
    "df = df.iloc[1:]\n",
    "\n",
    "df"
   ]
  },
  {
   "cell_type": "code",
   "execution_count": null,
   "metadata": {},
   "outputs": [],
   "source": []
  },
  {
   "cell_type": "code",
   "execution_count": null,
   "metadata": {},
   "outputs": [],
   "source": [
    "\n",
    "    ##Getting the 1045 data\n",
    "xlsx_file = Path('SimData', '/home/ygael/Projects/healthcare/data/2020_CDM_chargemaster/Alvarado Hospital/106370652_CDM_All_2020.xlsx')\n",
    "wb_obj = openpyxl.load_workbook(xlsx_file) "
   ]
  },
  {
   "cell_type": "code",
   "execution_count": 99,
   "metadata": {},
   "outputs": [],
   "source": [
    "#Function to extract 1045 sheet name\n",
    "\n",
    "def find1045(filepath):\n",
    "    #read file\n",
    "    xlsx_file = Path('SimData', filepath)\n",
    "    wb_obj = openpyxl.load_workbook(xlsx_file)\n",
    "\n",
    "    #get sheet names\n",
    "    sheetnames=wb_obj.sheetnames\n",
    "\n",
    "    #Create a keywords list to identify ABS 1045 forms\n",
    "    keywords= [\"common\", \"procedures\", \"1045\", \"form\"]\n",
    "\n",
    "    #Search for the sheet by keyword\n",
    "    for name in sheetnames:\n",
    "        wholename=name.lower()\n",
    "        wordsInName=wholename.split()\n",
    "        match =  any(item in wordsInName for item in keywords)\n",
    "        if match==True:\n",
    "            sheetname=(wb_obj[name])\n",
    "            return(sheetname)\n",
    "            break\n"
   ]
  },
  {
   "cell_type": "code",
   "execution_count": 113,
   "metadata": {},
   "outputs": [],
   "source": [
    "#Get the first part of the data after finding the 1045 sheet (nested)\n",
    "def getdata(file):\n",
    "    sheet=find1045(file)\n",
    "    alphabet=[\"A\",\"B\",\"C\",\"D\",\"E\",\"F\",\"G\",\"H\",\"I\",\"J\",\"K\",\"L\",\"M\",\"N\",\"O\",\"P\",\"Q\",\"R\",\"S\",\"T\",\"U\",\"V\",\"W\",\"X\",\"Y\",\"Z\"]\n",
    "    found=False\n",
    "    keywords = [\"evaluation\", \"management\"]\n",
    "    for row in sheet.iter_rows():\n",
    "        if found == False:\n",
    "            for cell in row:\n",
    "                heading = str(cell.value).lower()\n",
    "                wordsInHeading=heading.split()\n",
    "                match =  any(item in wordsInHeading for item in keywords)\n",
    "                if match==True:\n",
    "                    found = True\n",
    "                    coord1=cell.coordinate\n",
    "                    splitcoord=split(coord1)\n",
    "                    alphaindex=(alphabet.index(f'{splitcoord[0]}'))+2\n",
    "                    alphachar=alphabet[alphaindex]\n",
    "                    numindex=splitcoord[1]\n",
    "                    numindex=int(numindex)+3\n",
    "                    numindex=str(numindex)\n",
    "                    coord2=f\"{alphachar}{numindex}\"\n",
    "                    df=pd.DataFrame(wb_obj[\"ABS 1045\"][f\"{coord1}:{coord2}\"])\n",
    "                    values=[]\n",
    "                    for row in sheet[coord1:coord2]:\n",
    "                        for i in range(len(row)):\n",
    "                            values.append(row[i].value)\n",
    "                    data = np.array(values).reshape((4, 3))\n",
    "                    df=pd.DataFrame(data=data)\n",
    "                    df.columns = df.iloc[0]\n",
    "                    df[\"Service Type\"]=values[0]\n",
    "                    df.rename(columns={values[0]:\"Service\"})\n",
    "                    df.drop(df.index[0])\n",
    "                    return(df)"
   ]
  },
  {
   "cell_type": "code",
   "execution_count": 114,
   "metadata": {},
   "outputs": [
    {
     "output_type": "stream",
     "name": "stdout",
     "text": [
      "A6\nC9\n"
     ]
    },
    {
     "output_type": "execute_result",
     "data": {
      "text/plain": [
       "0 Evaluation & Management Services (CPT Codes 99201-99499)  2019 CPT Code  \\\n",
       "0  Evaluation & Management Services (CPT Codes 99...        2019 CPT Code   \n",
       "1  Emergency Room Visit, Level 2 (low to moderate...                99282   \n",
       "2  Emergency Room Visit, Level 3 (moderate severity)                99283   \n",
       "3      Emergency Room Visit, Level 4 (high severity)                99284   \n",
       "\n",
       "0  Average Charge                                       Service Type  \n",
       "0  Average Charge  Evaluation & Management Services (CPT Codes 99...  \n",
       "1          746.55  Evaluation & Management Services (CPT Codes 99...  \n",
       "2         1051.05  Evaluation & Management Services (CPT Codes 99...  \n",
       "3          1581.3  Evaluation & Management Services (CPT Codes 99...  "
      ],
      "text/html": "<div>\n<style scoped>\n    .dataframe tbody tr th:only-of-type {\n        vertical-align: middle;\n    }\n\n    .dataframe tbody tr th {\n        vertical-align: top;\n    }\n\n    .dataframe thead th {\n        text-align: right;\n    }\n</style>\n<table border=\"1\" class=\"dataframe\">\n  <thead>\n    <tr style=\"text-align: right;\">\n      <th></th>\n      <th>Evaluation &amp; Management Services (CPT Codes 99201-99499)</th>\n      <th>2019 CPT Code</th>\n      <th>Average Charge</th>\n      <th>Service Type</th>\n    </tr>\n  </thead>\n  <tbody>\n    <tr>\n      <th>0</th>\n      <td>Evaluation &amp; Management Services (CPT Codes 99...</td>\n      <td>2019 CPT Code</td>\n      <td>Average Charge</td>\n      <td>Evaluation &amp; Management Services (CPT Codes 99...</td>\n    </tr>\n    <tr>\n      <th>1</th>\n      <td>Emergency Room Visit, Level 2 (low to moderate...</td>\n      <td>99282</td>\n      <td>746.55</td>\n      <td>Evaluation &amp; Management Services (CPT Codes 99...</td>\n    </tr>\n    <tr>\n      <th>2</th>\n      <td>Emergency Room Visit, Level 3 (moderate severity)</td>\n      <td>99283</td>\n      <td>1051.05</td>\n      <td>Evaluation &amp; Management Services (CPT Codes 99...</td>\n    </tr>\n    <tr>\n      <th>3</th>\n      <td>Emergency Room Visit, Level 4 (high severity)</td>\n      <td>99284</td>\n      <td>1581.3</td>\n      <td>Evaluation &amp; Management Services (CPT Codes 99...</td>\n    </tr>\n  </tbody>\n</table>\n</div>"
     },
     "metadata": {},
     "execution_count": 114
    }
   ],
   "source": [
    "getdata(xlsx_file)"
   ]
  },
  {
   "cell_type": "code",
   "execution_count": null,
   "metadata": {},
   "outputs": [],
   "source": [
    "#Note- change above function to accept lists of lists of (yes, of and of) keywords as an argument so that one function can get data from all sheets"
   ]
  },
  {
   "cell_type": "code",
   "execution_count": 131,
   "metadata": {},
   "outputs": [],
   "source": [
    "def getdata2(file):\n",
    "    coordlist=[]\n",
    "    sheet=find1045(file)\n",
    "    alphabet=[\"A\",\"B\",\"C\",\"D\",\"E\",\"F\",\"G\",\"H\",\"I\",\"J\",\"K\",\"L\",\"M\",\"N\",\"O\",\"P\",\"Q\",\"R\",\"S\",\"T\",\"U\",\"V\",\"W\",\"X\",\"Y\",\"Z\"]\n",
    "    found=False\n",
    "    keywords1 = [\"evaluation\", \"management\"]\n",
    "    keywords2 = [\"laboratory\", \"pathology\"]\n",
    "    keywords3= [\"radiology\"]\n",
    "    keywords4 = [\"medicine\"]\n",
    "    keywords5 = [\"surgery\"]\n",
    "    keywords6 = [\"outpatient\"]\n",
    "    keywords7 = [\"count\", \"of\"]\n",
    "    keywordslists=[keywords1,keywords2,keywords3,keywords4,keywords5,keywords6,keywords7]\n",
    "    for wordlist in keywordslists:\n",
    "        for row in sheet.iter_rows():\n",
    "                for cell in row:\n",
    "                    heading = str(cell.value).lower()\n",
    "                    wordsInHeading=heading.split()\n",
    "                    match =  any(item in wordsInHeading for item in wordlist)\n",
    "                    if match==True:\n",
    "                        coord1=cell.coordinate\n",
    "                        coordlist.append(coord1)\n",
    "                        break\n",
    "    print(coordlist)\n",
    "        "
   ]
  },
  {
   "cell_type": "code",
   "execution_count": 132,
   "metadata": {},
   "outputs": [
    {
     "output_type": "stream",
     "name": "stdout",
     "text": [
      "['A6', 'A11', 'A25', 'A33', 'A40', 'A5', 'A10', 'A47', 'A3', 'A5', 'A56']\n"
     ]
    }
   ],
   "source": [
    "getdata2(xlsx_file)"
   ]
  },
  {
   "cell_type": "code",
   "execution_count": null,
   "metadata": {},
   "outputs": [],
   "source": [
    "#Pull relavant data from worksheets\n",
    "\n",
    "startFolder =\"/home/ygael/Projects/healthcare/data/2020_CDM_chargemaster\"\n",
    "\n",
    "for subdir, dirs, files in os.walk(rootdir):\n",
    "    for file in files:\n",
    "        hospital_df = pd.DataFrame(pd.read_excel(file))\n",
    "        lines=f.readlines()\n",
    "        f.close()\n",
    "        f=open(file,'w')\n",
    "        for line in lines:\n",
    "            newline = \"No you are not\"\n",
    "            f.write(newline)\n",
    "        f.close()\n",
    "        \n",
    "        "
   ]
  }
 ]
}